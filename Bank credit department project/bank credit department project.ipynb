{
 "cells": [
  {
   "cell_type": "markdown",
   "id": "c81daeeb",
   "metadata": {
    "deletable": false,
    "id": "c81daeeb"
   },
   "source": [
    "# Исследование надежности заемщиков\n"
   ]
  },
  {
   "cell_type": "markdown",
   "id": "827c20bf",
   "metadata": {
    "id": "827c20bf"
   },
   "source": [
    "Заказчик — кредитный отдел банка.\n",
    "\n",
    "**Задача:**\n",
    "Выяснить, влияет ли семейное положение и количество детей клиента на факт погашения кредита в срок.\n",
    "\n",
    "Входные данные от банка — статистика о платёжеспособности клиентов.\n",
    "\n",
    "Результаты исследования будут учтены при построении модели кредитного скоринга — специальной системы, которая оценивает способность потенциального заёмщика вернуть кредит банку."
   ]
  },
  {
   "cell_type": "markdown",
   "id": "744d7639",
   "metadata": {
    "deletable": false,
    "id": "744d7639"
   },
   "source": [
    "## Откройте таблицу и изучите общую информацию о данных"
   ]
  },
  {
   "cell_type": "markdown",
   "id": "e7a14c31",
   "metadata": {
    "deletable": false,
    "id": "e7a14c31"
   },
   "source": [
    "**1. Импортируем библиотеку pandas. Считаем данные из csv-файла в датафрейм и сохраните в переменную `data`.**"
   ]
  },
  {
   "cell_type": "code",
   "execution_count": 1,
   "id": "7bcf75c9",
   "metadata": {
    "deletable": false,
    "id": "7bcf75c9"
   },
   "outputs": [],
   "source": [
    "import pandas as pd\n",
    "\n",
    "try:\n",
    "    data = pd.read_csv('/datasets/data.csv')\n",
    "except:\n",
    "    data = pd.read_csv('https://code.s3.yandex.net/datasets/data.csv')"
   ]
  },
  {
   "cell_type": "markdown",
   "id": "b8038fe3",
   "metadata": {
    "deletable": false,
    "id": "b8038fe3"
   },
   "source": [
    "**2. Выведем первые 20 строчек датафрейма `data` на экран.**"
   ]
  },
  {
   "cell_type": "code",
   "execution_count": 2,
   "id": "2a7cab99",
   "metadata": {
    "deletable": false,
    "id": "2a7cab99",
    "outputId": "1a8f3ef2-d323-4ec2-ddf7-89670b5944c4"
   },
   "outputs": [
    {
     "data": {
      "text/html": [
       "<div>\n",
       "<style scoped>\n",
       "    .dataframe tbody tr th:only-of-type {\n",
       "        vertical-align: middle;\n",
       "    }\n",
       "\n",
       "    .dataframe tbody tr th {\n",
       "        vertical-align: top;\n",
       "    }\n",
       "\n",
       "    .dataframe thead th {\n",
       "        text-align: right;\n",
       "    }\n",
       "</style>\n",
       "<table border=\"1\" class=\"dataframe\">\n",
       "  <thead>\n",
       "    <tr style=\"text-align: right;\">\n",
       "      <th></th>\n",
       "      <th>children</th>\n",
       "      <th>days_employed</th>\n",
       "      <th>dob_years</th>\n",
       "      <th>education</th>\n",
       "      <th>education_id</th>\n",
       "      <th>family_status</th>\n",
       "      <th>family_status_id</th>\n",
       "      <th>gender</th>\n",
       "      <th>income_type</th>\n",
       "      <th>debt</th>\n",
       "      <th>total_income</th>\n",
       "      <th>purpose</th>\n",
       "    </tr>\n",
       "  </thead>\n",
       "  <tbody>\n",
       "    <tr>\n",
       "      <th>0</th>\n",
       "      <td>1</td>\n",
       "      <td>-8437.673028</td>\n",
       "      <td>42</td>\n",
       "      <td>высшее</td>\n",
       "      <td>0</td>\n",
       "      <td>женат / замужем</td>\n",
       "      <td>0</td>\n",
       "      <td>F</td>\n",
       "      <td>сотрудник</td>\n",
       "      <td>0</td>\n",
       "      <td>253875.639453</td>\n",
       "      <td>покупка жилья</td>\n",
       "    </tr>\n",
       "    <tr>\n",
       "      <th>1</th>\n",
       "      <td>1</td>\n",
       "      <td>-4024.803754</td>\n",
       "      <td>36</td>\n",
       "      <td>среднее</td>\n",
       "      <td>1</td>\n",
       "      <td>женат / замужем</td>\n",
       "      <td>0</td>\n",
       "      <td>F</td>\n",
       "      <td>сотрудник</td>\n",
       "      <td>0</td>\n",
       "      <td>112080.014102</td>\n",
       "      <td>приобретение автомобиля</td>\n",
       "    </tr>\n",
       "    <tr>\n",
       "      <th>2</th>\n",
       "      <td>0</td>\n",
       "      <td>-5623.422610</td>\n",
       "      <td>33</td>\n",
       "      <td>Среднее</td>\n",
       "      <td>1</td>\n",
       "      <td>женат / замужем</td>\n",
       "      <td>0</td>\n",
       "      <td>M</td>\n",
       "      <td>сотрудник</td>\n",
       "      <td>0</td>\n",
       "      <td>145885.952297</td>\n",
       "      <td>покупка жилья</td>\n",
       "    </tr>\n",
       "    <tr>\n",
       "      <th>3</th>\n",
       "      <td>3</td>\n",
       "      <td>-4124.747207</td>\n",
       "      <td>32</td>\n",
       "      <td>среднее</td>\n",
       "      <td>1</td>\n",
       "      <td>женат / замужем</td>\n",
       "      <td>0</td>\n",
       "      <td>M</td>\n",
       "      <td>сотрудник</td>\n",
       "      <td>0</td>\n",
       "      <td>267628.550329</td>\n",
       "      <td>дополнительное образование</td>\n",
       "    </tr>\n",
       "    <tr>\n",
       "      <th>4</th>\n",
       "      <td>0</td>\n",
       "      <td>340266.072047</td>\n",
       "      <td>53</td>\n",
       "      <td>среднее</td>\n",
       "      <td>1</td>\n",
       "      <td>гражданский брак</td>\n",
       "      <td>1</td>\n",
       "      <td>F</td>\n",
       "      <td>пенсионер</td>\n",
       "      <td>0</td>\n",
       "      <td>158616.077870</td>\n",
       "      <td>сыграть свадьбу</td>\n",
       "    </tr>\n",
       "    <tr>\n",
       "      <th>5</th>\n",
       "      <td>0</td>\n",
       "      <td>-926.185831</td>\n",
       "      <td>27</td>\n",
       "      <td>высшее</td>\n",
       "      <td>0</td>\n",
       "      <td>гражданский брак</td>\n",
       "      <td>1</td>\n",
       "      <td>M</td>\n",
       "      <td>компаньон</td>\n",
       "      <td>0</td>\n",
       "      <td>255763.565419</td>\n",
       "      <td>покупка жилья</td>\n",
       "    </tr>\n",
       "    <tr>\n",
       "      <th>6</th>\n",
       "      <td>0</td>\n",
       "      <td>-2879.202052</td>\n",
       "      <td>43</td>\n",
       "      <td>высшее</td>\n",
       "      <td>0</td>\n",
       "      <td>женат / замужем</td>\n",
       "      <td>0</td>\n",
       "      <td>F</td>\n",
       "      <td>компаньон</td>\n",
       "      <td>0</td>\n",
       "      <td>240525.971920</td>\n",
       "      <td>операции с жильем</td>\n",
       "    </tr>\n",
       "    <tr>\n",
       "      <th>7</th>\n",
       "      <td>0</td>\n",
       "      <td>-152.779569</td>\n",
       "      <td>50</td>\n",
       "      <td>СРЕДНЕЕ</td>\n",
       "      <td>1</td>\n",
       "      <td>женат / замужем</td>\n",
       "      <td>0</td>\n",
       "      <td>M</td>\n",
       "      <td>сотрудник</td>\n",
       "      <td>0</td>\n",
       "      <td>135823.934197</td>\n",
       "      <td>образование</td>\n",
       "    </tr>\n",
       "    <tr>\n",
       "      <th>8</th>\n",
       "      <td>2</td>\n",
       "      <td>-6929.865299</td>\n",
       "      <td>35</td>\n",
       "      <td>ВЫСШЕЕ</td>\n",
       "      <td>0</td>\n",
       "      <td>гражданский брак</td>\n",
       "      <td>1</td>\n",
       "      <td>F</td>\n",
       "      <td>сотрудник</td>\n",
       "      <td>0</td>\n",
       "      <td>95856.832424</td>\n",
       "      <td>на проведение свадьбы</td>\n",
       "    </tr>\n",
       "    <tr>\n",
       "      <th>9</th>\n",
       "      <td>0</td>\n",
       "      <td>-2188.756445</td>\n",
       "      <td>41</td>\n",
       "      <td>среднее</td>\n",
       "      <td>1</td>\n",
       "      <td>женат / замужем</td>\n",
       "      <td>0</td>\n",
       "      <td>M</td>\n",
       "      <td>сотрудник</td>\n",
       "      <td>0</td>\n",
       "      <td>144425.938277</td>\n",
       "      <td>покупка жилья для семьи</td>\n",
       "    </tr>\n",
       "    <tr>\n",
       "      <th>10</th>\n",
       "      <td>2</td>\n",
       "      <td>-4171.483647</td>\n",
       "      <td>36</td>\n",
       "      <td>высшее</td>\n",
       "      <td>0</td>\n",
       "      <td>женат / замужем</td>\n",
       "      <td>0</td>\n",
       "      <td>M</td>\n",
       "      <td>компаньон</td>\n",
       "      <td>0</td>\n",
       "      <td>113943.491460</td>\n",
       "      <td>покупка недвижимости</td>\n",
       "    </tr>\n",
       "    <tr>\n",
       "      <th>11</th>\n",
       "      <td>0</td>\n",
       "      <td>-792.701887</td>\n",
       "      <td>40</td>\n",
       "      <td>среднее</td>\n",
       "      <td>1</td>\n",
       "      <td>женат / замужем</td>\n",
       "      <td>0</td>\n",
       "      <td>F</td>\n",
       "      <td>сотрудник</td>\n",
       "      <td>0</td>\n",
       "      <td>77069.234271</td>\n",
       "      <td>покупка коммерческой недвижимости</td>\n",
       "    </tr>\n",
       "    <tr>\n",
       "      <th>12</th>\n",
       "      <td>0</td>\n",
       "      <td>NaN</td>\n",
       "      <td>65</td>\n",
       "      <td>среднее</td>\n",
       "      <td>1</td>\n",
       "      <td>гражданский брак</td>\n",
       "      <td>1</td>\n",
       "      <td>M</td>\n",
       "      <td>пенсионер</td>\n",
       "      <td>0</td>\n",
       "      <td>NaN</td>\n",
       "      <td>сыграть свадьбу</td>\n",
       "    </tr>\n",
       "    <tr>\n",
       "      <th>13</th>\n",
       "      <td>0</td>\n",
       "      <td>-1846.641941</td>\n",
       "      <td>54</td>\n",
       "      <td>неоконченное высшее</td>\n",
       "      <td>2</td>\n",
       "      <td>женат / замужем</td>\n",
       "      <td>0</td>\n",
       "      <td>F</td>\n",
       "      <td>сотрудник</td>\n",
       "      <td>0</td>\n",
       "      <td>130458.228857</td>\n",
       "      <td>приобретение автомобиля</td>\n",
       "    </tr>\n",
       "    <tr>\n",
       "      <th>14</th>\n",
       "      <td>0</td>\n",
       "      <td>-1844.956182</td>\n",
       "      <td>56</td>\n",
       "      <td>высшее</td>\n",
       "      <td>0</td>\n",
       "      <td>гражданский брак</td>\n",
       "      <td>1</td>\n",
       "      <td>F</td>\n",
       "      <td>компаньон</td>\n",
       "      <td>1</td>\n",
       "      <td>165127.911772</td>\n",
       "      <td>покупка жилой недвижимости</td>\n",
       "    </tr>\n",
       "    <tr>\n",
       "      <th>15</th>\n",
       "      <td>1</td>\n",
       "      <td>-972.364419</td>\n",
       "      <td>26</td>\n",
       "      <td>среднее</td>\n",
       "      <td>1</td>\n",
       "      <td>женат / замужем</td>\n",
       "      <td>0</td>\n",
       "      <td>F</td>\n",
       "      <td>сотрудник</td>\n",
       "      <td>0</td>\n",
       "      <td>116820.904450</td>\n",
       "      <td>строительство собственной недвижимости</td>\n",
       "    </tr>\n",
       "    <tr>\n",
       "      <th>16</th>\n",
       "      <td>0</td>\n",
       "      <td>-1719.934226</td>\n",
       "      <td>35</td>\n",
       "      <td>среднее</td>\n",
       "      <td>1</td>\n",
       "      <td>женат / замужем</td>\n",
       "      <td>0</td>\n",
       "      <td>F</td>\n",
       "      <td>сотрудник</td>\n",
       "      <td>0</td>\n",
       "      <td>289202.704229</td>\n",
       "      <td>недвижимость</td>\n",
       "    </tr>\n",
       "    <tr>\n",
       "      <th>17</th>\n",
       "      <td>0</td>\n",
       "      <td>-2369.999720</td>\n",
       "      <td>33</td>\n",
       "      <td>высшее</td>\n",
       "      <td>0</td>\n",
       "      <td>гражданский брак</td>\n",
       "      <td>1</td>\n",
       "      <td>M</td>\n",
       "      <td>сотрудник</td>\n",
       "      <td>0</td>\n",
       "      <td>90410.586745</td>\n",
       "      <td>строительство недвижимости</td>\n",
       "    </tr>\n",
       "    <tr>\n",
       "      <th>18</th>\n",
       "      <td>0</td>\n",
       "      <td>400281.136913</td>\n",
       "      <td>53</td>\n",
       "      <td>среднее</td>\n",
       "      <td>1</td>\n",
       "      <td>вдовец / вдова</td>\n",
       "      <td>2</td>\n",
       "      <td>F</td>\n",
       "      <td>пенсионер</td>\n",
       "      <td>0</td>\n",
       "      <td>56823.777243</td>\n",
       "      <td>на покупку подержанного автомобиля</td>\n",
       "    </tr>\n",
       "    <tr>\n",
       "      <th>19</th>\n",
       "      <td>0</td>\n",
       "      <td>-10038.818549</td>\n",
       "      <td>48</td>\n",
       "      <td>СРЕДНЕЕ</td>\n",
       "      <td>1</td>\n",
       "      <td>в разводе</td>\n",
       "      <td>3</td>\n",
       "      <td>F</td>\n",
       "      <td>сотрудник</td>\n",
       "      <td>0</td>\n",
       "      <td>242831.107982</td>\n",
       "      <td>на покупку своего автомобиля</td>\n",
       "    </tr>\n",
       "  </tbody>\n",
       "</table>\n",
       "</div>"
      ],
      "text/plain": [
       "    children  days_employed  dob_years            education  education_id  \\\n",
       "0          1   -8437.673028         42               высшее             0   \n",
       "1          1   -4024.803754         36              среднее             1   \n",
       "2          0   -5623.422610         33              Среднее             1   \n",
       "3          3   -4124.747207         32              среднее             1   \n",
       "4          0  340266.072047         53              среднее             1   \n",
       "5          0    -926.185831         27               высшее             0   \n",
       "6          0   -2879.202052         43               высшее             0   \n",
       "7          0    -152.779569         50              СРЕДНЕЕ             1   \n",
       "8          2   -6929.865299         35               ВЫСШЕЕ             0   \n",
       "9          0   -2188.756445         41              среднее             1   \n",
       "10         2   -4171.483647         36               высшее             0   \n",
       "11         0    -792.701887         40              среднее             1   \n",
       "12         0            NaN         65              среднее             1   \n",
       "13         0   -1846.641941         54  неоконченное высшее             2   \n",
       "14         0   -1844.956182         56               высшее             0   \n",
       "15         1    -972.364419         26              среднее             1   \n",
       "16         0   -1719.934226         35              среднее             1   \n",
       "17         0   -2369.999720         33               высшее             0   \n",
       "18         0  400281.136913         53              среднее             1   \n",
       "19         0  -10038.818549         48              СРЕДНЕЕ             1   \n",
       "\n",
       "       family_status  family_status_id gender income_type  debt  \\\n",
       "0    женат / замужем                 0      F   сотрудник     0   \n",
       "1    женат / замужем                 0      F   сотрудник     0   \n",
       "2    женат / замужем                 0      M   сотрудник     0   \n",
       "3    женат / замужем                 0      M   сотрудник     0   \n",
       "4   гражданский брак                 1      F   пенсионер     0   \n",
       "5   гражданский брак                 1      M   компаньон     0   \n",
       "6    женат / замужем                 0      F   компаньон     0   \n",
       "7    женат / замужем                 0      M   сотрудник     0   \n",
       "8   гражданский брак                 1      F   сотрудник     0   \n",
       "9    женат / замужем                 0      M   сотрудник     0   \n",
       "10   женат / замужем                 0      M   компаньон     0   \n",
       "11   женат / замужем                 0      F   сотрудник     0   \n",
       "12  гражданский брак                 1      M   пенсионер     0   \n",
       "13   женат / замужем                 0      F   сотрудник     0   \n",
       "14  гражданский брак                 1      F   компаньон     1   \n",
       "15   женат / замужем                 0      F   сотрудник     0   \n",
       "16   женат / замужем                 0      F   сотрудник     0   \n",
       "17  гражданский брак                 1      M   сотрудник     0   \n",
       "18    вдовец / вдова                 2      F   пенсионер     0   \n",
       "19         в разводе                 3      F   сотрудник     0   \n",
       "\n",
       "     total_income                                 purpose  \n",
       "0   253875.639453                           покупка жилья  \n",
       "1   112080.014102                 приобретение автомобиля  \n",
       "2   145885.952297                           покупка жилья  \n",
       "3   267628.550329              дополнительное образование  \n",
       "4   158616.077870                         сыграть свадьбу  \n",
       "5   255763.565419                           покупка жилья  \n",
       "6   240525.971920                       операции с жильем  \n",
       "7   135823.934197                             образование  \n",
       "8    95856.832424                   на проведение свадьбы  \n",
       "9   144425.938277                 покупка жилья для семьи  \n",
       "10  113943.491460                    покупка недвижимости  \n",
       "11   77069.234271       покупка коммерческой недвижимости  \n",
       "12            NaN                         сыграть свадьбу  \n",
       "13  130458.228857                 приобретение автомобиля  \n",
       "14  165127.911772              покупка жилой недвижимости  \n",
       "15  116820.904450  строительство собственной недвижимости  \n",
       "16  289202.704229                            недвижимость  \n",
       "17   90410.586745              строительство недвижимости  \n",
       "18   56823.777243      на покупку подержанного автомобиля  \n",
       "19  242831.107982            на покупку своего автомобиля  "
      ]
     },
     "execution_count": 2,
     "metadata": {},
     "output_type": "execute_result"
    }
   ],
   "source": [
    "data.head(20)"
   ]
  },
  {
   "cell_type": "markdown",
   "id": "1c12e233",
   "metadata": {
    "deletable": false,
    "id": "1c12e233"
   },
   "source": [
    "**3. Выведем основную информацию о датафрейме с помощью метода `info()`.**"
   ]
  },
  {
   "cell_type": "code",
   "execution_count": 3,
   "id": "2b757bca",
   "metadata": {
    "deletable": false,
    "id": "2b757bca",
    "outputId": "15376089-8dad-46c9-b520-c05248d43158"
   },
   "outputs": [
    {
     "name": "stdout",
     "output_type": "stream",
     "text": [
      "<class 'pandas.core.frame.DataFrame'>\n",
      "RangeIndex: 21525 entries, 0 to 21524\n",
      "Data columns (total 12 columns):\n",
      " #   Column            Non-Null Count  Dtype  \n",
      "---  ------            --------------  -----  \n",
      " 0   children          21525 non-null  int64  \n",
      " 1   days_employed     19351 non-null  float64\n",
      " 2   dob_years         21525 non-null  int64  \n",
      " 3   education         21525 non-null  object \n",
      " 4   education_id      21525 non-null  int64  \n",
      " 5   family_status     21525 non-null  object \n",
      " 6   family_status_id  21525 non-null  int64  \n",
      " 7   gender            21525 non-null  object \n",
      " 8   income_type       21525 non-null  object \n",
      " 9   debt              21525 non-null  int64  \n",
      " 10  total_income      19351 non-null  float64\n",
      " 11  purpose           21525 non-null  object \n",
      "dtypes: float64(2), int64(5), object(5)\n",
      "memory usage: 2.0+ MB\n"
     ]
    }
   ],
   "source": [
    "data.info()"
   ]
  },
  {
   "cell_type": "markdown",
   "id": "333ec665",
   "metadata": {
    "deletable": false,
    "id": "333ec665"
   },
   "source": [
    "## Предобработка данных"
   ]
  },
  {
   "cell_type": "markdown",
   "id": "02d92d53",
   "metadata": {
    "deletable": false,
    "id": "02d92d53"
   },
   "source": [
    "### Удаление пропусков"
   ]
  },
  {
   "cell_type": "markdown",
   "id": "cd84967c",
   "metadata": {
    "deletable": false,
    "id": "cd84967c"
   },
   "source": [
    "**4. Выведем количество пропущенных значений для каждого столбца.**"
   ]
  },
  {
   "cell_type": "code",
   "execution_count": 4,
   "id": "7f9b2309",
   "metadata": {
    "deletable": false,
    "id": "7f9b2309",
    "outputId": "81f4d817-781c-465c-ed15-91ce4446810d"
   },
   "outputs": [
    {
     "data": {
      "text/plain": [
       "children               0\n",
       "days_employed       2174\n",
       "dob_years              0\n",
       "education              0\n",
       "education_id           0\n",
       "family_status          0\n",
       "family_status_id       0\n",
       "gender                 0\n",
       "income_type            0\n",
       "debt                   0\n",
       "total_income        2174\n",
       "purpose                0\n",
       "dtype: int64"
      ]
     },
     "execution_count": 4,
     "metadata": {},
     "output_type": "execute_result"
    }
   ],
   "source": [
    "data.isna().sum()"
   ]
  },
  {
   "cell_type": "markdown",
   "id": "db86e27b",
   "metadata": {
    "deletable": false,
    "id": "db86e27b"
   },
   "source": [
    "**5. В двух столбцах есть пропущенные значения. Один из них — `days_employed`. Пропуски в этом столбце обработаем на следующем этапе. Другой столбец с пропущенными значениями — `total_income` — хранит данные о доходах. На сумму дохода сильнее всего влияет тип занятости, поэтому заполним пропуски в этом столбце нужно медианным значением по каждому типу из столбца `income_type`. Например, у человека с типом занятости `сотрудник` пропуск в столбце `total_income` заполним медианным доходом среди всех записей с тем же типом.**"
   ]
  },
  {
   "cell_type": "code",
   "execution_count": 5,
   "id": "42006a93",
   "metadata": {
    "deletable": false,
    "id": "42006a93"
   },
   "outputs": [],
   "source": [
    "for t in data['income_type'].unique():\n",
    "    data.loc[(data['income_type'] == t) & (data['total_income'].isna()), 'total_income'] = \\\n",
    "    data.loc[(data['income_type'] == t), 'total_income'].median()"
   ]
  },
  {
   "cell_type": "markdown",
   "id": "89da5ece",
   "metadata": {
    "deletable": false,
    "id": "89da5ece"
   },
   "source": [
    "### Обработка аномальных значений"
   ]
  },
  {
   "cell_type": "markdown",
   "id": "57964554",
   "metadata": {
    "deletable": false,
    "id": "57964554"
   },
   "source": [
    "**6. В данных могут встречаться артефакты (аномалии) — значения, которые не отражают действительность и появились по какой-то ошибке. Таким артефактом будет отрицательное количество дней трудового стажа в столбце `days_employed`. Для реальных данных это нормально. Обработаем значения в этом столбце: заменим все отрицательные значения положительными.**"
   ]
  },
  {
   "cell_type": "code",
   "execution_count": 6,
   "id": "f6f055bf",
   "metadata": {
    "deletable": false,
    "id": "f6f055bf"
   },
   "outputs": [],
   "source": [
    "data['days_employed'] = data['days_employed'].abs()"
   ]
  },
  {
   "cell_type": "markdown",
   "id": "6107dd2f",
   "metadata": {
    "deletable": false,
    "id": "6107dd2f"
   },
   "source": [
    "**7. Для каждого типа занятости выведем медианное значение трудового стажа `days_employed` в днях.**"
   ]
  },
  {
   "cell_type": "code",
   "execution_count": 7,
   "id": "85a5faf6",
   "metadata": {
    "deletable": false,
    "id": "85a5faf6",
    "outputId": "801ef80e-522b-4668-f34e-565af7432bcf"
   },
   "outputs": [
    {
     "data": {
      "text/plain": [
       "income_type\n",
       "безработный        366413.652744\n",
       "в декрете            3296.759962\n",
       "госслужащий          2689.368353\n",
       "компаньон            1547.382223\n",
       "пенсионер          365213.306266\n",
       "предприниматель       520.848083\n",
       "сотрудник            1574.202821\n",
       "студент               578.751554\n",
       "Name: days_employed, dtype: float64"
      ]
     },
     "execution_count": 7,
     "metadata": {},
     "output_type": "execute_result"
    }
   ],
   "source": [
    "data.groupby('income_type')['days_employed'].agg('median')"
   ]
  },
  {
   "cell_type": "markdown",
   "id": "38d1a030",
   "metadata": {
    "deletable": false,
    "id": "38d1a030"
   },
   "source": [
    "У двух типов (безработные и пенсионеры) получатся аномально большие значения. Исправить такие значения сложно, поэтому оставьте их как есть. Тем более этот столбец не понадобится вам для исследования."
   ]
  },
  {
   "cell_type": "markdown",
   "id": "d8a9f147",
   "metadata": {
    "deletable": false,
    "id": "d8a9f147"
   },
   "source": [
    "**8. Выведем перечень уникальных значений столбца `children`.**"
   ]
  },
  {
   "cell_type": "code",
   "execution_count": 8,
   "id": "ef5056eb",
   "metadata": {
    "deletable": false,
    "id": "ef5056eb",
    "outputId": "6975b15c-7f95-4697-d16d-a0c79b657b03"
   },
   "outputs": [
    {
     "data": {
      "text/plain": [
       "array([ 1,  0,  3,  2, -1,  4, 20,  5])"
      ]
     },
     "execution_count": 8,
     "metadata": {},
     "output_type": "execute_result"
    }
   ],
   "source": [
    "data['children'].unique()"
   ]
  },
  {
   "cell_type": "markdown",
   "id": "40b9ebf2",
   "metadata": {
    "deletable": false,
    "id": "40b9ebf2"
   },
   "source": [
    "**9. В столбце `children` есть два аномальных значения. Удалим строки, в которых встречаются такие аномальные значения из датафрейма `data`.**"
   ]
  },
  {
   "cell_type": "code",
   "execution_count": 9,
   "id": "3ff9801d",
   "metadata": {
    "deletable": false,
    "id": "3ff9801d"
   },
   "outputs": [],
   "source": [
    "data = data[(data['children'] != -1) & (data['children'] != 20)]"
   ]
  },
  {
   "cell_type": "markdown",
   "id": "bbc4d0ce",
   "metadata": {
    "deletable": false,
    "id": "bbc4d0ce"
   },
   "source": [
    "**10. Ещё раз выведем перечень уникальных значений столбца `children`, чтобы убедиться, что артефакты удалены.**"
   ]
  },
  {
   "cell_type": "code",
   "execution_count": 10,
   "id": "ad4fa8b7",
   "metadata": {
    "deletable": false,
    "id": "ad4fa8b7",
    "outputId": "b2097101-d49d-44d9-901b-32a65c9463d1"
   },
   "outputs": [
    {
     "data": {
      "text/plain": [
       "array([1, 0, 3, 2, 4, 5])"
      ]
     },
     "execution_count": 10,
     "metadata": {},
     "output_type": "execute_result"
    }
   ],
   "source": [
    "data['children'].unique()"
   ]
  },
  {
   "cell_type": "markdown",
   "id": "75440b63",
   "metadata": {
    "deletable": false,
    "id": "75440b63"
   },
   "source": [
    "### Удаление пропусков (продолжение)"
   ]
  },
  {
   "cell_type": "markdown",
   "id": "f4ea573f",
   "metadata": {
    "deletable": false,
    "id": "f4ea573f"
   },
   "source": [
    "**11. Заполним пропуски в столбце `days_employed` медианными значениями по каждого типа занятости `income_type`.**"
   ]
  },
  {
   "cell_type": "code",
   "execution_count": 11,
   "id": "af6b1a7e",
   "metadata": {
    "deletable": false,
    "id": "af6b1a7e"
   },
   "outputs": [],
   "source": [
    "for t in data['income_type'].unique():\n",
    "    data.loc[(data['income_type'] == t) & (data['days_employed'].isna()), 'days_employed'] = \\\n",
    "    data.loc[(data['income_type'] == t), 'days_employed'].median()"
   ]
  },
  {
   "cell_type": "markdown",
   "id": "2753f40d",
   "metadata": {
    "deletable": false,
    "id": "2753f40d"
   },
   "source": [
    "**12. Убедимся, что все пропуски заполнены. Проверим себя и ещё раз выведем количество пропущенных значений для каждого столбца с помощью двух методов.**"
   ]
  },
  {
   "cell_type": "code",
   "execution_count": 12,
   "id": "55f78bc2",
   "metadata": {
    "deletable": false,
    "id": "55f78bc2",
    "outputId": "8da1e4e1-358e-4e87-98c9-f261bce0a7b2"
   },
   "outputs": [
    {
     "data": {
      "text/plain": [
       "children            0\n",
       "days_employed       0\n",
       "dob_years           0\n",
       "education           0\n",
       "education_id        0\n",
       "family_status       0\n",
       "family_status_id    0\n",
       "gender              0\n",
       "income_type         0\n",
       "debt                0\n",
       "total_income        0\n",
       "purpose             0\n",
       "dtype: int64"
      ]
     },
     "execution_count": 12,
     "metadata": {},
     "output_type": "execute_result"
    }
   ],
   "source": [
    "data.isna().sum()"
   ]
  },
  {
   "cell_type": "markdown",
   "id": "ddc81e43",
   "metadata": {
    "deletable": false,
    "id": "ddc81e43"
   },
   "source": [
    "### Изменение типов данных"
   ]
  },
  {
   "cell_type": "markdown",
   "id": "42d19d24",
   "metadata": {
    "deletable": false,
    "id": "42d19d24"
   },
   "source": [
    "**13. Заменим вещественный тип данных в столбце `total_income` на целочисленный с помощью метода `astype()`.**"
   ]
  },
  {
   "cell_type": "code",
   "execution_count": 13,
   "id": "920b65ad",
   "metadata": {
    "deletable": false,
    "id": "920b65ad"
   },
   "outputs": [],
   "source": [
    "data['total_income'] = data['total_income'].astype(int)"
   ]
  },
  {
   "cell_type": "markdown",
   "id": "80c420ba",
   "metadata": {
    "deletable": false,
    "id": "80c420ba"
   },
   "source": [
    "### Обработка дубликатов"
   ]
  },
  {
   "cell_type": "markdown",
   "id": "dc587695",
   "metadata": {
    "deletable": false,
    "id": "dc587695"
   },
   "source": [
    "**14. Выведем на экран количество строк-дубликатов в данных. Если такие строки присутствуют, удалим их.**"
   ]
  },
  {
   "cell_type": "code",
   "execution_count": 14,
   "id": "3ee445e4",
   "metadata": {
    "deletable": false,
    "id": "3ee445e4",
    "outputId": "9684deba-1934-42d1-99e1-cda61740f822"
   },
   "outputs": [
    {
     "data": {
      "text/plain": [
       "54"
      ]
     },
     "execution_count": 14,
     "metadata": {},
     "output_type": "execute_result"
    }
   ],
   "source": [
    "data.duplicated().sum()"
   ]
  },
  {
   "cell_type": "code",
   "execution_count": 15,
   "id": "8575fe05",
   "metadata": {
    "deletable": false,
    "id": "8575fe05"
   },
   "outputs": [],
   "source": [
    "data = data.drop_duplicates()"
   ]
  },
  {
   "cell_type": "markdown",
   "id": "9771a76c",
   "metadata": {
    "deletable": false,
    "id": "9771a76c"
   },
   "source": [
    "**15. Обработаем неявные дубликаты в столбце `education`. В этом столбце есть одни и те же значения, но записанные по-разному: с использованием заглавных и строчных букв. Приведем их к нижнему регистру. Проверим остальные столбцы.**"
   ]
  },
  {
   "cell_type": "code",
   "execution_count": 16,
   "id": "a9f8e2bf",
   "metadata": {
    "deletable": false,
    "id": "a9f8e2bf"
   },
   "outputs": [],
   "source": [
    "data['education'] = data['education'].str.lower()"
   ]
  },
  {
   "cell_type": "markdown",
   "id": "9904cf55",
   "metadata": {
    "deletable": false,
    "id": "9904cf55"
   },
   "source": [
    "### Категоризация данных"
   ]
  },
  {
   "cell_type": "markdown",
   "id": "72fcc8a2",
   "metadata": {
    "deletable": false,
    "id": "72fcc8a2"
   },
   "source": [
    "**16. На основании диапазонов, указанных ниже, создадим в датафрейме `data` столбец `total_income_category` с категориями:**\n",
    "\n",
    "- 0–30000 — `'E'`;\n",
    "- 30001–50000 — `'D'`;\n",
    "- 50001–200000 — `'C'`;\n",
    "- 200001–1000000 — `'B'`;\n",
    "- 1000001 и выше — `'A'`.\n",
    "\n",
    "\n",
    "**Например, кредитополучателю с доходом 25000 нужно назначить категорию `'E'`, а клиенту, получающему 235000, — `'B'`.\n",
    "Создадим функцию с именем `categorize_income()` и применим ее.**"
   ]
  },
  {
   "cell_type": "code",
   "execution_count": 17,
   "id": "e1771346",
   "metadata": {
    "deletable": false,
    "id": "e1771346"
   },
   "outputs": [],
   "source": [
    "def categorize_income(income):\n",
    "    try:\n",
    "        if 0 <= income <= 30000:\n",
    "            return 'E'\n",
    "        elif 30001 <= income <= 50000:\n",
    "            return 'D'\n",
    "        elif 50001 <= income <= 200000:\n",
    "            return 'C'\n",
    "        elif 200001 <= income <= 1000000:\n",
    "            return 'B'\n",
    "        elif income >= 1000001:\n",
    "            return 'A'\n",
    "    except:\n",
    "        pass"
   ]
  },
  {
   "cell_type": "code",
   "execution_count": 18,
   "id": "d5f3586d",
   "metadata": {
    "deletable": false,
    "id": "d5f3586d"
   },
   "outputs": [],
   "source": [
    "data['total_income_category'] = data['total_income'].apply(categorize_income)"
   ]
  },
  {
   "cell_type": "markdown",
   "id": "dde49b5c",
   "metadata": {
    "deletable": false,
    "id": "dde49b5c"
   },
   "source": [
    "**17. Выведем на экран перечень уникальных целей взятия кредита из столбца `purpose`.**"
   ]
  },
  {
   "cell_type": "code",
   "execution_count": 19,
   "id": "f67ce9b3",
   "metadata": {
    "deletable": false,
    "id": "f67ce9b3",
    "outputId": "673c12d9-7d7e-4ae0-9812-c622c89dd244"
   },
   "outputs": [
    {
     "data": {
      "text/plain": [
       "array(['покупка жилья', 'приобретение автомобиля',\n",
       "       'дополнительное образование', 'сыграть свадьбу',\n",
       "       'операции с жильем', 'образование', 'на проведение свадьбы',\n",
       "       'покупка жилья для семьи', 'покупка недвижимости',\n",
       "       'покупка коммерческой недвижимости', 'покупка жилой недвижимости',\n",
       "       'строительство собственной недвижимости', 'недвижимость',\n",
       "       'строительство недвижимости', 'на покупку подержанного автомобиля',\n",
       "       'на покупку своего автомобиля',\n",
       "       'операции с коммерческой недвижимостью',\n",
       "       'строительство жилой недвижимости', 'жилье',\n",
       "       'операции со своей недвижимостью', 'автомобили',\n",
       "       'заняться образованием', 'сделка с подержанным автомобилем',\n",
       "       'получение образования', 'автомобиль', 'свадьба',\n",
       "       'получение дополнительного образования', 'покупка своего жилья',\n",
       "       'операции с недвижимостью', 'получение высшего образования',\n",
       "       'свой автомобиль', 'сделка с автомобилем',\n",
       "       'профильное образование', 'высшее образование',\n",
       "       'покупка жилья для сдачи', 'на покупку автомобиля', 'ремонт жилью',\n",
       "       'заняться высшим образованием'], dtype=object)"
      ]
     },
     "execution_count": 19,
     "metadata": {},
     "output_type": "execute_result"
    }
   ],
   "source": [
    "data['purpose'].unique()"
   ]
  },
  {
   "cell_type": "markdown",
   "id": "85d0aef0",
   "metadata": {
    "deletable": false,
    "id": "85d0aef0"
   },
   "source": [
    "**18. Создадим функцию, которая на основании данных из столбца `purpose` сформирует новый столбец `purpose_category`, в который войдут следующие категории:**\n",
    "\n",
    "- `'операции с автомобилем'`,\n",
    "- `'операции с недвижимостью'`,\n",
    "- `'проведение свадьбы'`,\n",
    "- `'получение образования'`.\n",
    "\n",
    "**Например, если в столбце `purpose` находится подстрока `'на покупку автомобиля'`, то в столбце `purpose_category` должна появиться строка `'операции с автомобилем'`.**\n",
    "\n",
    "**Используем функцию с именем `categorize_purpose()` и метод `apply()`. Изучим данные в столбце `purpose` и определим, какие подстроки помогут вам правильно определить категорию.**"
   ]
  },
  {
   "cell_type": "code",
   "execution_count": 20,
   "id": "e149fab4",
   "metadata": {
    "deletable": false,
    "id": "e149fab4"
   },
   "outputs": [],
   "source": [
    "def categorize_purpose(row):\n",
    "    try:\n",
    "        if 'автом' in row:\n",
    "            return 'операции с автомобилем'\n",
    "        elif 'жил' in row or 'недвиж' in row:\n",
    "            return 'операции с недвижимостью'\n",
    "        elif 'свад' in row:\n",
    "            return 'проведение свадьбы'\n",
    "        elif 'образов' in row:\n",
    "            return 'получение образования'\n",
    "    except:\n",
    "        return 'нет категории'"
   ]
  },
  {
   "cell_type": "code",
   "execution_count": 21,
   "id": "bf36e69b",
   "metadata": {
    "deletable": false,
    "id": "bf36e69b"
   },
   "outputs": [],
   "source": [
    "data['purpose_category'] = data['purpose'].apply(categorize_purpose)"
   ]
  },
  {
   "cell_type": "markdown",
   "id": "09b242bf",
   "metadata": {
    "deletable": false,
    "editable": false,
    "id": "09b242bf"
   },
   "source": [
    "## Исследуйте данные и ответьте на вопросы"
   ]
  },
  {
   "cell_type": "markdown",
   "id": "c5d66278",
   "metadata": {
    "deletable": false,
    "editable": false,
    "id": "c5d66278"
   },
   "source": [
    "**Задание 19. Есть ли зависимость между количеством детей и возвратом кредита в срок?**"
   ]
  },
  {
   "cell_type": "markdown",
   "id": "7085653f",
   "metadata": {},
   "source": [
    "Сгруппируем по количеству детей. Рассчитаем количество невозвратных кредитов, которое соответствует сумме в колонке 'debt' и общее количество кредитов в каждой категориии.\n",
    "На основании полученных выше данных рассчитаем процент невозвратных кредитов для каждой категории."
   ]
  },
  {
   "cell_type": "code",
   "execution_count": 22,
   "id": "2cacfc4a",
   "metadata": {
    "id": "2cacfc4a"
   },
   "outputs": [
    {
     "data": {
      "text/html": [
       "<div>\n",
       "<style scoped>\n",
       "    .dataframe tbody tr th:only-of-type {\n",
       "        vertical-align: middle;\n",
       "    }\n",
       "\n",
       "    .dataframe tbody tr th {\n",
       "        vertical-align: top;\n",
       "    }\n",
       "\n",
       "    .dataframe thead tr th {\n",
       "        text-align: left;\n",
       "    }\n",
       "\n",
       "    .dataframe thead tr:last-of-type th {\n",
       "        text-align: right;\n",
       "    }\n",
       "</style>\n",
       "<table border=\"1\" class=\"dataframe\">\n",
       "  <thead>\n",
       "    <tr>\n",
       "      <th></th>\n",
       "      <th colspan=\"2\" halign=\"left\">debt</th>\n",
       "      <th>non_return</th>\n",
       "    </tr>\n",
       "    <tr>\n",
       "      <th></th>\n",
       "      <th>sum</th>\n",
       "      <th>count</th>\n",
       "      <th></th>\n",
       "    </tr>\n",
       "    <tr>\n",
       "      <th>children</th>\n",
       "      <th></th>\n",
       "      <th></th>\n",
       "      <th></th>\n",
       "    </tr>\n",
       "  </thead>\n",
       "  <tbody>\n",
       "    <tr>\n",
       "      <th>0</th>\n",
       "      <td>1063</td>\n",
       "      <td>14107</td>\n",
       "      <td>7.535266</td>\n",
       "    </tr>\n",
       "    <tr>\n",
       "      <th>1</th>\n",
       "      <td>444</td>\n",
       "      <td>4809</td>\n",
       "      <td>9.232689</td>\n",
       "    </tr>\n",
       "    <tr>\n",
       "      <th>2</th>\n",
       "      <td>194</td>\n",
       "      <td>2052</td>\n",
       "      <td>9.454191</td>\n",
       "    </tr>\n",
       "    <tr>\n",
       "      <th>3</th>\n",
       "      <td>27</td>\n",
       "      <td>330</td>\n",
       "      <td>8.181818</td>\n",
       "    </tr>\n",
       "    <tr>\n",
       "      <th>4</th>\n",
       "      <td>4</td>\n",
       "      <td>41</td>\n",
       "      <td>9.756098</td>\n",
       "    </tr>\n",
       "    <tr>\n",
       "      <th>5</th>\n",
       "      <td>0</td>\n",
       "      <td>9</td>\n",
       "      <td>0.000000</td>\n",
       "    </tr>\n",
       "  </tbody>\n",
       "</table>\n",
       "</div>"
      ],
      "text/plain": [
       "          debt        non_return\n",
       "           sum  count           \n",
       "children                        \n",
       "0         1063  14107   7.535266\n",
       "1          444   4809   9.232689\n",
       "2          194   2052   9.454191\n",
       "3           27    330   8.181818\n",
       "4            4     41   9.756098\n",
       "5            0      9   0.000000"
      ]
     },
     "metadata": {},
     "output_type": "display_data"
    }
   ],
   "source": [
    "children_debt = data.groupby('children').agg({'debt': ['sum', 'count']})\n",
    "children_debt['non_return'] = children_debt['debt']['sum'] / children_debt['debt']['count'] * 100\n",
    "display(children_debt) # Ваш код будет здесь. Вы можете создавать новые ячейки."
   ]
  },
  {
   "cell_type": "markdown",
   "id": "3a6b99ec",
   "metadata": {
    "deletable": false,
    "id": "3a6b99ec"
   },
   "source": [
    "**Вывод:** \n",
    "В категории с 5 детьми количество кредитов - 9, что составляет всего 0,04% от общего количества взятых кредитов. Поэтому данная группа не является показательной.\n",
    "В категории с 4 детьми количество кредитов - 41, что составляет 0,19% от общего количества кредитов и не является показательной.\n",
    "В категории без детей процент невозвращенных в срок кредитов самый низкий.\n",
    "В категориях с 1 и 2 детьми процент не возврата кредита в срок примерно одинаковый и выше примерно на 2%, чем в группе без детей. Насколько это существенно необходимо уточнить у специалистов кредитного отдела банка."
   ]
  },
  {
   "cell_type": "markdown",
   "id": "97be82ca",
   "metadata": {
    "deletable": false,
    "editable": false,
    "id": "97be82ca"
   },
   "source": [
    "**Задание 20. Есть ли зависимость между семейным положением и возвратом кредита в срок?**"
   ]
  },
  {
   "cell_type": "markdown",
   "id": "42df87b3",
   "metadata": {},
   "source": [
    "Сгруппируем по семейному положению и рассчитаем процент невозвратных кредитов для каждой группы, как отношение колличества невозвращенных в срок кредитов к количеству кредитов в каждой группе."
   ]
  },
  {
   "cell_type": "code",
   "execution_count": 23,
   "id": "dc3f7ee8",
   "metadata": {
    "id": "dc3f7ee8"
   },
   "outputs": [
    {
     "data": {
      "text/html": [
       "<div>\n",
       "<style scoped>\n",
       "    .dataframe tbody tr th:only-of-type {\n",
       "        vertical-align: middle;\n",
       "    }\n",
       "\n",
       "    .dataframe tbody tr th {\n",
       "        vertical-align: top;\n",
       "    }\n",
       "\n",
       "    .dataframe thead tr th {\n",
       "        text-align: left;\n",
       "    }\n",
       "\n",
       "    .dataframe thead tr:last-of-type th {\n",
       "        text-align: right;\n",
       "    }\n",
       "</style>\n",
       "<table border=\"1\" class=\"dataframe\">\n",
       "  <thead>\n",
       "    <tr>\n",
       "      <th></th>\n",
       "      <th colspan=\"2\" halign=\"left\">debt</th>\n",
       "      <th>non_return</th>\n",
       "    </tr>\n",
       "    <tr>\n",
       "      <th></th>\n",
       "      <th>sum</th>\n",
       "      <th>count</th>\n",
       "      <th></th>\n",
       "    </tr>\n",
       "    <tr>\n",
       "      <th>family_status</th>\n",
       "      <th></th>\n",
       "      <th></th>\n",
       "      <th></th>\n",
       "    </tr>\n",
       "  </thead>\n",
       "  <tbody>\n",
       "    <tr>\n",
       "      <th>вдовец / вдова</th>\n",
       "      <td>63</td>\n",
       "      <td>951</td>\n",
       "      <td>6.624606</td>\n",
       "    </tr>\n",
       "    <tr>\n",
       "      <th>в разводе</th>\n",
       "      <td>84</td>\n",
       "      <td>1189</td>\n",
       "      <td>7.064760</td>\n",
       "    </tr>\n",
       "    <tr>\n",
       "      <th>женат / замужем</th>\n",
       "      <td>927</td>\n",
       "      <td>12266</td>\n",
       "      <td>7.557476</td>\n",
       "    </tr>\n",
       "    <tr>\n",
       "      <th>гражданский брак</th>\n",
       "      <td>385</td>\n",
       "      <td>4146</td>\n",
       "      <td>9.286059</td>\n",
       "    </tr>\n",
       "    <tr>\n",
       "      <th>Не женат / не замужем</th>\n",
       "      <td>273</td>\n",
       "      <td>2796</td>\n",
       "      <td>9.763948</td>\n",
       "    </tr>\n",
       "  </tbody>\n",
       "</table>\n",
       "</div>"
      ],
      "text/plain": [
       "                      debt        non_return\n",
       "                       sum  count           \n",
       "family_status                               \n",
       "вдовец / вдова          63    951   6.624606\n",
       "в разводе               84   1189   7.064760\n",
       "женат / замужем        927  12266   7.557476\n",
       "гражданский брак       385   4146   9.286059\n",
       "Не женат / не замужем  273   2796   9.763948"
      ]
     },
     "metadata": {},
     "output_type": "display_data"
    }
   ],
   "source": [
    "family_status_debt = data.groupby('family_status').agg({'debt': ['sum', 'count']})\n",
    "family_status_debt['non_return'] = family_status_debt['debt']['sum'] / family_status_debt['debt']['count'] * 100\n",
    "display(family_status_debt.sort_values(by='non_return')) # Ваш код будет здесь. Вы можете создавать новые ячейки."
   ]
  },
  {
   "cell_type": "markdown",
   "id": "1cef7837",
   "metadata": {
    "deletable": false,
    "id": "1cef7837"
   },
   "source": [
    "**Вывод:** \n",
    "Для групп Не женат/не замужем и гражданский брак процент невозврата кредитов в срок самый высокий."
   ]
  },
  {
   "cell_type": "markdown",
   "id": "1e8b2fca",
   "metadata": {
    "deletable": false,
    "editable": false,
    "id": "1e8b2fca"
   },
   "source": [
    "**Задание 21. Есть ли зависимость между уровнем дохода и возвратом кредита в срок?**"
   ]
  },
  {
   "cell_type": "markdown",
   "id": "685c95f6",
   "metadata": {},
   "source": [
    "Сгруппируем на основании категорий по уровню дохода 'total_income_category' и рассчитаем долю невозвратных кредитов в процентах."
   ]
  },
  {
   "cell_type": "code",
   "execution_count": 24,
   "id": "cd7e3720",
   "metadata": {
    "id": "cd7e3720"
   },
   "outputs": [
    {
     "data": {
      "text/html": [
       "<div>\n",
       "<style scoped>\n",
       "    .dataframe tbody tr th:only-of-type {\n",
       "        vertical-align: middle;\n",
       "    }\n",
       "\n",
       "    .dataframe tbody tr th {\n",
       "        vertical-align: top;\n",
       "    }\n",
       "\n",
       "    .dataframe thead tr th {\n",
       "        text-align: left;\n",
       "    }\n",
       "\n",
       "    .dataframe thead tr:last-of-type th {\n",
       "        text-align: right;\n",
       "    }\n",
       "</style>\n",
       "<table border=\"1\" class=\"dataframe\">\n",
       "  <thead>\n",
       "    <tr>\n",
       "      <th></th>\n",
       "      <th colspan=\"2\" halign=\"left\">debt</th>\n",
       "      <th>non_return</th>\n",
       "    </tr>\n",
       "    <tr>\n",
       "      <th></th>\n",
       "      <th>sum</th>\n",
       "      <th>count</th>\n",
       "      <th></th>\n",
       "    </tr>\n",
       "    <tr>\n",
       "      <th>total_income_category</th>\n",
       "      <th></th>\n",
       "      <th></th>\n",
       "      <th></th>\n",
       "    </tr>\n",
       "  </thead>\n",
       "  <tbody>\n",
       "    <tr>\n",
       "      <th>A</th>\n",
       "      <td>2</td>\n",
       "      <td>25</td>\n",
       "      <td>8.000000</td>\n",
       "    </tr>\n",
       "    <tr>\n",
       "      <th>B</th>\n",
       "      <td>354</td>\n",
       "      <td>5014</td>\n",
       "      <td>7.060231</td>\n",
       "    </tr>\n",
       "    <tr>\n",
       "      <th>C</th>\n",
       "      <td>1353</td>\n",
       "      <td>15938</td>\n",
       "      <td>8.489145</td>\n",
       "    </tr>\n",
       "    <tr>\n",
       "      <th>D</th>\n",
       "      <td>21</td>\n",
       "      <td>349</td>\n",
       "      <td>6.017192</td>\n",
       "    </tr>\n",
       "    <tr>\n",
       "      <th>E</th>\n",
       "      <td>2</td>\n",
       "      <td>22</td>\n",
       "      <td>9.090909</td>\n",
       "    </tr>\n",
       "  </tbody>\n",
       "</table>\n",
       "</div>"
      ],
      "text/plain": [
       "                       debt        non_return\n",
       "                        sum  count           \n",
       "total_income_category                        \n",
       "A                         2     25   8.000000\n",
       "B                       354   5014   7.060231\n",
       "C                      1353  15938   8.489145\n",
       "D                        21    349   6.017192\n",
       "E                         2     22   9.090909"
      ]
     },
     "metadata": {},
     "output_type": "display_data"
    }
   ],
   "source": [
    "total_income_debt = data.groupby('total_income_category').agg({'debt': ['sum', 'count']})\n",
    "total_income_debt['non_return'] = total_income_debt['debt']['sum'] / total_income_debt['debt']['count'] * 100\n",
    "display(total_income_debt)"
   ]
  },
  {
   "cell_type": "markdown",
   "id": "e8593def",
   "metadata": {
    "deletable": false,
    "id": "e8593def"
   },
   "source": [
    "**Вывод:** \n",
    "- Для категории с доходом 1000001 и выше - 'A' количество кредитов составляет 0,11% от общего количества кредитов и не является показательным\n",
    "- Для категории 200001-1000000 - 'B' процент невозвращенных в срок кредитов ниже, чем в категория 'C'\n",
    "- В группе с доходом 50001-200000 - 'C' процент невозвращенных в срок кредитов является наиболее высоким, но при этом это самая большая группа по количеству кредитов и составляет 74,66%\n",
    "- В группе с доходом 30000-50000 - 'D' процент не возврата кредитов в срок минимальный из тех групп, которые являются показательными. Но данная группа составляет 1,6% от общего числа кредитов\n",
    "- Категория с доходом 0-30000 - 'E' составляет 0,1% от общего количества кредитов и не является показательной\n"
   ]
  },
  {
   "cell_type": "markdown",
   "id": "99ecbd1f",
   "metadata": {
    "deletable": false,
    "editable": false,
    "id": "99ecbd1f"
   },
   "source": [
    "**Задание 22. Как разные цели кредита влияют на его возврат в срок?**"
   ]
  },
  {
   "cell_type": "markdown",
   "id": "14027eb0",
   "metadata": {},
   "source": [
    "Сгруппируем по категориям на основании цели кредита 'purpose_category' и рассчитаем долю невозвратных кредитов в процентах."
   ]
  },
  {
   "cell_type": "code",
   "execution_count": 25,
   "id": "2b687290",
   "metadata": {
    "id": "2b687290"
   },
   "outputs": [
    {
     "name": "stdout",
     "output_type": "stream",
     "text": [
      "                         debt        non_return\n",
      "                          sum  count           \n",
      "purpose_category                               \n",
      "операции с недвижимостью  780  10754   7.253115\n",
      "проведение свадьбы        183   2324   7.874355\n",
      "получение образования     369   3989   9.250439\n",
      "операции с автомобилем    400   4281   9.343611\n"
     ]
    }
   ],
   "source": [
    "purpose_debt = data.groupby('purpose_category').agg({'debt': ['sum', 'count']})\n",
    "purpose_debt['non_return'] = purpose_debt['debt']['sum'] / purpose_debt['debt']['count'] * 100\n",
    "print(purpose_debt.sort_values(by='non_return')) # Ваш код будет здесь. Вы можете создавать новые ячейки."
   ]
  },
  {
   "cell_type": "markdown",
   "id": "b4bb2ce6",
   "metadata": {
    "deletable": false,
    "id": "b4bb2ce6"
   },
   "source": [
    "**Вывод:** \n",
    "Процент невозвратных в срок кредитов для категорий с целью: \"получение образования\" и \"операции с автомобилем\" выше, чем для категорий: \"операции с недвижимостью\" и \"проведение свадьбы\""
   ]
  },
  {
   "cell_type": "markdown",
   "id": "09c3ac4c",
   "metadata": {
    "deletable": false,
    "editable": false,
    "id": "09c3ac4c"
   },
   "source": [
    "**Задание 23. Приведите возможные причины появления пропусков в исходных данных.**"
   ]
  },
  {
   "cell_type": "markdown",
   "id": "9da2ceda",
   "metadata": {
    "deletable": false,
    "id": "9da2ceda"
   },
   "source": [
    "*Ответ:* \n",
    "Данные могут быть пропущены по ряду причин:\n",
    "• человеческий фактор - данные были пропущены при внесении сотрудником\n",
    "• специально не указанные данные\n",
    "• технические ошибки при выгрузке или переносе данных"
   ]
  },
  {
   "cell_type": "markdown",
   "id": "7b0487d6",
   "metadata": {
    "deletable": false,
    "editable": false,
    "id": "7b0487d6"
   },
   "source": [
    "**Задание 24. Объясните, почему заполнить пропуски медианным значением — лучшее решение для количественных переменных.**"
   ]
  },
  {
   "cell_type": "markdown",
   "id": "7ecf2b8e",
   "metadata": {
    "deletable": false,
    "id": "7ecf2b8e"
   },
   "source": [
    "*Ответ:* \n",
    "Использование медианных значений позволяет избежать ошибок, если какие-то данные сильно отличаются от большинства. Такой принцип замены переменных применим для зарплаты/уровня дохода. Но важно, чтобы этот показатель не был намеренно скрыт, как например, в случае если доход слишком низкий или совсем отсутствует. Чтобы этого избежать использовали замену пропущенного дохода по категориям в зависимости от типа занятости."
   ]
  },
  {
   "cell_type": "markdown",
   "id": "6db5255a",
   "metadata": {
    "deletable": false,
    "editable": false,
    "id": "6db5255a"
   },
   "source": [
    "## Общий вывод."
   ]
  },
  {
   "cell_type": "markdown",
   "id": "bad65432",
   "metadata": {
    "id": "bad65432"
   },
   "source": [
    "Наибольшие риски будет представлять выдача кредита людям, которые по всем параметрам имеют более высокий процент невозвратных в срок кредитов. В нашем случае это будут люди со следующими категориями:\n",
    "- не женатые/не замужем или в гражданском браке\n",
    "- с одним или двумя детьми\n",
    "- с доходом от 50001 до 200000 рублей\n",
    "- если кредит берется для получения образования или операций с автомобилем\n",
    "Наибольший процент возврата кредитов в срок будет для групп, объединяющих параметры с минимальной долей невозвратных кредитов:\n",
    "- женат/замужем или в разводе или вдова/вдовец\n",
    "- без детей\n",
    "- с доходом от 200001 до 10000000\n"
   ]
  }
 ],
 "metadata": {
  "ExecuteTimeLog": [
   {
    "duration": 754,
    "start_time": "2022-07-19T10:17:18.787Z"
   },
   {
    "duration": 22,
    "start_time": "2022-07-19T10:17:23.537Z"
   },
   {
    "duration": 19,
    "start_time": "2022-07-19T10:17:25.646Z"
   },
   {
    "duration": 10,
    "start_time": "2022-07-19T10:17:29.999Z"
   },
   {
    "duration": 35,
    "start_time": "2022-07-19T10:17:31.968Z"
   },
   {
    "duration": 4,
    "start_time": "2022-07-19T10:17:34.996Z"
   },
   {
    "duration": 10,
    "start_time": "2022-07-19T10:17:37.377Z"
   },
   {
    "duration": 5,
    "start_time": "2022-07-19T10:17:40.786Z"
   },
   {
    "duration": 7,
    "start_time": "2022-07-19T10:17:42.888Z"
   },
   {
    "duration": 5,
    "start_time": "2022-07-19T10:17:44.786Z"
   },
   {
    "duration": 47,
    "start_time": "2022-07-19T10:17:47.297Z"
   },
   {
    "duration": 13,
    "start_time": "2022-07-19T10:17:49.099Z"
   },
   {
    "duration": 4,
    "start_time": "2022-07-19T10:17:51.469Z"
   },
   {
    "duration": 18,
    "start_time": "2022-07-19T10:17:53.729Z"
   },
   {
    "duration": 18,
    "start_time": "2022-07-19T10:17:54.727Z"
   },
   {
    "duration": 16,
    "start_time": "2022-07-19T10:17:56.327Z"
   },
   {
    "duration": 5,
    "start_time": "2022-07-19T10:17:59.022Z"
   },
   {
    "duration": 9,
    "start_time": "2022-07-19T10:17:59.888Z"
   },
   {
    "duration": 8,
    "start_time": "2022-07-19T10:18:01.888Z"
   },
   {
    "duration": 4,
    "start_time": "2022-07-19T10:18:04.339Z"
   },
   {
    "duration": 9,
    "start_time": "2022-07-19T10:18:05.263Z"
   },
   {
    "duration": 4,
    "start_time": "2022-07-19T11:05:46.367Z"
   },
   {
    "duration": 4,
    "start_time": "2022-07-19T11:06:00.111Z"
   },
   {
    "duration": 18,
    "start_time": "2022-07-19T11:07:10.153Z"
   },
   {
    "duration": 5,
    "start_time": "2022-07-19T11:09:29.375Z"
   },
   {
    "duration": 67,
    "start_time": "2022-07-19T11:12:37.049Z"
   },
   {
    "duration": 6,
    "start_time": "2022-07-19T11:13:22.103Z"
   },
   {
    "duration": 70,
    "start_time": "2022-07-19T15:25:33.999Z"
   },
   {
    "duration": 770,
    "start_time": "2022-07-19T15:25:45.964Z"
   },
   {
    "duration": 39,
    "start_time": "2022-07-19T15:25:46.737Z"
   },
   {
    "duration": 17,
    "start_time": "2022-07-19T15:25:46.778Z"
   },
   {
    "duration": 10,
    "start_time": "2022-07-19T15:25:46.797Z"
   },
   {
    "duration": 61,
    "start_time": "2022-07-19T15:25:46.809Z"
   },
   {
    "duration": 3,
    "start_time": "2022-07-19T15:25:46.872Z"
   },
   {
    "duration": 19,
    "start_time": "2022-07-19T15:25:46.877Z"
   },
   {
    "duration": 5,
    "start_time": "2022-07-19T15:25:46.898Z"
   },
   {
    "duration": 12,
    "start_time": "2022-07-19T15:25:46.904Z"
   },
   {
    "duration": 5,
    "start_time": "2022-07-19T15:25:46.918Z"
   },
   {
    "duration": 44,
    "start_time": "2022-07-19T15:25:46.948Z"
   },
   {
    "duration": 11,
    "start_time": "2022-07-19T15:25:46.994Z"
   },
   {
    "duration": 6,
    "start_time": "2022-07-19T15:25:47.006Z"
   },
   {
    "duration": 53,
    "start_time": "2022-07-19T15:25:47.014Z"
   },
   {
    "duration": 27,
    "start_time": "2022-07-19T15:25:47.070Z"
   },
   {
    "duration": 19,
    "start_time": "2022-07-19T15:25:47.099Z"
   },
   {
    "duration": 5,
    "start_time": "2022-07-19T15:25:47.120Z"
   },
   {
    "duration": 60,
    "start_time": "2022-07-19T15:25:47.127Z"
   },
   {
    "duration": 9,
    "start_time": "2022-07-19T15:25:47.189Z"
   },
   {
    "duration": 4,
    "start_time": "2022-07-19T15:25:47.200Z"
   },
   {
    "duration": 18,
    "start_time": "2022-07-19T15:25:47.206Z"
   },
   {
    "duration": 9,
    "start_time": "2022-07-19T15:25:47.225Z"
   },
   {
    "duration": 6,
    "start_time": "2022-07-19T15:25:47.236Z"
   },
   {
    "duration": 25,
    "start_time": "2022-07-19T15:25:47.244Z"
   },
   {
    "duration": 11,
    "start_time": "2022-07-19T15:25:47.271Z"
   },
   {
    "duration": 4,
    "start_time": "2022-07-19T15:26:07.910Z"
   },
   {
    "duration": 4,
    "start_time": "2022-07-19T15:26:13.399Z"
   },
   {
    "duration": 39,
    "start_time": "2022-07-19T15:26:36.942Z"
   },
   {
    "duration": 19,
    "start_time": "2022-07-19T15:31:25.524Z"
   },
   {
    "duration": 11,
    "start_time": "2022-07-19T15:42:02.662Z"
   },
   {
    "duration": 824,
    "start_time": "2022-07-19T15:45:17.777Z"
   },
   {
    "duration": 676,
    "start_time": "2022-07-19T15:45:32.266Z"
   },
   {
    "duration": 1070,
    "start_time": "2022-07-19T15:46:40.462Z"
   },
   {
    "duration": 9,
    "start_time": "2022-07-19T15:47:15.673Z"
   },
   {
    "duration": 16,
    "start_time": "2022-07-19T16:10:58.254Z"
   },
   {
    "duration": 17,
    "start_time": "2022-07-19T16:11:30.888Z"
   },
   {
    "duration": 14,
    "start_time": "2022-07-19T16:12:09.569Z"
   },
   {
    "duration": 20,
    "start_time": "2022-07-19T16:22:55.396Z"
   },
   {
    "duration": 14,
    "start_time": "2022-07-19T16:25:07.121Z"
   },
   {
    "duration": 9,
    "start_time": "2022-07-19T16:36:18.979Z"
   },
   {
    "duration": 9,
    "start_time": "2022-07-19T16:36:48.069Z"
   },
   {
    "duration": 13,
    "start_time": "2022-07-19T16:39:35.755Z"
   },
   {
    "duration": 47,
    "start_time": "2022-07-19T20:33:31.639Z"
   },
   {
    "duration": 659,
    "start_time": "2022-07-19T20:33:42.204Z"
   },
   {
    "duration": 21,
    "start_time": "2022-07-19T20:33:42.865Z"
   },
   {
    "duration": 25,
    "start_time": "2022-07-19T20:33:42.888Z"
   },
   {
    "duration": 13,
    "start_time": "2022-07-19T20:33:42.916Z"
   },
   {
    "duration": 36,
    "start_time": "2022-07-19T20:33:42.931Z"
   },
   {
    "duration": 4,
    "start_time": "2022-07-19T20:33:42.968Z"
   },
   {
    "duration": 12,
    "start_time": "2022-07-19T20:33:42.973Z"
   },
   {
    "duration": 4,
    "start_time": "2022-07-19T20:33:42.986Z"
   },
   {
    "duration": 12,
    "start_time": "2022-07-19T20:33:42.992Z"
   },
   {
    "duration": 10,
    "start_time": "2022-07-19T20:33:43.006Z"
   },
   {
    "duration": 48,
    "start_time": "2022-07-19T20:33:43.018Z"
   },
   {
    "duration": 9,
    "start_time": "2022-07-19T20:33:43.067Z"
   },
   {
    "duration": 10,
    "start_time": "2022-07-19T20:33:43.077Z"
   },
   {
    "duration": 21,
    "start_time": "2022-07-19T20:33:43.088Z"
   },
   {
    "duration": 16,
    "start_time": "2022-07-19T20:33:43.111Z"
   },
   {
    "duration": 25,
    "start_time": "2022-07-19T20:33:43.129Z"
   },
   {
    "duration": 3,
    "start_time": "2022-07-19T20:33:43.156Z"
   },
   {
    "duration": 12,
    "start_time": "2022-07-19T20:33:43.161Z"
   },
   {
    "duration": 5,
    "start_time": "2022-07-19T20:33:43.175Z"
   },
   {
    "duration": 5,
    "start_time": "2022-07-19T20:33:43.181Z"
   },
   {
    "duration": 15,
    "start_time": "2022-07-19T20:33:43.187Z"
   },
   {
    "duration": 13,
    "start_time": "2022-07-19T20:33:43.204Z"
   },
   {
    "duration": 35,
    "start_time": "2022-07-19T20:33:43.219Z"
   },
   {
    "duration": 10,
    "start_time": "2022-07-19T20:33:43.256Z"
   },
   {
    "duration": 78,
    "start_time": "2022-07-19T20:33:43.268Z"
   },
   {
    "duration": 18,
    "start_time": "2022-07-19T20:33:54.257Z"
   },
   {
    "duration": 13,
    "start_time": "2022-07-19T20:34:16.397Z"
   },
   {
    "duration": 53,
    "start_time": "2022-07-20T09:43:38.868Z"
   },
   {
    "duration": 1017,
    "start_time": "2022-07-20T09:43:58.492Z"
   },
   {
    "duration": 22,
    "start_time": "2022-07-20T09:43:59.511Z"
   },
   {
    "duration": 16,
    "start_time": "2022-07-20T09:43:59.535Z"
   },
   {
    "duration": 10,
    "start_time": "2022-07-20T09:43:59.552Z"
   },
   {
    "duration": 37,
    "start_time": "2022-07-20T09:43:59.565Z"
   },
   {
    "duration": 17,
    "start_time": "2022-07-20T09:43:59.605Z"
   },
   {
    "duration": 9,
    "start_time": "2022-07-20T09:43:59.624Z"
   },
   {
    "duration": 4,
    "start_time": "2022-07-20T09:43:59.635Z"
   },
   {
    "duration": 13,
    "start_time": "2022-07-20T09:43:59.642Z"
   },
   {
    "duration": 11,
    "start_time": "2022-07-20T09:43:59.657Z"
   },
   {
    "duration": 71,
    "start_time": "2022-07-20T09:43:59.670Z"
   },
   {
    "duration": 12,
    "start_time": "2022-07-20T09:43:59.743Z"
   },
   {
    "duration": 7,
    "start_time": "2022-07-20T09:43:59.756Z"
   },
   {
    "duration": 27,
    "start_time": "2022-07-20T09:43:59.767Z"
   },
   {
    "duration": 36,
    "start_time": "2022-07-20T09:43:59.796Z"
   },
   {
    "duration": 13,
    "start_time": "2022-07-20T09:43:59.834Z"
   },
   {
    "duration": 7,
    "start_time": "2022-07-20T09:43:59.849Z"
   },
   {
    "duration": 23,
    "start_time": "2022-07-20T09:43:59.858Z"
   },
   {
    "duration": 9,
    "start_time": "2022-07-20T09:43:59.883Z"
   },
   {
    "duration": 9,
    "start_time": "2022-07-20T09:43:59.894Z"
   },
   {
    "duration": 24,
    "start_time": "2022-07-20T09:43:59.905Z"
   },
   {
    "duration": 33,
    "start_time": "2022-07-20T09:43:59.931Z"
   },
   {
    "duration": 19,
    "start_time": "2022-07-20T09:43:59.965Z"
   },
   {
    "duration": 17,
    "start_time": "2022-07-20T09:43:59.986Z"
   },
   {
    "duration": 96,
    "start_time": "2022-07-20T09:44:00.005Z"
   },
   {
    "duration": 16,
    "start_time": "2022-07-20T09:44:37.180Z"
   },
   {
    "duration": 15,
    "start_time": "2022-07-20T09:45:37.802Z"
   },
   {
    "duration": 17,
    "start_time": "2022-07-20T09:46:48.471Z"
   },
   {
    "duration": 17,
    "start_time": "2022-07-20T09:47:51.072Z"
   },
   {
    "duration": 27,
    "start_time": "2022-07-20T09:49:27.450Z"
   },
   {
    "duration": 15,
    "start_time": "2022-07-20T09:50:28.865Z"
   },
   {
    "duration": 20,
    "start_time": "2022-07-20T09:52:10.566Z"
   },
   {
    "duration": 16,
    "start_time": "2022-07-20T10:01:05.192Z"
   },
   {
    "duration": 55,
    "start_time": "2022-07-20T10:07:30.322Z"
   },
   {
    "duration": 16,
    "start_time": "2022-07-20T10:07:44.093Z"
   },
   {
    "duration": 17,
    "start_time": "2022-07-20T10:08:01.780Z"
   },
   {
    "duration": 18,
    "start_time": "2022-07-20T10:08:07.206Z"
   },
   {
    "duration": 20,
    "start_time": "2022-07-20T10:08:14.599Z"
   },
   {
    "duration": 16,
    "start_time": "2022-07-20T10:08:20.651Z"
   },
   {
    "duration": 896,
    "start_time": "2022-07-25T12:49:34.472Z"
   },
   {
    "duration": 40,
    "start_time": "2022-07-25T12:49:36.368Z"
   },
   {
    "duration": 24,
    "start_time": "2022-07-25T12:49:37.880Z"
   },
   {
    "duration": 19,
    "start_time": "2022-07-25T12:49:41.615Z"
   },
   {
    "duration": 64,
    "start_time": "2022-07-25T12:49:43.816Z"
   },
   {
    "duration": 5,
    "start_time": "2022-07-25T12:49:46.165Z"
   },
   {
    "duration": 14,
    "start_time": "2022-07-25T12:49:48.721Z"
   },
   {
    "duration": 13,
    "start_time": "2022-07-25T12:49:52.547Z"
   },
   {
    "duration": 9,
    "start_time": "2022-07-25T12:49:54.899Z"
   },
   {
    "duration": 6,
    "start_time": "2022-07-25T12:49:57.464Z"
   },
   {
    "duration": 53,
    "start_time": "2022-07-25T12:50:01.086Z"
   },
   {
    "duration": 24,
    "start_time": "2022-07-25T12:50:02.677Z"
   },
   {
    "duration": 5,
    "start_time": "2022-07-25T12:50:05.977Z"
   },
   {
    "duration": 35,
    "start_time": "2022-07-25T12:50:09.755Z"
   },
   {
    "duration": 25,
    "start_time": "2022-07-25T12:50:10.296Z"
   },
   {
    "duration": 135,
    "start_time": "2022-07-25T12:50:12.347Z"
   },
   {
    "duration": 5,
    "start_time": "2022-07-25T12:50:17.274Z"
   },
   {
    "duration": 19,
    "start_time": "2022-07-25T12:50:18.777Z"
   },
   {
    "duration": 8,
    "start_time": "2022-07-25T12:50:21.567Z"
   },
   {
    "duration": 5,
    "start_time": "2022-07-25T12:50:25.075Z"
   },
   {
    "duration": 11,
    "start_time": "2022-07-25T12:50:26.160Z"
   },
   {
    "duration": 25,
    "start_time": "2022-07-25T13:03:05.481Z"
   },
   {
    "duration": 20,
    "start_time": "2022-07-25T13:06:46.801Z"
   },
   {
    "duration": 20,
    "start_time": "2022-07-25T13:33:40.080Z"
   },
   {
    "duration": 23,
    "start_time": "2022-07-25T13:33:49.583Z"
   },
   {
    "duration": 17,
    "start_time": "2022-07-25T13:34:10.784Z"
   },
   {
    "duration": 18,
    "start_time": "2022-07-25T14:05:44.489Z"
   },
   {
    "duration": 18,
    "start_time": "2022-07-25T14:19:01.973Z"
   },
   {
    "duration": 619,
    "start_time": "2022-07-26T13:25:16.517Z"
   },
   {
    "duration": 27,
    "start_time": "2022-07-26T13:25:17.631Z"
   },
   {
    "duration": 17,
    "start_time": "2022-07-26T13:25:18.845Z"
   },
   {
    "duration": 29,
    "start_time": "2022-07-26T13:25:21.412Z"
   },
   {
    "duration": 52,
    "start_time": "2022-07-26T13:25:22.806Z"
   },
   {
    "duration": 4,
    "start_time": "2022-07-26T13:25:24.440Z"
   },
   {
    "duration": 10,
    "start_time": "2022-07-26T13:25:25.585Z"
   },
   {
    "duration": 11,
    "start_time": "2022-07-26T13:25:27.135Z"
   },
   {
    "duration": 12,
    "start_time": "2022-07-26T13:25:27.727Z"
   },
   {
    "duration": 5,
    "start_time": "2022-07-26T13:25:28.545Z"
   },
   {
    "duration": 44,
    "start_time": "2022-07-26T13:25:29.787Z"
   },
   {
    "duration": 8,
    "start_time": "2022-07-26T13:25:32.143Z"
   },
   {
    "duration": 6,
    "start_time": "2022-07-26T13:25:32.865Z"
   },
   {
    "duration": 52,
    "start_time": "2022-07-26T13:25:33.708Z"
   },
   {
    "duration": 11,
    "start_time": "2022-07-26T13:25:34.287Z"
   },
   {
    "duration": 4,
    "start_time": "2022-07-26T13:25:35.440Z"
   },
   {
    "duration": 31,
    "start_time": "2022-07-26T13:25:37.849Z"
   },
   {
    "duration": 20,
    "start_time": "2022-07-26T13:25:38.341Z"
   },
   {
    "duration": 169,
    "start_time": "2022-07-26T13:25:40.993Z"
   },
   {
    "duration": 5,
    "start_time": "2022-07-26T13:25:42.794Z"
   },
   {
    "duration": 12,
    "start_time": "2022-07-26T13:25:43.546Z"
   },
   {
    "duration": 9,
    "start_time": "2022-07-26T13:25:46.506Z"
   },
   {
    "duration": 6,
    "start_time": "2022-07-26T13:25:52.227Z"
   },
   {
    "duration": 9,
    "start_time": "2022-07-26T13:25:52.839Z"
   },
   {
    "duration": 29,
    "start_time": "2022-07-26T13:25:55.098Z"
   },
   {
    "duration": 18,
    "start_time": "2022-07-26T13:25:58.187Z"
   },
   {
    "duration": 16,
    "start_time": "2022-07-26T13:26:00.486Z"
   },
   {
    "duration": 15,
    "start_time": "2022-07-26T13:26:03.446Z"
   },
   {
    "duration": 669,
    "start_time": "2022-07-26T15:21:00.048Z"
   },
   {
    "duration": 22,
    "start_time": "2022-07-26T15:21:00.719Z"
   },
   {
    "duration": 31,
    "start_time": "2022-07-26T15:21:00.743Z"
   },
   {
    "duration": 13,
    "start_time": "2022-07-26T15:21:00.776Z"
   },
   {
    "duration": 51,
    "start_time": "2022-07-26T15:21:00.791Z"
   },
   {
    "duration": 3,
    "start_time": "2022-07-26T15:21:00.843Z"
   },
   {
    "duration": 23,
    "start_time": "2022-07-26T15:21:00.848Z"
   },
   {
    "duration": 11,
    "start_time": "2022-07-26T15:21:00.873Z"
   },
   {
    "duration": 36,
    "start_time": "2022-07-26T15:21:00.886Z"
   },
   {
    "duration": 23,
    "start_time": "2022-07-26T15:21:00.924Z"
   },
   {
    "duration": 66,
    "start_time": "2022-07-26T15:21:00.949Z"
   },
   {
    "duration": 13,
    "start_time": "2022-07-26T15:21:01.017Z"
   },
   {
    "duration": 14,
    "start_time": "2022-07-26T15:21:01.032Z"
   },
   {
    "duration": 27,
    "start_time": "2022-07-26T15:21:01.049Z"
   },
   {
    "duration": 17,
    "start_time": "2022-07-26T15:21:01.078Z"
   },
   {
    "duration": 126,
    "start_time": "2022-07-26T15:21:01.096Z"
   },
   {
    "duration": 0,
    "start_time": "2022-07-26T15:21:01.224Z"
   },
   {
    "duration": 0,
    "start_time": "2022-07-26T15:21:01.225Z"
   },
   {
    "duration": 0,
    "start_time": "2022-07-26T15:21:01.226Z"
   },
   {
    "duration": 0,
    "start_time": "2022-07-26T15:21:01.227Z"
   },
   {
    "duration": 0,
    "start_time": "2022-07-26T15:21:01.228Z"
   },
   {
    "duration": 0,
    "start_time": "2022-07-26T15:21:01.230Z"
   },
   {
    "duration": 0,
    "start_time": "2022-07-26T15:21:01.231Z"
   },
   {
    "duration": 0,
    "start_time": "2022-07-26T15:21:01.233Z"
   },
   {
    "duration": 0,
    "start_time": "2022-07-26T15:21:01.235Z"
   },
   {
    "duration": 491,
    "start_time": "2022-07-26T15:21:18.017Z"
   },
   {
    "duration": 22,
    "start_time": "2022-07-26T15:21:18.510Z"
   },
   {
    "duration": 17,
    "start_time": "2022-07-26T15:21:18.534Z"
   },
   {
    "duration": 10,
    "start_time": "2022-07-26T15:21:18.553Z"
   },
   {
    "duration": 43,
    "start_time": "2022-07-26T15:21:18.565Z"
   },
   {
    "duration": 3,
    "start_time": "2022-07-26T15:21:18.610Z"
   },
   {
    "duration": 20,
    "start_time": "2022-07-26T15:21:18.615Z"
   },
   {
    "duration": 9,
    "start_time": "2022-07-26T15:21:18.637Z"
   },
   {
    "duration": 7,
    "start_time": "2022-07-26T15:21:18.648Z"
   },
   {
    "duration": 9,
    "start_time": "2022-07-26T15:21:18.658Z"
   },
   {
    "duration": 52,
    "start_time": "2022-07-26T15:21:18.668Z"
   },
   {
    "duration": 23,
    "start_time": "2022-07-26T15:21:18.721Z"
   },
   {
    "duration": 10,
    "start_time": "2022-07-26T15:21:18.745Z"
   },
   {
    "duration": 18,
    "start_time": "2022-07-26T15:21:18.757Z"
   },
   {
    "duration": 18,
    "start_time": "2022-07-26T15:21:18.777Z"
   },
   {
    "duration": 84,
    "start_time": "2022-07-26T15:21:18.797Z"
   },
   {
    "duration": 0,
    "start_time": "2022-07-26T15:21:18.882Z"
   },
   {
    "duration": 0,
    "start_time": "2022-07-26T15:21:18.883Z"
   },
   {
    "duration": 0,
    "start_time": "2022-07-26T15:21:18.884Z"
   },
   {
    "duration": 0,
    "start_time": "2022-07-26T15:21:18.885Z"
   },
   {
    "duration": 0,
    "start_time": "2022-07-26T15:21:18.886Z"
   },
   {
    "duration": 0,
    "start_time": "2022-07-26T15:21:18.887Z"
   },
   {
    "duration": 0,
    "start_time": "2022-07-26T15:21:18.888Z"
   },
   {
    "duration": 0,
    "start_time": "2022-07-26T15:21:18.890Z"
   },
   {
    "duration": 0,
    "start_time": "2022-07-26T15:21:18.891Z"
   },
   {
    "duration": 494,
    "start_time": "2022-07-27T09:09:26.544Z"
   },
   {
    "duration": 20,
    "start_time": "2022-07-27T09:09:27.040Z"
   },
   {
    "duration": 14,
    "start_time": "2022-07-27T09:09:27.061Z"
   },
   {
    "duration": 8,
    "start_time": "2022-07-27T09:09:27.076Z"
   },
   {
    "duration": 29,
    "start_time": "2022-07-27T09:09:27.086Z"
   },
   {
    "duration": 4,
    "start_time": "2022-07-27T09:09:27.130Z"
   },
   {
    "duration": 9,
    "start_time": "2022-07-27T09:09:27.135Z"
   },
   {
    "duration": 4,
    "start_time": "2022-07-27T09:09:27.146Z"
   },
   {
    "duration": 10,
    "start_time": "2022-07-27T09:09:27.151Z"
   },
   {
    "duration": 6,
    "start_time": "2022-07-27T09:09:27.162Z"
   },
   {
    "duration": 31,
    "start_time": "2022-07-27T09:09:27.169Z"
   },
   {
    "duration": 31,
    "start_time": "2022-07-27T09:09:27.202Z"
   },
   {
    "duration": 3,
    "start_time": "2022-07-27T09:09:27.235Z"
   },
   {
    "duration": 19,
    "start_time": "2022-07-27T09:09:27.240Z"
   },
   {
    "duration": 15,
    "start_time": "2022-07-27T09:09:27.261Z"
   },
   {
    "duration": 10,
    "start_time": "2022-07-27T09:09:27.277Z"
   },
   {
    "duration": 6,
    "start_time": "2022-07-27T09:09:27.288Z"
   },
   {
    "duration": 11,
    "start_time": "2022-07-27T09:09:27.295Z"
   },
   {
    "duration": 27,
    "start_time": "2022-07-27T09:09:27.307Z"
   },
   {
    "duration": 5,
    "start_time": "2022-07-27T09:09:27.335Z"
   },
   {
    "duration": 12,
    "start_time": "2022-07-27T09:09:27.342Z"
   },
   {
    "duration": 18,
    "start_time": "2022-07-27T09:09:27.355Z"
   },
   {
    "duration": 17,
    "start_time": "2022-07-27T09:09:27.374Z"
   },
   {
    "duration": 13,
    "start_time": "2022-07-27T09:09:27.392Z"
   },
   {
    "duration": 15,
    "start_time": "2022-07-27T09:09:27.431Z"
   },
   {
    "duration": 69,
    "start_time": "2022-07-27T09:09:54.937Z"
   },
   {
    "duration": 14,
    "start_time": "2022-07-27T09:09:57.977Z"
   },
   {
    "duration": 13,
    "start_time": "2022-07-27T09:10:12.448Z"
   },
   {
    "duration": 9,
    "start_time": "2022-07-27T09:10:15.493Z"
   },
   {
    "duration": 30,
    "start_time": "2022-07-27T09:10:17.512Z"
   },
   {
    "duration": 9,
    "start_time": "2022-07-27T09:10:19.552Z"
   },
   {
    "duration": 30,
    "start_time": "2022-07-27T09:10:20.721Z"
   },
   {
    "duration": 3,
    "start_time": "2022-07-27T09:10:22.641Z"
   },
   {
    "duration": 8,
    "start_time": "2022-07-27T09:10:23.920Z"
   },
   {
    "duration": 30,
    "start_time": "2022-07-27T09:10:25.092Z"
   },
   {
    "duration": 3,
    "start_time": "2022-07-27T09:10:26.597Z"
   },
   {
    "duration": 8,
    "start_time": "2022-07-27T09:10:27.241Z"
   },
   {
    "duration": 4,
    "start_time": "2022-07-27T09:10:28.631Z"
   },
   {
    "duration": 5,
    "start_time": "2022-07-27T09:10:29.260Z"
   },
   {
    "duration": 6,
    "start_time": "2022-07-27T09:10:29.867Z"
   },
   {
    "duration": 31,
    "start_time": "2022-07-27T09:10:31.051Z"
   },
   {
    "duration": 4,
    "start_time": "2022-07-27T09:10:32.361Z"
   },
   {
    "duration": 5,
    "start_time": "2022-07-27T09:10:34.590Z"
   },
   {
    "duration": 33,
    "start_time": "2022-07-27T09:10:36.061Z"
   },
   {
    "duration": 11,
    "start_time": "2022-07-27T09:10:36.460Z"
   },
   {
    "duration": 4,
    "start_time": "2022-07-27T09:10:37.328Z"
   },
   {
    "duration": 11,
    "start_time": "2022-07-27T09:10:37.940Z"
   },
   {
    "duration": 10,
    "start_time": "2022-07-27T09:10:38.352Z"
   },
   {
    "duration": 10,
    "start_time": "2022-07-27T09:10:38.788Z"
   },
   {
    "duration": 9,
    "start_time": "2022-07-27T09:10:39.218Z"
   },
   {
    "duration": 8,
    "start_time": "2022-07-27T09:10:39.650Z"
   },
   {
    "duration": 8,
    "start_time": "2022-07-27T09:10:40.090Z"
   },
   {
    "duration": 8,
    "start_time": "2022-07-27T09:10:40.580Z"
   },
   {
    "duration": 4,
    "start_time": "2022-07-27T09:10:42.160Z"
   },
   {
    "duration": 16,
    "start_time": "2022-07-27T09:10:42.850Z"
   },
   {
    "duration": 16,
    "start_time": "2022-07-27T09:10:43.068Z"
   },
   {
    "duration": 10,
    "start_time": "2022-07-27T09:10:43.610Z"
   },
   {
    "duration": 3,
    "start_time": "2022-07-27T09:10:44.267Z"
   },
   {
    "duration": 9,
    "start_time": "2022-07-27T09:10:44.481Z"
   },
   {
    "duration": 6,
    "start_time": "2022-07-27T09:10:44.950Z"
   },
   {
    "duration": 3,
    "start_time": "2022-07-27T09:10:45.398Z"
   },
   {
    "duration": 9,
    "start_time": "2022-07-27T09:10:45.752Z"
   },
   {
    "duration": 13,
    "start_time": "2022-07-27T09:10:46.876Z"
   },
   {
    "duration": 17,
    "start_time": "2022-07-27T09:10:48.003Z"
   },
   {
    "duration": 14,
    "start_time": "2022-07-27T09:10:49.601Z"
   },
   {
    "duration": 14,
    "start_time": "2022-07-27T09:10:50.782Z"
   },
   {
    "duration": 64,
    "start_time": "2022-07-27T09:12:14.460Z"
   },
   {
    "duration": 14,
    "start_time": "2022-07-27T09:12:16.509Z"
   },
   {
    "duration": 16,
    "start_time": "2022-07-27T09:12:17.830Z"
   },
   {
    "duration": 9,
    "start_time": "2022-07-27T09:12:20.039Z"
   },
   {
    "duration": 30,
    "start_time": "2022-07-27T09:12:20.995Z"
   },
   {
    "duration": 3,
    "start_time": "2022-07-27T09:12:22.205Z"
   },
   {
    "duration": 8,
    "start_time": "2022-07-27T09:12:23.298Z"
   },
   {
    "duration": 4,
    "start_time": "2022-07-27T09:12:24.763Z"
   },
   {
    "duration": 6,
    "start_time": "2022-07-27T09:12:25.400Z"
   },
   {
    "duration": 4,
    "start_time": "2022-07-27T09:12:26.299Z"
   },
   {
    "duration": 29,
    "start_time": "2022-07-27T09:12:27.520Z"
   },
   {
    "duration": 8,
    "start_time": "2022-07-27T09:12:28.150Z"
   },
   {
    "duration": 4,
    "start_time": "2022-07-27T09:12:29.332Z"
   },
   {
    "duration": 18,
    "start_time": "2022-07-27T09:12:30.229Z"
   },
   {
    "duration": 16,
    "start_time": "2022-07-27T09:12:30.449Z"
   },
   {
    "duration": 10,
    "start_time": "2022-07-27T09:12:31.110Z"
   },
   {
    "duration": 3,
    "start_time": "2022-07-27T09:12:33.202Z"
   },
   {
    "duration": 9,
    "start_time": "2022-07-27T09:12:33.620Z"
   },
   {
    "duration": 6,
    "start_time": "2022-07-27T09:12:34.489Z"
   },
   {
    "duration": 3,
    "start_time": "2022-07-27T09:12:35.189Z"
   },
   {
    "duration": 9,
    "start_time": "2022-07-27T09:12:35.712Z"
   },
   {
    "duration": 14,
    "start_time": "2022-07-27T09:12:37.275Z"
   },
   {
    "duration": 19,
    "start_time": "2022-07-27T09:12:38.642Z"
   },
   {
    "duration": 13,
    "start_time": "2022-07-27T09:12:40.131Z"
   },
   {
    "duration": 14,
    "start_time": "2022-07-27T09:12:41.356Z"
   },
   {
    "duration": 73,
    "start_time": "2022-07-27T09:16:56.901Z"
   },
   {
    "duration": 454,
    "start_time": "2022-07-27T09:22:23.207Z"
   },
   {
    "duration": 21,
    "start_time": "2022-07-27T09:22:23.663Z"
   },
   {
    "duration": 14,
    "start_time": "2022-07-27T09:22:23.685Z"
   },
   {
    "duration": 11,
    "start_time": "2022-07-27T09:22:23.701Z"
   },
   {
    "duration": 43,
    "start_time": "2022-07-27T09:22:23.714Z"
   },
   {
    "duration": 3,
    "start_time": "2022-07-27T09:22:23.758Z"
   },
   {
    "duration": 13,
    "start_time": "2022-07-27T09:22:23.763Z"
   },
   {
    "duration": 3,
    "start_time": "2022-07-27T09:22:23.778Z"
   },
   {
    "duration": 11,
    "start_time": "2022-07-27T09:22:23.783Z"
   },
   {
    "duration": 4,
    "start_time": "2022-07-27T09:22:23.796Z"
   },
   {
    "duration": 45,
    "start_time": "2022-07-27T09:22:23.801Z"
   },
   {
    "duration": 9,
    "start_time": "2022-07-27T09:22:23.847Z"
   },
   {
    "duration": 8,
    "start_time": "2022-07-27T09:22:23.857Z"
   },
   {
    "duration": 20,
    "start_time": "2022-07-27T09:22:23.866Z"
   },
   {
    "duration": 18,
    "start_time": "2022-07-27T09:22:23.887Z"
   },
   {
    "duration": 29,
    "start_time": "2022-07-27T09:22:23.906Z"
   },
   {
    "duration": 14,
    "start_time": "2022-07-27T09:22:23.936Z"
   },
   {
    "duration": 20,
    "start_time": "2022-07-27T09:22:23.951Z"
   },
   {
    "duration": 16,
    "start_time": "2022-07-27T09:22:23.973Z"
   },
   {
    "duration": 4,
    "start_time": "2022-07-27T09:22:23.990Z"
   },
   {
    "duration": 11,
    "start_time": "2022-07-27T09:22:23.995Z"
   },
   {
    "duration": 15,
    "start_time": "2022-07-27T09:22:24.007Z"
   },
   {
    "duration": 14,
    "start_time": "2022-07-27T09:22:24.023Z"
   },
   {
    "duration": 11,
    "start_time": "2022-07-27T09:22:24.039Z"
   },
   {
    "duration": 12,
    "start_time": "2022-07-27T09:22:24.051Z"
   },
   {
    "duration": 68,
    "start_time": "2022-07-27T09:22:41.627Z"
   },
   {
    "duration": 14,
    "start_time": "2022-07-27T09:22:45.997Z"
   },
   {
    "duration": 13,
    "start_time": "2022-07-27T09:22:49.638Z"
   },
   {
    "duration": 471,
    "start_time": "2022-07-27T18:53:19.149Z"
   },
   {
    "duration": 20,
    "start_time": "2022-07-27T18:53:19.622Z"
   },
   {
    "duration": 14,
    "start_time": "2022-07-27T18:53:19.643Z"
   },
   {
    "duration": 9,
    "start_time": "2022-07-27T18:53:19.658Z"
   },
   {
    "duration": 32,
    "start_time": "2022-07-27T18:53:19.669Z"
   },
   {
    "duration": 3,
    "start_time": "2022-07-27T18:53:19.703Z"
   },
   {
    "duration": 10,
    "start_time": "2022-07-27T18:53:19.707Z"
   },
   {
    "duration": 4,
    "start_time": "2022-07-27T18:53:19.718Z"
   },
   {
    "duration": 8,
    "start_time": "2022-07-27T18:53:19.723Z"
   },
   {
    "duration": 5,
    "start_time": "2022-07-27T18:53:19.732Z"
   },
   {
    "duration": 30,
    "start_time": "2022-07-27T18:53:19.760Z"
   },
   {
    "duration": 8,
    "start_time": "2022-07-27T18:53:19.792Z"
   },
   {
    "duration": 3,
    "start_time": "2022-07-27T18:53:19.802Z"
   },
   {
    "duration": 18,
    "start_time": "2022-07-27T18:53:19.807Z"
   },
   {
    "duration": 41,
    "start_time": "2022-07-27T18:53:19.826Z"
   },
   {
    "duration": 10,
    "start_time": "2022-07-27T18:53:19.869Z"
   },
   {
    "duration": 5,
    "start_time": "2022-07-27T18:53:19.881Z"
   },
   {
    "duration": 12,
    "start_time": "2022-07-27T18:53:19.888Z"
   },
   {
    "duration": 4,
    "start_time": "2022-07-27T18:53:19.903Z"
   },
   {
    "duration": 3,
    "start_time": "2022-07-27T18:53:19.909Z"
   },
   {
    "duration": 10,
    "start_time": "2022-07-27T18:53:19.913Z"
   },
   {
    "duration": 36,
    "start_time": "2022-07-27T18:53:19.925Z"
   },
   {
    "duration": 17,
    "start_time": "2022-07-27T18:53:19.963Z"
   },
   {
    "duration": 13,
    "start_time": "2022-07-27T18:53:19.981Z"
   },
   {
    "duration": 13,
    "start_time": "2022-07-27T18:53:19.996Z"
   },
   {
    "duration": 53,
    "start_time": "2022-08-11T19:49:26.269Z"
   },
   {
    "duration": 515,
    "start_time": "2022-08-12T08:25:22.179Z"
   },
   {
    "duration": 23,
    "start_time": "2022-08-12T08:25:22.696Z"
   },
   {
    "duration": 20,
    "start_time": "2022-08-12T08:25:22.721Z"
   },
   {
    "duration": 11,
    "start_time": "2022-08-12T08:25:22.742Z"
   },
   {
    "duration": 58,
    "start_time": "2022-08-12T08:25:22.755Z"
   },
   {
    "duration": 4,
    "start_time": "2022-08-12T08:25:22.815Z"
   },
   {
    "duration": 11,
    "start_time": "2022-08-12T08:25:22.820Z"
   },
   {
    "duration": 12,
    "start_time": "2022-08-12T08:25:22.832Z"
   },
   {
    "duration": 13,
    "start_time": "2022-08-12T08:25:22.845Z"
   },
   {
    "duration": 4,
    "start_time": "2022-08-12T08:25:22.860Z"
   },
   {
    "duration": 61,
    "start_time": "2022-08-12T08:25:22.866Z"
   },
   {
    "duration": 13,
    "start_time": "2022-08-12T08:25:22.929Z"
   },
   {
    "duration": 7,
    "start_time": "2022-08-12T08:25:22.944Z"
   },
   {
    "duration": 41,
    "start_time": "2022-08-12T08:25:22.953Z"
   },
   {
    "duration": 22,
    "start_time": "2022-08-12T08:25:22.996Z"
   },
   {
    "duration": 11,
    "start_time": "2022-08-12T08:25:23.020Z"
   },
   {
    "duration": 8,
    "start_time": "2022-08-12T08:25:23.033Z"
   },
   {
    "duration": 19,
    "start_time": "2022-08-12T08:25:23.043Z"
   },
   {
    "duration": 12,
    "start_time": "2022-08-12T08:25:23.064Z"
   },
   {
    "duration": 13,
    "start_time": "2022-08-12T08:25:23.078Z"
   },
   {
    "duration": 12,
    "start_time": "2022-08-12T08:25:23.093Z"
   },
   {
    "duration": 17,
    "start_time": "2022-08-12T08:25:23.107Z"
   },
   {
    "duration": 18,
    "start_time": "2022-08-12T08:25:23.125Z"
   },
   {
    "duration": 15,
    "start_time": "2022-08-12T08:25:23.144Z"
   },
   {
    "duration": 44,
    "start_time": "2022-08-12T08:25:23.161Z"
   }
  ],
  "colab": {
   "name": "dpp_template_part2.ipynb",
   "provenance": []
  },
  "kernelspec": {
   "display_name": "Python 3 (ipykernel)",
   "language": "python",
   "name": "python3"
  },
  "language_info": {
   "codemirror_mode": {
    "name": "ipython",
    "version": 3
   },
   "file_extension": ".py",
   "mimetype": "text/x-python",
   "name": "python",
   "nbconvert_exporter": "python",
   "pygments_lexer": "ipython3",
   "version": "3.9.13"
  },
  "toc": {
   "base_numbering": 1,
   "nav_menu": {},
   "number_sections": true,
   "sideBar": true,
   "skip_h1_title": true,
   "title_cell": "Table of Contents",
   "title_sidebar": "Contents",
   "toc_cell": false,
   "toc_position": {},
   "toc_section_display": true,
   "toc_window_display": false
  }
 },
 "nbformat": 4,
 "nbformat_minor": 5
}
