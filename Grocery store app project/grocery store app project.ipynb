{
 "cells": [
  {
   "cell_type": "markdown",
   "metadata": {},
   "source": [
    "# Анализ изменения шрифта в мобильном приложении"
   ]
  },
  {
   "cell_type": "markdown",
   "metadata": {},
   "source": [
    "**Цель** - исследование результатов A/A/B-эксперимента, в котором 2 контрольные группы со старыми шрифтами и одну экспериментальную — с новыми. Необходимо выяснить, какой шрифт лучше."
   ]
  },
  {
   "cell_type": "markdown",
   "metadata": {},
   "source": [
    "**Описание данных**\n",
    "Каждая запись в логе — это действие пользователя, или событие.\n",
    "- EventName — название события;\n",
    "- DeviceIDHash — уникальный идентификатор пользователя;\n",
    "- EventTimestamp — время события;\n",
    "- ExpId — номер эксперимента: 246 и 247 — контрольные группы, а 248 — экспериментальная."
   ]
  },
  {
   "cell_type": "markdown",
   "metadata": {},
   "source": [
    "### Откроем файл с данными и изучим общую информацию"
   ]
  },
  {
   "cell_type": "code",
   "execution_count": 1,
   "metadata": {},
   "outputs": [],
   "source": [
    "import pandas as pd\n",
    "import datetime as dt\n",
    "import matplotlib.pyplot as plt\n",
    "import numpy as np\n",
    "import plotly.express as px\n",
    "from scipy import stats as st\n",
    "import math as mth"
   ]
  },
  {
   "cell_type": "code",
   "execution_count": 2,
   "metadata": {},
   "outputs": [
    {
     "data": {
      "text/html": [
       "<div>\n",
       "<style scoped>\n",
       "    .dataframe tbody tr th:only-of-type {\n",
       "        vertical-align: middle;\n",
       "    }\n",
       "\n",
       "    .dataframe tbody tr th {\n",
       "        vertical-align: top;\n",
       "    }\n",
       "\n",
       "    .dataframe thead th {\n",
       "        text-align: right;\n",
       "    }\n",
       "</style>\n",
       "<table border=\"1\" class=\"dataframe\">\n",
       "  <thead>\n",
       "    <tr style=\"text-align: right;\">\n",
       "      <th></th>\n",
       "      <th>EventName</th>\n",
       "      <th>DeviceIDHash</th>\n",
       "      <th>EventTimestamp</th>\n",
       "      <th>ExpId</th>\n",
       "    </tr>\n",
       "  </thead>\n",
       "  <tbody>\n",
       "    <tr>\n",
       "      <th>0</th>\n",
       "      <td>MainScreenAppear</td>\n",
       "      <td>4575588528974610257</td>\n",
       "      <td>1564029816</td>\n",
       "      <td>246</td>\n",
       "    </tr>\n",
       "    <tr>\n",
       "      <th>1</th>\n",
       "      <td>MainScreenAppear</td>\n",
       "      <td>7416695313311560658</td>\n",
       "      <td>1564053102</td>\n",
       "      <td>246</td>\n",
       "    </tr>\n",
       "    <tr>\n",
       "      <th>2</th>\n",
       "      <td>PaymentScreenSuccessful</td>\n",
       "      <td>3518123091307005509</td>\n",
       "      <td>1564054127</td>\n",
       "      <td>248</td>\n",
       "    </tr>\n",
       "    <tr>\n",
       "      <th>3</th>\n",
       "      <td>CartScreenAppear</td>\n",
       "      <td>3518123091307005509</td>\n",
       "      <td>1564054127</td>\n",
       "      <td>248</td>\n",
       "    </tr>\n",
       "    <tr>\n",
       "      <th>4</th>\n",
       "      <td>PaymentScreenSuccessful</td>\n",
       "      <td>6217807653094995999</td>\n",
       "      <td>1564055322</td>\n",
       "      <td>248</td>\n",
       "    </tr>\n",
       "    <tr>\n",
       "      <th>...</th>\n",
       "      <td>...</td>\n",
       "      <td>...</td>\n",
       "      <td>...</td>\n",
       "      <td>...</td>\n",
       "    </tr>\n",
       "    <tr>\n",
       "      <th>244121</th>\n",
       "      <td>MainScreenAppear</td>\n",
       "      <td>4599628364049201812</td>\n",
       "      <td>1565212345</td>\n",
       "      <td>247</td>\n",
       "    </tr>\n",
       "    <tr>\n",
       "      <th>244122</th>\n",
       "      <td>MainScreenAppear</td>\n",
       "      <td>5849806612437486590</td>\n",
       "      <td>1565212439</td>\n",
       "      <td>246</td>\n",
       "    </tr>\n",
       "    <tr>\n",
       "      <th>244123</th>\n",
       "      <td>MainScreenAppear</td>\n",
       "      <td>5746969938801999050</td>\n",
       "      <td>1565212483</td>\n",
       "      <td>246</td>\n",
       "    </tr>\n",
       "    <tr>\n",
       "      <th>244124</th>\n",
       "      <td>MainScreenAppear</td>\n",
       "      <td>5746969938801999050</td>\n",
       "      <td>1565212498</td>\n",
       "      <td>246</td>\n",
       "    </tr>\n",
       "    <tr>\n",
       "      <th>244125</th>\n",
       "      <td>OffersScreenAppear</td>\n",
       "      <td>5746969938801999050</td>\n",
       "      <td>1565212517</td>\n",
       "      <td>246</td>\n",
       "    </tr>\n",
       "  </tbody>\n",
       "</table>\n",
       "<p>244126 rows × 4 columns</p>\n",
       "</div>"
      ],
      "text/plain": [
       "                      EventName         DeviceIDHash  EventTimestamp  ExpId\n",
       "0              MainScreenAppear  4575588528974610257      1564029816    246\n",
       "1              MainScreenAppear  7416695313311560658      1564053102    246\n",
       "2       PaymentScreenSuccessful  3518123091307005509      1564054127    248\n",
       "3              CartScreenAppear  3518123091307005509      1564054127    248\n",
       "4       PaymentScreenSuccessful  6217807653094995999      1564055322    248\n",
       "...                         ...                  ...             ...    ...\n",
       "244121         MainScreenAppear  4599628364049201812      1565212345    247\n",
       "244122         MainScreenAppear  5849806612437486590      1565212439    246\n",
       "244123         MainScreenAppear  5746969938801999050      1565212483    246\n",
       "244124         MainScreenAppear  5746969938801999050      1565212498    246\n",
       "244125       OffersScreenAppear  5746969938801999050      1565212517    246\n",
       "\n",
       "[244126 rows x 4 columns]"
      ]
     },
     "execution_count": 2,
     "metadata": {},
     "output_type": "execute_result"
    }
   ],
   "source": [
    "data = pd.read_csv('/datasets/logs_exp.csv', sep='\\t')\n",
    "data"
   ]
  },
  {
   "cell_type": "code",
   "execution_count": 3,
   "metadata": {},
   "outputs": [
    {
     "name": "stdout",
     "output_type": "stream",
     "text": [
      "<class 'pandas.core.frame.DataFrame'>\n",
      "RangeIndex: 244126 entries, 0 to 244125\n",
      "Data columns (total 4 columns):\n",
      " #   Column          Non-Null Count   Dtype \n",
      "---  ------          --------------   ----- \n",
      " 0   EventName       244126 non-null  object\n",
      " 1   DeviceIDHash    244126 non-null  int64 \n",
      " 2   EventTimestamp  244126 non-null  int64 \n",
      " 3   ExpId           244126 non-null  int64 \n",
      "dtypes: int64(3), object(1)\n",
      "memory usage: 7.5+ MB\n"
     ]
    }
   ],
   "source": [
    "data.info()"
   ]
  },
  {
   "cell_type": "markdown",
   "metadata": {},
   "source": [
    "**Вывод**\n",
    "- Пропущенных значений нет\n",
    "- Необходимо скорректировать название столбцов с использованием строчных букв и \"_\"\n",
    "- Проверить наличие дубликатов\n",
    "- Нужно изменить тип данных с integer на datetime в столбце с датой 'EventTimestamp'"
   ]
  },
  {
   "cell_type": "markdown",
   "metadata": {},
   "source": [
    "### Подготовка данных"
   ]
  },
  {
   "cell_type": "markdown",
   "metadata": {},
   "source": [
    "- Скорректируем названия столбцов"
   ]
  },
  {
   "cell_type": "code",
   "execution_count": 4,
   "metadata": {},
   "outputs": [
    {
     "data": {
      "text/html": [
       "<div>\n",
       "<style scoped>\n",
       "    .dataframe tbody tr th:only-of-type {\n",
       "        vertical-align: middle;\n",
       "    }\n",
       "\n",
       "    .dataframe tbody tr th {\n",
       "        vertical-align: top;\n",
       "    }\n",
       "\n",
       "    .dataframe thead th {\n",
       "        text-align: right;\n",
       "    }\n",
       "</style>\n",
       "<table border=\"1\" class=\"dataframe\">\n",
       "  <thead>\n",
       "    <tr style=\"text-align: right;\">\n",
       "      <th></th>\n",
       "      <th>event_name</th>\n",
       "      <th>device_id_hash</th>\n",
       "      <th>event_timestamp</th>\n",
       "      <th>exp_id</th>\n",
       "    </tr>\n",
       "  </thead>\n",
       "  <tbody>\n",
       "    <tr>\n",
       "      <th>0</th>\n",
       "      <td>MainScreenAppear</td>\n",
       "      <td>4575588528974610257</td>\n",
       "      <td>1564029816</td>\n",
       "      <td>246</td>\n",
       "    </tr>\n",
       "    <tr>\n",
       "      <th>1</th>\n",
       "      <td>MainScreenAppear</td>\n",
       "      <td>7416695313311560658</td>\n",
       "      <td>1564053102</td>\n",
       "      <td>246</td>\n",
       "    </tr>\n",
       "    <tr>\n",
       "      <th>2</th>\n",
       "      <td>PaymentScreenSuccessful</td>\n",
       "      <td>3518123091307005509</td>\n",
       "      <td>1564054127</td>\n",
       "      <td>248</td>\n",
       "    </tr>\n",
       "    <tr>\n",
       "      <th>3</th>\n",
       "      <td>CartScreenAppear</td>\n",
       "      <td>3518123091307005509</td>\n",
       "      <td>1564054127</td>\n",
       "      <td>248</td>\n",
       "    </tr>\n",
       "    <tr>\n",
       "      <th>4</th>\n",
       "      <td>PaymentScreenSuccessful</td>\n",
       "      <td>6217807653094995999</td>\n",
       "      <td>1564055322</td>\n",
       "      <td>248</td>\n",
       "    </tr>\n",
       "    <tr>\n",
       "      <th>...</th>\n",
       "      <td>...</td>\n",
       "      <td>...</td>\n",
       "      <td>...</td>\n",
       "      <td>...</td>\n",
       "    </tr>\n",
       "    <tr>\n",
       "      <th>244121</th>\n",
       "      <td>MainScreenAppear</td>\n",
       "      <td>4599628364049201812</td>\n",
       "      <td>1565212345</td>\n",
       "      <td>247</td>\n",
       "    </tr>\n",
       "    <tr>\n",
       "      <th>244122</th>\n",
       "      <td>MainScreenAppear</td>\n",
       "      <td>5849806612437486590</td>\n",
       "      <td>1565212439</td>\n",
       "      <td>246</td>\n",
       "    </tr>\n",
       "    <tr>\n",
       "      <th>244123</th>\n",
       "      <td>MainScreenAppear</td>\n",
       "      <td>5746969938801999050</td>\n",
       "      <td>1565212483</td>\n",
       "      <td>246</td>\n",
       "    </tr>\n",
       "    <tr>\n",
       "      <th>244124</th>\n",
       "      <td>MainScreenAppear</td>\n",
       "      <td>5746969938801999050</td>\n",
       "      <td>1565212498</td>\n",
       "      <td>246</td>\n",
       "    </tr>\n",
       "    <tr>\n",
       "      <th>244125</th>\n",
       "      <td>OffersScreenAppear</td>\n",
       "      <td>5746969938801999050</td>\n",
       "      <td>1565212517</td>\n",
       "      <td>246</td>\n",
       "    </tr>\n",
       "  </tbody>\n",
       "</table>\n",
       "<p>244126 rows × 4 columns</p>\n",
       "</div>"
      ],
      "text/plain": [
       "                     event_name       device_id_hash  event_timestamp  exp_id\n",
       "0              MainScreenAppear  4575588528974610257       1564029816     246\n",
       "1              MainScreenAppear  7416695313311560658       1564053102     246\n",
       "2       PaymentScreenSuccessful  3518123091307005509       1564054127     248\n",
       "3              CartScreenAppear  3518123091307005509       1564054127     248\n",
       "4       PaymentScreenSuccessful  6217807653094995999       1564055322     248\n",
       "...                         ...                  ...              ...     ...\n",
       "244121         MainScreenAppear  4599628364049201812       1565212345     247\n",
       "244122         MainScreenAppear  5849806612437486590       1565212439     246\n",
       "244123         MainScreenAppear  5746969938801999050       1565212483     246\n",
       "244124         MainScreenAppear  5746969938801999050       1565212498     246\n",
       "244125       OffersScreenAppear  5746969938801999050       1565212517     246\n",
       "\n",
       "[244126 rows x 4 columns]"
      ]
     },
     "execution_count": 4,
     "metadata": {},
     "output_type": "execute_result"
    }
   ],
   "source": [
    "data = data.rename(\n",
    "    columns = {'EventName': 'event_name',\n",
    "     'DeviceIDHash': 'device_id_hash',\n",
    "     'EventTimestamp': 'event_timestamp',\n",
    "     'ExpId': 'exp_id'\n",
    "        \n",
    "    }\n",
    ")\n",
    "data"
   ]
  },
  {
   "cell_type": "markdown",
   "metadata": {},
   "source": [
    "- Проверим наличие дубликатов"
   ]
  },
  {
   "cell_type": "code",
   "execution_count": 5,
   "metadata": {},
   "outputs": [
    {
     "data": {
      "text/plain": [
       "413"
      ]
     },
     "execution_count": 5,
     "metadata": {},
     "output_type": "execute_result"
    }
   ],
   "source": [
    "data.duplicated().sum()"
   ]
  },
  {
   "cell_type": "code",
   "execution_count": 6,
   "metadata": {},
   "outputs": [
    {
     "name": "stdout",
     "output_type": "stream",
     "text": [
      "Количеству дубликатов равно 0.17 %\n"
     ]
    }
   ],
   "source": [
    "print('Количеству дубликатов равно', round(data.duplicated().sum()*100/(data['event_name'].count()), 2), '%')"
   ]
  },
  {
   "cell_type": "markdown",
   "metadata": {},
   "source": [
    "Количество дубликатов меньше 5%, можем удалить их"
   ]
  },
  {
   "cell_type": "code",
   "execution_count": 7,
   "metadata": {},
   "outputs": [
    {
     "name": "stdout",
     "output_type": "stream",
     "text": [
      "<class 'pandas.core.frame.DataFrame'>\n",
      "RangeIndex: 244126 entries, 0 to 244125\n",
      "Data columns (total 4 columns):\n",
      " #   Column           Non-Null Count   Dtype \n",
      "---  ------           --------------   ----- \n",
      " 0   event_name       244126 non-null  object\n",
      " 1   device_id_hash   244126 non-null  int64 \n",
      " 2   event_timestamp  244126 non-null  int64 \n",
      " 3   exp_id           244126 non-null  int64 \n",
      "dtypes: int64(3), object(1)\n",
      "memory usage: 7.5+ MB\n"
     ]
    }
   ],
   "source": [
    "data.drop_duplicates()\n",
    "data.info()"
   ]
  },
  {
   "cell_type": "markdown",
   "metadata": {},
   "source": [
    "- Изменим тип данных на datetime в столбце 'event_timestamp' "
   ]
  },
  {
   "cell_type": "code",
   "execution_count": 8,
   "metadata": {},
   "outputs": [
    {
     "data": {
      "text/html": [
       "<div>\n",
       "<style scoped>\n",
       "    .dataframe tbody tr th:only-of-type {\n",
       "        vertical-align: middle;\n",
       "    }\n",
       "\n",
       "    .dataframe tbody tr th {\n",
       "        vertical-align: top;\n",
       "    }\n",
       "\n",
       "    .dataframe thead th {\n",
       "        text-align: right;\n",
       "    }\n",
       "</style>\n",
       "<table border=\"1\" class=\"dataframe\">\n",
       "  <thead>\n",
       "    <tr style=\"text-align: right;\">\n",
       "      <th></th>\n",
       "      <th>event_name</th>\n",
       "      <th>device_id_hash</th>\n",
       "      <th>event_timestamp</th>\n",
       "      <th>exp_id</th>\n",
       "    </tr>\n",
       "  </thead>\n",
       "  <tbody>\n",
       "    <tr>\n",
       "      <th>0</th>\n",
       "      <td>MainScreenAppear</td>\n",
       "      <td>4575588528974610257</td>\n",
       "      <td>2019-07-25 04:43:36</td>\n",
       "      <td>246</td>\n",
       "    </tr>\n",
       "    <tr>\n",
       "      <th>1</th>\n",
       "      <td>MainScreenAppear</td>\n",
       "      <td>7416695313311560658</td>\n",
       "      <td>2019-07-25 11:11:42</td>\n",
       "      <td>246</td>\n",
       "    </tr>\n",
       "    <tr>\n",
       "      <th>2</th>\n",
       "      <td>PaymentScreenSuccessful</td>\n",
       "      <td>3518123091307005509</td>\n",
       "      <td>2019-07-25 11:28:47</td>\n",
       "      <td>248</td>\n",
       "    </tr>\n",
       "    <tr>\n",
       "      <th>3</th>\n",
       "      <td>CartScreenAppear</td>\n",
       "      <td>3518123091307005509</td>\n",
       "      <td>2019-07-25 11:28:47</td>\n",
       "      <td>248</td>\n",
       "    </tr>\n",
       "    <tr>\n",
       "      <th>4</th>\n",
       "      <td>PaymentScreenSuccessful</td>\n",
       "      <td>6217807653094995999</td>\n",
       "      <td>2019-07-25 11:48:42</td>\n",
       "      <td>248</td>\n",
       "    </tr>\n",
       "    <tr>\n",
       "      <th>...</th>\n",
       "      <td>...</td>\n",
       "      <td>...</td>\n",
       "      <td>...</td>\n",
       "      <td>...</td>\n",
       "    </tr>\n",
       "    <tr>\n",
       "      <th>244121</th>\n",
       "      <td>MainScreenAppear</td>\n",
       "      <td>4599628364049201812</td>\n",
       "      <td>2019-08-07 21:12:25</td>\n",
       "      <td>247</td>\n",
       "    </tr>\n",
       "    <tr>\n",
       "      <th>244122</th>\n",
       "      <td>MainScreenAppear</td>\n",
       "      <td>5849806612437486590</td>\n",
       "      <td>2019-08-07 21:13:59</td>\n",
       "      <td>246</td>\n",
       "    </tr>\n",
       "    <tr>\n",
       "      <th>244123</th>\n",
       "      <td>MainScreenAppear</td>\n",
       "      <td>5746969938801999050</td>\n",
       "      <td>2019-08-07 21:14:43</td>\n",
       "      <td>246</td>\n",
       "    </tr>\n",
       "    <tr>\n",
       "      <th>244124</th>\n",
       "      <td>MainScreenAppear</td>\n",
       "      <td>5746969938801999050</td>\n",
       "      <td>2019-08-07 21:14:58</td>\n",
       "      <td>246</td>\n",
       "    </tr>\n",
       "    <tr>\n",
       "      <th>244125</th>\n",
       "      <td>OffersScreenAppear</td>\n",
       "      <td>5746969938801999050</td>\n",
       "      <td>2019-08-07 21:15:17</td>\n",
       "      <td>246</td>\n",
       "    </tr>\n",
       "  </tbody>\n",
       "</table>\n",
       "<p>244126 rows × 4 columns</p>\n",
       "</div>"
      ],
      "text/plain": [
       "                     event_name       device_id_hash     event_timestamp  \\\n",
       "0              MainScreenAppear  4575588528974610257 2019-07-25 04:43:36   \n",
       "1              MainScreenAppear  7416695313311560658 2019-07-25 11:11:42   \n",
       "2       PaymentScreenSuccessful  3518123091307005509 2019-07-25 11:28:47   \n",
       "3              CartScreenAppear  3518123091307005509 2019-07-25 11:28:47   \n",
       "4       PaymentScreenSuccessful  6217807653094995999 2019-07-25 11:48:42   \n",
       "...                         ...                  ...                 ...   \n",
       "244121         MainScreenAppear  4599628364049201812 2019-08-07 21:12:25   \n",
       "244122         MainScreenAppear  5849806612437486590 2019-08-07 21:13:59   \n",
       "244123         MainScreenAppear  5746969938801999050 2019-08-07 21:14:43   \n",
       "244124         MainScreenAppear  5746969938801999050 2019-08-07 21:14:58   \n",
       "244125       OffersScreenAppear  5746969938801999050 2019-08-07 21:15:17   \n",
       "\n",
       "        exp_id  \n",
       "0          246  \n",
       "1          246  \n",
       "2          248  \n",
       "3          248  \n",
       "4          248  \n",
       "...        ...  \n",
       "244121     247  \n",
       "244122     246  \n",
       "244123     246  \n",
       "244124     246  \n",
       "244125     246  \n",
       "\n",
       "[244126 rows x 4 columns]"
      ]
     },
     "execution_count": 8,
     "metadata": {},
     "output_type": "execute_result"
    }
   ],
   "source": [
    "data['event_timestamp'] = pd.to_datetime(data['event_timestamp'], unit='s')\n",
    "data"
   ]
  },
  {
   "cell_type": "markdown",
   "metadata": {},
   "source": [
    "- Добавим столбец с датой"
   ]
  },
  {
   "cell_type": "code",
   "execution_count": 9,
   "metadata": {},
   "outputs": [
    {
     "data": {
      "text/html": [
       "<div>\n",
       "<style scoped>\n",
       "    .dataframe tbody tr th:only-of-type {\n",
       "        vertical-align: middle;\n",
       "    }\n",
       "\n",
       "    .dataframe tbody tr th {\n",
       "        vertical-align: top;\n",
       "    }\n",
       "\n",
       "    .dataframe thead th {\n",
       "        text-align: right;\n",
       "    }\n",
       "</style>\n",
       "<table border=\"1\" class=\"dataframe\">\n",
       "  <thead>\n",
       "    <tr style=\"text-align: right;\">\n",
       "      <th></th>\n",
       "      <th>event_name</th>\n",
       "      <th>device_id_hash</th>\n",
       "      <th>event_timestamp</th>\n",
       "      <th>exp_id</th>\n",
       "      <th>date</th>\n",
       "    </tr>\n",
       "  </thead>\n",
       "  <tbody>\n",
       "    <tr>\n",
       "      <th>0</th>\n",
       "      <td>MainScreenAppear</td>\n",
       "      <td>4575588528974610257</td>\n",
       "      <td>2019-07-25 04:43:36</td>\n",
       "      <td>246</td>\n",
       "      <td>2019-07-25</td>\n",
       "    </tr>\n",
       "    <tr>\n",
       "      <th>1</th>\n",
       "      <td>MainScreenAppear</td>\n",
       "      <td>7416695313311560658</td>\n",
       "      <td>2019-07-25 11:11:42</td>\n",
       "      <td>246</td>\n",
       "      <td>2019-07-25</td>\n",
       "    </tr>\n",
       "    <tr>\n",
       "      <th>2</th>\n",
       "      <td>PaymentScreenSuccessful</td>\n",
       "      <td>3518123091307005509</td>\n",
       "      <td>2019-07-25 11:28:47</td>\n",
       "      <td>248</td>\n",
       "      <td>2019-07-25</td>\n",
       "    </tr>\n",
       "    <tr>\n",
       "      <th>3</th>\n",
       "      <td>CartScreenAppear</td>\n",
       "      <td>3518123091307005509</td>\n",
       "      <td>2019-07-25 11:28:47</td>\n",
       "      <td>248</td>\n",
       "      <td>2019-07-25</td>\n",
       "    </tr>\n",
       "    <tr>\n",
       "      <th>4</th>\n",
       "      <td>PaymentScreenSuccessful</td>\n",
       "      <td>6217807653094995999</td>\n",
       "      <td>2019-07-25 11:48:42</td>\n",
       "      <td>248</td>\n",
       "      <td>2019-07-25</td>\n",
       "    </tr>\n",
       "    <tr>\n",
       "      <th>...</th>\n",
       "      <td>...</td>\n",
       "      <td>...</td>\n",
       "      <td>...</td>\n",
       "      <td>...</td>\n",
       "      <td>...</td>\n",
       "    </tr>\n",
       "    <tr>\n",
       "      <th>244121</th>\n",
       "      <td>MainScreenAppear</td>\n",
       "      <td>4599628364049201812</td>\n",
       "      <td>2019-08-07 21:12:25</td>\n",
       "      <td>247</td>\n",
       "      <td>2019-08-07</td>\n",
       "    </tr>\n",
       "    <tr>\n",
       "      <th>244122</th>\n",
       "      <td>MainScreenAppear</td>\n",
       "      <td>5849806612437486590</td>\n",
       "      <td>2019-08-07 21:13:59</td>\n",
       "      <td>246</td>\n",
       "      <td>2019-08-07</td>\n",
       "    </tr>\n",
       "    <tr>\n",
       "      <th>244123</th>\n",
       "      <td>MainScreenAppear</td>\n",
       "      <td>5746969938801999050</td>\n",
       "      <td>2019-08-07 21:14:43</td>\n",
       "      <td>246</td>\n",
       "      <td>2019-08-07</td>\n",
       "    </tr>\n",
       "    <tr>\n",
       "      <th>244124</th>\n",
       "      <td>MainScreenAppear</td>\n",
       "      <td>5746969938801999050</td>\n",
       "      <td>2019-08-07 21:14:58</td>\n",
       "      <td>246</td>\n",
       "      <td>2019-08-07</td>\n",
       "    </tr>\n",
       "    <tr>\n",
       "      <th>244125</th>\n",
       "      <td>OffersScreenAppear</td>\n",
       "      <td>5746969938801999050</td>\n",
       "      <td>2019-08-07 21:15:17</td>\n",
       "      <td>246</td>\n",
       "      <td>2019-08-07</td>\n",
       "    </tr>\n",
       "  </tbody>\n",
       "</table>\n",
       "<p>244126 rows × 5 columns</p>\n",
       "</div>"
      ],
      "text/plain": [
       "                     event_name       device_id_hash     event_timestamp  \\\n",
       "0              MainScreenAppear  4575588528974610257 2019-07-25 04:43:36   \n",
       "1              MainScreenAppear  7416695313311560658 2019-07-25 11:11:42   \n",
       "2       PaymentScreenSuccessful  3518123091307005509 2019-07-25 11:28:47   \n",
       "3              CartScreenAppear  3518123091307005509 2019-07-25 11:28:47   \n",
       "4       PaymentScreenSuccessful  6217807653094995999 2019-07-25 11:48:42   \n",
       "...                         ...                  ...                 ...   \n",
       "244121         MainScreenAppear  4599628364049201812 2019-08-07 21:12:25   \n",
       "244122         MainScreenAppear  5849806612437486590 2019-08-07 21:13:59   \n",
       "244123         MainScreenAppear  5746969938801999050 2019-08-07 21:14:43   \n",
       "244124         MainScreenAppear  5746969938801999050 2019-08-07 21:14:58   \n",
       "244125       OffersScreenAppear  5746969938801999050 2019-08-07 21:15:17   \n",
       "\n",
       "        exp_id       date  \n",
       "0          246 2019-07-25  \n",
       "1          246 2019-07-25  \n",
       "2          248 2019-07-25  \n",
       "3          248 2019-07-25  \n",
       "4          248 2019-07-25  \n",
       "...        ...        ...  \n",
       "244121     247 2019-08-07  \n",
       "244122     246 2019-08-07  \n",
       "244123     246 2019-08-07  \n",
       "244124     246 2019-08-07  \n",
       "244125     246 2019-08-07  \n",
       "\n",
       "[244126 rows x 5 columns]"
      ]
     },
     "execution_count": 9,
     "metadata": {},
     "output_type": "execute_result"
    }
   ],
   "source": [
    "data['date'] = pd.to_datetime(data['event_timestamp'].dt.date)\n",
    "data"
   ]
  },
  {
   "cell_type": "markdown",
   "metadata": {},
   "source": [
    "- Проверим, есть ли пользователи, которые попали в две или три группы в тесте"
   ]
  },
  {
   "cell_type": "code",
   "execution_count": 10,
   "metadata": {},
   "outputs": [
    {
     "data": {
      "text/plain": [
       "device_id_hash    0\n",
       "exp_id            0\n",
       "dtype: int64"
      ]
     },
     "execution_count": 10,
     "metadata": {},
     "output_type": "execute_result"
    }
   ],
   "source": [
    "double_groups = (data.groupby('device_id_hash').agg({'exp_id':'nunique'}).reset_index())\n",
    "double_groups = double_groups.loc[(double_groups['exp_id'] == 2) | (double_groups['exp_id'] == 3)]\n",
    "double_groups.count()"
   ]
  },
  {
   "cell_type": "markdown",
   "metadata": {},
   "source": [
    "В разные группы не попали одни и те же пользователи."
   ]
  },
  {
   "cell_type": "markdown",
   "metadata": {},
   "source": [
    "**Вывод**\n",
    "\n",
    "Данные достаточно качественные: нет пропущенных значений, количество дубликатов незначительное - 0.17 % (Их удалили).\n",
    "Преобразован формат време в datetime.\n",
    "При разделении для A/A/B теста в разных группах нет дублирующихся пользователей."
   ]
  },
  {
   "cell_type": "markdown",
   "metadata": {},
   "source": [
    "### Обзор и проверка данных"
   ]
  },
  {
   "cell_type": "markdown",
   "metadata": {},
   "source": [
    "- Посчитаем количество событий в логе"
   ]
  },
  {
   "cell_type": "code",
   "execution_count": 11,
   "metadata": {},
   "outputs": [
    {
     "name": "stdout",
     "output_type": "stream",
     "text": [
      "количество событий в логе 244126\n"
     ]
    }
   ],
   "source": [
    "print('количество событий в логе', data['event_name'].count())"
   ]
  },
  {
   "cell_type": "markdown",
   "metadata": {},
   "source": [
    "- Посчитаем количество пользователей в логе"
   ]
  },
  {
   "cell_type": "code",
   "execution_count": 12,
   "metadata": {},
   "outputs": [
    {
     "name": "stdout",
     "output_type": "stream",
     "text": [
      "количество пользователей в логе 7551\n"
     ]
    }
   ],
   "source": [
    "print('количество пользователей в логе', data['device_id_hash'].nunique())"
   ]
  },
  {
   "cell_type": "markdown",
   "metadata": {},
   "source": [
    "- Посчитаем среднее количество событий на пользователя"
   ]
  },
  {
   "cell_type": "code",
   "execution_count": 13,
   "metadata": {},
   "outputs": [
    {
     "data": {
      "text/html": [
       "<div>\n",
       "<style scoped>\n",
       "    .dataframe tbody tr th:only-of-type {\n",
       "        vertical-align: middle;\n",
       "    }\n",
       "\n",
       "    .dataframe tbody tr th {\n",
       "        vertical-align: top;\n",
       "    }\n",
       "\n",
       "    .dataframe thead th {\n",
       "        text-align: right;\n",
       "    }\n",
       "</style>\n",
       "<table border=\"1\" class=\"dataframe\">\n",
       "  <thead>\n",
       "    <tr style=\"text-align: right;\">\n",
       "      <th></th>\n",
       "      <th>event_name</th>\n",
       "      <th>event_timestamp</th>\n",
       "      <th>exp_id</th>\n",
       "      <th>date</th>\n",
       "    </tr>\n",
       "    <tr>\n",
       "      <th>device_id_hash</th>\n",
       "      <th></th>\n",
       "      <th></th>\n",
       "      <th></th>\n",
       "      <th></th>\n",
       "    </tr>\n",
       "  </thead>\n",
       "  <tbody>\n",
       "    <tr>\n",
       "      <th>6888746892508752</th>\n",
       "      <td>1</td>\n",
       "      <td>1</td>\n",
       "      <td>1</td>\n",
       "      <td>1</td>\n",
       "    </tr>\n",
       "    <tr>\n",
       "      <th>6909561520679493</th>\n",
       "      <td>5</td>\n",
       "      <td>5</td>\n",
       "      <td>5</td>\n",
       "      <td>5</td>\n",
       "    </tr>\n",
       "    <tr>\n",
       "      <th>6922444491712477</th>\n",
       "      <td>47</td>\n",
       "      <td>47</td>\n",
       "      <td>47</td>\n",
       "      <td>47</td>\n",
       "    </tr>\n",
       "    <tr>\n",
       "      <th>7435777799948366</th>\n",
       "      <td>6</td>\n",
       "      <td>6</td>\n",
       "      <td>6</td>\n",
       "      <td>6</td>\n",
       "    </tr>\n",
       "    <tr>\n",
       "      <th>7702139951469979</th>\n",
       "      <td>137</td>\n",
       "      <td>137</td>\n",
       "      <td>137</td>\n",
       "      <td>137</td>\n",
       "    </tr>\n",
       "    <tr>\n",
       "      <th>...</th>\n",
       "      <td>...</td>\n",
       "      <td>...</td>\n",
       "      <td>...</td>\n",
       "      <td>...</td>\n",
       "    </tr>\n",
       "    <tr>\n",
       "      <th>9217594193087726423</th>\n",
       "      <td>9</td>\n",
       "      <td>9</td>\n",
       "      <td>9</td>\n",
       "      <td>9</td>\n",
       "    </tr>\n",
       "    <tr>\n",
       "      <th>9219463515465815368</th>\n",
       "      <td>17</td>\n",
       "      <td>17</td>\n",
       "      <td>17</td>\n",
       "      <td>17</td>\n",
       "    </tr>\n",
       "    <tr>\n",
       "      <th>9220879493065341500</th>\n",
       "      <td>7</td>\n",
       "      <td>7</td>\n",
       "      <td>7</td>\n",
       "      <td>7</td>\n",
       "    </tr>\n",
       "    <tr>\n",
       "      <th>9221926045299980007</th>\n",
       "      <td>7</td>\n",
       "      <td>7</td>\n",
       "      <td>7</td>\n",
       "      <td>7</td>\n",
       "    </tr>\n",
       "    <tr>\n",
       "      <th>9222603179720523844</th>\n",
       "      <td>59</td>\n",
       "      <td>59</td>\n",
       "      <td>59</td>\n",
       "      <td>59</td>\n",
       "    </tr>\n",
       "  </tbody>\n",
       "</table>\n",
       "<p>7551 rows × 4 columns</p>\n",
       "</div>"
      ],
      "text/plain": [
       "                     event_name  event_timestamp  exp_id  date\n",
       "device_id_hash                                                \n",
       "6888746892508752              1                1       1     1\n",
       "6909561520679493              5                5       5     5\n",
       "6922444491712477             47               47      47    47\n",
       "7435777799948366              6                6       6     6\n",
       "7702139951469979            137              137     137   137\n",
       "...                         ...              ...     ...   ...\n",
       "9217594193087726423           9                9       9     9\n",
       "9219463515465815368          17               17      17    17\n",
       "9220879493065341500           7                7       7     7\n",
       "9221926045299980007           7                7       7     7\n",
       "9222603179720523844          59               59      59    59\n",
       "\n",
       "[7551 rows x 4 columns]"
      ]
     },
     "execution_count": 13,
     "metadata": {},
     "output_type": "execute_result"
    }
   ],
   "source": [
    "users_groupted = data.groupby('device_id_hash').count()\n",
    "users_groupted"
   ]
  },
  {
   "cell_type": "code",
   "execution_count": 14,
   "metadata": {},
   "outputs": [
    {
     "name": "stdout",
     "output_type": "stream",
     "text": [
      "Значение медианы количества событий на одного пользователя равно 20.0\n"
     ]
    }
   ],
   "source": [
    "print('Значение медианы количества событий на одного пользователя равно', round(users_groupted['event_name'].median(), 2))"
   ]
  },
  {
   "cell_type": "markdown",
   "metadata": {},
   "source": [
    "- Данными за какой период вы располагаете? Найдите максимальную и минимальную дату. Постройте гистограмму по дате и времени. Можно ли быть уверенным, что у вас одинаково полные данные за весь период? Технически в логи новых дней по некоторым пользователям могут «доезжать» события из прошлого — это может «перекашивать данные». Определите, с какого момента данные полные и отбросьте более старые. Данными за какой период времени вы располагаете на самом деле?"
   ]
  },
  {
   "cell_type": "code",
   "execution_count": 15,
   "metadata": {},
   "outputs": [
    {
     "name": "stdout",
     "output_type": "stream",
     "text": [
      "Минимальная дата 2019-07-25 00:00:00\n"
     ]
    }
   ],
   "source": [
    "print('Минимальная дата', data['date'].min())"
   ]
  },
  {
   "cell_type": "code",
   "execution_count": 16,
   "metadata": {},
   "outputs": [
    {
     "name": "stdout",
     "output_type": "stream",
     "text": [
      "Максимальная дата 2019-08-07 00:00:00\n"
     ]
    }
   ],
   "source": [
    "print('Максимальная дата', data['date'].max())"
   ]
  },
  {
   "cell_type": "code",
   "execution_count": 17,
   "metadata": {
    "scrolled": true
   },
   "outputs": [
    {
     "data": {
      "image/png": "[encoded data removed]",
      "text/plain": [
       "<Figure size 432x288 with 1 Axes>"
      ]
     },
     "metadata": {
      "needs_background": "light"
     },
     "output_type": "display_data"
    }
   ],
   "source": [
    "# Построим гистограмму по дате и времени\n",
    "data['event_timestamp'].hist(bins=100)\n",
    "plt.xticks (rotation = 45)\n",
    "plt.rcParams ['figure.figsize'] = [12, 6]\n",
    "plt.title('Гистограмма событий по дате и времени')\n",
    "plt.xlabel('дата и время')\n",
    "plt.ylabel('события')\n",
    "plt.show()"
   ]
  },
  {
   "cell_type": "markdown",
   "metadata": {},
   "source": [
    "На гистограмме видно, что одинаково полные данные у нас есть с 1 августа 2019 года. Отбросим события до 01.08.2019"
   ]
  },
  {
   "cell_type": "code",
   "execution_count": 18,
   "metadata": {},
   "outputs": [
    {
     "name": "stdout",
     "output_type": "stream",
     "text": [
      "<class 'pandas.core.frame.DataFrame'>\n",
      "RangeIndex: 244126 entries, 0 to 244125\n",
      "Data columns (total 5 columns):\n",
      " #   Column           Non-Null Count   Dtype         \n",
      "---  ------           --------------   -----         \n",
      " 0   event_name       244126 non-null  object        \n",
      " 1   device_id_hash   244126 non-null  int64         \n",
      " 2   event_timestamp  244126 non-null  datetime64[ns]\n",
      " 3   exp_id           244126 non-null  int64         \n",
      " 4   date             244126 non-null  datetime64[ns]\n",
      "dtypes: datetime64[ns](2), int64(2), object(1)\n",
      "memory usage: 9.3+ MB\n"
     ]
    }
   ],
   "source": [
    "data.info()"
   ]
  },
  {
   "cell_type": "code",
   "execution_count": 19,
   "metadata": {},
   "outputs": [
    {
     "data": {
      "text/plain": [
       "241298"
      ]
     },
     "execution_count": 19,
     "metadata": {},
     "output_type": "execute_result"
    }
   ],
   "source": [
    "data_actual = (data.loc[data['date'] >= '2019-08-01']).reset_index()\n",
    "len(data_actual)"
   ]
  },
  {
   "cell_type": "code",
   "execution_count": 20,
   "metadata": {},
   "outputs": [
    {
     "name": "stdout",
     "output_type": "stream",
     "text": [
      "Количество отброшенных данных составляет 1.16 %\n"
     ]
    }
   ],
   "source": [
    "print('Количество отброшенных данных составляет', round((1 - len(data_actual)/len(data))*100, 2), '%')"
   ]
  },
  {
   "cell_type": "markdown",
   "metadata": {},
   "source": [
    "Так как количество отброшенных данных меньше 5%, то это не повлияет на дальнейшие результаты исследования"
   ]
  },
  {
   "cell_type": "markdown",
   "metadata": {},
   "source": [
    "- Рассчистаем количество \"отброшенных\" пользователей"
   ]
  },
  {
   "cell_type": "code",
   "execution_count": 21,
   "metadata": {},
   "outputs": [
    {
     "name": "stdout",
     "output_type": "stream",
     "text": [
      "Количество \"отброшенных\" пользователей равно 17\n"
     ]
    }
   ],
   "source": [
    "print('Количество \"отброшенных\" пользователей равно', data['device_id_hash'].nunique() - data_actual['device_id_hash'].nunique())"
   ]
  },
  {
   "cell_type": "markdown",
   "metadata": {},
   "source": [
    "- Проверим, что есть пользователи из всех трёх экспериментальных групп."
   ]
  },
  {
   "cell_type": "code",
   "execution_count": 22,
   "metadata": {},
   "outputs": [
    {
     "data": {
      "text/plain": [
       "exp_id\n",
       "246    79425\n",
       "247    77147\n",
       "248    84726\n",
       "Name: index, dtype: int64"
      ]
     },
     "execution_count": 22,
     "metadata": {},
     "output_type": "execute_result"
    }
   ],
   "source": [
    "exp_id_grouped = data_actual.groupby('exp_id').count()\n",
    "exp_id_grouped['index']"
   ]
  },
  {
   "cell_type": "code",
   "execution_count": 23,
   "metadata": {},
   "outputs": [
    {
     "data": {
      "text/html": [
       "<div>\n",
       "<style scoped>\n",
       "    .dataframe tbody tr th:only-of-type {\n",
       "        vertical-align: middle;\n",
       "    }\n",
       "\n",
       "    .dataframe tbody tr th {\n",
       "        vertical-align: top;\n",
       "    }\n",
       "\n",
       "    .dataframe thead th {\n",
       "        text-align: right;\n",
       "    }\n",
       "</style>\n",
       "<table border=\"1\" class=\"dataframe\">\n",
       "  <thead>\n",
       "    <tr style=\"text-align: right;\">\n",
       "      <th></th>\n",
       "      <th>exp_id</th>\n",
       "      <th>device_id_hash</th>\n",
       "    </tr>\n",
       "  </thead>\n",
       "  <tbody>\n",
       "    <tr>\n",
       "      <th>0</th>\n",
       "      <td>246</td>\n",
       "      <td>80304</td>\n",
       "    </tr>\n",
       "    <tr>\n",
       "      <th>1</th>\n",
       "      <td>247</td>\n",
       "      <td>78075</td>\n",
       "    </tr>\n",
       "    <tr>\n",
       "      <th>2</th>\n",
       "      <td>248</td>\n",
       "      <td>85747</td>\n",
       "    </tr>\n",
       "  </tbody>\n",
       "</table>\n",
       "</div>"
      ],
      "text/plain": [
       "   exp_id  device_id_hash\n",
       "0     246           80304\n",
       "1     247           78075\n",
       "2     248           85747"
      ]
     },
     "execution_count": 23,
     "metadata": {},
     "output_type": "execute_result"
    }
   ],
   "source": [
    "exp_id_grouped = (data.groupby('exp_id').agg({'device_id_hash':'count'}).reset_index())\n",
    "exp_id_grouped"
   ]
  },
  {
   "cell_type": "markdown",
   "metadata": {},
   "source": [
    "В данных есть данные по всем трем экспереминтальным группам."
   ]
  },
  {
   "cell_type": "markdown",
   "metadata": {},
   "source": [
    "**Вывод**\n",
    "\n",
    "Изначально в логе было 244126 событий и 7551 пользователей. В среднем на каждого пользователя приходится 20 событий (медиана).\n",
    "По гистограмме определили, что полные данные есть с 1 августа и все предыдущие события удалили. Это составило 1,16% и 17 пользователей мы \"потеряли\".\n",
    "В данных представлены все три экспереминтальные группы."
   ]
  },
  {
   "cell_type": "markdown",
   "metadata": {},
   "source": [
    "### Воронка событий"
   ]
  },
  {
   "cell_type": "markdown",
   "metadata": {},
   "source": [
    "- Посмотрим, какие события есть в логах, как часто они встречаются. Отсортируйте события по частоте."
   ]
  },
  {
   "cell_type": "code",
   "execution_count": 24,
   "metadata": {},
   "outputs": [
    {
     "data": {
      "text/html": [
       "<div>\n",
       "<style scoped>\n",
       "    .dataframe tbody tr th:only-of-type {\n",
       "        vertical-align: middle;\n",
       "    }\n",
       "\n",
       "    .dataframe tbody tr th {\n",
       "        vertical-align: top;\n",
       "    }\n",
       "\n",
       "    .dataframe thead th {\n",
       "        text-align: right;\n",
       "    }\n",
       "</style>\n",
       "<table border=\"1\" class=\"dataframe\">\n",
       "  <thead>\n",
       "    <tr style=\"text-align: right;\">\n",
       "      <th></th>\n",
       "      <th>event_name</th>\n",
       "      <th>event_cnt</th>\n",
       "    </tr>\n",
       "  </thead>\n",
       "  <tbody>\n",
       "    <tr>\n",
       "      <th>1</th>\n",
       "      <td>MainScreenAppear</td>\n",
       "      <td>117431</td>\n",
       "    </tr>\n",
       "    <tr>\n",
       "      <th>2</th>\n",
       "      <td>OffersScreenAppear</td>\n",
       "      <td>46350</td>\n",
       "    </tr>\n",
       "    <tr>\n",
       "      <th>0</th>\n",
       "      <td>CartScreenAppear</td>\n",
       "      <td>42365</td>\n",
       "    </tr>\n",
       "    <tr>\n",
       "      <th>3</th>\n",
       "      <td>PaymentScreenSuccessful</td>\n",
       "      <td>34113</td>\n",
       "    </tr>\n",
       "    <tr>\n",
       "      <th>4</th>\n",
       "      <td>Tutorial</td>\n",
       "      <td>1039</td>\n",
       "    </tr>\n",
       "  </tbody>\n",
       "</table>\n",
       "</div>"
      ],
      "text/plain": [
       "                event_name  event_cnt\n",
       "1         MainScreenAppear     117431\n",
       "2       OffersScreenAppear      46350\n",
       "0         CartScreenAppear      42365\n",
       "3  PaymentScreenSuccessful      34113\n",
       "4                 Tutorial       1039"
      ]
     },
     "execution_count": 24,
     "metadata": {},
     "output_type": "execute_result"
    }
   ],
   "source": [
    "events_groupted = (data_actual.groupby('event_name')\n",
    "                    .agg({'index':'count'}).reset_index()\n",
    "                    .sort_values(by='index', ascending=False)\n",
    "                  )\n",
    "events_groupted = events_groupted.rename(\n",
    "    columns = {'event_name': 'event_name',\n",
    "           'index': 'event_cnt'\n",
    "          }\n",
    ")\n",
    "events_groupted"
   ]
  },
  {
   "cell_type": "markdown",
   "metadata": {},
   "source": [
    "Наиболее частое событием было \"отображение главной страницы\", а наиболее редкое \"обращение к справке\". События в порядке убывания их частоты:\n",
    " - отображение главной страницы\n",
    " - отображение экрана предложения\n",
    " - отображение карточки товара\n",
    " - экран успешной оплаты\n",
    " - обращение к справке"
   ]
  },
  {
   "cell_type": "markdown",
   "metadata": {},
   "source": [
    "- Посчитаем, сколько пользователей совершали каждое из этих событий. Отсортируем события по числу пользователей. Посчитаем долю пользователей, которые хоть раз совершали событие."
   ]
  },
  {
   "cell_type": "code",
   "execution_count": 25,
   "metadata": {},
   "outputs": [
    {
     "data": {
      "text/html": [
       "<div>\n",
       "<style scoped>\n",
       "    .dataframe tbody tr th:only-of-type {\n",
       "        vertical-align: middle;\n",
       "    }\n",
       "\n",
       "    .dataframe tbody tr th {\n",
       "        vertical-align: top;\n",
       "    }\n",
       "\n",
       "    .dataframe thead th {\n",
       "        text-align: right;\n",
       "    }\n",
       "</style>\n",
       "<table border=\"1\" class=\"dataframe\">\n",
       "  <thead>\n",
       "    <tr style=\"text-align: right;\">\n",
       "      <th></th>\n",
       "      <th>event_name</th>\n",
       "      <th>event_cnt</th>\n",
       "      <th>user_cnt</th>\n",
       "      <th>share_users,%</th>\n",
       "    </tr>\n",
       "  </thead>\n",
       "  <tbody>\n",
       "    <tr>\n",
       "      <th>0</th>\n",
       "      <td>MainScreenAppear</td>\n",
       "      <td>117431</td>\n",
       "      <td>7419</td>\n",
       "      <td>98.47</td>\n",
       "    </tr>\n",
       "    <tr>\n",
       "      <th>1</th>\n",
       "      <td>OffersScreenAppear</td>\n",
       "      <td>46350</td>\n",
       "      <td>4593</td>\n",
       "      <td>60.96</td>\n",
       "    </tr>\n",
       "    <tr>\n",
       "      <th>2</th>\n",
       "      <td>CartScreenAppear</td>\n",
       "      <td>42365</td>\n",
       "      <td>3734</td>\n",
       "      <td>49.56</td>\n",
       "    </tr>\n",
       "    <tr>\n",
       "      <th>3</th>\n",
       "      <td>PaymentScreenSuccessful</td>\n",
       "      <td>34113</td>\n",
       "      <td>3539</td>\n",
       "      <td>46.97</td>\n",
       "    </tr>\n",
       "    <tr>\n",
       "      <th>4</th>\n",
       "      <td>Tutorial</td>\n",
       "      <td>1039</td>\n",
       "      <td>840</td>\n",
       "      <td>11.15</td>\n",
       "    </tr>\n",
       "  </tbody>\n",
       "</table>\n",
       "</div>"
      ],
      "text/plain": [
       "                event_name  event_cnt  user_cnt  share_users,%\n",
       "0         MainScreenAppear     117431      7419          98.47\n",
       "1       OffersScreenAppear      46350      4593          60.96\n",
       "2         CartScreenAppear      42365      3734          49.56\n",
       "3  PaymentScreenSuccessful      34113      3539          46.97\n",
       "4                 Tutorial       1039       840          11.15"
      ]
     },
     "execution_count": 25,
     "metadata": {},
     "output_type": "execute_result"
    }
   ],
   "source": [
    "device_id_hash_cnt = (data_actual.groupby(['event_name'])\n",
    "                 .agg({'device_id_hash': 'nunique'}).reset_index()\n",
    "                )\n",
    "events_groupted = events_groupted.merge(device_id_hash_cnt, on='event_name')\n",
    "events_groupted['share_users,%'] = round(events_groupted['device_id_hash']/(data_actual['device_id_hash'].nunique()) * 100, 2)\n",
    "events_groupted = events_groupted.rename(\n",
    "    columns = {'device_id_hash': 'user_cnt'\n",
    "          }\n",
    ")\n",
    "events_groupted"
   ]
  },
  {
   "cell_type": "markdown",
   "metadata": {},
   "source": [
    "Наибольшее количество пользователей совершили событие \"отображение главной страницы\" и доля пользователей хотя бы раз совершивших это событие составляет почти 98.5%."
   ]
  },
  {
   "cell_type": "markdown",
   "metadata": {},
   "source": [
    "- Предположим, в каком порядке происходят события. Все ли они выстраиваются в последовательную цепочку? Их не нужно учитывать при расчёте воронки."
   ]
  },
  {
   "cell_type": "markdown",
   "metadata": {},
   "source": [
    "- отображение главной страницы - первое событие\n",
    "- отображение экрана предложения - второе событие\n",
    "- отображение карточки товара - третье событие\n",
    "- экран успешной оплаты - последние событие\n",
    "- обращение к справке - не каждый пользователь обращается к справке и сделать это может на любом этапе, поэтому конверсию для данного события не считаем"
   ]
  },
  {
   "cell_type": "markdown",
   "metadata": {},
   "source": [
    "- Рассчитаем какая доля пользователей проходит на следующий шаг воронки."
   ]
  },
  {
   "cell_type": "code",
   "execution_count": 26,
   "metadata": {},
   "outputs": [
    {
     "data": {
      "text/html": [
       "<div>\n",
       "<style scoped>\n",
       "    .dataframe tbody tr th:only-of-type {\n",
       "        vertical-align: middle;\n",
       "    }\n",
       "\n",
       "    .dataframe tbody tr th {\n",
       "        vertical-align: top;\n",
       "    }\n",
       "\n",
       "    .dataframe thead th {\n",
       "        text-align: right;\n",
       "    }\n",
       "</style>\n",
       "<table border=\"1\" class=\"dataframe\">\n",
       "  <thead>\n",
       "    <tr style=\"text-align: right;\">\n",
       "      <th></th>\n",
       "      <th>event_name</th>\n",
       "      <th>event_cnt</th>\n",
       "      <th>user_cnt</th>\n",
       "      <th>share_users,%</th>\n",
       "      <th>conversion,%</th>\n",
       "    </tr>\n",
       "  </thead>\n",
       "  <tbody>\n",
       "    <tr>\n",
       "      <th>0</th>\n",
       "      <td>MainScreenAppear</td>\n",
       "      <td>117431</td>\n",
       "      <td>7419</td>\n",
       "      <td>98.47</td>\n",
       "      <td>NaN</td>\n",
       "    </tr>\n",
       "    <tr>\n",
       "      <th>1</th>\n",
       "      <td>OffersScreenAppear</td>\n",
       "      <td>46350</td>\n",
       "      <td>4593</td>\n",
       "      <td>60.96</td>\n",
       "      <td>61.91</td>\n",
       "    </tr>\n",
       "    <tr>\n",
       "      <th>2</th>\n",
       "      <td>CartScreenAppear</td>\n",
       "      <td>42365</td>\n",
       "      <td>3734</td>\n",
       "      <td>49.56</td>\n",
       "      <td>81.30</td>\n",
       "    </tr>\n",
       "    <tr>\n",
       "      <th>3</th>\n",
       "      <td>PaymentScreenSuccessful</td>\n",
       "      <td>34113</td>\n",
       "      <td>3539</td>\n",
       "      <td>46.97</td>\n",
       "      <td>94.78</td>\n",
       "    </tr>\n",
       "  </tbody>\n",
       "</table>\n",
       "</div>"
      ],
      "text/plain": [
       "                event_name  event_cnt  user_cnt  share_users,%  conversion,%\n",
       "0         MainScreenAppear     117431      7419          98.47           NaN\n",
       "1       OffersScreenAppear      46350      4593          60.96         61.91\n",
       "2         CartScreenAppear      42365      3734          49.56         81.30\n",
       "3  PaymentScreenSuccessful      34113      3539          46.97         94.78"
      ]
     },
     "execution_count": 26,
     "metadata": {},
     "output_type": "execute_result"
    }
   ],
   "source": [
    "events_groupted['conversion,%'] = round((events_groupted['user_cnt'].pct_change()+1)*100, 2)\n",
    "\n",
    "# Оставим в таблице значения, которые выстраиваются в последовательную цепочку\n",
    "# и которые необходимо учитывать при расчете воронки\n",
    "conversion_table = events_groupted.loc[0:3]\n",
    "conversion_table"
   ]
  },
  {
   "cell_type": "code",
   "execution_count": 27,
   "metadata": {},
   "outputs": [
    {
     "name": "stdout",
     "output_type": "stream",
     "text": [
      "Доля пользователей, которая доходит от первого события до оплаты - 47.7 %\n"
     ]
    }
   ],
   "source": [
    "total_conversion = round(conversion_table.loc[3, 'user_cnt']/conversion_table.loc[0, 'user_cnt']*100, 2)\n",
    "print('Доля пользователей, которая доходит от первого события до оплаты -', total_conversion,'%')"
   ]
  },
  {
   "cell_type": "markdown",
   "metadata": {},
   "source": [
    "**Вывод**\n",
    "\n",
    "Обращение к справке не входит в последовательность событий, так как может возникнуть на любом этапе или совсем не использоваться при совершении покупки.\n",
    "Поэтому этот шаг не будет учитываться при расчете воронки.\n",
    "Максимальное количество пользователей - 98.47% совершают первый шаг воронки \"отображение главной страницы\".\n",
    "Больше всего пользователей отсеивается на втором шаге \"отображение экрана предложения\", конверсия по сравнению с первым шагом составляет 61.91%. Тереятся почти 38% пользователей.\n",
    "Доля пользователей, которая доходит от первого события до оплаты составляет 47.7 %"
   ]
  },
  {
   "cell_type": "markdown",
   "metadata": {},
   "source": [
    "### Изучим результаты эксперимента"
   ]
  },
  {
   "cell_type": "markdown",
   "metadata": {},
   "source": [
    "- Составим таблицу с общим количество пользователей по группам. "
   ]
  },
  {
   "cell_type": "code",
   "execution_count": 28,
   "metadata": {},
   "outputs": [
    {
     "data": {
      "text/html": [
       "<div>\n",
       "<style scoped>\n",
       "    .dataframe tbody tr th:only-of-type {\n",
       "        vertical-align: middle;\n",
       "    }\n",
       "\n",
       "    .dataframe tbody tr th {\n",
       "        vertical-align: top;\n",
       "    }\n",
       "\n",
       "    .dataframe thead th {\n",
       "        text-align: right;\n",
       "    }\n",
       "</style>\n",
       "<table border=\"1\" class=\"dataframe\">\n",
       "  <thead>\n",
       "    <tr style=\"text-align: right;\">\n",
       "      <th></th>\n",
       "      <th>device_id_hash</th>\n",
       "    </tr>\n",
       "    <tr>\n",
       "      <th>exp_id</th>\n",
       "      <th></th>\n",
       "    </tr>\n",
       "  </thead>\n",
       "  <tbody>\n",
       "    <tr>\n",
       "      <th>246</th>\n",
       "      <td>2484</td>\n",
       "    </tr>\n",
       "    <tr>\n",
       "      <th>247</th>\n",
       "      <td>2513</td>\n",
       "    </tr>\n",
       "    <tr>\n",
       "      <th>248</th>\n",
       "      <td>2537</td>\n",
       "    </tr>\n",
       "  </tbody>\n",
       "</table>\n",
       "</div>"
      ],
      "text/plain": [
       "        device_id_hash\n",
       "exp_id                \n",
       "246               2484\n",
       "247               2513\n",
       "248               2537"
      ]
     },
     "execution_count": 28,
     "metadata": {},
     "output_type": "execute_result"
    }
   ],
   "source": [
    "group_data = data_actual.pivot_table(index='exp_id',values='device_id_hash',aggfunc='nunique')\n",
    "group_data"
   ]
  },
  {
   "cell_type": "markdown",
   "metadata": {},
   "source": [
    "Общее количество пользователей по группам распределилось следущим образом:\n",
    "- 246 группа - 2484 пользователя\n",
    "- 247 группа - 2513 пользователя\n",
    "- 248 группа - 2537 пользователя"
   ]
  },
  {
   "cell_type": "code",
   "execution_count": 29,
   "metadata": {},
   "outputs": [
    {
     "data": {
      "text/html": [
       "<div>\n",
       "<style scoped>\n",
       "    .dataframe tbody tr th:only-of-type {\n",
       "        vertical-align: middle;\n",
       "    }\n",
       "\n",
       "    .dataframe tbody tr th {\n",
       "        vertical-align: top;\n",
       "    }\n",
       "\n",
       "    .dataframe thead th {\n",
       "        text-align: right;\n",
       "    }\n",
       "</style>\n",
       "<table border=\"1\" class=\"dataframe\">\n",
       "  <thead>\n",
       "    <tr style=\"text-align: right;\">\n",
       "      <th>event_name</th>\n",
       "      <th>exp_id</th>\n",
       "      <th>CartScreenAppear</th>\n",
       "      <th>MainScreenAppear</th>\n",
       "      <th>OffersScreenAppear</th>\n",
       "      <th>PaymentScreenSuccessful</th>\n",
       "      <th>total</th>\n",
       "    </tr>\n",
       "  </thead>\n",
       "  <tbody>\n",
       "    <tr>\n",
       "      <th>0</th>\n",
       "      <td>246</td>\n",
       "      <td>1266</td>\n",
       "      <td>2450</td>\n",
       "      <td>1542</td>\n",
       "      <td>1200</td>\n",
       "      <td>2484</td>\n",
       "    </tr>\n",
       "    <tr>\n",
       "      <th>1</th>\n",
       "      <td>247</td>\n",
       "      <td>1238</td>\n",
       "      <td>2476</td>\n",
       "      <td>1520</td>\n",
       "      <td>1158</td>\n",
       "      <td>2513</td>\n",
       "    </tr>\n",
       "    <tr>\n",
       "      <th>2</th>\n",
       "      <td>248</td>\n",
       "      <td>1230</td>\n",
       "      <td>2493</td>\n",
       "      <td>1531</td>\n",
       "      <td>1181</td>\n",
       "      <td>2537</td>\n",
       "    </tr>\n",
       "  </tbody>\n",
       "</table>\n",
       "</div>"
      ],
      "text/plain": [
       "event_name  exp_id  CartScreenAppear  MainScreenAppear  OffersScreenAppear  \\\n",
       "0              246              1266              2450                1542   \n",
       "1              247              1238              2476                1520   \n",
       "2              248              1230              2493                1531   \n",
       "\n",
       "event_name  PaymentScreenSuccessful  total  \n",
       "0                              1200   2484  \n",
       "1                              1158   2513  \n",
       "2                              1181   2537  "
      ]
     },
     "execution_count": 29,
     "metadata": {},
     "output_type": "execute_result"
    }
   ],
   "source": [
    "grouped_funnel = data_actual.pivot_table(index='exp_id', columns ='event_name', values='device_id_hash',aggfunc='nunique').reset_index()\n",
    "grouped_funnel = grouped_funnel[['exp_id', 'CartScreenAppear', 'MainScreenAppear', 'OffersScreenAppear', 'PaymentScreenSuccessful']]\n",
    "grouped_funnel['total'] = [group_data['device_id_hash'][246], group_data['device_id_hash'][247], group_data['device_id_hash'][248]]\n",
    "grouped_funnel"
   ]
  },
  {
   "cell_type": "markdown",
   "metadata": {},
   "source": [
    "- A/A - тест. Проверим, находят ли статистические критерии разницу между выборками 246 и 247.\n",
    "\n",
    "1) Нулевая гипотеза - нет различий между выборками 246 и 247.\n",
    "\n",
    "2) Альтернативная гипотеза - есть различия между выборками 246 и 247."
   ]
  },
  {
   "cell_type": "code",
   "execution_count": 30,
   "metadata": {},
   "outputs": [
    {
     "name": "stdout",
     "output_type": "stream",
     "text": [
      "p-значение:  0.11456679313141849\n",
      "Не получилось отвергнуть нулевую гипотезу, нет оснований считать доли разными\n"
     ]
    }
   ],
   "source": [
    "alpha = 0.05 # критический уровень статистической значимости\n",
    "\n",
    "successes = np.array([grouped_funnel.loc[0, 'PaymentScreenSuccessful'], grouped_funnel.loc[1, 'PaymentScreenSuccessful']])\n",
    "trials = np.array([grouped_funnel.loc[0, 'total'], grouped_funnel.loc[1, 'total']])\n",
    "\n",
    "# пропорция успехов в первой группе:\n",
    "p1 = successes[0]/trials[0]\n",
    "\n",
    "# пропорция успехов во второй группе:\n",
    "p2 = successes[1]/trials[1]\n",
    "\n",
    "# пропорция успехов в комбинированном датасете:\n",
    "p_combined = (successes[0] + successes[1]) / (trials[0] + trials[1])\n",
    "\n",
    "# разница пропорций в датасетах\n",
    "difference = p1 - p2\n",
    "\n",
    "# считаем статистику в ст.отклонениях стандартного нормального распределения\n",
    "z_value = difference / mth.sqrt(p_combined * (1 - p_combined) * (1/trials[0] + 1/trials[1]))\n",
    "\n",
    "# задаем стандартное нормальное распределение (среднее 0, ст.отклонение 1)\n",
    "distr = st.norm(0, 1)\n",
    "p_value = (1 - distr.cdf(abs(z_value))) * 2\n",
    "\n",
    "print('p-значение: ', p_value)\n",
    "\n",
    "if p_value < alpha:\n",
    "    print('Отвергаем нулевую гипотезу: между долями есть значимая разница')\n",
    "else:\n",
    "    print(\n",
    "        'Не получилось отвергнуть нулевую гипотезу, нет оснований считать доли разными'\n",
    "    ) "
   ]
  },
  {
   "cell_type": "markdown",
   "metadata": {},
   "source": [
    "**Вывод**\n",
    "Так как не получилось отвергнуть нулевую гипотезу, что между выборками 246 и 247 нет различий, то считаем A/A тест успешным. Он подтвердил отсутствие статистических критериев разницы между выборками 246 и 247."
   ]
  },
  {
   "cell_type": "markdown",
   "metadata": {},
   "source": [
    "- Напишем функцию для проверки гипотез - z_test и функцию автоматической проверки гипотез - auto_test"
   ]
  },
  {
   "cell_type": "code",
   "execution_count": 31,
   "metadata": {},
   "outputs": [],
   "source": [
    "def z_test (success, trials, alpha):\n",
    "    # пропорция успехов в первой группе:\n",
    "    p1 = success[0] / trials[0]\n",
    "    # пропорция успехов во второй группе:\n",
    "    p2 = success[1] / trials[1]\n",
    "    # пропорция успехов в комбинированном датасете:\n",
    "    p_combined = (success[0] + success[1]) / (trials[0] + trials[1])\n",
    "    # разница пропорций в датасетах\n",
    "    difference = p1 - p2\n",
    " \n",
    "    z_value = difference / mth.sqrt(p_combined *(1-p_combined) * (1/trials[0] + 1/trials[1]))\n",
    "    \n",
    "    distr = st.norm(0, 1) \n",
    "    \n",
    "    p_value = (1 - distr.cdf(abs(z_value))) * 2\n",
    "    \n",
    "    print('p-значение: ', \"{0:.3f}\".format(p_value))\n",
    "\n",
    "    if (p_value < alpha):\n",
    "        print('Отвергаем нулевую гипотезу: между долями есть значимая разница')\n",
    "    else:\n",
    "        print('Не получилось отвергнуть нулевую гипотезу, нет оснований считать доли разными')"
   ]
  },
  {
   "cell_type": "code",
   "execution_count": 32,
   "metadata": {},
   "outputs": [],
   "source": [
    "# Функция на вход получает порядковый номер группы в таблице и параметр альфа, и возвращает результаты проверки гипотез\n",
    "def auto_test (gr1, gr2, alpha):\n",
    "    alpha_test = alpha\n",
    "    cnt_users = ([grouped_funnel['total'][gr1], grouped_funnel['total'][gr2]])\n",
    "    cnt_MainScreenAppear = ([grouped_funnel['MainScreenAppear'][gr1], grouped_funnel['MainScreenAppear'][gr2]])\n",
    "    cnt_OffersScreenAppear = ([grouped_funnel['OffersScreenAppear'][gr1], grouped_funnel['OffersScreenAppear'][gr2]])\n",
    "    cnt_CartScreenAppear = ([grouped_funnel['CartScreenAppear'][gr1], grouped_funnel['CartScreenAppear'][gr2]])\n",
    "    cnt_PaymentScreenSuccessful = ([grouped_funnel['PaymentScreenSuccessful'][gr1], grouped_funnel['PaymentScreenSuccessful'][gr2]])\n",
    "    \n",
    "    print('Результаты теста по долям общего числа пользователей и пользователей, открывших главную страницу')\n",
    "    z_test(cnt_MainScreenAppear, cnt_users, alpha_test)\n",
    "    \n",
    "    print('Результаты теста по долям общего числа пользователей и пользователей, открывших страницу предложения')\n",
    "    z_test(cnt_OffersScreenAppear, cnt_users, alpha_test)\n",
    "    \n",
    "    print('Результаты теста по долям общего числа пользователей и пользователей, открывших карточку товара')\n",
    "    z_test(cnt_CartScreenAppear, cnt_users, alpha_test)\n",
    "    \n",
    "    print('Результаты теста по долям общего числа пользователей и пользователей, открывших экран успешной оплаты')\n",
    "    z_test(cnt_PaymentScreenSuccessful, cnt_users, alpha_test)"
   ]
  },
  {
   "cell_type": "markdown",
   "metadata": {},
   "source": [
    "- Сделаем проверку контрольных групп А/A\n",
    "\n",
    "1) Нулевая гипотеза - нет различий между выборками 246 и 247.\n",
    "\n",
    "2) Альтернативная гипотеза - есть различия между выборками 246 и 247."
   ]
  },
  {
   "cell_type": "code",
   "execution_count": 33,
   "metadata": {},
   "outputs": [
    {
     "name": "stdout",
     "output_type": "stream",
     "text": [
      "Результаты теста по долям общего числа пользователей и пользователей, открывших главную страницу\n",
      "p-значение:  0.757\n",
      "Не получилось отвергнуть нулевую гипотезу, нет оснований считать доли разными\n",
      "Результаты теста по долям общего числа пользователей и пользователей, открывших страницу предложения\n",
      "p-значение:  0.248\n",
      "Не получилось отвергнуть нулевую гипотезу, нет оснований считать доли разными\n",
      "Результаты теста по долям общего числа пользователей и пользователей, открывших карточку товара\n",
      "p-значение:  0.229\n",
      "Не получилось отвергнуть нулевую гипотезу, нет оснований считать доли разными\n",
      "Результаты теста по долям общего числа пользователей и пользователей, открывших экран успешной оплаты\n",
      "p-значение:  0.115\n",
      "Не получилось отвергнуть нулевую гипотезу, нет оснований считать доли разными\n"
     ]
    }
   ],
   "source": [
    "auto_test (0, 1, 0.05)"
   ]
  },
  {
   "cell_type": "markdown",
   "metadata": {},
   "source": [
    "**Вывод**\n",
    "По результатам A/A теста всех этапов воронки нет оснований считать, что выборка 246 и 247 статистически значимо отличаются.\n",
    "Соответственно, можем сказать, что разбиение на группы работает корректно.\n",
    "\n",
    "Самым популярным событием стало \"отображение главной страницы\"."
   ]
  },
  {
   "cell_type": "markdown",
   "metadata": {},
   "source": [
    "- Сравним результаты группы с изменненным шрифтом с каждой из контрольных групп в отдельности по каждому событию."
   ]
  },
  {
   "cell_type": "markdown",
   "metadata": {},
   "source": [
    "Сравнение группы 246 и 248:\n",
    "\n",
    "1) Нулевая гипотеза - нет различий между выборками 246 и 248;\n",
    "\n",
    "2) Альтернативная гипотеза - есть различия между выборками 246 и 248."
   ]
  },
  {
   "cell_type": "code",
   "execution_count": 34,
   "metadata": {},
   "outputs": [
    {
     "name": "stdout",
     "output_type": "stream",
     "text": [
      "Результаты теста по долям общего числа пользователей и пользователей, открывших главную страницу\n",
      "p-значение:  0.295\n",
      "Не получилось отвергнуть нулевую гипотезу, нет оснований считать доли разными\n",
      "Результаты теста по долям общего числа пользователей и пользователей, открывших страницу предложения\n",
      "p-значение:  0.208\n",
      "Не получилось отвергнуть нулевую гипотезу, нет оснований считать доли разными\n",
      "Результаты теста по долям общего числа пользователей и пользователей, открывших карточку товара\n",
      "p-значение:  0.078\n",
      "Не получилось отвергнуть нулевую гипотезу, нет оснований считать доли разными\n",
      "Результаты теста по долям общего числа пользователей и пользователей, открывших экран успешной оплаты\n",
      "p-значение:  0.212\n",
      "Не получилось отвергнуть нулевую гипотезу, нет оснований считать доли разными\n"
     ]
    }
   ],
   "source": [
    "auto_test (0, 2, 0.05)"
   ]
  },
  {
   "cell_type": "markdown",
   "metadata": {},
   "source": [
    "Сравнение группы 247 и 248:\n",
    "\n",
    "1) Нулевая гипотеза - нет различий между выборками 247 и 248.\n",
    "\n",
    "2) Альтернативная гипотеза - есть различия между выборками 247 и 248."
   ]
  },
  {
   "cell_type": "code",
   "execution_count": 35,
   "metadata": {},
   "outputs": [
    {
     "name": "stdout",
     "output_type": "stream",
     "text": [
      "Результаты теста по долям общего числа пользователей и пользователей, открывших главную страницу\n",
      "p-значение:  0.459\n",
      "Не получилось отвергнуть нулевую гипотезу, нет оснований считать доли разными\n",
      "Результаты теста по долям общего числа пользователей и пользователей, открывших страницу предложения\n",
      "p-значение:  0.920\n",
      "Не получилось отвергнуть нулевую гипотезу, нет оснований считать доли разными\n",
      "Результаты теста по долям общего числа пользователей и пользователей, открывших карточку товара\n",
      "p-значение:  0.579\n",
      "Не получилось отвергнуть нулевую гипотезу, нет оснований считать доли разными\n",
      "Результаты теста по долям общего числа пользователей и пользователей, открывших экран успешной оплаты\n",
      "p-значение:  0.737\n",
      "Не получилось отвергнуть нулевую гипотезу, нет оснований считать доли разными\n"
     ]
    }
   ],
   "source": [
    "auto_test (1, 2, 0.05)"
   ]
  },
  {
   "cell_type": "markdown",
   "metadata": {},
   "source": [
    "- Соединим две контрольные группы в общую группу"
   ]
  },
  {
   "cell_type": "code",
   "execution_count": 36,
   "metadata": {},
   "outputs": [
    {
     "data": {
      "text/html": [
       "<div>\n",
       "<style scoped>\n",
       "    .dataframe tbody tr th:only-of-type {\n",
       "        vertical-align: middle;\n",
       "    }\n",
       "\n",
       "    .dataframe tbody tr th {\n",
       "        vertical-align: top;\n",
       "    }\n",
       "\n",
       "    .dataframe thead th {\n",
       "        text-align: right;\n",
       "    }\n",
       "</style>\n",
       "<table border=\"1\" class=\"dataframe\">\n",
       "  <thead>\n",
       "    <tr style=\"text-align: right;\">\n",
       "      <th>event_name</th>\n",
       "      <th>exp_id</th>\n",
       "      <th>CartScreenAppear</th>\n",
       "      <th>MainScreenAppear</th>\n",
       "      <th>OffersScreenAppear</th>\n",
       "      <th>PaymentScreenSuccessful</th>\n",
       "      <th>total</th>\n",
       "    </tr>\n",
       "  </thead>\n",
       "  <tbody>\n",
       "    <tr>\n",
       "      <th>0</th>\n",
       "      <td>246</td>\n",
       "      <td>1266</td>\n",
       "      <td>2450</td>\n",
       "      <td>1542</td>\n",
       "      <td>1200</td>\n",
       "      <td>2484</td>\n",
       "    </tr>\n",
       "    <tr>\n",
       "      <th>1</th>\n",
       "      <td>247</td>\n",
       "      <td>1238</td>\n",
       "      <td>2476</td>\n",
       "      <td>1520</td>\n",
       "      <td>1158</td>\n",
       "      <td>2513</td>\n",
       "    </tr>\n",
       "    <tr>\n",
       "      <th>2</th>\n",
       "      <td>248</td>\n",
       "      <td>1230</td>\n",
       "      <td>2493</td>\n",
       "      <td>1531</td>\n",
       "      <td>1181</td>\n",
       "      <td>2537</td>\n",
       "    </tr>\n",
       "    <tr>\n",
       "      <th>3</th>\n",
       "      <td>249</td>\n",
       "      <td>2504</td>\n",
       "      <td>4926</td>\n",
       "      <td>3062</td>\n",
       "      <td>2358</td>\n",
       "      <td>4997</td>\n",
       "    </tr>\n",
       "  </tbody>\n",
       "</table>\n",
       "</div>"
      ],
      "text/plain": [
       "event_name  exp_id  CartScreenAppear  MainScreenAppear  OffersScreenAppear  \\\n",
       "0              246              1266              2450                1542   \n",
       "1              247              1238              2476                1520   \n",
       "2              248              1230              2493                1531   \n",
       "3              249              2504              4926                3062   \n",
       "\n",
       "event_name  PaymentScreenSuccessful  total  \n",
       "0                              1200   2484  \n",
       "1                              1158   2513  \n",
       "2                              1181   2537  \n",
       "3                              2358   4997  "
      ]
     },
     "execution_count": 36,
     "metadata": {},
     "output_type": "execute_result"
    }
   ],
   "source": [
    "grouped_funnel.loc[3] = [249, grouped_funnel['CartScreenAppear'][0]+grouped_funnel['CartScreenAppear'][1], grouped_funnel['MainScreenAppear'][0]+grouped_funnel['MainScreenAppear'][1], grouped_funnel['OffersScreenAppear'][0]+grouped_funnel['OffersScreenAppear'][1], grouped_funnel['PaymentScreenSuccessful'][0]+grouped_funnel['PaymentScreenSuccessful'][1], grouped_funnel['total'][0]+grouped_funnel['total'][1]]\n",
    "grouped_funnel"
   ]
  },
  {
   "cell_type": "markdown",
   "metadata": {},
   "source": [
    "Сравнение группы 248 и 250 (объединенные группы 246 и 247):\n",
    "\n",
    "1) Нулевая гипотеза - нет различий между выборками 248 и 250.\n",
    "\n",
    "2) Альтернативная гипотеза - есть различия между выборками 248 и 250."
   ]
  },
  {
   "cell_type": "code",
   "execution_count": 37,
   "metadata": {},
   "outputs": [
    {
     "name": "stdout",
     "output_type": "stream",
     "text": [
      "Результаты теста по долям общего числа пользователей и пользователей, открывших главную страницу\n",
      "p-значение:  0.294\n",
      "Не получилось отвергнуть нулевую гипотезу, нет оснований считать доли разными\n",
      "Результаты теста по долям общего числа пользователей и пользователей, открывших страницу предложения\n",
      "p-значение:  0.434\n",
      "Не получилось отвергнуть нулевую гипотезу, нет оснований считать доли разными\n",
      "Результаты теста по долям общего числа пользователей и пользователей, открывших карточку товара\n",
      "p-значение:  0.182\n",
      "Не получилось отвергнуть нулевую гипотезу, нет оснований считать доли разными\n",
      "Результаты теста по долям общего числа пользователей и пользователей, открывших экран успешной оплаты\n",
      "p-значение:  0.600\n",
      "Не получилось отвергнуть нулевую гипотезу, нет оснований считать доли разными\n"
     ]
    }
   ],
   "source": [
    "auto_test (3, 2, 0.05)"
   ]
  },
  {
   "cell_type": "markdown",
   "metadata": {},
   "source": [
    "**Вывод**\n",
    "- При уровне значимости 0.05 нулевая гипотеза не подтверждается в A/A тесте и в A/B тесте, как для одной(246), так и для второй(247) контрольных групп.\n",
    "- Так же нулевая гипотеза не подтверждается для A/B теста при объединении контрольных групп 246 и 247.\n",
    "- Соответсвенно, нет оснований считать, что группа с измененным шрифтом статистически значимо отличается от любой из трех контрольных групп."
   ]
  },
  {
   "cell_type": "markdown",
   "metadata": {},
   "source": [
    "- При проверке статистических гипотез выбрали уровень значимости равный 0,05.\n",
    "- Считаю, что мы провели 4 проверки статистических гипотез:\n",
    "  - 246 группа / 247 группа\n",
    "  - 246 группа / 248 группа\n",
    "  - 247 группа / 248 группа\n",
    "  - 249 группа / 248 группа\n",
    "- Для уточнения правильности выбранного уровня значимости можно использовать метод Бонферонни. bonferroni_alpha = 0,05/4 = 0.0125 Во всех тестах мы получили p-value больше этого значения, значит ни в одном из тестов не получилось отвергнуть нулевую гипотезу для сравнения групп. Значит наблюдаемые данные не подтверждают наличие различий между группами и нет необходимости менять уровень значимости равный 0,05."
   ]
  },
  {
   "cell_type": "markdown",
   "metadata": {},
   "source": [
    "**Общие выводы**\n",
    "- В датасете находится 244126 строки. Данные качественные без пропущенных значений. Скорректировали названия столбцов.\n",
    "- В первоначальном логе было 244126 событий и 7551 пользователей. В среднем на каждого пользователя приходится 20 событий (медиана).\n",
    "- По результатам проверки выявлены и удалены дубликаты (0,17%). Именен тип данных integer на datetime в столбце с датой 'EventTimestamp'\n",
    "- По гистограмме установлено, что одинаково полные данные у нас есть в промежутке  с 01.08.2019 по 07.08.2019. Более старые данные удалены (1,16%). В результате этого мы также \"потеряли\" 17 пользователей из дальнейших исследований.\n",
    "- Наиболее частое событием было \"отображение главной страницы\", а наиболее редкое \"обращение к справке\". События в порядке убывания их частоты:\n",
    "1) отображение главной страницы - 117431\n",
    "2) отображение экрана предложения - 46350\n",
    "3) отображение карточки товара - 42365\n",
    "4) экран успешной оплаты - 34113\n",
    "5) обращение к справке - 1039\n",
    "- Список событий, которые вошли в воронку:\n",
    "1) отображение главной страницы\n",
    "2) отображение экрана предложения\n",
    "3) отображение карточки товара\n",
    "4) экран успешной оплаты\n",
    "- Обращение к справке не входит в последовательность событий, так как может возникнуть на любом этапе или совсем не использоваться при совершении покупки.\n",
    "- Максимальное количество пользователей - 98.47% совершают первый шаг воронки \"отображение главной страницы\". Больше всего пользователей отсеивается на втором шаге \"отображение экрана предложения\", конверсия по сравнению с первым шагом составляет 61.91%. Тереятся почти 38% пользователей. Доля пользователей, которая доходит от первого события до оплаты составляет 47.7 %\n",
    "- Общее количество пользователей по группам распределилось следущим образом:\n",
    "    - 246 группа - 2484 пользователя\n",
    "    - 247 группа - 2513 пользователя\n",
    "    - 248 группа - 2537 пользователя\n",
    "- В рамках A/A - теста проверяли следующие гипотезы:\n",
    "\n",
    "     1) Нулевая гипотеза - нет различий между выборками 246 и 247\n",
    "     \n",
    "     2) Альтернативная гипотеза - есть различия между выборками 246 и 247\n",
    "     \n",
    "По результатам A/A теста всех этапов воронки нет оснований считать, что выборка 246 и 247 статистически значимо отличаются. Соответственно, можем сказать, что разбиение на группы работает корректно.\n",
    "- В рамках проведения A/B тестов по группам 246 с 248, 247 с 248 и общей группы 249 с 248 проверяли следующие гипотезы:\n",
    "\n",
    "     1) Нулевая гипотеза - нет различий между группой до изменений и после изменений шрифта\n",
    "     \n",
    "     2) Альтернативная гипотеза - есть различия между группой до изменений и после изменений шрифта\n",
    "     \n",
    "- При уровне значимости 0.05 нулевая гипотеза не подтверждается. Соответсвенно, нет оснований считать, что группа с измененным шрифтом статистически значимо отличается от любой из трех контрольных групп."
   ]
  }
 ],
 "metadata": {
  "ExecuteTimeLog": [
   {
    "duration": 800,
    "start_time": "2022-11-26T18:33:19.786Z"
   },
   {
    "duration": 69,
    "start_time": "2022-11-26T18:33:21.888Z"
   },
   {
    "duration": 810,
    "start_time": "2022-11-26T18:33:34.426Z"
   },
   {
    "duration": 326,
    "start_time": "2022-11-26T18:33:46.789Z"
   },
   {
    "duration": 81,
    "start_time": "2022-11-26T18:35:38.727Z"
   },
   {
    "duration": 633,
    "start_time": "2022-11-26T18:37:32.755Z"
   },
   {
    "duration": 68,
    "start_time": "2022-11-26T18:37:59.672Z"
   },
   {
    "duration": 86,
    "start_time": "2022-11-26T18:38:33.461Z"
   },
   {
    "duration": 594,
    "start_time": "2022-11-26T18:38:43.929Z"
   },
   {
    "duration": 95,
    "start_time": "2022-11-26T18:39:00.820Z"
   },
   {
    "duration": 66,
    "start_time": "2022-11-26T18:39:18.478Z"
   },
   {
    "duration": 253,
    "start_time": "2022-11-26T18:39:25.304Z"
   },
   {
    "duration": 172,
    "start_time": "2022-11-26T18:39:40.978Z"
   },
   {
    "duration": 21,
    "start_time": "2022-11-26T18:55:14.605Z"
   },
   {
    "duration": 14,
    "start_time": "2022-11-26T19:00:04.626Z"
   },
   {
    "duration": 8,
    "start_time": "2022-11-26T19:09:59.354Z"
   },
   {
    "duration": 90,
    "start_time": "2022-11-26T19:10:09.962Z"
   },
   {
    "duration": 109,
    "start_time": "2022-11-26T19:10:16.895Z"
   },
   {
    "duration": 17,
    "start_time": "2022-11-26T19:11:10.846Z"
   },
   {
    "duration": 84,
    "start_time": "2022-11-26T19:16:48.687Z"
   },
   {
    "duration": 6,
    "start_time": "2022-11-26T19:22:28.675Z"
   },
   {
    "duration": 12,
    "start_time": "2022-11-26T19:22:44.742Z"
   },
   {
    "duration": 87,
    "start_time": "2022-11-26T19:23:21.905Z"
   },
   {
    "duration": 87,
    "start_time": "2022-11-26T19:23:40.683Z"
   },
   {
    "duration": 85,
    "start_time": "2022-11-26T19:24:01.493Z"
   },
   {
    "duration": 80,
    "start_time": "2022-11-26T19:24:10.255Z"
   },
   {
    "duration": 55,
    "start_time": "2022-11-26T19:24:24.342Z"
   },
   {
    "duration": 56,
    "start_time": "2022-11-26T19:24:50.630Z"
   },
   {
    "duration": 618,
    "start_time": "2022-11-26T19:26:01.226Z"
   },
   {
    "duration": 192,
    "start_time": "2022-11-26T19:26:01.846Z"
   },
   {
    "duration": 19,
    "start_time": "2022-11-26T19:26:02.040Z"
   },
   {
    "duration": 75,
    "start_time": "2022-11-26T19:26:02.061Z"
   },
   {
    "duration": 91,
    "start_time": "2022-11-26T19:26:02.139Z"
   },
   {
    "duration": 98,
    "start_time": "2022-11-26T19:26:02.232Z"
   },
   {
    "duration": 79,
    "start_time": "2022-11-26T19:27:32.588Z"
   },
   {
    "duration": 78,
    "start_time": "2022-11-26T19:28:05.177Z"
   },
   {
    "duration": 82,
    "start_time": "2022-11-26T19:29:06.446Z"
   },
   {
    "duration": 80,
    "start_time": "2022-11-26T19:29:22.245Z"
   },
   {
    "duration": 13,
    "start_time": "2022-11-26T19:34:49.438Z"
   },
   {
    "duration": 696,
    "start_time": "2022-11-26T19:35:02.383Z"
   },
   {
    "duration": 163,
    "start_time": "2022-11-26T19:35:03.081Z"
   },
   {
    "duration": 19,
    "start_time": "2022-11-26T19:35:03.246Z"
   },
   {
    "duration": 13,
    "start_time": "2022-11-26T19:35:03.267Z"
   },
   {
    "duration": 85,
    "start_time": "2022-11-26T19:35:03.282Z"
   },
   {
    "duration": 83,
    "start_time": "2022-11-26T19:35:03.369Z"
   },
   {
    "duration": 94,
    "start_time": "2022-11-26T19:35:03.453Z"
   },
   {
    "duration": 719,
    "start_time": "2022-11-26T19:35:03.549Z"
   },
   {
    "duration": 637,
    "start_time": "2022-11-26T19:35:44.238Z"
   },
   {
    "duration": 175,
    "start_time": "2022-11-26T19:35:44.877Z"
   },
   {
    "duration": 22,
    "start_time": "2022-11-26T19:35:45.054Z"
   },
   {
    "duration": 38,
    "start_time": "2022-11-26T19:35:45.078Z"
   },
   {
    "duration": 70,
    "start_time": "2022-11-26T19:35:45.119Z"
   },
   {
    "duration": 73,
    "start_time": "2022-11-26T19:35:45.204Z"
   },
   {
    "duration": 92,
    "start_time": "2022-11-26T19:35:45.279Z"
   },
   {
    "duration": 389,
    "start_time": "2022-11-26T19:35:45.373Z"
   },
   {
    "duration": 60,
    "start_time": "2022-11-26T19:44:38.682Z"
   },
   {
    "duration": 20,
    "start_time": "2022-11-26T19:44:49.519Z"
   },
   {
    "duration": 7,
    "start_time": "2022-11-26T20:16:06.549Z"
   },
   {
    "duration": 20,
    "start_time": "2022-11-26T20:16:26.424Z"
   },
   {
    "duration": 605,
    "start_time": "2022-11-26T20:17:34.436Z"
   },
   {
    "duration": 177,
    "start_time": "2022-11-26T20:17:35.042Z"
   },
   {
    "duration": 18,
    "start_time": "2022-11-26T20:17:35.221Z"
   },
   {
    "duration": 16,
    "start_time": "2022-11-26T20:17:35.240Z"
   },
   {
    "duration": 77,
    "start_time": "2022-11-26T20:17:35.258Z"
   },
   {
    "duration": 92,
    "start_time": "2022-11-26T20:17:35.337Z"
   },
   {
    "duration": 102,
    "start_time": "2022-11-26T20:17:35.430Z"
   },
   {
    "duration": 17,
    "start_time": "2022-11-26T20:17:35.533Z"
   },
   {
    "duration": 23,
    "start_time": "2022-11-26T20:18:59.693Z"
   },
   {
    "duration": 26,
    "start_time": "2022-11-26T20:19:45.577Z"
   },
   {
    "duration": 700,
    "start_time": "2022-11-26T20:20:01.398Z"
   },
   {
    "duration": 204,
    "start_time": "2022-11-26T20:20:02.100Z"
   },
   {
    "duration": 33,
    "start_time": "2022-11-26T20:20:02.308Z"
   },
   {
    "duration": 39,
    "start_time": "2022-11-26T20:20:02.344Z"
   },
   {
    "duration": 106,
    "start_time": "2022-11-26T20:20:02.385Z"
   },
   {
    "duration": 83,
    "start_time": "2022-11-26T20:20:02.493Z"
   },
   {
    "duration": 110,
    "start_time": "2022-11-26T20:20:02.578Z"
   },
   {
    "duration": 32,
    "start_time": "2022-11-26T20:20:02.690Z"
   },
   {
    "duration": 171,
    "start_time": "2022-11-26T20:21:17.603Z"
   },
   {
    "duration": 81,
    "start_time": "2022-11-26T20:21:38.821Z"
   },
   {
    "duration": 98,
    "start_time": "2022-11-26T20:21:46.673Z"
   },
   {
    "duration": 14,
    "start_time": "2022-11-26T20:26:15.199Z"
   },
   {
    "duration": 96,
    "start_time": "2022-11-26T20:26:48.578Z"
   },
   {
    "duration": 37,
    "start_time": "2022-11-26T20:26:54.736Z"
   },
   {
    "duration": 52,
    "start_time": "2022-11-26T20:27:07.812Z"
   },
   {
    "duration": 39,
    "start_time": "2022-11-26T20:30:13.427Z"
   },
   {
    "duration": 40,
    "start_time": "2022-11-26T20:30:20.718Z"
   },
   {
    "duration": 50,
    "start_time": "2022-11-26T20:31:02.178Z"
   },
   {
    "duration": 44,
    "start_time": "2022-11-26T20:31:41.130Z"
   },
   {
    "duration": 601,
    "start_time": "2022-11-26T20:31:49.740Z"
   },
   {
    "duration": 181,
    "start_time": "2022-11-26T20:31:50.343Z"
   },
   {
    "duration": 22,
    "start_time": "2022-11-26T20:31:50.525Z"
   },
   {
    "duration": 14,
    "start_time": "2022-11-26T20:31:50.548Z"
   },
   {
    "duration": 93,
    "start_time": "2022-11-26T20:31:50.564Z"
   },
   {
    "duration": 89,
    "start_time": "2022-11-26T20:31:50.659Z"
   },
   {
    "duration": 104,
    "start_time": "2022-11-26T20:31:50.750Z"
   },
   {
    "duration": 17,
    "start_time": "2022-11-26T20:31:50.856Z"
   },
   {
    "duration": 92,
    "start_time": "2022-11-26T20:31:50.875Z"
   },
   {
    "duration": 142,
    "start_time": "2022-11-26T20:31:50.970Z"
   },
   {
    "duration": 52,
    "start_time": "2022-11-26T20:32:21.350Z"
   },
   {
    "duration": 38,
    "start_time": "2022-11-26T20:32:34.516Z"
   },
   {
    "duration": 43,
    "start_time": "2022-11-26T20:35:18.390Z"
   },
   {
    "duration": 42,
    "start_time": "2022-11-26T20:37:40.126Z"
   },
   {
    "duration": 844,
    "start_time": "2022-11-27T09:29:20.047Z"
   },
   {
    "duration": 810,
    "start_time": "2022-11-27T09:29:20.894Z"
   },
   {
    "duration": 23,
    "start_time": "2022-11-27T09:29:21.705Z"
   },
   {
    "duration": 22,
    "start_time": "2022-11-27T09:29:21.730Z"
   },
   {
    "duration": 73,
    "start_time": "2022-11-27T09:29:21.754Z"
   },
   {
    "duration": 103,
    "start_time": "2022-11-27T09:29:21.838Z"
   },
   {
    "duration": 107,
    "start_time": "2022-11-27T09:29:21.948Z"
   },
   {
    "duration": 18,
    "start_time": "2022-11-27T09:29:22.057Z"
   },
   {
    "duration": 106,
    "start_time": "2022-11-27T09:29:22.078Z"
   },
   {
    "duration": 63,
    "start_time": "2022-11-27T09:29:22.187Z"
   },
   {
    "duration": 4,
    "start_time": "2022-11-27T09:39:41.756Z"
   },
   {
    "duration": 4,
    "start_time": "2022-11-27T09:40:57.555Z"
   },
   {
    "duration": 68,
    "start_time": "2022-11-27T09:41:27.514Z"
   },
   {
    "duration": 7,
    "start_time": "2022-11-27T09:45:39.799Z"
   },
   {
    "duration": 9,
    "start_time": "2022-11-27T09:51:39.500Z"
   },
   {
    "duration": 9,
    "start_time": "2022-11-27T09:51:48.551Z"
   },
   {
    "duration": 12,
    "start_time": "2022-11-27T09:52:53.601Z"
   },
   {
    "duration": 12,
    "start_time": "2022-11-27T09:53:23.391Z"
   },
   {
    "duration": 7,
    "start_time": "2022-11-27T09:53:25.446Z"
   },
   {
    "duration": 631,
    "start_time": "2022-11-27T09:53:59.132Z"
   },
   {
    "duration": 249,
    "start_time": "2022-11-27T09:53:59.765Z"
   },
   {
    "duration": 20,
    "start_time": "2022-11-27T09:54:00.016Z"
   },
   {
    "duration": 14,
    "start_time": "2022-11-27T09:54:00.039Z"
   },
   {
    "duration": 68,
    "start_time": "2022-11-27T09:54:00.055Z"
   },
   {
    "duration": 74,
    "start_time": "2022-11-27T09:54:00.138Z"
   },
   {
    "duration": 108,
    "start_time": "2022-11-27T09:54:00.214Z"
   },
   {
    "duration": 30,
    "start_time": "2022-11-27T09:54:00.323Z"
   },
   {
    "duration": 86,
    "start_time": "2022-11-27T09:54:00.354Z"
   },
   {
    "duration": 46,
    "start_time": "2022-11-27T09:54:00.443Z"
   },
   {
    "duration": 13,
    "start_time": "2022-11-27T09:54:00.490Z"
   },
   {
    "duration": 25,
    "start_time": "2022-11-27T09:54:00.504Z"
   },
   {
    "duration": 45,
    "start_time": "2022-11-27T09:59:17.259Z"
   },
   {
    "duration": 36,
    "start_time": "2022-11-27T10:09:23.908Z"
   },
   {
    "duration": 39,
    "start_time": "2022-11-27T10:09:32.847Z"
   },
   {
    "duration": 75,
    "start_time": "2022-11-27T10:10:05.461Z"
   },
   {
    "duration": 8,
    "start_time": "2022-11-27T10:10:15.724Z"
   },
   {
    "duration": 8,
    "start_time": "2022-11-27T10:11:39.355Z"
   },
   {
    "duration": 5,
    "start_time": "2022-11-27T10:11:50.199Z"
   },
   {
    "duration": 4,
    "start_time": "2022-11-27T10:12:00.342Z"
   },
   {
    "duration": 4,
    "start_time": "2022-11-27T10:12:22.901Z"
   },
   {
    "duration": 4,
    "start_time": "2022-11-27T10:12:56.075Z"
   },
   {
    "duration": 5,
    "start_time": "2022-11-27T10:13:13.498Z"
   },
   {
    "duration": 52,
    "start_time": "2022-11-27T10:14:16.307Z"
   },
   {
    "duration": 17,
    "start_time": "2022-11-27T10:14:46.617Z"
   },
   {
    "duration": 39,
    "start_time": "2022-11-27T10:28:05.602Z"
   },
   {
    "duration": 5,
    "start_time": "2022-11-27T10:34:43.374Z"
   },
   {
    "duration": 132,
    "start_time": "2022-11-27T10:42:52.901Z"
   },
   {
    "duration": 149,
    "start_time": "2022-11-27T10:43:09.267Z"
   },
   {
    "duration": 189,
    "start_time": "2022-11-27T10:43:21.410Z"
   },
   {
    "duration": 153,
    "start_time": "2022-11-27T10:46:55.025Z"
   },
   {
    "duration": 182,
    "start_time": "2022-11-27T10:47:38.400Z"
   },
   {
    "duration": 28,
    "start_time": "2022-11-27T10:47:57.065Z"
   },
   {
    "duration": 25,
    "start_time": "2022-11-27T10:48:00.974Z"
   },
   {
    "duration": 15,
    "start_time": "2022-11-27T10:48:28.770Z"
   },
   {
    "duration": 141,
    "start_time": "2022-11-27T10:48:53.516Z"
   },
   {
    "duration": 29,
    "start_time": "2022-11-27T11:27:55.199Z"
   },
   {
    "duration": 252,
    "start_time": "2022-11-27T11:50:22.497Z"
   },
   {
    "duration": 161,
    "start_time": "2022-11-27T11:50:41.875Z"
   },
   {
    "duration": 169,
    "start_time": "2022-11-27T11:51:14.730Z"
   },
   {
    "duration": 218,
    "start_time": "2022-11-27T11:51:51.047Z"
   },
   {
    "duration": 176,
    "start_time": "2022-11-27T11:52:06.878Z"
   },
   {
    "duration": 182,
    "start_time": "2022-11-27T11:52:14.554Z"
   },
   {
    "duration": 317,
    "start_time": "2022-11-27T11:54:43.447Z"
   },
   {
    "duration": 252,
    "start_time": "2022-11-27T11:58:54.622Z"
   },
   {
    "duration": 251,
    "start_time": "2022-11-27T12:00:13.347Z"
   },
   {
    "duration": 228,
    "start_time": "2022-11-27T12:00:42.905Z"
   },
   {
    "duration": 411,
    "start_time": "2022-11-27T12:00:58.915Z"
   },
   {
    "duration": 258,
    "start_time": "2022-11-27T12:01:09.481Z"
   },
   {
    "duration": 281,
    "start_time": "2022-11-27T12:01:21.858Z"
   },
   {
    "duration": 280,
    "start_time": "2022-11-27T12:01:30.609Z"
   },
   {
    "duration": 275,
    "start_time": "2022-11-27T12:01:41.025Z"
   },
   {
    "duration": 408,
    "start_time": "2022-11-27T12:03:22.907Z"
   },
   {
    "duration": 297,
    "start_time": "2022-11-27T12:03:42.415Z"
   },
   {
    "duration": 306,
    "start_time": "2022-11-27T12:04:07.439Z"
   },
   {
    "duration": 292,
    "start_time": "2022-11-27T12:04:21.927Z"
   },
   {
    "duration": 271,
    "start_time": "2022-11-27T12:04:54.682Z"
   },
   {
    "duration": 356,
    "start_time": "2022-11-27T14:25:01.729Z"
   },
   {
    "duration": 39,
    "start_time": "2022-11-27T14:25:44.198Z"
   },
   {
    "duration": 9,
    "start_time": "2022-11-27T14:26:42.697Z"
   },
   {
    "duration": 9,
    "start_time": "2022-11-27T14:27:07.215Z"
   },
   {
    "duration": 104,
    "start_time": "2022-11-27T14:29:59.951Z"
   },
   {
    "duration": 117,
    "start_time": "2022-11-27T14:30:08.002Z"
   },
   {
    "duration": 610,
    "start_time": "2022-11-27T14:30:13.971Z"
   },
   {
    "duration": 243,
    "start_time": "2022-11-27T14:30:14.583Z"
   },
   {
    "duration": 22,
    "start_time": "2022-11-27T14:30:14.830Z"
   },
   {
    "duration": 14,
    "start_time": "2022-11-27T14:30:14.854Z"
   },
   {
    "duration": 95,
    "start_time": "2022-11-27T14:30:14.869Z"
   },
   {
    "duration": 91,
    "start_time": "2022-11-27T14:30:14.965Z"
   },
   {
    "duration": 102,
    "start_time": "2022-11-27T14:30:15.058Z"
   },
   {
    "duration": 18,
    "start_time": "2022-11-27T14:30:15.162Z"
   },
   {
    "duration": 136,
    "start_time": "2022-11-27T14:30:15.184Z"
   },
   {
    "duration": 50,
    "start_time": "2022-11-27T14:30:15.321Z"
   },
   {
    "duration": 12,
    "start_time": "2022-11-27T14:30:15.373Z"
   },
   {
    "duration": 10,
    "start_time": "2022-11-27T14:30:15.387Z"
   },
   {
    "duration": 56,
    "start_time": "2022-11-27T14:30:15.399Z"
   },
   {
    "duration": 5,
    "start_time": "2022-11-27T14:30:15.457Z"
   },
   {
    "duration": 9,
    "start_time": "2022-11-27T14:30:15.463Z"
   },
   {
    "duration": 6,
    "start_time": "2022-11-27T14:30:15.474Z"
   },
   {
    "duration": 418,
    "start_time": "2022-11-27T14:30:15.482Z"
   },
   {
    "duration": 35,
    "start_time": "2022-11-27T14:30:15.902Z"
   },
   {
    "duration": 77,
    "start_time": "2022-11-27T14:30:15.939Z"
   },
   {
    "duration": 11,
    "start_time": "2022-11-27T14:30:34.243Z"
   },
   {
    "duration": 26,
    "start_time": "2022-11-27T14:30:43.011Z"
   },
   {
    "duration": 30,
    "start_time": "2022-11-27T14:31:44.580Z"
   },
   {
    "duration": 37,
    "start_time": "2022-11-27T14:32:05.099Z"
   },
   {
    "duration": 25,
    "start_time": "2022-11-27T14:33:26.472Z"
   },
   {
    "duration": 37,
    "start_time": "2022-11-27T14:33:38.212Z"
   },
   {
    "duration": 16,
    "start_time": "2022-11-27T14:34:01.935Z"
   },
   {
    "duration": 16,
    "start_time": "2022-11-27T14:39:00.068Z"
   },
   {
    "duration": 5,
    "start_time": "2022-11-27T14:39:02.193Z"
   },
   {
    "duration": 4,
    "start_time": "2022-11-27T14:40:07.708Z"
   },
   {
    "duration": 5,
    "start_time": "2022-11-27T14:40:25.245Z"
   },
   {
    "duration": 3,
    "start_time": "2022-11-27T14:42:24.822Z"
   },
   {
    "duration": 89,
    "start_time": "2022-11-27T15:09:51.859Z"
   },
   {
    "duration": 8,
    "start_time": "2022-11-27T15:11:22.708Z"
   },
   {
    "duration": 4,
    "start_time": "2022-11-27T15:11:45.330Z"
   },
   {
    "duration": 17,
    "start_time": "2022-11-27T15:12:02.857Z"
   },
   {
    "duration": 5,
    "start_time": "2022-11-27T15:13:11.848Z"
   },
   {
    "duration": 30,
    "start_time": "2022-11-27T15:14:33.583Z"
   },
   {
    "duration": 24,
    "start_time": "2022-11-27T15:15:02.393Z"
   },
   {
    "duration": 33,
    "start_time": "2022-11-27T15:15:28.829Z"
   },
   {
    "duration": 81,
    "start_time": "2022-11-27T15:17:28.875Z"
   },
   {
    "duration": 8,
    "start_time": "2022-11-27T15:24:08.008Z"
   },
   {
    "duration": 623,
    "start_time": "2022-11-27T15:25:07.200Z"
   },
   {
    "duration": 185,
    "start_time": "2022-11-27T15:25:07.825Z"
   },
   {
    "duration": 29,
    "start_time": "2022-11-27T15:25:08.012Z"
   },
   {
    "duration": 15,
    "start_time": "2022-11-27T15:25:08.043Z"
   },
   {
    "duration": 88,
    "start_time": "2022-11-27T15:25:08.060Z"
   },
   {
    "duration": 73,
    "start_time": "2022-11-27T15:25:08.151Z"
   },
   {
    "duration": 102,
    "start_time": "2022-11-27T15:25:08.226Z"
   },
   {
    "duration": 18,
    "start_time": "2022-11-27T15:25:08.338Z"
   },
   {
    "duration": 128,
    "start_time": "2022-11-27T15:25:08.357Z"
   },
   {
    "duration": 58,
    "start_time": "2022-11-27T15:25:08.487Z"
   },
   {
    "duration": 13,
    "start_time": "2022-11-27T15:25:08.547Z"
   },
   {
    "duration": 7,
    "start_time": "2022-11-27T15:25:08.562Z"
   },
   {
    "duration": 36,
    "start_time": "2022-11-27T15:25:08.571Z"
   },
   {
    "duration": 4,
    "start_time": "2022-11-27T15:25:08.637Z"
   },
   {
    "duration": 6,
    "start_time": "2022-11-27T15:25:08.642Z"
   },
   {
    "duration": 5,
    "start_time": "2022-11-27T15:25:08.649Z"
   },
   {
    "duration": 467,
    "start_time": "2022-11-27T15:25:08.655Z"
   },
   {
    "duration": 31,
    "start_time": "2022-11-27T15:25:09.124Z"
   },
   {
    "duration": 20,
    "start_time": "2022-11-27T15:25:09.157Z"
   },
   {
    "duration": 4,
    "start_time": "2022-11-27T15:25:09.178Z"
   },
   {
    "duration": 34,
    "start_time": "2022-11-27T15:25:09.184Z"
   },
   {
    "duration": 105,
    "start_time": "2022-11-27T15:34:13.425Z"
   },
   {
    "duration": 24,
    "start_time": "2022-11-27T15:34:35.650Z"
   },
   {
    "duration": 34,
    "start_time": "2022-11-27T15:34:42.816Z"
   },
   {
    "duration": 36,
    "start_time": "2022-11-27T15:36:16.735Z"
   },
   {
    "duration": 30,
    "start_time": "2022-11-27T15:36:34.491Z"
   },
   {
    "duration": 28,
    "start_time": "2022-11-27T15:41:18.619Z"
   },
   {
    "duration": 37,
    "start_time": "2022-11-27T16:36:37.990Z"
   },
   {
    "duration": 644,
    "start_time": "2022-11-27T16:37:13.967Z"
   },
   {
    "duration": 187,
    "start_time": "2022-11-27T16:37:14.613Z"
   },
   {
    "duration": 21,
    "start_time": "2022-11-27T16:37:14.802Z"
   },
   {
    "duration": 27,
    "start_time": "2022-11-27T16:37:14.824Z"
   },
   {
    "duration": 94,
    "start_time": "2022-11-27T16:37:14.854Z"
   },
   {
    "duration": 73,
    "start_time": "2022-11-27T16:37:14.952Z"
   },
   {
    "duration": 103,
    "start_time": "2022-11-27T16:37:15.027Z"
   },
   {
    "duration": 21,
    "start_time": "2022-11-27T16:37:15.132Z"
   },
   {
    "duration": 128,
    "start_time": "2022-11-27T16:37:15.155Z"
   },
   {
    "duration": 58,
    "start_time": "2022-11-27T16:37:15.285Z"
   },
   {
    "duration": 15,
    "start_time": "2022-11-27T16:37:15.345Z"
   },
   {
    "duration": 8,
    "start_time": "2022-11-27T16:37:15.362Z"
   },
   {
    "duration": 37,
    "start_time": "2022-11-27T16:37:15.372Z"
   },
   {
    "duration": 4,
    "start_time": "2022-11-27T16:37:15.412Z"
   },
   {
    "duration": 33,
    "start_time": "2022-11-27T16:37:15.418Z"
   },
   {
    "duration": 6,
    "start_time": "2022-11-27T16:37:15.453Z"
   },
   {
    "duration": 403,
    "start_time": "2022-11-27T16:37:15.461Z"
   },
   {
    "duration": 25,
    "start_time": "2022-11-27T16:37:15.866Z"
   },
   {
    "duration": 20,
    "start_time": "2022-11-27T16:37:15.892Z"
   },
   {
    "duration": 4,
    "start_time": "2022-11-27T16:37:15.913Z"
   },
   {
    "duration": 31,
    "start_time": "2022-11-27T16:37:15.941Z"
   },
   {
    "duration": 119,
    "start_time": "2022-11-27T16:37:15.974Z"
   },
   {
    "duration": 27,
    "start_time": "2022-11-27T16:38:17.721Z"
   },
   {
    "duration": 33,
    "start_time": "2022-11-27T16:38:25.743Z"
   },
   {
    "duration": 1249,
    "start_time": "2022-11-27T16:40:51.227Z"
   },
   {
    "duration": 1347,
    "start_time": "2022-11-27T16:41:30.845Z"
   },
   {
    "duration": 1233,
    "start_time": "2022-11-27T16:42:14.174Z"
   },
   {
    "duration": 1168,
    "start_time": "2022-11-27T16:44:26.897Z"
   },
   {
    "duration": 35,
    "start_time": "2022-11-27T16:44:50.595Z"
   },
   {
    "duration": 26,
    "start_time": "2022-11-27T16:45:14.547Z"
   },
   {
    "duration": 39,
    "start_time": "2022-11-27T16:45:26.132Z"
   },
   {
    "duration": 73,
    "start_time": "2022-11-27T16:48:01.447Z"
   },
   {
    "duration": 68,
    "start_time": "2022-11-27T16:49:29.887Z"
   },
   {
    "duration": 72,
    "start_time": "2022-11-27T16:49:37.654Z"
   },
   {
    "duration": 31,
    "start_time": "2022-11-27T16:49:46.144Z"
   },
   {
    "duration": 596,
    "start_time": "2022-11-27T17:37:19.604Z"
   },
   {
    "duration": 184,
    "start_time": "2022-11-27T17:37:20.202Z"
   },
   {
    "duration": 31,
    "start_time": "2022-11-27T17:37:20.388Z"
   },
   {
    "duration": 33,
    "start_time": "2022-11-27T17:37:20.421Z"
   },
   {
    "duration": 69,
    "start_time": "2022-11-27T17:37:20.456Z"
   },
   {
    "duration": 95,
    "start_time": "2022-11-27T17:37:20.527Z"
   },
   {
    "duration": 103,
    "start_time": "2022-11-27T17:37:20.624Z"
   },
   {
    "duration": 25,
    "start_time": "2022-11-27T17:37:20.729Z"
   },
   {
    "duration": 129,
    "start_time": "2022-11-27T17:37:20.756Z"
   },
   {
    "duration": 63,
    "start_time": "2022-11-27T17:37:20.887Z"
   },
   {
    "duration": 21,
    "start_time": "2022-11-27T17:37:20.952Z"
   },
   {
    "duration": 8,
    "start_time": "2022-11-27T17:37:20.975Z"
   },
   {
    "duration": 33,
    "start_time": "2022-11-27T17:37:20.985Z"
   },
   {
    "duration": 27,
    "start_time": "2022-11-27T17:37:21.019Z"
   },
   {
    "duration": 14,
    "start_time": "2022-11-27T17:37:21.047Z"
   },
   {
    "duration": 7,
    "start_time": "2022-11-27T17:37:21.063Z"
   },
   {
    "duration": 401,
    "start_time": "2022-11-27T17:37:21.072Z"
   },
   {
    "duration": 21,
    "start_time": "2022-11-27T17:37:21.475Z"
   },
   {
    "duration": 21,
    "start_time": "2022-11-27T17:37:21.498Z"
   },
   {
    "duration": 4,
    "start_time": "2022-11-27T17:37:21.539Z"
   },
   {
    "duration": 39,
    "start_time": "2022-11-27T17:37:21.546Z"
   },
   {
    "duration": 108,
    "start_time": "2022-11-27T17:37:21.586Z"
   },
   {
    "duration": 21,
    "start_time": "2022-11-27T17:39:59.974Z"
   },
   {
    "duration": 32,
    "start_time": "2022-11-27T17:40:10.527Z"
   },
   {
    "duration": 40,
    "start_time": "2022-11-27T17:40:56.153Z"
   },
   {
    "duration": 94,
    "start_time": "2022-11-27T17:42:49.918Z"
   },
   {
    "duration": 28,
    "start_time": "2022-11-27T17:43:41.611Z"
   },
   {
    "duration": 26,
    "start_time": "2022-11-27T17:43:53.899Z"
   },
   {
    "duration": 69,
    "start_time": "2022-11-27T17:44:22.927Z"
   },
   {
    "duration": 27,
    "start_time": "2022-11-27T17:45:02.109Z"
   },
   {
    "duration": 1122,
    "start_time": "2022-11-27T17:47:48.098Z"
   },
   {
    "duration": 23,
    "start_time": "2022-11-27T17:49:31.310Z"
   },
   {
    "duration": 27,
    "start_time": "2022-11-27T17:49:42.770Z"
   },
   {
    "duration": 13,
    "start_time": "2022-11-27T18:35:10.580Z"
   },
   {
    "duration": 10,
    "start_time": "2022-11-27T18:36:44.874Z"
   },
   {
    "duration": 76,
    "start_time": "2022-11-27T18:37:05.294Z"
   },
   {
    "duration": 43,
    "start_time": "2022-11-27T18:38:05.407Z"
   },
   {
    "duration": 17,
    "start_time": "2022-11-27T18:38:54.231Z"
   },
   {
    "duration": 71,
    "start_time": "2022-11-27T18:40:05.255Z"
   },
   {
    "duration": 89,
    "start_time": "2022-11-27T18:40:32.071Z"
   },
   {
    "duration": 71,
    "start_time": "2022-11-27T18:40:49.817Z"
   },
   {
    "duration": 99,
    "start_time": "2022-11-27T18:40:56.845Z"
   },
   {
    "duration": 29,
    "start_time": "2022-11-27T18:41:10.780Z"
   },
   {
    "duration": 31,
    "start_time": "2022-11-27T18:41:19.593Z"
   },
   {
    "duration": 65,
    "start_time": "2022-11-27T18:42:26.068Z"
   },
   {
    "duration": 53,
    "start_time": "2022-11-27T18:42:39.429Z"
   },
   {
    "duration": 69,
    "start_time": "2022-11-27T18:45:32.107Z"
   },
   {
    "duration": 11,
    "start_time": "2022-11-27T18:48:20.161Z"
   },
   {
    "duration": 8,
    "start_time": "2022-11-27T18:51:11.483Z"
   },
   {
    "duration": 8,
    "start_time": "2022-11-27T18:51:39.528Z"
   },
   {
    "duration": 7,
    "start_time": "2022-11-27T18:52:04.793Z"
   },
   {
    "duration": 694,
    "start_time": "2022-11-27T18:52:33.323Z"
   },
   {
    "duration": 187,
    "start_time": "2022-11-27T18:52:34.020Z"
   },
   {
    "duration": 34,
    "start_time": "2022-11-27T18:52:34.211Z"
   },
   {
    "duration": 14,
    "start_time": "2022-11-27T18:52:34.246Z"
   },
   {
    "duration": 92,
    "start_time": "2022-11-27T18:52:34.261Z"
   },
   {
    "duration": 72,
    "start_time": "2022-11-27T18:52:34.355Z"
   },
   {
    "duration": 100,
    "start_time": "2022-11-27T18:52:34.438Z"
   },
   {
    "duration": 19,
    "start_time": "2022-11-27T18:52:34.539Z"
   },
   {
    "duration": 140,
    "start_time": "2022-11-27T18:52:34.561Z"
   },
   {
    "duration": 59,
    "start_time": "2022-11-27T18:52:34.703Z"
   },
   {
    "duration": 12,
    "start_time": "2022-11-27T18:52:34.764Z"
   },
   {
    "duration": 10,
    "start_time": "2022-11-27T18:52:34.777Z"
   },
   {
    "duration": 55,
    "start_time": "2022-11-27T18:52:34.789Z"
   },
   {
    "duration": 4,
    "start_time": "2022-11-27T18:52:34.846Z"
   },
   {
    "duration": 7,
    "start_time": "2022-11-27T18:52:34.851Z"
   },
   {
    "duration": 4,
    "start_time": "2022-11-27T18:52:34.860Z"
   },
   {
    "duration": 391,
    "start_time": "2022-11-27T18:52:34.866Z"
   },
   {
    "duration": 19,
    "start_time": "2022-11-27T18:52:35.259Z"
   },
   {
    "duration": 19,
    "start_time": "2022-11-27T18:52:35.279Z"
   },
   {
    "duration": 4,
    "start_time": "2022-11-27T18:52:35.299Z"
   },
   {
    "duration": 58,
    "start_time": "2022-11-27T18:52:35.305Z"
   },
   {
    "duration": 27,
    "start_time": "2022-11-27T18:52:35.364Z"
   },
   {
    "duration": 74,
    "start_time": "2022-11-27T18:52:35.392Z"
   },
   {
    "duration": 10,
    "start_time": "2022-11-27T18:52:35.467Z"
   },
   {
    "duration": 57,
    "start_time": "2022-11-27T18:53:04.403Z"
   },
   {
    "duration": 56,
    "start_time": "2022-11-27T18:57:41.529Z"
   },
   {
    "duration": 1196,
    "start_time": "2022-11-27T18:58:02.008Z"
   },
   {
    "duration": 57,
    "start_time": "2022-11-27T18:58:37.935Z"
   },
   {
    "duration": 55,
    "start_time": "2022-11-27T18:58:47.228Z"
   },
   {
    "duration": 1166,
    "start_time": "2022-11-27T18:59:00.988Z"
   },
   {
    "duration": 58,
    "start_time": "2022-11-27T18:59:29.944Z"
   },
   {
    "duration": 1222,
    "start_time": "2022-11-27T19:00:10.823Z"
   },
   {
    "duration": 56,
    "start_time": "2022-11-27T19:00:44.550Z"
   },
   {
    "duration": 1133,
    "start_time": "2022-11-27T19:01:23.221Z"
   },
   {
    "duration": 625,
    "start_time": "2022-11-27T19:02:33.396Z"
   },
   {
    "duration": 185,
    "start_time": "2022-11-27T19:02:34.024Z"
   },
   {
    "duration": 33,
    "start_time": "2022-11-27T19:02:34.211Z"
   },
   {
    "duration": 16,
    "start_time": "2022-11-27T19:02:34.246Z"
   },
   {
    "duration": 82,
    "start_time": "2022-11-27T19:02:34.265Z"
   },
   {
    "duration": 76,
    "start_time": "2022-11-27T19:02:34.349Z"
   },
   {
    "duration": 87,
    "start_time": "2022-11-27T19:02:34.438Z"
   },
   {
    "duration": 26,
    "start_time": "2022-11-27T19:02:34.527Z"
   },
   {
    "duration": 149,
    "start_time": "2022-11-27T19:02:34.556Z"
   },
   {
    "duration": 48,
    "start_time": "2022-11-27T19:02:34.707Z"
   },
   {
    "duration": 12,
    "start_time": "2022-11-27T19:02:34.756Z"
   },
   {
    "duration": 18,
    "start_time": "2022-11-27T19:02:34.770Z"
   },
   {
    "duration": 46,
    "start_time": "2022-11-27T19:02:34.789Z"
   },
   {
    "duration": 4,
    "start_time": "2022-11-27T19:02:34.839Z"
   },
   {
    "duration": 13,
    "start_time": "2022-11-27T19:02:34.844Z"
   },
   {
    "duration": 5,
    "start_time": "2022-11-27T19:02:34.859Z"
   },
   {
    "duration": 385,
    "start_time": "2022-11-27T19:02:34.866Z"
   },
   {
    "duration": 22,
    "start_time": "2022-11-27T19:02:35.253Z"
   },
   {
    "duration": 21,
    "start_time": "2022-11-27T19:02:35.276Z"
   },
   {
    "duration": 5,
    "start_time": "2022-11-27T19:02:35.299Z"
   },
   {
    "duration": 41,
    "start_time": "2022-11-27T19:02:35.339Z"
   },
   {
    "duration": 38,
    "start_time": "2022-11-27T19:02:35.382Z"
   },
   {
    "duration": 1234,
    "start_time": "2022-11-27T19:02:35.421Z"
   },
   {
    "duration": 57,
    "start_time": "2022-11-27T19:03:42.221Z"
   },
   {
    "duration": 1222,
    "start_time": "2022-11-27T19:04:15.223Z"
   },
   {
    "duration": 54,
    "start_time": "2022-11-27T19:04:46.318Z"
   },
   {
    "duration": 1631,
    "start_time": "2022-11-27T19:05:08.219Z"
   },
   {
    "duration": 642,
    "start_time": "2022-11-27T19:05:46.395Z"
   },
   {
    "duration": 200,
    "start_time": "2022-11-27T19:05:47.039Z"
   },
   {
    "duration": 30,
    "start_time": "2022-11-27T19:05:47.241Z"
   },
   {
    "duration": 15,
    "start_time": "2022-11-27T19:05:47.273Z"
   },
   {
    "duration": 94,
    "start_time": "2022-11-27T19:05:47.289Z"
   },
   {
    "duration": 88,
    "start_time": "2022-11-27T19:05:47.385Z"
   },
   {
    "duration": 129,
    "start_time": "2022-11-27T19:05:47.475Z"
   },
   {
    "duration": 33,
    "start_time": "2022-11-27T19:05:47.606Z"
   },
   {
    "duration": 137,
    "start_time": "2022-11-27T19:05:47.641Z"
   },
   {
    "duration": 61,
    "start_time": "2022-11-27T19:05:47.781Z"
   },
   {
    "duration": 16,
    "start_time": "2022-11-27T19:05:47.844Z"
   },
   {
    "duration": 14,
    "start_time": "2022-11-27T19:05:47.862Z"
   },
   {
    "duration": 66,
    "start_time": "2022-11-27T19:05:47.878Z"
   },
   {
    "duration": 6,
    "start_time": "2022-11-27T19:05:47.946Z"
   },
   {
    "duration": 13,
    "start_time": "2022-11-27T19:05:47.953Z"
   },
   {
    "duration": 6,
    "start_time": "2022-11-27T19:05:47.968Z"
   },
   {
    "duration": 390,
    "start_time": "2022-11-27T19:05:47.976Z"
   },
   {
    "duration": 22,
    "start_time": "2022-11-27T19:05:48.368Z"
   },
   {
    "duration": 20,
    "start_time": "2022-11-27T19:05:48.391Z"
   },
   {
    "duration": 26,
    "start_time": "2022-11-27T19:05:48.413Z"
   },
   {
    "duration": 32,
    "start_time": "2022-11-27T19:05:48.441Z"
   },
   {
    "duration": 29,
    "start_time": "2022-11-27T19:05:48.474Z"
   },
   {
    "duration": 88,
    "start_time": "2022-11-27T19:05:48.505Z"
   },
   {
    "duration": 1284,
    "start_time": "2022-11-27T19:06:09.781Z"
   },
   {
    "duration": 729,
    "start_time": "2022-11-27T19:06:20.696Z"
   },
   {
    "duration": 219,
    "start_time": "2022-11-27T19:06:21.428Z"
   },
   {
    "duration": 23,
    "start_time": "2022-11-27T19:06:21.649Z"
   },
   {
    "duration": 23,
    "start_time": "2022-11-27T19:06:21.675Z"
   },
   {
    "duration": 92,
    "start_time": "2022-11-27T19:06:21.700Z"
   },
   {
    "duration": 99,
    "start_time": "2022-11-27T19:06:21.794Z"
   },
   {
    "duration": 113,
    "start_time": "2022-11-27T19:06:21.894Z"
   },
   {
    "duration": 28,
    "start_time": "2022-11-27T19:06:22.009Z"
   },
   {
    "duration": 141,
    "start_time": "2022-11-27T19:06:22.039Z"
   },
   {
    "duration": 60,
    "start_time": "2022-11-27T19:06:22.184Z"
   },
   {
    "duration": 14,
    "start_time": "2022-11-27T19:06:22.246Z"
   },
   {
    "duration": 32,
    "start_time": "2022-11-27T19:06:22.262Z"
   },
   {
    "duration": 44,
    "start_time": "2022-11-27T19:06:22.296Z"
   },
   {
    "duration": 5,
    "start_time": "2022-11-27T19:06:22.342Z"
   },
   {
    "duration": 9,
    "start_time": "2022-11-27T19:06:22.349Z"
   },
   {
    "duration": 5,
    "start_time": "2022-11-27T19:06:22.361Z"
   },
   {
    "duration": 435,
    "start_time": "2022-11-27T19:06:22.367Z"
   },
   {
    "duration": 34,
    "start_time": "2022-11-27T19:06:22.803Z"
   },
   {
    "duration": 26,
    "start_time": "2022-11-27T19:06:22.839Z"
   },
   {
    "duration": 5,
    "start_time": "2022-11-27T19:06:22.867Z"
   },
   {
    "duration": 66,
    "start_time": "2022-11-27T19:06:22.874Z"
   },
   {
    "duration": 31,
    "start_time": "2022-11-27T19:06:22.942Z"
   },
   {
    "duration": 94,
    "start_time": "2022-11-27T19:06:22.975Z"
   },
   {
    "duration": 1319,
    "start_time": "2022-11-27T19:06:50.687Z"
   },
   {
    "duration": 678,
    "start_time": "2022-11-27T19:06:56.820Z"
   },
   {
    "duration": 181,
    "start_time": "2022-11-27T19:06:57.500Z"
   },
   {
    "duration": 23,
    "start_time": "2022-11-27T19:06:57.683Z"
   },
   {
    "duration": 33,
    "start_time": "2022-11-27T19:06:57.708Z"
   },
   {
    "duration": 88,
    "start_time": "2022-11-27T19:06:57.743Z"
   },
   {
    "duration": 119,
    "start_time": "2022-11-27T19:06:57.837Z"
   },
   {
    "duration": 110,
    "start_time": "2022-11-27T19:06:57.958Z"
   },
   {
    "duration": 18,
    "start_time": "2022-11-27T19:06:58.070Z"
   },
   {
    "duration": 127,
    "start_time": "2022-11-27T19:06:58.090Z"
   },
   {
    "duration": 59,
    "start_time": "2022-11-27T19:06:58.219Z"
   },
   {
    "duration": 14,
    "start_time": "2022-11-27T19:06:58.280Z"
   },
   {
    "duration": 21,
    "start_time": "2022-11-27T19:06:58.296Z"
   },
   {
    "duration": 49,
    "start_time": "2022-11-27T19:06:58.318Z"
   },
   {
    "duration": 4,
    "start_time": "2022-11-27T19:06:58.369Z"
   },
   {
    "duration": 8,
    "start_time": "2022-11-27T19:06:58.375Z"
   },
   {
    "duration": 6,
    "start_time": "2022-11-27T19:06:58.385Z"
   },
   {
    "duration": 401,
    "start_time": "2022-11-27T19:06:58.393Z"
   },
   {
    "duration": 31,
    "start_time": "2022-11-27T19:06:58.796Z"
   },
   {
    "duration": 26,
    "start_time": "2022-11-27T19:06:58.838Z"
   },
   {
    "duration": 9,
    "start_time": "2022-11-27T19:06:58.866Z"
   },
   {
    "duration": 64,
    "start_time": "2022-11-27T19:06:58.877Z"
   },
   {
    "duration": 35,
    "start_time": "2022-11-27T19:06:58.944Z"
   },
   {
    "duration": 98,
    "start_time": "2022-11-27T19:06:58.981Z"
   },
   {
    "duration": 1280,
    "start_time": "2022-11-27T19:07:26.256Z"
   },
   {
    "duration": 646,
    "start_time": "2022-11-27T19:07:32.472Z"
   },
   {
    "duration": 181,
    "start_time": "2022-11-27T19:07:33.120Z"
   },
   {
    "duration": 33,
    "start_time": "2022-11-27T19:07:33.306Z"
   },
   {
    "duration": 15,
    "start_time": "2022-11-27T19:07:33.340Z"
   },
   {
    "duration": 85,
    "start_time": "2022-11-27T19:07:33.357Z"
   },
   {
    "duration": 94,
    "start_time": "2022-11-27T19:07:33.444Z"
   },
   {
    "duration": 111,
    "start_time": "2022-11-27T19:07:33.540Z"
   },
   {
    "duration": 20,
    "start_time": "2022-11-27T19:07:33.653Z"
   },
   {
    "duration": 143,
    "start_time": "2022-11-27T19:07:33.677Z"
   },
   {
    "duration": 62,
    "start_time": "2022-11-27T19:07:33.828Z"
   },
   {
    "duration": 22,
    "start_time": "2022-11-27T19:07:33.892Z"
   },
   {
    "duration": 26,
    "start_time": "2022-11-27T19:07:33.916Z"
   },
   {
    "duration": 36,
    "start_time": "2022-11-27T19:07:33.944Z"
   },
   {
    "duration": 6,
    "start_time": "2022-11-27T19:07:33.981Z"
   },
   {
    "duration": 7,
    "start_time": "2022-11-27T19:07:33.989Z"
   },
   {
    "duration": 9,
    "start_time": "2022-11-27T19:07:33.998Z"
   },
   {
    "duration": 429,
    "start_time": "2022-11-27T19:07:34.008Z"
   },
   {
    "duration": 22,
    "start_time": "2022-11-27T19:07:34.439Z"
   },
   {
    "duration": 25,
    "start_time": "2022-11-27T19:07:34.463Z"
   },
   {
    "duration": 4,
    "start_time": "2022-11-27T19:07:34.490Z"
   },
   {
    "duration": 36,
    "start_time": "2022-11-27T19:07:34.495Z"
   },
   {
    "duration": 29,
    "start_time": "2022-11-27T19:07:34.532Z"
   },
   {
    "duration": 64,
    "start_time": "2022-11-27T19:07:34.562Z"
   },
   {
    "duration": 6,
    "start_time": "2022-11-27T19:10:48.840Z"
   },
   {
    "duration": 1301,
    "start_time": "2022-11-27T19:12:22.249Z"
   },
   {
    "duration": 672,
    "start_time": "2022-11-27T19:12:28.733Z"
   },
   {
    "duration": 191,
    "start_time": "2022-11-27T19:12:29.407Z"
   },
   {
    "duration": 23,
    "start_time": "2022-11-27T19:12:29.600Z"
   },
   {
    "duration": 22,
    "start_time": "2022-11-27T19:12:29.625Z"
   },
   {
    "duration": 70,
    "start_time": "2022-11-27T19:12:29.649Z"
   },
   {
    "duration": 88,
    "start_time": "2022-11-27T19:12:29.721Z"
   },
   {
    "duration": 104,
    "start_time": "2022-11-27T19:12:29.810Z"
   },
   {
    "duration": 34,
    "start_time": "2022-11-27T19:12:29.916Z"
   },
   {
    "duration": 118,
    "start_time": "2022-11-27T19:12:29.951Z"
   },
   {
    "duration": 48,
    "start_time": "2022-11-27T19:12:30.071Z"
   },
   {
    "duration": 25,
    "start_time": "2022-11-27T19:12:30.120Z"
   },
   {
    "duration": 12,
    "start_time": "2022-11-27T19:12:30.146Z"
   },
   {
    "duration": 46,
    "start_time": "2022-11-27T19:12:30.160Z"
   },
   {
    "duration": 6,
    "start_time": "2022-11-27T19:12:30.209Z"
   },
   {
    "duration": 28,
    "start_time": "2022-11-27T19:12:30.217Z"
   },
   {
    "duration": 9,
    "start_time": "2022-11-27T19:12:30.246Z"
   },
   {
    "duration": 365,
    "start_time": "2022-11-27T19:12:30.256Z"
   },
   {
    "duration": 28,
    "start_time": "2022-11-27T19:12:30.623Z"
   },
   {
    "duration": 32,
    "start_time": "2022-11-27T19:12:30.653Z"
   },
   {
    "duration": 5,
    "start_time": "2022-11-27T19:12:30.687Z"
   },
   {
    "duration": 38,
    "start_time": "2022-11-27T19:12:30.694Z"
   },
   {
    "duration": 28,
    "start_time": "2022-11-27T19:12:30.738Z"
   },
   {
    "duration": 78,
    "start_time": "2022-11-27T19:12:30.768Z"
   },
   {
    "duration": 4,
    "start_time": "2022-11-27T19:12:30.847Z"
   },
   {
    "duration": 27,
    "start_time": "2022-11-27T19:13:58.415Z"
   },
   {
    "duration": 58,
    "start_time": "2022-11-27T19:14:17.235Z"
   },
   {
    "duration": 1254,
    "start_time": "2022-11-27T19:15:22.833Z"
   },
   {
    "duration": 661,
    "start_time": "2022-11-27T19:15:29.113Z"
   },
   {
    "duration": 183,
    "start_time": "2022-11-27T19:15:29.776Z"
   },
   {
    "duration": 21,
    "start_time": "2022-11-27T19:15:29.961Z"
   },
   {
    "duration": 13,
    "start_time": "2022-11-27T19:15:29.985Z"
   },
   {
    "duration": 91,
    "start_time": "2022-11-27T19:15:30.000Z"
   },
   {
    "duration": 90,
    "start_time": "2022-11-27T19:15:30.092Z"
   },
   {
    "duration": 106,
    "start_time": "2022-11-27T19:15:30.184Z"
   },
   {
    "duration": 16,
    "start_time": "2022-11-27T19:15:30.292Z"
   },
   {
    "duration": 133,
    "start_time": "2022-11-27T19:15:30.309Z"
   },
   {
    "duration": 43,
    "start_time": "2022-11-27T19:15:30.445Z"
   },
   {
    "duration": 13,
    "start_time": "2022-11-27T19:15:30.490Z"
   },
   {
    "duration": 33,
    "start_time": "2022-11-27T19:15:30.504Z"
   },
   {
    "duration": 60,
    "start_time": "2022-11-27T19:15:30.539Z"
   },
   {
    "duration": 11,
    "start_time": "2022-11-27T19:15:30.601Z"
   },
   {
    "duration": 49,
    "start_time": "2022-11-27T19:15:30.614Z"
   },
   {
    "duration": 32,
    "start_time": "2022-11-27T19:15:30.665Z"
   },
   {
    "duration": 393,
    "start_time": "2022-11-27T19:15:30.698Z"
   },
   {
    "duration": 19,
    "start_time": "2022-11-27T19:15:31.093Z"
   },
   {
    "duration": 32,
    "start_time": "2022-11-27T19:15:31.113Z"
   },
   {
    "duration": 4,
    "start_time": "2022-11-27T19:15:31.147Z"
   },
   {
    "duration": 36,
    "start_time": "2022-11-27T19:15:31.152Z"
   },
   {
    "duration": 48,
    "start_time": "2022-11-27T19:15:31.190Z"
   },
   {
    "duration": 61,
    "start_time": "2022-11-27T19:15:31.240Z"
   },
   {
    "duration": 1198,
    "start_time": "2022-11-27T19:15:31.302Z"
   },
   {
    "duration": 4,
    "start_time": "2022-11-27T20:16:54.088Z"
   },
   {
    "duration": 94,
    "start_time": "2022-11-27T20:20:13.369Z"
   },
   {
    "duration": 8,
    "start_time": "2022-11-27T20:22:03.215Z"
   },
   {
    "duration": 75,
    "start_time": "2022-11-27T20:22:47.244Z"
   },
   {
    "duration": 695,
    "start_time": "2022-11-27T20:23:52.397Z"
   },
   {
    "duration": 252,
    "start_time": "2022-11-27T20:23:53.094Z"
   },
   {
    "duration": 32,
    "start_time": "2022-11-27T20:23:53.348Z"
   },
   {
    "duration": 13,
    "start_time": "2022-11-27T20:23:53.381Z"
   },
   {
    "duration": 90,
    "start_time": "2022-11-27T20:23:53.396Z"
   },
   {
    "duration": 91,
    "start_time": "2022-11-27T20:23:53.488Z"
   },
   {
    "duration": 116,
    "start_time": "2022-11-27T20:23:53.580Z"
   },
   {
    "duration": 22,
    "start_time": "2022-11-27T20:23:53.698Z"
   },
   {
    "duration": 179,
    "start_time": "2022-11-27T20:23:53.722Z"
   },
   {
    "duration": 56,
    "start_time": "2022-11-27T20:23:53.902Z"
   },
   {
    "duration": 15,
    "start_time": "2022-11-27T20:23:53.960Z"
   },
   {
    "duration": 15,
    "start_time": "2022-11-27T20:23:53.977Z"
   },
   {
    "duration": 32,
    "start_time": "2022-11-27T20:23:53.994Z"
   },
   {
    "duration": 12,
    "start_time": "2022-11-27T20:23:54.028Z"
   },
   {
    "duration": 26,
    "start_time": "2022-11-27T20:23:54.042Z"
   },
   {
    "duration": 4,
    "start_time": "2022-11-27T20:23:54.070Z"
   },
   {
    "duration": 415,
    "start_time": "2022-11-27T20:23:54.076Z"
   },
   {
    "duration": 20,
    "start_time": "2022-11-27T20:23:54.492Z"
   },
   {
    "duration": 36,
    "start_time": "2022-11-27T20:23:54.513Z"
   },
   {
    "duration": 6,
    "start_time": "2022-11-27T20:23:54.551Z"
   },
   {
    "duration": 39,
    "start_time": "2022-11-27T20:23:54.559Z"
   },
   {
    "duration": 48,
    "start_time": "2022-11-27T20:23:54.599Z"
   },
   {
    "duration": 69,
    "start_time": "2022-11-27T20:23:54.650Z"
   },
   {
    "duration": 18,
    "start_time": "2022-11-27T20:23:54.721Z"
   },
   {
    "duration": 8,
    "start_time": "2022-11-27T21:30:14.177Z"
   },
   {
    "duration": 11,
    "start_time": "2022-11-27T21:30:42.333Z"
   },
   {
    "duration": 11,
    "start_time": "2022-11-27T21:30:49.209Z"
   },
   {
    "duration": 800,
    "start_time": "2022-11-28T08:11:32.570Z"
   },
   {
    "duration": 703,
    "start_time": "2022-11-28T08:11:33.372Z"
   },
   {
    "duration": 22,
    "start_time": "2022-11-28T08:11:34.076Z"
   },
   {
    "duration": 12,
    "start_time": "2022-11-28T08:11:34.099Z"
   },
   {
    "duration": 65,
    "start_time": "2022-11-28T08:11:34.113Z"
   },
   {
    "duration": 77,
    "start_time": "2022-11-28T08:11:34.180Z"
   },
   {
    "duration": 92,
    "start_time": "2022-11-28T08:11:34.258Z"
   },
   {
    "duration": 16,
    "start_time": "2022-11-28T08:11:34.351Z"
   },
   {
    "duration": 120,
    "start_time": "2022-11-28T08:11:34.368Z"
   },
   {
    "duration": 55,
    "start_time": "2022-11-28T08:11:34.489Z"
   },
   {
    "duration": 12,
    "start_time": "2022-11-28T08:11:34.546Z"
   },
   {
    "duration": 11,
    "start_time": "2022-11-28T08:11:34.559Z"
   },
   {
    "duration": 46,
    "start_time": "2022-11-28T08:11:34.572Z"
   },
   {
    "duration": 4,
    "start_time": "2022-11-28T08:11:34.620Z"
   },
   {
    "duration": 6,
    "start_time": "2022-11-28T08:11:34.626Z"
   },
   {
    "duration": 5,
    "start_time": "2022-11-28T08:11:34.634Z"
   },
   {
    "duration": 369,
    "start_time": "2022-11-28T08:11:34.641Z"
   },
   {
    "duration": 23,
    "start_time": "2022-11-28T08:11:35.012Z"
   },
   {
    "duration": 31,
    "start_time": "2022-11-28T08:11:35.037Z"
   },
   {
    "duration": 6,
    "start_time": "2022-11-28T08:11:35.069Z"
   },
   {
    "duration": 54,
    "start_time": "2022-11-28T08:11:35.076Z"
   },
   {
    "duration": 15,
    "start_time": "2022-11-28T08:11:35.131Z"
   },
   {
    "duration": 41,
    "start_time": "2022-11-28T08:11:35.147Z"
   },
   {
    "duration": 68,
    "start_time": "2022-11-28T08:11:35.189Z"
   },
   {
    "duration": 75,
    "start_time": "2022-11-28T08:11:35.258Z"
   },
   {
    "duration": 8,
    "start_time": "2022-11-28T08:30:51.701Z"
   },
   {
    "duration": 6,
    "start_time": "2022-11-28T08:31:57.442Z"
   },
   {
    "duration": 12,
    "start_time": "2022-11-28T08:32:08.250Z"
   },
   {
    "duration": 1264,
    "start_time": "2022-11-28T08:46:09.593Z"
   },
   {
    "duration": 4,
    "start_time": "2022-11-28T08:46:32.151Z"
   },
   {
    "duration": 9,
    "start_time": "2022-11-28T08:46:39.917Z"
   },
   {
    "duration": 11,
    "start_time": "2022-11-28T08:47:11.426Z"
   },
   {
    "duration": 695,
    "start_time": "2022-11-28T08:47:27.899Z"
   },
   {
    "duration": 169,
    "start_time": "2022-11-28T08:47:28.596Z"
   },
   {
    "duration": 21,
    "start_time": "2022-11-28T08:47:28.767Z"
   },
   {
    "duration": 26,
    "start_time": "2022-11-28T08:47:28.790Z"
   },
   {
    "duration": 69,
    "start_time": "2022-11-28T08:47:28.817Z"
   },
   {
    "duration": 82,
    "start_time": "2022-11-28T08:47:28.888Z"
   },
   {
    "duration": 101,
    "start_time": "2022-11-28T08:47:28.972Z"
   },
   {
    "duration": 17,
    "start_time": "2022-11-28T08:47:29.075Z"
   },
   {
    "duration": 126,
    "start_time": "2022-11-28T08:47:29.093Z"
   },
   {
    "duration": 41,
    "start_time": "2022-11-28T08:47:29.222Z"
   },
   {
    "duration": 12,
    "start_time": "2022-11-28T08:47:29.265Z"
   },
   {
    "duration": 28,
    "start_time": "2022-11-28T08:47:29.278Z"
   },
   {
    "duration": 31,
    "start_time": "2022-11-28T08:47:29.308Z"
   },
   {
    "duration": 5,
    "start_time": "2022-11-28T08:47:29.341Z"
   },
   {
    "duration": 6,
    "start_time": "2022-11-28T08:47:29.347Z"
   },
   {
    "duration": 14,
    "start_time": "2022-11-28T08:47:29.354Z"
   },
   {
    "duration": 355,
    "start_time": "2022-11-28T08:47:29.369Z"
   },
   {
    "duration": 18,
    "start_time": "2022-11-28T08:47:29.726Z"
   },
   {
    "duration": 18,
    "start_time": "2022-11-28T08:47:29.746Z"
   },
   {
    "duration": 4,
    "start_time": "2022-11-28T08:47:29.765Z"
   },
   {
    "duration": 70,
    "start_time": "2022-11-28T08:47:29.770Z"
   },
   {
    "duration": 14,
    "start_time": "2022-11-28T08:47:29.842Z"
   },
   {
    "duration": 28,
    "start_time": "2022-11-28T08:47:29.857Z"
   },
   {
    "duration": 60,
    "start_time": "2022-11-28T08:47:29.905Z"
   },
   {
    "duration": 7,
    "start_time": "2022-11-28T08:47:29.967Z"
   },
   {
    "duration": 11,
    "start_time": "2022-11-28T08:47:48.345Z"
   },
   {
    "duration": 674,
    "start_time": "2022-11-28T08:47:53.270Z"
   },
   {
    "duration": 166,
    "start_time": "2022-11-28T08:47:53.946Z"
   },
   {
    "duration": 24,
    "start_time": "2022-11-28T08:47:54.114Z"
   },
   {
    "duration": 18,
    "start_time": "2022-11-28T08:47:54.142Z"
   },
   {
    "duration": 93,
    "start_time": "2022-11-28T08:47:54.162Z"
   },
   {
    "duration": 78,
    "start_time": "2022-11-28T08:47:54.257Z"
   },
   {
    "duration": 86,
    "start_time": "2022-11-28T08:47:54.337Z"
   },
   {
    "duration": 15,
    "start_time": "2022-11-28T08:47:54.425Z"
   },
   {
    "duration": 123,
    "start_time": "2022-11-28T08:47:54.442Z"
   },
   {
    "duration": 45,
    "start_time": "2022-11-28T08:47:54.568Z"
   },
   {
    "duration": 12,
    "start_time": "2022-11-28T08:47:54.614Z"
   },
   {
    "duration": 29,
    "start_time": "2022-11-28T08:47:54.628Z"
   },
   {
    "duration": 32,
    "start_time": "2022-11-28T08:47:54.659Z"
   },
   {
    "duration": 5,
    "start_time": "2022-11-28T08:47:54.692Z"
   },
   {
    "duration": 5,
    "start_time": "2022-11-28T08:47:54.705Z"
   },
   {
    "duration": 6,
    "start_time": "2022-11-28T08:47:54.712Z"
   },
   {
    "duration": 410,
    "start_time": "2022-11-28T08:47:54.720Z"
   },
   {
    "duration": 20,
    "start_time": "2022-11-28T08:47:55.131Z"
   },
   {
    "duration": 19,
    "start_time": "2022-11-28T08:47:55.153Z"
   },
   {
    "duration": 5,
    "start_time": "2022-11-28T08:47:55.174Z"
   },
   {
    "duration": 52,
    "start_time": "2022-11-28T08:47:55.180Z"
   },
   {
    "duration": 11,
    "start_time": "2022-11-28T08:47:55.233Z"
   },
   {
    "duration": 26,
    "start_time": "2022-11-28T08:47:55.245Z"
   },
   {
    "duration": 85,
    "start_time": "2022-11-28T08:47:55.273Z"
   },
   {
    "duration": 10,
    "start_time": "2022-11-28T08:47:55.360Z"
   },
   {
    "duration": 628,
    "start_time": "2022-11-28T08:48:18.340Z"
   },
   {
    "duration": 174,
    "start_time": "2022-11-28T08:48:18.970Z"
   },
   {
    "duration": 22,
    "start_time": "2022-11-28T08:48:19.145Z"
   },
   {
    "duration": 13,
    "start_time": "2022-11-28T08:48:19.169Z"
   },
   {
    "duration": 107,
    "start_time": "2022-11-28T08:48:19.184Z"
   },
   {
    "duration": 89,
    "start_time": "2022-11-28T08:48:19.304Z"
   },
   {
    "duration": 90,
    "start_time": "2022-11-28T08:48:19.405Z"
   },
   {
    "duration": 16,
    "start_time": "2022-11-28T08:48:19.505Z"
   },
   {
    "duration": 123,
    "start_time": "2022-11-28T08:48:19.524Z"
   },
   {
    "duration": 45,
    "start_time": "2022-11-28T08:48:19.650Z"
   },
   {
    "duration": 17,
    "start_time": "2022-11-28T08:48:19.696Z"
   },
   {
    "duration": 40,
    "start_time": "2022-11-28T08:48:19.714Z"
   },
   {
    "duration": 58,
    "start_time": "2022-11-28T08:48:19.755Z"
   },
   {
    "duration": 9,
    "start_time": "2022-11-28T08:48:19.814Z"
   },
   {
    "duration": 34,
    "start_time": "2022-11-28T08:48:19.825Z"
   },
   {
    "duration": 38,
    "start_time": "2022-11-28T08:48:19.861Z"
   },
   {
    "duration": 389,
    "start_time": "2022-11-28T08:48:19.901Z"
   },
   {
    "duration": 20,
    "start_time": "2022-11-28T08:48:20.292Z"
   },
   {
    "duration": 27,
    "start_time": "2022-11-28T08:48:20.313Z"
   },
   {
    "duration": 18,
    "start_time": "2022-11-28T08:48:20.341Z"
   },
   {
    "duration": 47,
    "start_time": "2022-11-28T08:48:20.360Z"
   },
   {
    "duration": 14,
    "start_time": "2022-11-28T08:48:20.409Z"
   },
   {
    "duration": 30,
    "start_time": "2022-11-28T08:48:20.424Z"
   },
   {
    "duration": 66,
    "start_time": "2022-11-28T08:48:20.455Z"
   },
   {
    "duration": 10,
    "start_time": "2022-11-28T08:48:20.523Z"
   },
   {
    "duration": 11,
    "start_time": "2022-11-28T08:49:05.261Z"
   },
   {
    "duration": 653,
    "start_time": "2022-11-28T08:49:21.180Z"
   },
   {
    "duration": 169,
    "start_time": "2022-11-28T08:49:21.836Z"
   },
   {
    "duration": 22,
    "start_time": "2022-11-28T08:49:22.009Z"
   },
   {
    "duration": 14,
    "start_time": "2022-11-28T08:49:22.033Z"
   },
   {
    "duration": 98,
    "start_time": "2022-11-28T08:49:22.049Z"
   },
   {
    "duration": 83,
    "start_time": "2022-11-28T08:49:22.149Z"
   },
   {
    "duration": 90,
    "start_time": "2022-11-28T08:49:22.234Z"
   },
   {
    "duration": 16,
    "start_time": "2022-11-28T08:49:22.325Z"
   },
   {
    "duration": 123,
    "start_time": "2022-11-28T08:49:22.343Z"
   },
   {
    "duration": 56,
    "start_time": "2022-11-28T08:49:22.467Z"
   },
   {
    "duration": 12,
    "start_time": "2022-11-28T08:49:22.525Z"
   },
   {
    "duration": 11,
    "start_time": "2022-11-28T08:49:22.538Z"
   },
   {
    "duration": 33,
    "start_time": "2022-11-28T08:49:22.550Z"
   },
   {
    "duration": 22,
    "start_time": "2022-11-28T08:49:22.584Z"
   },
   {
    "duration": 8,
    "start_time": "2022-11-28T08:49:22.608Z"
   },
   {
    "duration": 5,
    "start_time": "2022-11-28T08:49:22.617Z"
   },
   {
    "duration": 344,
    "start_time": "2022-11-28T08:49:22.624Z"
   },
   {
    "duration": 20,
    "start_time": "2022-11-28T08:49:22.969Z"
   },
   {
    "duration": 18,
    "start_time": "2022-11-28T08:49:23.004Z"
   },
   {
    "duration": 6,
    "start_time": "2022-11-28T08:49:23.024Z"
   },
   {
    "duration": 33,
    "start_time": "2022-11-28T08:49:23.031Z"
   },
   {
    "duration": 11,
    "start_time": "2022-11-28T08:49:23.065Z"
   },
   {
    "duration": 49,
    "start_time": "2022-11-28T08:49:23.077Z"
   },
   {
    "duration": 83,
    "start_time": "2022-11-28T08:49:23.127Z"
   },
   {
    "duration": 13,
    "start_time": "2022-11-28T08:49:23.211Z"
   },
   {
    "duration": 10,
    "start_time": "2022-11-28T08:50:07.055Z"
   },
   {
    "duration": 10,
    "start_time": "2022-11-28T08:50:19.969Z"
   },
   {
    "duration": 12,
    "start_time": "2022-11-28T08:50:47.501Z"
   },
   {
    "duration": 10,
    "start_time": "2022-11-28T08:51:26.994Z"
   },
   {
    "duration": 11,
    "start_time": "2022-11-28T08:51:55.848Z"
   },
   {
    "duration": 11,
    "start_time": "2022-11-28T08:56:12.047Z"
   },
   {
    "duration": 614,
    "start_time": "2022-11-28T08:56:32.438Z"
   },
   {
    "duration": 235,
    "start_time": "2022-11-28T08:56:33.054Z"
   },
   {
    "duration": 30,
    "start_time": "2022-11-28T08:56:33.290Z"
   },
   {
    "duration": 14,
    "start_time": "2022-11-28T08:56:33.322Z"
   },
   {
    "duration": 80,
    "start_time": "2022-11-28T08:56:33.338Z"
   },
   {
    "duration": 71,
    "start_time": "2022-11-28T08:56:33.420Z"
   },
   {
    "duration": 89,
    "start_time": "2022-11-28T08:56:33.505Z"
   },
   {
    "duration": 20,
    "start_time": "2022-11-28T08:56:33.605Z"
   },
   {
    "duration": 125,
    "start_time": "2022-11-28T08:56:33.626Z"
   },
   {
    "duration": 51,
    "start_time": "2022-11-28T08:56:33.754Z"
   },
   {
    "duration": 13,
    "start_time": "2022-11-28T08:56:33.807Z"
   },
   {
    "duration": 12,
    "start_time": "2022-11-28T08:56:33.821Z"
   },
   {
    "duration": 31,
    "start_time": "2022-11-28T08:56:33.834Z"
   },
   {
    "duration": 4,
    "start_time": "2022-11-28T08:56:33.867Z"
   },
   {
    "duration": 4,
    "start_time": "2022-11-28T08:56:33.905Z"
   },
   {
    "duration": 6,
    "start_time": "2022-11-28T08:56:33.911Z"
   },
   {
    "duration": 371,
    "start_time": "2022-11-28T08:56:33.918Z"
   },
   {
    "duration": 25,
    "start_time": "2022-11-28T08:56:34.290Z"
   },
   {
    "duration": 18,
    "start_time": "2022-11-28T08:56:34.316Z"
   },
   {
    "duration": 3,
    "start_time": "2022-11-28T08:56:34.336Z"
   },
   {
    "duration": 35,
    "start_time": "2022-11-28T08:56:34.341Z"
   },
   {
    "duration": 35,
    "start_time": "2022-11-28T08:56:34.378Z"
   },
   {
    "duration": 34,
    "start_time": "2022-11-28T08:56:34.415Z"
   },
   {
    "duration": 73,
    "start_time": "2022-11-28T08:56:34.451Z"
   },
   {
    "duration": 11,
    "start_time": "2022-11-28T08:56:34.525Z"
   },
   {
    "duration": 44,
    "start_time": "2022-11-28T08:56:34.537Z"
   },
   {
    "duration": 12,
    "start_time": "2022-11-28T08:57:00.300Z"
   },
   {
    "duration": 596,
    "start_time": "2022-11-28T08:57:11.135Z"
   },
   {
    "duration": 170,
    "start_time": "2022-11-28T08:57:11.734Z"
   },
   {
    "duration": 21,
    "start_time": "2022-11-28T08:57:11.906Z"
   },
   {
    "duration": 13,
    "start_time": "2022-11-28T08:57:11.929Z"
   },
   {
    "duration": 88,
    "start_time": "2022-11-28T08:57:11.943Z"
   },
   {
    "duration": 81,
    "start_time": "2022-11-28T08:57:12.032Z"
   },
   {
    "duration": 113,
    "start_time": "2022-11-28T08:57:12.115Z"
   },
   {
    "duration": 18,
    "start_time": "2022-11-28T08:57:12.230Z"
   },
   {
    "duration": 127,
    "start_time": "2022-11-28T08:57:12.250Z"
   },
   {
    "duration": 55,
    "start_time": "2022-11-28T08:57:12.379Z"
   },
   {
    "duration": 11,
    "start_time": "2022-11-28T08:57:12.435Z"
   },
   {
    "duration": 11,
    "start_time": "2022-11-28T08:57:12.448Z"
   },
   {
    "duration": 56,
    "start_time": "2022-11-28T08:57:12.461Z"
   },
   {
    "duration": 4,
    "start_time": "2022-11-28T08:57:12.519Z"
   },
   {
    "duration": 8,
    "start_time": "2022-11-28T08:57:12.525Z"
   },
   {
    "duration": 18,
    "start_time": "2022-11-28T08:57:12.534Z"
   },
   {
    "duration": 342,
    "start_time": "2022-11-28T08:57:12.554Z"
   },
   {
    "duration": 24,
    "start_time": "2022-11-28T08:57:12.897Z"
   },
   {
    "duration": 18,
    "start_time": "2022-11-28T08:57:12.922Z"
   },
   {
    "duration": 4,
    "start_time": "2022-11-28T08:57:12.941Z"
   },
   {
    "duration": 32,
    "start_time": "2022-11-28T08:57:12.946Z"
   },
   {
    "duration": 32,
    "start_time": "2022-11-28T08:57:12.980Z"
   },
   {
    "duration": 25,
    "start_time": "2022-11-28T08:57:13.014Z"
   },
   {
    "duration": 81,
    "start_time": "2022-11-28T08:57:13.041Z"
   },
   {
    "duration": 9,
    "start_time": "2022-11-28T08:57:13.124Z"
   },
   {
    "duration": 82,
    "start_time": "2022-11-28T08:59:23.789Z"
   },
   {
    "duration": 731,
    "start_time": "2022-11-28T08:59:29.391Z"
   },
   {
    "duration": 217,
    "start_time": "2022-11-28T08:59:30.125Z"
   },
   {
    "duration": 21,
    "start_time": "2022-11-28T08:59:30.344Z"
   },
   {
    "duration": 13,
    "start_time": "2022-11-28T08:59:30.367Z"
   },
   {
    "duration": 80,
    "start_time": "2022-11-28T08:59:30.404Z"
   },
   {
    "duration": 73,
    "start_time": "2022-11-28T08:59:30.486Z"
   },
   {
    "duration": 105,
    "start_time": "2022-11-28T08:59:30.561Z"
   },
   {
    "duration": 17,
    "start_time": "2022-11-28T08:59:30.668Z"
   },
   {
    "duration": 132,
    "start_time": "2022-11-28T08:59:30.687Z"
   },
   {
    "duration": 46,
    "start_time": "2022-11-28T08:59:30.821Z"
   },
   {
    "duration": 12,
    "start_time": "2022-11-28T08:59:30.869Z"
   },
   {
    "duration": 26,
    "start_time": "2022-11-28T08:59:30.883Z"
   },
   {
    "duration": 56,
    "start_time": "2022-11-28T08:59:30.910Z"
   },
   {
    "duration": 5,
    "start_time": "2022-11-28T08:59:30.968Z"
   },
   {
    "duration": 17,
    "start_time": "2022-11-28T08:59:30.974Z"
   },
   {
    "duration": 26,
    "start_time": "2022-11-28T08:59:30.993Z"
   },
   {
    "duration": 395,
    "start_time": "2022-11-28T08:59:31.021Z"
   },
   {
    "duration": 18,
    "start_time": "2022-11-28T08:59:31.418Z"
   },
   {
    "duration": 50,
    "start_time": "2022-11-28T08:59:31.438Z"
   },
   {
    "duration": 4,
    "start_time": "2022-11-28T08:59:31.490Z"
   },
   {
    "duration": 35,
    "start_time": "2022-11-28T08:59:31.495Z"
   },
   {
    "duration": 10,
    "start_time": "2022-11-28T08:59:31.531Z"
   },
   {
    "duration": 27,
    "start_time": "2022-11-28T08:59:31.543Z"
   },
   {
    "duration": 140,
    "start_time": "2022-11-28T08:59:31.571Z"
   },
   {
    "duration": 11,
    "start_time": "2022-11-28T08:59:31.712Z"
   },
   {
    "duration": 352,
    "start_time": "2022-11-28T09:00:59.048Z"
   },
   {
    "duration": 1360,
    "start_time": "2022-11-28T09:16:45.044Z"
   },
   {
    "duration": 2682,
    "start_time": "2022-11-28T09:17:16.496Z"
   },
   {
    "duration": 5,
    "start_time": "2022-11-28T09:17:42.658Z"
   },
   {
    "duration": 3,
    "start_time": "2022-11-28T09:18:03.270Z"
   },
   {
    "duration": 4,
    "start_time": "2022-11-28T09:18:27.724Z"
   },
   {
    "duration": 5,
    "start_time": "2022-11-28T09:18:47.260Z"
   },
   {
    "duration": 4,
    "start_time": "2022-11-28T09:20:07.582Z"
   },
   {
    "duration": 752,
    "start_time": "2022-11-28T09:20:55.500Z"
   },
   {
    "duration": 173,
    "start_time": "2022-11-28T09:20:56.254Z"
   },
   {
    "duration": 21,
    "start_time": "2022-11-28T09:20:56.428Z"
   },
   {
    "duration": 13,
    "start_time": "2022-11-28T09:20:56.451Z"
   },
   {
    "duration": 88,
    "start_time": "2022-11-28T09:20:56.466Z"
   },
   {
    "duration": 89,
    "start_time": "2022-11-28T09:20:56.555Z"
   },
   {
    "duration": 99,
    "start_time": "2022-11-28T09:20:56.645Z"
   },
   {
    "duration": 18,
    "start_time": "2022-11-28T09:20:56.746Z"
   },
   {
    "duration": 129,
    "start_time": "2022-11-28T09:20:56.765Z"
   },
   {
    "duration": 49,
    "start_time": "2022-11-28T09:20:56.897Z"
   },
   {
    "duration": 14,
    "start_time": "2022-11-28T09:20:56.948Z"
   },
   {
    "duration": 18,
    "start_time": "2022-11-28T09:20:56.964Z"
   },
   {
    "duration": 52,
    "start_time": "2022-11-28T09:20:56.984Z"
   },
   {
    "duration": 5,
    "start_time": "2022-11-28T09:20:57.037Z"
   },
   {
    "duration": 14,
    "start_time": "2022-11-28T09:20:57.043Z"
   },
   {
    "duration": 13,
    "start_time": "2022-11-28T09:20:57.058Z"
   },
   {
    "duration": 435,
    "start_time": "2022-11-28T09:20:57.073Z"
   },
   {
    "duration": 31,
    "start_time": "2022-11-28T09:20:57.510Z"
   },
   {
    "duration": 23,
    "start_time": "2022-11-28T09:20:57.543Z"
   },
   {
    "duration": 5,
    "start_time": "2022-11-28T09:20:57.568Z"
   },
   {
    "duration": 53,
    "start_time": "2022-11-28T09:20:57.575Z"
   },
   {
    "duration": 11,
    "start_time": "2022-11-28T09:20:57.630Z"
   },
   {
    "duration": 27,
    "start_time": "2022-11-28T09:20:57.643Z"
   },
   {
    "duration": 155,
    "start_time": "2022-11-28T09:20:57.672Z"
   },
   {
    "duration": 12,
    "start_time": "2022-11-28T09:20:57.829Z"
   },
   {
    "duration": 9,
    "start_time": "2022-11-28T09:20:57.842Z"
   },
   {
    "duration": 714,
    "start_time": "2022-11-28T10:02:20.170Z"
   },
   {
    "duration": 171,
    "start_time": "2022-11-28T10:02:20.886Z"
   },
   {
    "duration": 35,
    "start_time": "2022-11-28T10:02:21.059Z"
   },
   {
    "duration": 13,
    "start_time": "2022-11-28T10:02:21.104Z"
   },
   {
    "duration": 68,
    "start_time": "2022-11-28T10:02:21.119Z"
   },
   {
    "duration": 73,
    "start_time": "2022-11-28T10:02:21.205Z"
   },
   {
    "duration": 96,
    "start_time": "2022-11-28T10:02:21.279Z"
   },
   {
    "duration": 16,
    "start_time": "2022-11-28T10:02:21.377Z"
   },
   {
    "duration": 113,
    "start_time": "2022-11-28T10:02:21.405Z"
   },
   {
    "duration": 41,
    "start_time": "2022-11-28T10:02:21.521Z"
   },
   {
    "duration": 11,
    "start_time": "2022-11-28T10:02:21.564Z"
   },
   {
    "duration": 27,
    "start_time": "2022-11-28T10:02:21.577Z"
   },
   {
    "duration": 34,
    "start_time": "2022-11-28T10:02:21.606Z"
   },
   {
    "duration": 5,
    "start_time": "2022-11-28T10:02:21.641Z"
   },
   {
    "duration": 7,
    "start_time": "2022-11-28T10:02:21.647Z"
   },
   {
    "duration": 7,
    "start_time": "2022-11-28T10:02:21.655Z"
   },
   {
    "duration": 391,
    "start_time": "2022-11-28T10:02:21.663Z"
   },
   {
    "duration": 20,
    "start_time": "2022-11-28T10:02:22.055Z"
   },
   {
    "duration": 34,
    "start_time": "2022-11-28T10:02:22.077Z"
   },
   {
    "duration": 4,
    "start_time": "2022-11-28T10:02:22.113Z"
   },
   {
    "duration": 50,
    "start_time": "2022-11-28T10:02:22.119Z"
   },
   {
    "duration": 13,
    "start_time": "2022-11-28T10:02:22.177Z"
   },
   {
    "duration": 35,
    "start_time": "2022-11-28T10:02:22.192Z"
   },
   {
    "duration": 129,
    "start_time": "2022-11-28T10:02:22.228Z"
   },
   {
    "duration": 11,
    "start_time": "2022-11-28T10:02:22.359Z"
   },
   {
    "duration": 15,
    "start_time": "2022-11-28T10:02:22.372Z"
   },
   {
    "duration": 78,
    "start_time": "2022-11-28T10:05:00.758Z"
   },
   {
    "duration": 727,
    "start_time": "2022-11-28T10:05:10.387Z"
   },
   {
    "duration": 172,
    "start_time": "2022-11-28T10:05:11.117Z"
   },
   {
    "duration": 30,
    "start_time": "2022-11-28T10:05:11.290Z"
   },
   {
    "duration": 20,
    "start_time": "2022-11-28T10:05:11.322Z"
   },
   {
    "duration": 99,
    "start_time": "2022-11-28T10:05:11.343Z"
   },
   {
    "duration": 117,
    "start_time": "2022-11-28T10:05:11.444Z"
   },
   {
    "duration": 110,
    "start_time": "2022-11-28T10:05:11.563Z"
   },
   {
    "duration": 17,
    "start_time": "2022-11-28T10:05:11.675Z"
   },
   {
    "duration": 164,
    "start_time": "2022-11-28T10:05:11.694Z"
   },
   {
    "duration": 51,
    "start_time": "2022-11-28T10:05:11.861Z"
   },
   {
    "duration": 12,
    "start_time": "2022-11-28T10:05:11.914Z"
   },
   {
    "duration": 13,
    "start_time": "2022-11-28T10:05:11.928Z"
   },
   {
    "duration": 33,
    "start_time": "2022-11-28T10:05:11.943Z"
   },
   {
    "duration": 28,
    "start_time": "2022-11-28T10:05:11.978Z"
   },
   {
    "duration": 5,
    "start_time": "2022-11-28T10:05:12.007Z"
   },
   {
    "duration": 7,
    "start_time": "2022-11-28T10:05:12.015Z"
   },
   {
    "duration": 423,
    "start_time": "2022-11-28T10:05:12.023Z"
   },
   {
    "duration": 21,
    "start_time": "2022-11-28T10:05:12.447Z"
   },
   {
    "duration": 71,
    "start_time": "2022-11-28T10:05:12.470Z"
   },
   {
    "duration": 6,
    "start_time": "2022-11-28T10:05:12.543Z"
   },
   {
    "duration": 33,
    "start_time": "2022-11-28T10:05:12.550Z"
   },
   {
    "duration": 12,
    "start_time": "2022-11-28T10:05:12.585Z"
   },
   {
    "duration": 32,
    "start_time": "2022-11-28T10:05:12.599Z"
   },
   {
    "duration": 134,
    "start_time": "2022-11-28T10:05:12.633Z"
   },
   {
    "duration": 11,
    "start_time": "2022-11-28T10:05:12.769Z"
   },
   {
    "duration": 7,
    "start_time": "2022-11-28T10:05:12.782Z"
   },
   {
    "duration": 77,
    "start_time": "2022-11-28T10:05:12.806Z"
   },
   {
    "duration": 16,
    "start_time": "2022-11-28T10:14:13.897Z"
   },
   {
    "duration": 1431,
    "start_time": "2022-11-28T10:15:06.189Z"
   },
   {
    "duration": 200,
    "start_time": "2022-11-28T10:15:25.477Z"
   },
   {
    "duration": 199,
    "start_time": "2022-11-28T10:16:26.247Z"
   },
   {
    "duration": 195,
    "start_time": "2022-11-28T10:16:53.464Z"
   },
   {
    "duration": 196,
    "start_time": "2022-11-28T10:17:06.450Z"
   },
   {
    "duration": 194,
    "start_time": "2022-11-28T10:17:22.931Z"
   },
   {
    "duration": 211,
    "start_time": "2022-11-28T10:17:29.186Z"
   },
   {
    "duration": 17,
    "start_time": "2022-11-28T10:18:26.587Z"
   },
   {
    "duration": 199,
    "start_time": "2022-11-28T10:18:39.430Z"
   },
   {
    "duration": 211,
    "start_time": "2022-11-28T10:57:20.669Z"
   },
   {
    "duration": 1212,
    "start_time": "2022-11-28T11:01:05.092Z"
   },
   {
    "duration": 174,
    "start_time": "2022-11-28T11:01:06.307Z"
   },
   {
    "duration": 25,
    "start_time": "2022-11-28T11:01:06.483Z"
   },
   {
    "duration": 26,
    "start_time": "2022-11-28T11:01:06.510Z"
   },
   {
    "duration": 93,
    "start_time": "2022-11-28T11:01:06.538Z"
   },
   {
    "duration": 81,
    "start_time": "2022-11-28T11:01:06.633Z"
   },
   {
    "duration": 105,
    "start_time": "2022-11-28T11:01:06.716Z"
   },
   {
    "duration": 21,
    "start_time": "2022-11-28T11:01:06.823Z"
   },
   {
    "duration": 169,
    "start_time": "2022-11-28T11:01:06.846Z"
   },
   {
    "duration": 50,
    "start_time": "2022-11-28T11:01:07.017Z"
   },
   {
    "duration": 15,
    "start_time": "2022-11-28T11:01:07.069Z"
   },
   {
    "duration": 27,
    "start_time": "2022-11-28T11:01:07.105Z"
   },
   {
    "duration": 43,
    "start_time": "2022-11-28T11:01:07.133Z"
   },
   {
    "duration": 7,
    "start_time": "2022-11-28T11:01:07.179Z"
   },
   {
    "duration": 37,
    "start_time": "2022-11-28T11:01:07.187Z"
   },
   {
    "duration": 42,
    "start_time": "2022-11-28T11:01:07.225Z"
   },
   {
    "duration": 474,
    "start_time": "2022-11-28T11:01:07.269Z"
   },
   {
    "duration": 20,
    "start_time": "2022-11-28T11:01:07.745Z"
   },
   {
    "duration": 38,
    "start_time": "2022-11-28T11:01:07.767Z"
   },
   {
    "duration": 6,
    "start_time": "2022-11-28T11:01:07.807Z"
   },
   {
    "duration": 93,
    "start_time": "2022-11-28T11:01:07.815Z"
   },
   {
    "duration": 51,
    "start_time": "2022-11-28T11:01:07.909Z"
   },
   {
    "duration": 87,
    "start_time": "2022-11-28T11:01:07.961Z"
   },
   {
    "duration": 72,
    "start_time": "2022-11-28T11:01:08.049Z"
   },
   {
    "duration": 11,
    "start_time": "2022-11-28T11:01:08.123Z"
   },
   {
    "duration": 37,
    "start_time": "2022-11-28T11:01:08.135Z"
   },
   {
    "duration": 314,
    "start_time": "2022-11-28T11:01:08.174Z"
   },
   {
    "duration": 4,
    "start_time": "2022-11-28T11:19:42.955Z"
   },
   {
    "duration": 5,
    "start_time": "2022-11-28T11:19:53.734Z"
   },
   {
    "duration": 7,
    "start_time": "2022-11-28T11:20:36.179Z"
   },
   {
    "duration": 7,
    "start_time": "2022-11-28T11:21:16.535Z"
   },
   {
    "duration": 7,
    "start_time": "2022-11-28T11:28:40.132Z"
   },
   {
    "duration": 4,
    "start_time": "2022-11-28T11:29:14.497Z"
   },
   {
    "duration": 9,
    "start_time": "2022-11-28T11:35:14.672Z"
   },
   {
    "duration": 7,
    "start_time": "2022-11-28T11:37:35.023Z"
   },
   {
    "duration": 282,
    "start_time": "2022-11-28T11:45:30.199Z"
   },
   {
    "duration": 210,
    "start_time": "2022-11-28T11:45:39.585Z"
   },
   {
    "duration": 1247,
    "start_time": "2022-11-28T11:45:46.561Z"
   },
   {
    "duration": 176,
    "start_time": "2022-11-28T11:45:47.810Z"
   },
   {
    "duration": 21,
    "start_time": "2022-11-28T11:45:47.988Z"
   },
   {
    "duration": 14,
    "start_time": "2022-11-28T11:45:48.011Z"
   },
   {
    "duration": 96,
    "start_time": "2022-11-28T11:45:48.027Z"
   },
   {
    "duration": 96,
    "start_time": "2022-11-28T11:45:48.124Z"
   },
   {
    "duration": 103,
    "start_time": "2022-11-28T11:45:48.222Z"
   },
   {
    "duration": 17,
    "start_time": "2022-11-28T11:45:48.326Z"
   },
   {
    "duration": 132,
    "start_time": "2022-11-28T11:45:48.345Z"
   },
   {
    "duration": 55,
    "start_time": "2022-11-28T11:45:48.480Z"
   },
   {
    "duration": 11,
    "start_time": "2022-11-28T11:45:48.537Z"
   },
   {
    "duration": 9,
    "start_time": "2022-11-28T11:45:48.550Z"
   },
   {
    "duration": 51,
    "start_time": "2022-11-28T11:45:48.561Z"
   },
   {
    "duration": 4,
    "start_time": "2022-11-28T11:45:48.614Z"
   },
   {
    "duration": 11,
    "start_time": "2022-11-28T11:45:48.619Z"
   },
   {
    "duration": 5,
    "start_time": "2022-11-28T11:45:48.632Z"
   },
   {
    "duration": 368,
    "start_time": "2022-11-28T11:45:48.639Z"
   },
   {
    "duration": 20,
    "start_time": "2022-11-28T11:45:49.009Z"
   },
   {
    "duration": 20,
    "start_time": "2022-11-28T11:45:49.031Z"
   },
   {
    "duration": 4,
    "start_time": "2022-11-28T11:45:49.053Z"
   },
   {
    "duration": 59,
    "start_time": "2022-11-28T11:45:49.058Z"
   },
   {
    "duration": 14,
    "start_time": "2022-11-28T11:45:49.119Z"
   },
   {
    "duration": 40,
    "start_time": "2022-11-28T11:45:49.134Z"
   },
   {
    "duration": 94,
    "start_time": "2022-11-28T11:45:49.176Z"
   },
   {
    "duration": 12,
    "start_time": "2022-11-28T11:45:49.272Z"
   },
   {
    "duration": 4,
    "start_time": "2022-11-28T11:45:49.305Z"
   },
   {
    "duration": 215,
    "start_time": "2022-11-28T11:45:49.311Z"
   },
   {
    "duration": 7,
    "start_time": "2022-11-28T11:45:49.529Z"
   },
   {
    "duration": 4,
    "start_time": "2022-11-28T11:47:32.415Z"
   },
   {
    "duration": 1386,
    "start_time": "2022-11-28T11:47:43.818Z"
   },
   {
    "duration": 4,
    "start_time": "2022-11-28T11:47:53.643Z"
   },
   {
    "duration": 4,
    "start_time": "2022-11-28T11:48:20.931Z"
   },
   {
    "duration": 4,
    "start_time": "2022-11-28T11:48:44.496Z"
   },
   {
    "duration": 4,
    "start_time": "2022-11-28T11:49:01.080Z"
   },
   {
    "duration": 7,
    "start_time": "2022-11-28T11:49:11.341Z"
   },
   {
    "duration": 1130,
    "start_time": "2022-11-28T11:49:23.242Z"
   },
   {
    "duration": 181,
    "start_time": "2022-11-28T11:49:24.374Z"
   },
   {
    "duration": 20,
    "start_time": "2022-11-28T11:49:24.556Z"
   },
   {
    "duration": 16,
    "start_time": "2022-11-28T11:49:24.578Z"
   },
   {
    "duration": 87,
    "start_time": "2022-11-28T11:49:24.595Z"
   },
   {
    "duration": 72,
    "start_time": "2022-11-28T11:49:24.684Z"
   },
   {
    "duration": 93,
    "start_time": "2022-11-28T11:49:24.757Z"
   },
   {
    "duration": 16,
    "start_time": "2022-11-28T11:49:24.852Z"
   },
   {
    "duration": 123,
    "start_time": "2022-11-28T11:49:24.869Z"
   },
   {
    "duration": 48,
    "start_time": "2022-11-28T11:49:24.994Z"
   },
   {
    "duration": 12,
    "start_time": "2022-11-28T11:49:25.043Z"
   },
   {
    "duration": 25,
    "start_time": "2022-11-28T11:49:25.056Z"
   },
   {
    "duration": 50,
    "start_time": "2022-11-28T11:49:25.083Z"
   },
   {
    "duration": 5,
    "start_time": "2022-11-28T11:49:25.134Z"
   },
   {
    "duration": 44,
    "start_time": "2022-11-28T11:49:25.140Z"
   },
   {
    "duration": 25,
    "start_time": "2022-11-28T11:49:25.185Z"
   },
   {
    "duration": 359,
    "start_time": "2022-11-28T11:49:25.211Z"
   },
   {
    "duration": 20,
    "start_time": "2022-11-28T11:49:25.572Z"
   },
   {
    "duration": 39,
    "start_time": "2022-11-28T11:49:25.605Z"
   },
   {
    "duration": 15,
    "start_time": "2022-11-28T11:49:25.646Z"
   },
   {
    "duration": 47,
    "start_time": "2022-11-28T11:49:25.663Z"
   },
   {
    "duration": 11,
    "start_time": "2022-11-28T11:49:25.712Z"
   },
   {
    "duration": 32,
    "start_time": "2022-11-28T11:49:25.725Z"
   },
   {
    "duration": 75,
    "start_time": "2022-11-28T11:49:25.758Z"
   },
   {
    "duration": 10,
    "start_time": "2022-11-28T11:49:25.835Z"
   },
   {
    "duration": 22,
    "start_time": "2022-11-28T11:49:25.847Z"
   },
   {
    "duration": 215,
    "start_time": "2022-11-28T11:49:25.871Z"
   },
   {
    "duration": 17,
    "start_time": "2022-11-28T11:49:26.089Z"
   },
   {
    "duration": 8,
    "start_time": "2022-11-28T11:50:04.445Z"
   },
   {
    "duration": 1136,
    "start_time": "2022-11-28T12:28:35.734Z"
   },
   {
    "duration": 181,
    "start_time": "2022-11-28T12:28:36.872Z"
   },
   {
    "duration": 34,
    "start_time": "2022-11-28T12:28:37.055Z"
   },
   {
    "duration": 24,
    "start_time": "2022-11-28T12:28:37.092Z"
   },
   {
    "duration": 69,
    "start_time": "2022-11-28T12:28:37.117Z"
   },
   {
    "duration": 88,
    "start_time": "2022-11-28T12:28:37.187Z"
   },
   {
    "duration": 119,
    "start_time": "2022-11-28T12:28:37.276Z"
   },
   {
    "duration": 22,
    "start_time": "2022-11-28T12:28:37.404Z"
   },
   {
    "duration": 144,
    "start_time": "2022-11-28T12:28:37.429Z"
   },
   {
    "duration": 59,
    "start_time": "2022-11-28T12:28:37.575Z"
   },
   {
    "duration": 12,
    "start_time": "2022-11-28T12:28:37.635Z"
   },
   {
    "duration": 12,
    "start_time": "2022-11-28T12:28:37.648Z"
   },
   {
    "duration": 45,
    "start_time": "2022-11-28T12:28:37.662Z"
   },
   {
    "duration": 4,
    "start_time": "2022-11-28T12:28:37.709Z"
   },
   {
    "duration": 8,
    "start_time": "2022-11-28T12:28:37.714Z"
   },
   {
    "duration": 5,
    "start_time": "2022-11-28T12:28:37.724Z"
   },
   {
    "duration": 368,
    "start_time": "2022-11-28T12:28:37.731Z"
   },
   {
    "duration": 24,
    "start_time": "2022-11-28T12:28:38.100Z"
   },
   {
    "duration": 25,
    "start_time": "2022-11-28T12:28:38.126Z"
   },
   {
    "duration": 10,
    "start_time": "2022-11-28T12:28:38.153Z"
   },
   {
    "duration": 62,
    "start_time": "2022-11-28T12:28:38.165Z"
   },
   {
    "duration": 11,
    "start_time": "2022-11-28T12:28:38.229Z"
   },
   {
    "duration": 29,
    "start_time": "2022-11-28T12:28:38.241Z"
   },
   {
    "duration": 85,
    "start_time": "2022-11-28T12:28:38.272Z"
   },
   {
    "duration": 11,
    "start_time": "2022-11-28T12:28:38.359Z"
   },
   {
    "duration": 12,
    "start_time": "2022-11-28T12:28:38.371Z"
   },
   {
    "duration": 231,
    "start_time": "2022-11-28T12:28:38.384Z"
   },
   {
    "duration": 8,
    "start_time": "2022-11-28T12:28:38.617Z"
   },
   {
    "duration": 15,
    "start_time": "2022-11-28T12:38:10.890Z"
   },
   {
    "duration": 95,
    "start_time": "2022-11-28T12:40:14.500Z"
   },
   {
    "duration": 1722,
    "start_time": "2022-11-28T12:40:45.426Z"
   },
   {
    "duration": 1320,
    "start_time": "2022-11-28T12:40:56.664Z"
   },
   {
    "duration": 66,
    "start_time": "2022-11-28T12:41:54.461Z"
   },
   {
    "duration": 73,
    "start_time": "2022-11-28T12:42:38.154Z"
   },
   {
    "duration": 1087,
    "start_time": "2022-11-28T12:42:49.561Z"
   },
   {
    "duration": 71,
    "start_time": "2022-11-28T12:43:24.424Z"
   },
   {
    "duration": 1411,
    "start_time": "2022-11-28T12:45:28.680Z"
   },
   {
    "duration": 68,
    "start_time": "2022-11-28T12:45:43.548Z"
   },
   {
    "duration": 87,
    "start_time": "2022-11-28T12:49:05.687Z"
   },
   {
    "duration": 67,
    "start_time": "2022-11-28T12:49:17.982Z"
   },
   {
    "duration": 1208,
    "start_time": "2022-11-28T12:50:04.244Z"
   },
   {
    "duration": 65,
    "start_time": "2022-11-28T12:50:37.132Z"
   },
   {
    "duration": 77,
    "start_time": "2022-11-28T12:51:20.235Z"
   },
   {
    "duration": 73,
    "start_time": "2022-11-28T12:51:46.721Z"
   },
   {
    "duration": 82,
    "start_time": "2022-11-28T12:54:33.653Z"
   },
   {
    "duration": 76,
    "start_time": "2022-11-28T12:55:05.244Z"
   },
   {
    "duration": 67,
    "start_time": "2022-11-28T12:55:35.366Z"
   },
   {
    "duration": 78,
    "start_time": "2022-11-28T12:57:49.671Z"
   },
   {
    "duration": 70,
    "start_time": "2022-11-28T12:58:34.195Z"
   },
   {
    "duration": 73,
    "start_time": "2022-11-28T12:58:44.881Z"
   },
   {
    "duration": 243,
    "start_time": "2022-11-28T13:05:27.496Z"
   },
   {
    "duration": 198,
    "start_time": "2022-11-28T13:05:59.607Z"
   },
   {
    "duration": 71,
    "start_time": "2022-11-28T13:08:48.746Z"
   },
   {
    "duration": 192,
    "start_time": "2022-11-28T13:14:56.269Z"
   },
   {
    "duration": 7,
    "start_time": "2022-11-28T13:22:55.333Z"
   },
   {
    "duration": 7,
    "start_time": "2022-11-28T13:22:59.793Z"
   },
   {
    "duration": 9,
    "start_time": "2022-11-28T13:23:33.808Z"
   },
   {
    "duration": 9,
    "start_time": "2022-11-28T13:27:30.895Z"
   },
   {
    "duration": 11,
    "start_time": "2022-11-28T13:27:53.126Z"
   },
   {
    "duration": 40,
    "start_time": "2022-11-28T13:28:12.789Z"
   },
   {
    "duration": 38,
    "start_time": "2022-11-28T13:28:38.756Z"
   },
   {
    "duration": 37,
    "start_time": "2022-11-28T13:28:44.235Z"
   },
   {
    "duration": 1265,
    "start_time": "2022-11-28T13:38:33.268Z"
   },
   {
    "duration": 77,
    "start_time": "2022-11-28T13:38:47.628Z"
   },
   {
    "duration": 80,
    "start_time": "2022-11-28T13:40:59.182Z"
   },
   {
    "duration": 1656,
    "start_time": "2022-11-28T13:41:27.262Z"
   },
   {
    "duration": 1670,
    "start_time": "2022-11-28T13:42:20.192Z"
   },
   {
    "duration": 4,
    "start_time": "2022-11-28T13:42:50.940Z"
   },
   {
    "duration": 70,
    "start_time": "2022-11-28T13:43:18.568Z"
   },
   {
    "duration": 1257,
    "start_time": "2022-11-28T13:43:30.190Z"
   },
   {
    "duration": 173,
    "start_time": "2022-11-28T13:43:31.449Z"
   },
   {
    "duration": 21,
    "start_time": "2022-11-28T13:43:31.623Z"
   },
   {
    "duration": 51,
    "start_time": "2022-11-28T13:43:31.646Z"
   },
   {
    "duration": 74,
    "start_time": "2022-11-28T13:43:31.698Z"
   },
   {
    "duration": 75,
    "start_time": "2022-11-28T13:43:31.774Z"
   },
   {
    "duration": 101,
    "start_time": "2022-11-28T13:43:31.851Z"
   },
   {
    "duration": 16,
    "start_time": "2022-11-28T13:43:31.954Z"
   },
   {
    "duration": 120,
    "start_time": "2022-11-28T13:43:31.971Z"
   },
   {
    "duration": 53,
    "start_time": "2022-11-28T13:43:32.093Z"
   },
   {
    "duration": 14,
    "start_time": "2022-11-28T13:43:32.147Z"
   },
   {
    "duration": 13,
    "start_time": "2022-11-28T13:43:32.164Z"
   },
   {
    "duration": 51,
    "start_time": "2022-11-28T13:43:32.179Z"
   },
   {
    "duration": 5,
    "start_time": "2022-11-28T13:43:32.232Z"
   },
   {
    "duration": 6,
    "start_time": "2022-11-28T13:43:32.238Z"
   },
   {
    "duration": 5,
    "start_time": "2022-11-28T13:43:32.246Z"
   },
   {
    "duration": 361,
    "start_time": "2022-11-28T13:43:32.253Z"
   },
   {
    "duration": 20,
    "start_time": "2022-11-28T13:43:32.615Z"
   },
   {
    "duration": 28,
    "start_time": "2022-11-28T13:43:32.637Z"
   },
   {
    "duration": 3,
    "start_time": "2022-11-28T13:43:32.667Z"
   },
   {
    "duration": 46,
    "start_time": "2022-11-28T13:43:32.672Z"
   },
   {
    "duration": 12,
    "start_time": "2022-11-28T13:43:32.720Z"
   },
   {
    "duration": 27,
    "start_time": "2022-11-28T13:43:32.734Z"
   },
   {
    "duration": 87,
    "start_time": "2022-11-28T13:43:32.763Z"
   },
   {
    "duration": 10,
    "start_time": "2022-11-28T13:43:32.852Z"
   },
   {
    "duration": 5,
    "start_time": "2022-11-28T13:43:32.863Z"
   },
   {
    "duration": 52,
    "start_time": "2022-11-28T13:43:32.870Z"
   },
   {
    "duration": 85,
    "start_time": "2022-11-28T13:43:32.925Z"
   },
   {
    "duration": 1313,
    "start_time": "2022-11-28T13:43:33.011Z"
   },
   {
    "duration": 0,
    "start_time": "2022-11-28T13:43:34.326Z"
   },
   {
    "duration": 0,
    "start_time": "2022-11-28T13:43:34.327Z"
   },
   {
    "duration": 0,
    "start_time": "2022-11-28T13:43:34.329Z"
   },
   {
    "duration": 67,
    "start_time": "2022-11-28T13:51:59.685Z"
   },
   {
    "duration": 82,
    "start_time": "2022-11-28T14:00:11.218Z"
   },
   {
    "duration": 12,
    "start_time": "2022-11-28T14:00:28.370Z"
   },
   {
    "duration": 1171,
    "start_time": "2022-11-28T14:00:42.875Z"
   },
   {
    "duration": 1250,
    "start_time": "2022-11-28T14:01:44.302Z"
   },
   {
    "duration": 172,
    "start_time": "2022-11-28T14:01:45.554Z"
   },
   {
    "duration": 21,
    "start_time": "2022-11-28T14:01:45.728Z"
   },
   {
    "duration": 14,
    "start_time": "2022-11-28T14:01:45.751Z"
   },
   {
    "duration": 87,
    "start_time": "2022-11-28T14:01:45.767Z"
   },
   {
    "duration": 85,
    "start_time": "2022-11-28T14:01:45.855Z"
   },
   {
    "duration": 92,
    "start_time": "2022-11-28T14:01:45.942Z"
   },
   {
    "duration": 16,
    "start_time": "2022-11-28T14:01:46.036Z"
   },
   {
    "duration": 136,
    "start_time": "2022-11-28T14:01:46.054Z"
   },
   {
    "duration": 51,
    "start_time": "2022-11-28T14:01:46.194Z"
   },
   {
    "duration": 12,
    "start_time": "2022-11-28T14:01:46.246Z"
   },
   {
    "duration": 13,
    "start_time": "2022-11-28T14:01:46.260Z"
   },
   {
    "duration": 51,
    "start_time": "2022-11-28T14:01:46.275Z"
   },
   {
    "duration": 5,
    "start_time": "2022-11-28T14:01:46.328Z"
   },
   {
    "duration": 7,
    "start_time": "2022-11-28T14:01:46.334Z"
   },
   {
    "duration": 7,
    "start_time": "2022-11-28T14:01:46.342Z"
   },
   {
    "duration": 385,
    "start_time": "2022-11-28T14:01:46.351Z"
   },
   {
    "duration": 35,
    "start_time": "2022-11-28T14:01:46.738Z"
   },
   {
    "duration": 36,
    "start_time": "2022-11-28T14:01:46.776Z"
   },
   {
    "duration": 4,
    "start_time": "2022-11-28T14:01:46.814Z"
   },
   {
    "duration": 52,
    "start_time": "2022-11-28T14:01:46.819Z"
   },
   {
    "duration": 12,
    "start_time": "2022-11-28T14:01:46.873Z"
   },
   {
    "duration": 38,
    "start_time": "2022-11-28T14:01:46.886Z"
   },
   {
    "duration": 88,
    "start_time": "2022-11-28T14:01:46.925Z"
   },
   {
    "duration": 9,
    "start_time": "2022-11-28T14:01:47.015Z"
   },
   {
    "duration": 7,
    "start_time": "2022-11-28T14:01:47.026Z"
   },
   {
    "duration": 41,
    "start_time": "2022-11-28T14:01:47.035Z"
   },
   {
    "duration": 94,
    "start_time": "2022-11-28T14:01:47.079Z"
   },
   {
    "duration": 1311,
    "start_time": "2022-11-28T14:01:47.175Z"
   },
   {
    "duration": 0,
    "start_time": "2022-11-28T14:01:48.488Z"
   },
   {
    "duration": 0,
    "start_time": "2022-11-28T14:01:48.490Z"
   },
   {
    "duration": 0,
    "start_time": "2022-11-28T14:01:48.491Z"
   },
   {
    "duration": 8,
    "start_time": "2022-11-28T14:03:13.602Z"
   },
   {
    "duration": 8,
    "start_time": "2022-11-28T14:17:38.236Z"
   },
   {
    "duration": 16,
    "start_time": "2022-11-28T14:17:40.978Z"
   },
   {
    "duration": 7,
    "start_time": "2022-11-28T14:18:23.422Z"
   },
   {
    "duration": 15,
    "start_time": "2022-11-28T14:18:25.738Z"
   },
   {
    "duration": 1213,
    "start_time": "2022-11-28T14:18:58.848Z"
   },
   {
    "duration": 189,
    "start_time": "2022-11-28T14:19:00.064Z"
   },
   {
    "duration": 22,
    "start_time": "2022-11-28T14:19:00.255Z"
   },
   {
    "duration": 40,
    "start_time": "2022-11-28T14:19:00.279Z"
   },
   {
    "duration": 83,
    "start_time": "2022-11-28T14:19:00.322Z"
   },
   {
    "duration": 76,
    "start_time": "2022-11-28T14:19:00.407Z"
   },
   {
    "duration": 106,
    "start_time": "2022-11-28T14:19:00.485Z"
   },
   {
    "duration": 26,
    "start_time": "2022-11-28T14:19:00.593Z"
   },
   {
    "duration": 157,
    "start_time": "2022-11-28T14:19:00.621Z"
   },
   {
    "duration": 50,
    "start_time": "2022-11-28T14:19:00.779Z"
   },
   {
    "duration": 24,
    "start_time": "2022-11-28T14:19:00.831Z"
   },
   {
    "duration": 41,
    "start_time": "2022-11-28T14:19:00.858Z"
   },
   {
    "duration": 45,
    "start_time": "2022-11-28T14:19:00.901Z"
   },
   {
    "duration": 4,
    "start_time": "2022-11-28T14:19:00.950Z"
   },
   {
    "duration": 28,
    "start_time": "2022-11-28T14:19:00.956Z"
   },
   {
    "duration": 15,
    "start_time": "2022-11-28T14:19:00.986Z"
   },
   {
    "duration": 350,
    "start_time": "2022-11-28T14:19:01.003Z"
   },
   {
    "duration": 19,
    "start_time": "2022-11-28T14:19:01.355Z"
   },
   {
    "duration": 73,
    "start_time": "2022-11-28T14:19:01.376Z"
   },
   {
    "duration": 55,
    "start_time": "2022-11-28T14:19:01.451Z"
   },
   {
    "duration": 79,
    "start_time": "2022-11-28T14:19:01.508Z"
   },
   {
    "duration": 16,
    "start_time": "2022-11-28T14:19:01.589Z"
   },
   {
    "duration": 83,
    "start_time": "2022-11-28T14:19:01.606Z"
   },
   {
    "duration": 93,
    "start_time": "2022-11-28T14:19:01.690Z"
   },
   {
    "duration": 12,
    "start_time": "2022-11-28T14:19:01.785Z"
   },
   {
    "duration": 30,
    "start_time": "2022-11-28T14:19:01.804Z"
   },
   {
    "duration": 65,
    "start_time": "2022-11-28T14:19:01.836Z"
   },
   {
    "duration": 74,
    "start_time": "2022-11-28T14:19:01.903Z"
   },
   {
    "duration": 7,
    "start_time": "2022-11-28T14:19:01.979Z"
   },
   {
    "duration": 23,
    "start_time": "2022-11-28T14:19:01.988Z"
   },
   {
    "duration": 24,
    "start_time": "2022-11-28T14:19:02.013Z"
   },
   {
    "duration": 29,
    "start_time": "2022-11-28T14:19:02.039Z"
   },
   {
    "duration": 10,
    "start_time": "2022-11-28T14:26:53.342Z"
   },
   {
    "duration": 5,
    "start_time": "2022-11-28T14:27:05.225Z"
   },
   {
    "duration": 9,
    "start_time": "2022-11-28T14:27:06.172Z"
   },
   {
    "duration": 6,
    "start_time": "2022-11-28T14:33:17.549Z"
   },
   {
    "duration": 9,
    "start_time": "2022-11-28T14:33:22.698Z"
   },
   {
    "duration": 78,
    "start_time": "2022-11-28T14:34:07.235Z"
   },
   {
    "duration": 4,
    "start_time": "2022-11-28T14:34:13.980Z"
   },
   {
    "duration": 6,
    "start_time": "2022-11-28T14:35:30.040Z"
   },
   {
    "duration": 9,
    "start_time": "2022-11-28T14:35:35.127Z"
   },
   {
    "duration": 8,
    "start_time": "2022-11-28T14:37:25.925Z"
   },
   {
    "duration": 9,
    "start_time": "2022-11-28T15:01:14.766Z"
   },
   {
    "duration": 4,
    "start_time": "2022-11-28T15:02:50.561Z"
   },
   {
    "duration": 4,
    "start_time": "2022-11-28T15:02:56.107Z"
   },
   {
    "duration": 18,
    "start_time": "2022-11-28T15:03:00.031Z"
   },
   {
    "duration": 8,
    "start_time": "2022-11-28T15:04:48.040Z"
   },
   {
    "duration": 10,
    "start_time": "2022-11-28T15:29:28.950Z"
   },
   {
    "duration": 11,
    "start_time": "2022-11-28T15:30:48.468Z"
   },
   {
    "duration": 9,
    "start_time": "2022-11-28T15:31:47.538Z"
   },
   {
    "duration": 1212,
    "start_time": "2022-11-28T15:32:59.431Z"
   },
   {
    "duration": 175,
    "start_time": "2022-11-28T15:33:00.646Z"
   },
   {
    "duration": 20,
    "start_time": "2022-11-28T15:33:00.822Z"
   },
   {
    "duration": 29,
    "start_time": "2022-11-28T15:33:00.845Z"
   },
   {
    "duration": 80,
    "start_time": "2022-11-28T15:33:00.876Z"
   },
   {
    "duration": 73,
    "start_time": "2022-11-28T15:33:00.959Z"
   },
   {
    "duration": 203,
    "start_time": "2022-11-28T15:33:01.034Z"
   },
   {
    "duration": 17,
    "start_time": "2022-11-28T15:33:01.239Z"
   },
   {
    "duration": 119,
    "start_time": "2022-11-28T15:33:01.257Z"
   },
   {
    "duration": 55,
    "start_time": "2022-11-28T15:33:01.379Z"
   },
   {
    "duration": 11,
    "start_time": "2022-11-28T15:33:01.436Z"
   },
   {
    "duration": 84,
    "start_time": "2022-11-28T15:33:01.449Z"
   },
   {
    "duration": 127,
    "start_time": "2022-11-28T15:33:01.535Z"
   },
   {
    "duration": 4,
    "start_time": "2022-11-28T15:33:01.664Z"
   },
   {
    "duration": 22,
    "start_time": "2022-11-28T15:33:01.670Z"
   },
   {
    "duration": 11,
    "start_time": "2022-11-28T15:33:01.694Z"
   },
   {
    "duration": 317,
    "start_time": "2022-11-28T15:33:01.706Z"
   },
   {
    "duration": 18,
    "start_time": "2022-11-28T15:33:02.024Z"
   },
   {
    "duration": 26,
    "start_time": "2022-11-28T15:33:02.044Z"
   },
   {
    "duration": 4,
    "start_time": "2022-11-28T15:33:02.072Z"
   },
   {
    "duration": 48,
    "start_time": "2022-11-28T15:33:02.078Z"
   },
   {
    "duration": 11,
    "start_time": "2022-11-28T15:33:02.127Z"
   },
   {
    "duration": 43,
    "start_time": "2022-11-28T15:33:02.140Z"
   },
   {
    "duration": 82,
    "start_time": "2022-11-28T15:33:02.184Z"
   },
   {
    "duration": 11,
    "start_time": "2022-11-28T15:33:02.268Z"
   },
   {
    "duration": 7,
    "start_time": "2022-11-28T15:33:02.281Z"
   },
   {
    "duration": 36,
    "start_time": "2022-11-28T15:33:02.305Z"
   },
   {
    "duration": 89,
    "start_time": "2022-11-28T15:33:02.345Z"
   },
   {
    "duration": 7,
    "start_time": "2022-11-28T15:33:02.435Z"
   },
   {
    "duration": 5,
    "start_time": "2022-11-28T15:33:02.444Z"
   },
   {
    "duration": 17,
    "start_time": "2022-11-28T15:33:02.451Z"
   },
   {
    "duration": 28,
    "start_time": "2022-11-28T15:33:02.470Z"
   },
   {
    "duration": 18,
    "start_time": "2022-11-28T15:33:02.500Z"
   },
   {
    "duration": 14,
    "start_time": "2022-11-28T15:33:02.520Z"
   },
   {
    "duration": 1139,
    "start_time": "2022-11-28T15:33:21.710Z"
   },
   {
    "duration": 165,
    "start_time": "2022-11-28T15:33:22.851Z"
   },
   {
    "duration": 24,
    "start_time": "2022-11-28T15:33:23.018Z"
   },
   {
    "duration": 13,
    "start_time": "2022-11-28T15:33:23.044Z"
   },
   {
    "duration": 84,
    "start_time": "2022-11-28T15:33:23.059Z"
   },
   {
    "duration": 76,
    "start_time": "2022-11-28T15:33:23.144Z"
   },
   {
    "duration": 91,
    "start_time": "2022-11-28T15:33:23.222Z"
   },
   {
    "duration": 15,
    "start_time": "2022-11-28T15:33:23.315Z"
   },
   {
    "duration": 121,
    "start_time": "2022-11-28T15:33:23.332Z"
   },
   {
    "duration": 50,
    "start_time": "2022-11-28T15:33:23.455Z"
   },
   {
    "duration": 10,
    "start_time": "2022-11-28T15:33:23.507Z"
   },
   {
    "duration": 8,
    "start_time": "2022-11-28T15:33:23.519Z"
   },
   {
    "duration": 32,
    "start_time": "2022-11-28T15:33:23.528Z"
   },
   {
    "duration": 4,
    "start_time": "2022-11-28T15:33:23.563Z"
   },
   {
    "duration": 14,
    "start_time": "2022-11-28T15:33:23.569Z"
   },
   {
    "duration": 29,
    "start_time": "2022-11-28T15:33:23.585Z"
   },
   {
    "duration": 332,
    "start_time": "2022-11-28T15:33:23.616Z"
   },
   {
    "duration": 19,
    "start_time": "2022-11-28T15:33:23.950Z"
   },
   {
    "duration": 19,
    "start_time": "2022-11-28T15:33:23.970Z"
   },
   {
    "duration": 4,
    "start_time": "2022-11-28T15:33:24.004Z"
   },
   {
    "duration": 31,
    "start_time": "2022-11-28T15:33:24.009Z"
   },
   {
    "duration": 12,
    "start_time": "2022-11-28T15:33:24.042Z"
   },
   {
    "duration": 26,
    "start_time": "2022-11-28T15:33:24.056Z"
   },
   {
    "duration": 60,
    "start_time": "2022-11-28T15:33:24.104Z"
   },
   {
    "duration": 13,
    "start_time": "2022-11-28T15:33:24.166Z"
   },
   {
    "duration": 9,
    "start_time": "2022-11-28T15:33:24.180Z"
   },
   {
    "duration": 41,
    "start_time": "2022-11-28T15:33:24.205Z"
   },
   {
    "duration": 84,
    "start_time": "2022-11-28T15:33:24.248Z"
   },
   {
    "duration": 8,
    "start_time": "2022-11-28T15:33:24.334Z"
   },
   {
    "duration": 12,
    "start_time": "2022-11-28T15:33:24.343Z"
   },
   {
    "duration": 11,
    "start_time": "2022-11-28T15:33:24.357Z"
   },
   {
    "duration": 19,
    "start_time": "2022-11-28T15:33:24.370Z"
   },
   {
    "duration": 14,
    "start_time": "2022-11-28T15:33:24.391Z"
   },
   {
    "duration": 23,
    "start_time": "2022-11-28T15:33:24.407Z"
   },
   {
    "duration": 91,
    "start_time": "2022-11-28T15:50:57.010Z"
   },
   {
    "duration": 10,
    "start_time": "2022-11-28T15:51:08.899Z"
   },
   {
    "duration": 12,
    "start_time": "2022-11-28T15:52:21.284Z"
   },
   {
    "duration": 19,
    "start_time": "2022-11-28T15:53:04.901Z"
   },
   {
    "duration": 12,
    "start_time": "2022-11-28T15:53:08.772Z"
   },
   {
    "duration": 7,
    "start_time": "2022-11-28T15:54:40.442Z"
   },
   {
    "duration": 20,
    "start_time": "2022-11-28T15:55:40.358Z"
   },
   {
    "duration": 1180,
    "start_time": "2022-11-28T15:55:45.063Z"
   },
   {
    "duration": 175,
    "start_time": "2022-11-28T15:55:46.245Z"
   },
   {
    "duration": 24,
    "start_time": "2022-11-28T15:55:46.422Z"
   },
   {
    "duration": 13,
    "start_time": "2022-11-28T15:55:46.448Z"
   },
   {
    "duration": 91,
    "start_time": "2022-11-28T15:55:46.463Z"
   },
   {
    "duration": 78,
    "start_time": "2022-11-28T15:55:46.556Z"
   },
   {
    "duration": 96,
    "start_time": "2022-11-28T15:55:46.636Z"
   },
   {
    "duration": 21,
    "start_time": "2022-11-28T15:55:46.734Z"
   },
   {
    "duration": 160,
    "start_time": "2022-11-28T15:55:46.757Z"
   },
   {
    "duration": 44,
    "start_time": "2022-11-28T15:55:46.919Z"
   },
   {
    "duration": 12,
    "start_time": "2022-11-28T15:55:46.965Z"
   },
   {
    "duration": 31,
    "start_time": "2022-11-28T15:55:46.979Z"
   },
   {
    "duration": 36,
    "start_time": "2022-11-28T15:55:47.011Z"
   },
   {
    "duration": 5,
    "start_time": "2022-11-28T15:55:47.048Z"
   },
   {
    "duration": 17,
    "start_time": "2022-11-28T15:55:47.055Z"
   },
   {
    "duration": 18,
    "start_time": "2022-11-28T15:55:47.074Z"
   },
   {
    "duration": 396,
    "start_time": "2022-11-28T15:55:47.094Z"
   },
   {
    "duration": 36,
    "start_time": "2022-11-28T15:55:47.492Z"
   },
   {
    "duration": 25,
    "start_time": "2022-11-28T15:55:47.530Z"
   },
   {
    "duration": 4,
    "start_time": "2022-11-28T15:55:47.557Z"
   },
   {
    "duration": 63,
    "start_time": "2022-11-28T15:55:47.564Z"
   },
   {
    "duration": 15,
    "start_time": "2022-11-28T15:55:47.629Z"
   },
   {
    "duration": 45,
    "start_time": "2022-11-28T15:55:47.646Z"
   },
   {
    "duration": 94,
    "start_time": "2022-11-28T15:55:47.693Z"
   },
   {
    "duration": 24,
    "start_time": "2022-11-28T15:55:47.789Z"
   },
   {
    "duration": 8,
    "start_time": "2022-11-28T15:55:47.815Z"
   },
   {
    "duration": 48,
    "start_time": "2022-11-28T15:55:47.825Z"
   },
   {
    "duration": 109,
    "start_time": "2022-11-28T15:55:47.876Z"
   },
   {
    "duration": 18,
    "start_time": "2022-11-28T15:55:47.987Z"
   },
   {
    "duration": 16,
    "start_time": "2022-11-28T15:55:48.007Z"
   },
   {
    "duration": 17,
    "start_time": "2022-11-28T15:55:48.025Z"
   },
   {
    "duration": 19,
    "start_time": "2022-11-28T15:55:48.044Z"
   },
   {
    "duration": 9,
    "start_time": "2022-11-28T15:55:48.065Z"
   },
   {
    "duration": 14,
    "start_time": "2022-11-28T15:55:48.076Z"
   },
   {
    "duration": 17,
    "start_time": "2022-11-28T15:55:48.093Z"
   },
   {
    "duration": 168,
    "start_time": "2022-11-28T15:55:48.112Z"
   },
   {
    "duration": 5,
    "start_time": "2022-11-28T15:56:07.457Z"
   },
   {
    "duration": 5,
    "start_time": "2022-11-28T15:56:32.342Z"
   },
   {
    "duration": 4,
    "start_time": "2022-11-28T15:57:31.923Z"
   },
   {
    "duration": 4,
    "start_time": "2022-11-28T15:58:13.401Z"
   },
   {
    "duration": 5,
    "start_time": "2022-11-28T15:59:10.340Z"
   },
   {
    "duration": 4,
    "start_time": "2022-11-28T16:00:14.345Z"
   },
   {
    "duration": 13,
    "start_time": "2022-11-28T16:03:02.316Z"
   },
   {
    "duration": 7,
    "start_time": "2022-11-28T16:04:26.161Z"
   },
   {
    "duration": 13,
    "start_time": "2022-11-28T16:06:04.301Z"
   },
   {
    "duration": 18,
    "start_time": "2022-11-28T16:07:23.867Z"
   },
   {
    "duration": 10,
    "start_time": "2022-11-28T16:07:49.387Z"
   },
   {
    "duration": 10,
    "start_time": "2022-11-28T16:08:20.950Z"
   },
   {
    "duration": 1248,
    "start_time": "2022-11-28T16:08:41.996Z"
   },
   {
    "duration": 164,
    "start_time": "2022-11-28T16:08:43.246Z"
   },
   {
    "duration": 20,
    "start_time": "2022-11-28T16:08:43.411Z"
   },
   {
    "duration": 14,
    "start_time": "2022-11-28T16:08:43.432Z"
   },
   {
    "duration": 85,
    "start_time": "2022-11-28T16:08:43.448Z"
   },
   {
    "duration": 78,
    "start_time": "2022-11-28T16:08:43.534Z"
   },
   {
    "duration": 91,
    "start_time": "2022-11-28T16:08:43.615Z"
   },
   {
    "duration": 16,
    "start_time": "2022-11-28T16:08:43.707Z"
   },
   {
    "duration": 131,
    "start_time": "2022-11-28T16:08:43.725Z"
   },
   {
    "duration": 53,
    "start_time": "2022-11-28T16:08:43.859Z"
   },
   {
    "duration": 12,
    "start_time": "2022-11-28T16:08:43.914Z"
   },
   {
    "duration": 10,
    "start_time": "2022-11-28T16:08:43.927Z"
   },
   {
    "duration": 42,
    "start_time": "2022-11-28T16:08:43.939Z"
   },
   {
    "duration": 22,
    "start_time": "2022-11-28T16:08:43.983Z"
   },
   {
    "duration": 11,
    "start_time": "2022-11-28T16:08:44.006Z"
   },
   {
    "duration": 6,
    "start_time": "2022-11-28T16:08:44.019Z"
   },
   {
    "duration": 342,
    "start_time": "2022-11-28T16:08:44.026Z"
   },
   {
    "duration": 21,
    "start_time": "2022-11-28T16:08:44.370Z"
   },
   {
    "duration": 20,
    "start_time": "2022-11-28T16:08:44.405Z"
   },
   {
    "duration": 4,
    "start_time": "2022-11-28T16:08:44.426Z"
   },
   {
    "duration": 30,
    "start_time": "2022-11-28T16:08:44.432Z"
   },
   {
    "duration": 12,
    "start_time": "2022-11-28T16:08:44.463Z"
   },
   {
    "duration": 27,
    "start_time": "2022-11-28T16:08:44.505Z"
   },
   {
    "duration": 83,
    "start_time": "2022-11-28T16:08:44.534Z"
   },
   {
    "duration": 10,
    "start_time": "2022-11-28T16:08:44.619Z"
   },
   {
    "duration": 6,
    "start_time": "2022-11-28T16:08:44.630Z"
   },
   {
    "duration": 43,
    "start_time": "2022-11-28T16:08:44.638Z"
   },
   {
    "duration": 86,
    "start_time": "2022-11-28T16:08:44.684Z"
   },
   {
    "duration": 7,
    "start_time": "2022-11-28T16:08:44.772Z"
   },
   {
    "duration": 10,
    "start_time": "2022-11-28T16:08:44.781Z"
   },
   {
    "duration": 19,
    "start_time": "2022-11-28T16:08:44.792Z"
   },
   {
    "duration": 17,
    "start_time": "2022-11-28T16:08:44.813Z"
   },
   {
    "duration": 10,
    "start_time": "2022-11-28T16:08:44.832Z"
   },
   {
    "duration": 18,
    "start_time": "2022-11-28T16:08:44.844Z"
   },
   {
    "duration": 9,
    "start_time": "2022-11-28T16:08:44.864Z"
   },
   {
    "duration": 9,
    "start_time": "2022-11-28T16:08:44.874Z"
   },
   {
    "duration": 7,
    "start_time": "2022-11-28T16:08:44.885Z"
   },
   {
    "duration": 4,
    "start_time": "2022-11-28T16:08:44.905Z"
   },
   {
    "duration": 5,
    "start_time": "2022-11-28T16:08:44.911Z"
   },
   {
    "duration": 7,
    "start_time": "2022-11-28T16:08:44.918Z"
   },
   {
    "duration": 15,
    "start_time": "2022-11-28T16:08:44.926Z"
   },
   {
    "duration": 9,
    "start_time": "2022-11-28T16:11:57.254Z"
   },
   {
    "duration": 8,
    "start_time": "2022-11-28T16:14:26.662Z"
   },
   {
    "duration": 1147,
    "start_time": "2022-11-28T16:23:22.212Z"
   },
   {
    "duration": 168,
    "start_time": "2022-11-28T16:23:23.361Z"
   },
   {
    "duration": 21,
    "start_time": "2022-11-28T16:23:23.531Z"
   },
   {
    "duration": 15,
    "start_time": "2022-11-28T16:23:23.554Z"
   },
   {
    "duration": 81,
    "start_time": "2022-11-28T16:23:23.570Z"
   },
   {
    "duration": 79,
    "start_time": "2022-11-28T16:23:23.652Z"
   },
   {
    "duration": 88,
    "start_time": "2022-11-28T16:23:23.733Z"
   },
   {
    "duration": 16,
    "start_time": "2022-11-28T16:23:23.822Z"
   },
   {
    "duration": 118,
    "start_time": "2022-11-28T16:23:23.840Z"
   },
   {
    "duration": 50,
    "start_time": "2022-11-28T16:23:23.961Z"
   },
   {
    "duration": 12,
    "start_time": "2022-11-28T16:23:24.013Z"
   },
   {
    "duration": 13,
    "start_time": "2022-11-28T16:23:24.026Z"
   },
   {
    "duration": 51,
    "start_time": "2022-11-28T16:23:24.041Z"
   },
   {
    "duration": 4,
    "start_time": "2022-11-28T16:23:24.094Z"
   },
   {
    "duration": 20,
    "start_time": "2022-11-28T16:23:24.104Z"
   },
   {
    "duration": 33,
    "start_time": "2022-11-28T16:23:24.125Z"
   },
   {
    "duration": 344,
    "start_time": "2022-11-28T16:23:24.160Z"
   },
   {
    "duration": 20,
    "start_time": "2022-11-28T16:23:24.506Z"
   },
   {
    "duration": 20,
    "start_time": "2022-11-28T16:23:24.527Z"
   },
   {
    "duration": 61,
    "start_time": "2022-11-28T16:23:24.548Z"
   },
   {
    "duration": 69,
    "start_time": "2022-11-28T16:23:24.611Z"
   },
   {
    "duration": 33,
    "start_time": "2022-11-28T16:23:24.682Z"
   },
   {
    "duration": 71,
    "start_time": "2022-11-28T16:23:24.717Z"
   },
   {
    "duration": 70,
    "start_time": "2022-11-28T16:23:24.790Z"
   },
   {
    "duration": 10,
    "start_time": "2022-11-28T16:23:24.862Z"
   },
   {
    "duration": 49,
    "start_time": "2022-11-28T16:23:24.873Z"
   },
   {
    "duration": 82,
    "start_time": "2022-11-28T16:23:24.924Z"
   },
   {
    "duration": 72,
    "start_time": "2022-11-28T16:23:25.010Z"
   },
   {
    "duration": 7,
    "start_time": "2022-11-28T16:23:25.084Z"
   },
   {
    "duration": 22,
    "start_time": "2022-11-28T16:23:25.105Z"
   },
   {
    "duration": 168,
    "start_time": "2022-11-28T16:23:25.128Z"
   },
   {
    "duration": 62,
    "start_time": "2022-11-28T16:23:25.297Z"
   },
   {
    "duration": 26,
    "start_time": "2022-11-28T16:23:25.361Z"
   },
   {
    "duration": 28,
    "start_time": "2022-11-28T16:23:25.388Z"
   },
   {
    "duration": 29,
    "start_time": "2022-11-28T16:23:25.417Z"
   },
   {
    "duration": 46,
    "start_time": "2022-11-28T16:23:25.447Z"
   },
   {
    "duration": 1088,
    "start_time": "2022-11-28T17:30:11.857Z"
   },
   {
    "duration": 165,
    "start_time": "2022-11-28T17:30:12.947Z"
   },
   {
    "duration": 19,
    "start_time": "2022-11-28T17:30:13.113Z"
   },
   {
    "duration": 12,
    "start_time": "2022-11-28T17:30:13.134Z"
   },
   {
    "duration": 85,
    "start_time": "2022-11-28T17:30:13.147Z"
   },
   {
    "duration": 77,
    "start_time": "2022-11-28T17:30:13.234Z"
   },
   {
    "duration": 82,
    "start_time": "2022-11-28T17:30:13.312Z"
   },
   {
    "duration": 23,
    "start_time": "2022-11-28T17:30:13.395Z"
   },
   {
    "duration": 109,
    "start_time": "2022-11-28T17:30:13.420Z"
   },
   {
    "duration": 40,
    "start_time": "2022-11-28T17:30:13.531Z"
   },
   {
    "duration": 11,
    "start_time": "2022-11-28T17:30:13.573Z"
   },
   {
    "duration": 7,
    "start_time": "2022-11-28T17:30:13.604Z"
   },
   {
    "duration": 38,
    "start_time": "2022-11-28T17:30:13.613Z"
   },
   {
    "duration": 3,
    "start_time": "2022-11-28T17:30:13.653Z"
   },
   {
    "duration": 16,
    "start_time": "2022-11-28T17:30:13.657Z"
   },
   {
    "duration": 8,
    "start_time": "2022-11-28T17:30:13.675Z"
   },
   {
    "duration": 340,
    "start_time": "2022-11-28T17:30:13.684Z"
   },
   {
    "duration": 18,
    "start_time": "2022-11-28T17:30:14.025Z"
   },
   {
    "duration": 37,
    "start_time": "2022-11-28T17:30:14.044Z"
   },
   {
    "duration": 3,
    "start_time": "2022-11-28T17:30:14.083Z"
   },
   {
    "duration": 43,
    "start_time": "2022-11-28T17:30:14.088Z"
   },
   {
    "duration": 11,
    "start_time": "2022-11-28T17:30:14.133Z"
   },
   {
    "duration": 51,
    "start_time": "2022-11-28T17:30:14.145Z"
   },
   {
    "duration": 59,
    "start_time": "2022-11-28T17:30:14.198Z"
   },
   {
    "duration": 9,
    "start_time": "2022-11-28T17:30:14.259Z"
   },
   {
    "duration": 16,
    "start_time": "2022-11-28T17:30:14.270Z"
   },
   {
    "duration": 54,
    "start_time": "2022-11-28T17:30:14.287Z"
   },
   {
    "duration": 76,
    "start_time": "2022-11-28T17:30:14.344Z"
   },
   {
    "duration": 7,
    "start_time": "2022-11-28T17:30:14.422Z"
   },
   {
    "duration": 6,
    "start_time": "2022-11-28T17:30:14.431Z"
   },
   {
    "duration": 10,
    "start_time": "2022-11-28T17:30:14.438Z"
   },
   {
    "duration": 12,
    "start_time": "2022-11-28T17:30:14.449Z"
   },
   {
    "duration": 11,
    "start_time": "2022-11-28T17:30:14.463Z"
   },
   {
    "duration": 9,
    "start_time": "2022-11-28T17:30:14.476Z"
   },
   {
    "duration": 10,
    "start_time": "2022-11-28T17:30:14.505Z"
   },
   {
    "duration": 20,
    "start_time": "2022-11-28T17:30:14.517Z"
   },
   {
    "duration": 1284,
    "start_time": "2022-11-28T17:34:04.553Z"
   },
   {
    "duration": 160,
    "start_time": "2022-11-28T17:34:05.839Z"
   },
   {
    "duration": 24,
    "start_time": "2022-11-28T17:34:06.001Z"
   },
   {
    "duration": 23,
    "start_time": "2022-11-28T17:34:06.028Z"
   },
   {
    "duration": 102,
    "start_time": "2022-11-28T17:34:06.055Z"
   },
   {
    "duration": 110,
    "start_time": "2022-11-28T17:34:06.160Z"
   },
   {
    "duration": 110,
    "start_time": "2022-11-28T17:34:06.272Z"
   },
   {
    "duration": 25,
    "start_time": "2022-11-28T17:34:06.384Z"
   },
   {
    "duration": 118,
    "start_time": "2022-11-28T17:34:06.411Z"
   },
   {
    "duration": 45,
    "start_time": "2022-11-28T17:34:06.531Z"
   },
   {
    "duration": 29,
    "start_time": "2022-11-28T17:34:06.577Z"
   },
   {
    "duration": 10,
    "start_time": "2022-11-28T17:34:06.608Z"
   },
   {
    "duration": 36,
    "start_time": "2022-11-28T17:34:06.620Z"
   },
   {
    "duration": 5,
    "start_time": "2022-11-28T17:34:06.659Z"
   },
   {
    "duration": 9,
    "start_time": "2022-11-28T17:34:06.665Z"
   },
   {
    "duration": 6,
    "start_time": "2022-11-28T17:34:06.676Z"
   },
   {
    "duration": 367,
    "start_time": "2022-11-28T17:34:06.706Z"
   },
   {
    "duration": 32,
    "start_time": "2022-11-28T17:34:07.075Z"
   },
   {
    "duration": 24,
    "start_time": "2022-11-28T17:34:07.109Z"
   },
   {
    "duration": 18,
    "start_time": "2022-11-28T17:34:07.135Z"
   },
   {
    "duration": 49,
    "start_time": "2022-11-28T17:34:07.155Z"
   },
   {
    "duration": 16,
    "start_time": "2022-11-28T17:34:07.207Z"
   },
   {
    "duration": 40,
    "start_time": "2022-11-28T17:34:07.225Z"
   },
   {
    "duration": 112,
    "start_time": "2022-11-28T17:34:07.267Z"
   },
   {
    "duration": 32,
    "start_time": "2022-11-28T17:34:07.381Z"
   },
   {
    "duration": 20,
    "start_time": "2022-11-28T17:34:07.416Z"
   },
   {
    "duration": 50,
    "start_time": "2022-11-28T17:34:07.438Z"
   },
   {
    "duration": 82,
    "start_time": "2022-11-28T17:34:07.490Z"
   },
   {
    "duration": 10,
    "start_time": "2022-11-28T17:34:07.574Z"
   },
   {
    "duration": 18,
    "start_time": "2022-11-28T17:34:07.586Z"
   },
   {
    "duration": 26,
    "start_time": "2022-11-28T17:34:07.606Z"
   },
   {
    "duration": 27,
    "start_time": "2022-11-28T17:34:07.635Z"
   },
   {
    "duration": 22,
    "start_time": "2022-11-28T17:34:07.664Z"
   },
   {
    "duration": 14,
    "start_time": "2022-11-28T17:34:07.688Z"
   },
   {
    "duration": 15,
    "start_time": "2022-11-28T17:34:07.704Z"
   },
   {
    "duration": 16,
    "start_time": "2022-11-28T17:34:07.721Z"
   },
   {
    "duration": 1145,
    "start_time": "2022-11-28T17:34:43.898Z"
   },
   {
    "duration": 171,
    "start_time": "2022-11-28T17:34:45.045Z"
   },
   {
    "duration": 19,
    "start_time": "2022-11-28T17:34:45.217Z"
   },
   {
    "duration": 14,
    "start_time": "2022-11-28T17:34:45.238Z"
   },
   {
    "duration": 77,
    "start_time": "2022-11-28T17:34:45.255Z"
   },
   {
    "duration": 72,
    "start_time": "2022-11-28T17:34:45.334Z"
   },
   {
    "duration": 83,
    "start_time": "2022-11-28T17:34:45.408Z"
   },
   {
    "duration": 16,
    "start_time": "2022-11-28T17:34:45.504Z"
   },
   {
    "duration": 129,
    "start_time": "2022-11-28T17:34:45.521Z"
   },
   {
    "duration": 52,
    "start_time": "2022-11-28T17:34:45.652Z"
   },
   {
    "duration": 13,
    "start_time": "2022-11-28T17:34:45.706Z"
   },
   {
    "duration": 14,
    "start_time": "2022-11-28T17:34:45.721Z"
   },
   {
    "duration": 36,
    "start_time": "2022-11-28T17:34:45.736Z"
   },
   {
    "duration": 4,
    "start_time": "2022-11-28T17:34:45.775Z"
   },
   {
    "duration": 13,
    "start_time": "2022-11-28T17:34:45.781Z"
   },
   {
    "duration": 9,
    "start_time": "2022-11-28T17:34:45.804Z"
   },
   {
    "duration": 357,
    "start_time": "2022-11-28T17:34:45.815Z"
   },
   {
    "duration": 31,
    "start_time": "2022-11-28T17:34:46.174Z"
   },
   {
    "duration": 27,
    "start_time": "2022-11-28T17:34:46.207Z"
   },
   {
    "duration": 7,
    "start_time": "2022-11-28T17:34:46.236Z"
   },
   {
    "duration": 47,
    "start_time": "2022-11-28T17:34:46.244Z"
   },
   {
    "duration": 11,
    "start_time": "2022-11-28T17:34:46.293Z"
   },
   {
    "duration": 36,
    "start_time": "2022-11-28T17:34:46.305Z"
   },
   {
    "duration": 71,
    "start_time": "2022-11-28T17:34:46.343Z"
   },
   {
    "duration": 10,
    "start_time": "2022-11-28T17:34:46.415Z"
   },
   {
    "duration": 28,
    "start_time": "2022-11-28T17:34:46.426Z"
   },
   {
    "duration": 52,
    "start_time": "2022-11-28T17:34:46.456Z"
   },
   {
    "duration": 71,
    "start_time": "2022-11-28T17:34:46.510Z"
   },
   {
    "duration": 7,
    "start_time": "2022-11-28T17:34:46.583Z"
   },
   {
    "duration": 32,
    "start_time": "2022-11-28T17:34:46.591Z"
   },
   {
    "duration": 32,
    "start_time": "2022-11-28T17:34:46.624Z"
   },
   {
    "duration": 29,
    "start_time": "2022-11-28T17:34:46.658Z"
   },
   {
    "duration": 28,
    "start_time": "2022-11-28T17:34:46.689Z"
   },
   {
    "duration": 10,
    "start_time": "2022-11-28T17:34:46.720Z"
   },
   {
    "duration": 17,
    "start_time": "2022-11-28T17:34:46.732Z"
   },
   {
    "duration": 38,
    "start_time": "2022-11-28T17:34:46.751Z"
   },
   {
    "duration": 1213,
    "start_time": "2022-11-28T17:35:02.625Z"
   },
   {
    "duration": 183,
    "start_time": "2022-11-28T17:35:03.840Z"
   },
   {
    "duration": 21,
    "start_time": "2022-11-28T17:35:04.024Z"
   },
   {
    "duration": 22,
    "start_time": "2022-11-28T17:35:04.047Z"
   },
   {
    "duration": 90,
    "start_time": "2022-11-28T17:35:04.072Z"
   },
   {
    "duration": 84,
    "start_time": "2022-11-28T17:35:04.164Z"
   },
   {
    "duration": 91,
    "start_time": "2022-11-28T17:35:04.250Z"
   },
   {
    "duration": 16,
    "start_time": "2022-11-28T17:35:04.343Z"
   },
   {
    "duration": 121,
    "start_time": "2022-11-28T17:35:04.360Z"
   },
   {
    "duration": 50,
    "start_time": "2022-11-28T17:35:04.482Z"
   },
   {
    "duration": 12,
    "start_time": "2022-11-28T17:35:04.533Z"
   },
   {
    "duration": 21,
    "start_time": "2022-11-28T17:35:04.546Z"
   },
   {
    "duration": 43,
    "start_time": "2022-11-28T17:35:04.568Z"
   },
   {
    "duration": 4,
    "start_time": "2022-11-28T17:35:04.615Z"
   },
   {
    "duration": 35,
    "start_time": "2022-11-28T17:35:04.621Z"
   },
   {
    "duration": 22,
    "start_time": "2022-11-28T17:35:04.658Z"
   },
   {
    "duration": 385,
    "start_time": "2022-11-28T17:35:04.682Z"
   },
   {
    "duration": 20,
    "start_time": "2022-11-28T17:35:05.068Z"
   },
   {
    "duration": 36,
    "start_time": "2022-11-28T17:35:05.090Z"
   },
   {
    "duration": 8,
    "start_time": "2022-11-28T17:35:05.127Z"
   },
   {
    "duration": 61,
    "start_time": "2022-11-28T17:35:05.137Z"
   },
   {
    "duration": 11,
    "start_time": "2022-11-28T17:35:05.199Z"
   },
   {
    "duration": 38,
    "start_time": "2022-11-28T17:35:05.211Z"
   },
   {
    "duration": 73,
    "start_time": "2022-11-28T17:35:05.251Z"
   },
   {
    "duration": 12,
    "start_time": "2022-11-28T17:35:05.326Z"
   },
   {
    "duration": 46,
    "start_time": "2022-11-28T17:35:05.339Z"
   },
   {
    "duration": 120,
    "start_time": "2022-11-28T17:35:05.387Z"
   },
   {
    "duration": 69,
    "start_time": "2022-11-28T17:35:05.509Z"
   },
   {
    "duration": 8,
    "start_time": "2022-11-28T17:35:05.579Z"
   },
   {
    "duration": 35,
    "start_time": "2022-11-28T17:35:05.604Z"
   },
   {
    "duration": 45,
    "start_time": "2022-11-28T17:35:05.641Z"
   },
   {
    "duration": 40,
    "start_time": "2022-11-28T17:35:05.688Z"
   },
   {
    "duration": 31,
    "start_time": "2022-11-28T17:35:05.730Z"
   },
   {
    "duration": 48,
    "start_time": "2022-11-28T17:35:05.763Z"
   },
   {
    "duration": 26,
    "start_time": "2022-11-28T17:35:05.813Z"
   },
   {
    "duration": 48,
    "start_time": "2022-11-28T17:35:05.841Z"
   },
   {
    "duration": 1190,
    "start_time": "2022-11-28T17:41:14.568Z"
   },
   {
    "duration": 186,
    "start_time": "2022-11-28T17:41:15.760Z"
   },
   {
    "duration": 25,
    "start_time": "2022-11-28T17:41:15.948Z"
   },
   {
    "duration": 35,
    "start_time": "2022-11-28T17:41:15.975Z"
   },
   {
    "duration": 64,
    "start_time": "2022-11-28T17:41:16.013Z"
   },
   {
    "duration": 95,
    "start_time": "2022-11-28T17:41:16.078Z"
   },
   {
    "duration": 100,
    "start_time": "2022-11-28T17:41:16.175Z"
   },
   {
    "duration": 33,
    "start_time": "2022-11-28T17:41:16.277Z"
   },
   {
    "duration": 117,
    "start_time": "2022-11-28T17:41:16.311Z"
   },
   {
    "duration": 51,
    "start_time": "2022-11-28T17:41:16.430Z"
   },
   {
    "duration": 23,
    "start_time": "2022-11-28T17:41:16.482Z"
   },
   {
    "duration": 19,
    "start_time": "2022-11-28T17:41:16.507Z"
   },
   {
    "duration": 42,
    "start_time": "2022-11-28T17:41:16.527Z"
   },
   {
    "duration": 4,
    "start_time": "2022-11-28T17:41:16.571Z"
   },
   {
    "duration": 25,
    "start_time": "2022-11-28T17:41:16.577Z"
   },
   {
    "duration": 12,
    "start_time": "2022-11-28T17:41:16.604Z"
   },
   {
    "duration": 391,
    "start_time": "2022-11-28T17:41:16.618Z"
   },
   {
    "duration": 30,
    "start_time": "2022-11-28T17:41:17.011Z"
   },
   {
    "duration": 20,
    "start_time": "2022-11-28T17:41:17.043Z"
   },
   {
    "duration": 8,
    "start_time": "2022-11-28T17:41:17.065Z"
   },
   {
    "duration": 45,
    "start_time": "2022-11-28T17:41:17.075Z"
   },
   {
    "duration": 11,
    "start_time": "2022-11-28T17:41:17.121Z"
   },
   {
    "duration": 37,
    "start_time": "2022-11-28T17:41:17.134Z"
   },
   {
    "duration": 63,
    "start_time": "2022-11-28T17:41:17.173Z"
   },
   {
    "duration": 10,
    "start_time": "2022-11-28T17:41:17.238Z"
   },
   {
    "duration": 15,
    "start_time": "2022-11-28T17:41:17.249Z"
   },
   {
    "duration": 56,
    "start_time": "2022-11-28T17:41:17.267Z"
   },
   {
    "duration": 89,
    "start_time": "2022-11-28T17:41:17.325Z"
   },
   {
    "duration": 9,
    "start_time": "2022-11-28T17:41:17.416Z"
   },
   {
    "duration": 47,
    "start_time": "2022-11-28T17:41:17.427Z"
   },
   {
    "duration": 56,
    "start_time": "2022-11-28T17:41:17.477Z"
   },
   {
    "duration": 59,
    "start_time": "2022-11-28T17:41:17.535Z"
   },
   {
    "duration": 28,
    "start_time": "2022-11-28T17:41:17.596Z"
   },
   {
    "duration": 31,
    "start_time": "2022-11-28T17:41:17.626Z"
   },
   {
    "duration": 30,
    "start_time": "2022-11-28T17:41:17.659Z"
   },
   {
    "duration": 27,
    "start_time": "2022-11-28T17:41:17.690Z"
   },
   {
    "duration": 1143,
    "start_time": "2022-11-28T18:11:59.223Z"
   },
   {
    "duration": 163,
    "start_time": "2022-11-28T18:12:00.367Z"
   },
   {
    "duration": 19,
    "start_time": "2022-11-28T18:12:00.532Z"
   },
   {
    "duration": 43,
    "start_time": "2022-11-28T18:12:00.553Z"
   },
   {
    "duration": 97,
    "start_time": "2022-11-28T18:12:00.597Z"
   },
   {
    "duration": 67,
    "start_time": "2022-11-28T18:12:00.695Z"
   },
   {
    "duration": 99,
    "start_time": "2022-11-28T18:12:00.764Z"
   },
   {
    "duration": 15,
    "start_time": "2022-11-28T18:12:00.865Z"
   },
   {
    "duration": 148,
    "start_time": "2022-11-28T18:12:00.881Z"
   },
   {
    "duration": 41,
    "start_time": "2022-11-28T18:12:01.032Z"
   },
   {
    "duration": 26,
    "start_time": "2022-11-28T18:12:01.075Z"
   },
   {
    "duration": 48,
    "start_time": "2022-11-28T18:12:01.103Z"
   },
   {
    "duration": 106,
    "start_time": "2022-11-28T18:12:01.153Z"
   },
   {
    "duration": 42,
    "start_time": "2022-11-28T18:12:01.261Z"
   },
   {
    "duration": 92,
    "start_time": "2022-11-28T18:12:01.305Z"
   },
   {
    "duration": 28,
    "start_time": "2022-11-28T18:12:01.399Z"
   },
   {
    "duration": 385,
    "start_time": "2022-11-28T18:12:01.429Z"
   },
   {
    "duration": 19,
    "start_time": "2022-11-28T18:12:01.816Z"
   },
   {
    "duration": 19,
    "start_time": "2022-11-28T18:12:01.836Z"
   },
   {
    "duration": 10,
    "start_time": "2022-11-28T18:12:01.856Z"
   },
   {
    "duration": 53,
    "start_time": "2022-11-28T18:12:01.868Z"
   },
   {
    "duration": 10,
    "start_time": "2022-11-28T18:12:01.922Z"
   },
   {
    "duration": 23,
    "start_time": "2022-11-28T18:12:01.934Z"
   },
   {
    "duration": 73,
    "start_time": "2022-11-28T18:12:01.959Z"
   },
   {
    "duration": 10,
    "start_time": "2022-11-28T18:12:02.033Z"
   },
   {
    "duration": 27,
    "start_time": "2022-11-28T18:12:02.044Z"
   },
   {
    "duration": 82,
    "start_time": "2022-11-28T18:12:02.072Z"
   },
   {
    "duration": 75,
    "start_time": "2022-11-28T18:12:02.158Z"
   },
   {
    "duration": 7,
    "start_time": "2022-11-28T18:12:02.234Z"
   },
   {
    "duration": 19,
    "start_time": "2022-11-28T18:12:02.242Z"
   },
   {
    "duration": 17,
    "start_time": "2022-11-28T18:12:02.262Z"
   },
   {
    "duration": 13,
    "start_time": "2022-11-28T18:12:02.281Z"
   },
   {
    "duration": 9,
    "start_time": "2022-11-28T18:12:02.295Z"
   },
   {
    "duration": 9,
    "start_time": "2022-11-28T18:12:02.305Z"
   },
   {
    "duration": 12,
    "start_time": "2022-11-28T18:12:02.316Z"
   },
   {
    "duration": 23,
    "start_time": "2022-11-28T18:12:02.330Z"
   },
   {
    "duration": 1093,
    "start_time": "2022-11-28T22:46:09.392Z"
   },
   {
    "duration": 693,
    "start_time": "2022-11-28T22:46:10.487Z"
   },
   {
    "duration": 18,
    "start_time": "2022-11-28T22:46:11.181Z"
   },
   {
    "duration": 12,
    "start_time": "2022-11-28T22:46:11.201Z"
   },
   {
    "duration": 77,
    "start_time": "2022-11-28T22:46:11.215Z"
   },
   {
    "duration": 71,
    "start_time": "2022-11-28T22:46:11.294Z"
   },
   {
    "duration": 87,
    "start_time": "2022-11-28T22:46:11.367Z"
   },
   {
    "duration": 16,
    "start_time": "2022-11-28T22:46:11.455Z"
   },
   {
    "duration": 114,
    "start_time": "2022-11-28T22:46:11.473Z"
   },
   {
    "duration": 41,
    "start_time": "2022-11-28T22:46:11.589Z"
   },
   {
    "duration": 22,
    "start_time": "2022-11-28T22:46:11.631Z"
   },
   {
    "duration": 11,
    "start_time": "2022-11-28T22:46:11.655Z"
   },
   {
    "duration": 35,
    "start_time": "2022-11-28T22:46:11.667Z"
   },
   {
    "duration": 4,
    "start_time": "2022-11-28T22:46:11.703Z"
   },
   {
    "duration": 8,
    "start_time": "2022-11-28T22:46:11.708Z"
   },
   {
    "duration": 5,
    "start_time": "2022-11-28T22:46:11.718Z"
   },
   {
    "duration": 349,
    "start_time": "2022-11-28T22:46:11.725Z"
   },
   {
    "duration": 17,
    "start_time": "2022-11-28T22:46:12.076Z"
   },
   {
    "duration": 19,
    "start_time": "2022-11-28T22:46:12.094Z"
   },
   {
    "duration": 4,
    "start_time": "2022-11-28T22:46:12.114Z"
   },
   {
    "duration": 49,
    "start_time": "2022-11-28T22:46:12.119Z"
   },
   {
    "duration": 13,
    "start_time": "2022-11-28T22:46:12.170Z"
   },
   {
    "duration": 26,
    "start_time": "2022-11-28T22:46:12.185Z"
   },
   {
    "duration": 87,
    "start_time": "2022-11-28T22:46:12.212Z"
   },
   {
    "duration": 11,
    "start_time": "2022-11-28T22:46:12.301Z"
   },
   {
    "duration": 6,
    "start_time": "2022-11-28T22:46:12.313Z"
   },
   {
    "duration": 52,
    "start_time": "2022-11-28T22:46:12.320Z"
   },
   {
    "duration": 94,
    "start_time": "2022-11-28T22:46:12.375Z"
   },
   {
    "duration": 9,
    "start_time": "2022-11-28T22:46:12.472Z"
   },
   {
    "duration": 10,
    "start_time": "2022-11-28T22:46:12.483Z"
   },
   {
    "duration": 14,
    "start_time": "2022-11-28T22:46:12.495Z"
   },
   {
    "duration": 21,
    "start_time": "2022-11-28T22:46:12.511Z"
   },
   {
    "duration": 24,
    "start_time": "2022-11-28T22:46:12.535Z"
   },
   {
    "duration": 14,
    "start_time": "2022-11-28T22:46:12.561Z"
   },
   {
    "duration": 16,
    "start_time": "2022-11-28T22:46:12.577Z"
   },
   {
    "duration": 12,
    "start_time": "2022-11-28T22:46:12.595Z"
   },
   {
    "duration": 47,
    "start_time": "2022-11-29T08:35:39.314Z"
   },
   {
    "duration": 1382,
    "start_time": "2022-11-29T08:35:54.159Z"
   },
   {
    "duration": 711,
    "start_time": "2022-11-29T08:35:55.544Z"
   },
   {
    "duration": 28,
    "start_time": "2022-11-29T08:35:56.257Z"
   },
   {
    "duration": 13,
    "start_time": "2022-11-29T08:35:56.287Z"
   },
   {
    "duration": 69,
    "start_time": "2022-11-29T08:35:56.301Z"
   },
   {
    "duration": 83,
    "start_time": "2022-11-29T08:35:56.371Z"
   },
   {
    "duration": 94,
    "start_time": "2022-11-29T08:35:56.456Z"
   },
   {
    "duration": 18,
    "start_time": "2022-11-29T08:35:56.552Z"
   },
   {
    "duration": 120,
    "start_time": "2022-11-29T08:35:56.572Z"
   },
   {
    "duration": 56,
    "start_time": "2022-11-29T08:35:56.694Z"
   },
   {
    "duration": 11,
    "start_time": "2022-11-29T08:35:56.751Z"
   },
   {
    "duration": 10,
    "start_time": "2022-11-29T08:35:56.763Z"
   },
   {
    "duration": 53,
    "start_time": "2022-11-29T08:35:56.775Z"
   },
   {
    "duration": 5,
    "start_time": "2022-11-29T08:35:56.829Z"
   },
   {
    "duration": 12,
    "start_time": "2022-11-29T08:35:56.835Z"
   },
   {
    "duration": 11,
    "start_time": "2022-11-29T08:35:56.849Z"
   },
   {
    "duration": 17,
    "start_time": "2022-11-29T08:35:56.862Z"
   },
   {
    "duration": 392,
    "start_time": "2022-11-29T08:35:56.881Z"
   },
   {
    "duration": 19,
    "start_time": "2022-11-29T08:35:57.275Z"
   },
   {
    "duration": 35,
    "start_time": "2022-11-29T08:35:57.296Z"
   },
   {
    "duration": 4,
    "start_time": "2022-11-29T08:35:57.333Z"
   },
   {
    "duration": 32,
    "start_time": "2022-11-29T08:35:57.339Z"
   },
   {
    "duration": 41,
    "start_time": "2022-11-29T08:35:57.373Z"
   },
   {
    "duration": 29,
    "start_time": "2022-11-29T08:35:57.416Z"
   },
   {
    "duration": 81,
    "start_time": "2022-11-29T08:35:57.447Z"
   },
   {
    "duration": 20,
    "start_time": "2022-11-29T08:35:57.530Z"
   },
   {
    "duration": 10,
    "start_time": "2022-11-29T08:35:57.552Z"
   },
   {
    "duration": 52,
    "start_time": "2022-11-29T08:35:57.565Z"
   },
   {
    "duration": 74,
    "start_time": "2022-11-29T08:35:57.619Z"
   },
   {
    "duration": 21,
    "start_time": "2022-11-29T08:35:57.695Z"
   },
   {
    "duration": 10,
    "start_time": "2022-11-29T08:35:57.718Z"
   },
   {
    "duration": 11,
    "start_time": "2022-11-29T08:35:57.730Z"
   },
   {
    "duration": 26,
    "start_time": "2022-11-29T08:35:57.743Z"
   },
   {
    "duration": 13,
    "start_time": "2022-11-29T08:35:57.771Z"
   },
   {
    "duration": 13,
    "start_time": "2022-11-29T08:35:57.786Z"
   },
   {
    "duration": 21,
    "start_time": "2022-11-29T08:35:57.800Z"
   },
   {
    "duration": 17,
    "start_time": "2022-11-29T08:35:57.823Z"
   },
   {
    "duration": 373,
    "start_time": "2022-11-29T08:43:20.250Z"
   },
   {
    "duration": 1140,
    "start_time": "2022-11-29T08:43:47.255Z"
   },
   {
    "duration": 153,
    "start_time": "2022-11-29T08:43:48.397Z"
   },
   {
    "duration": 21,
    "start_time": "2022-11-29T08:43:48.552Z"
   },
   {
    "duration": 14,
    "start_time": "2022-11-29T08:43:48.575Z"
   },
   {
    "duration": 86,
    "start_time": "2022-11-29T08:43:48.591Z"
   },
   {
    "duration": 81,
    "start_time": "2022-11-29T08:43:48.679Z"
   },
   {
    "duration": 102,
    "start_time": "2022-11-29T08:43:48.762Z"
   },
   {
    "duration": 17,
    "start_time": "2022-11-29T08:43:48.866Z"
   },
   {
    "duration": 133,
    "start_time": "2022-11-29T08:43:48.884Z"
   },
   {
    "duration": 46,
    "start_time": "2022-11-29T08:43:49.020Z"
   },
   {
    "duration": 13,
    "start_time": "2022-11-29T08:43:49.068Z"
   },
   {
    "duration": 31,
    "start_time": "2022-11-29T08:43:49.083Z"
   },
   {
    "duration": 33,
    "start_time": "2022-11-29T08:43:49.116Z"
   },
   {
    "duration": 5,
    "start_time": "2022-11-29T08:43:49.151Z"
   },
   {
    "duration": 16,
    "start_time": "2022-11-29T08:43:49.158Z"
   },
   {
    "duration": 5,
    "start_time": "2022-11-29T08:43:49.176Z"
   },
   {
    "duration": 416,
    "start_time": "2022-11-29T08:43:49.183Z"
   },
   {
    "duration": 23,
    "start_time": "2022-11-29T08:43:49.601Z"
   },
   {
    "duration": 19,
    "start_time": "2022-11-29T08:43:49.626Z"
   },
   {
    "duration": 4,
    "start_time": "2022-11-29T08:43:49.646Z"
   },
   {
    "duration": 30,
    "start_time": "2022-11-29T08:43:49.651Z"
   },
   {
    "duration": 37,
    "start_time": "2022-11-29T08:43:49.684Z"
   },
   {
    "duration": 31,
    "start_time": "2022-11-29T08:43:49.723Z"
   },
   {
    "duration": 85,
    "start_time": "2022-11-29T08:43:49.755Z"
   },
   {
    "duration": 12,
    "start_time": "2022-11-29T08:43:49.841Z"
   },
   {
    "duration": 6,
    "start_time": "2022-11-29T08:43:49.854Z"
   },
   {
    "duration": 56,
    "start_time": "2022-11-29T08:43:49.862Z"
   },
   {
    "duration": 74,
    "start_time": "2022-11-29T08:43:49.921Z"
   },
   {
    "duration": 19,
    "start_time": "2022-11-29T08:43:49.996Z"
   },
   {
    "duration": 16,
    "start_time": "2022-11-29T08:43:50.017Z"
   },
   {
    "duration": 12,
    "start_time": "2022-11-29T08:43:50.035Z"
   },
   {
    "duration": 14,
    "start_time": "2022-11-29T08:43:50.049Z"
   },
   {
    "duration": 10,
    "start_time": "2022-11-29T08:43:50.065Z"
   },
   {
    "duration": 8,
    "start_time": "2022-11-29T08:43:50.077Z"
   },
   {
    "duration": 28,
    "start_time": "2022-11-29T08:43:50.087Z"
   },
   {
    "duration": 14,
    "start_time": "2022-11-29T08:43:50.117Z"
   },
   {
    "duration": 68,
    "start_time": "2022-11-29T08:47:26.424Z"
   },
   {
    "duration": 0,
    "start_time": "2022-11-29T08:47:26.495Z"
   },
   {
    "duration": 0,
    "start_time": "2022-11-29T08:47:26.496Z"
   },
   {
    "duration": 0,
    "start_time": "2022-11-29T08:47:26.497Z"
   },
   {
    "duration": 0,
    "start_time": "2022-11-29T08:47:26.499Z"
   },
   {
    "duration": 0,
    "start_time": "2022-11-29T08:47:26.500Z"
   },
   {
    "duration": 0,
    "start_time": "2022-11-29T08:47:26.501Z"
   },
   {
    "duration": 0,
    "start_time": "2022-11-29T08:47:26.503Z"
   },
   {
    "duration": 1,
    "start_time": "2022-11-29T08:47:26.503Z"
   },
   {
    "duration": 0,
    "start_time": "2022-11-29T08:47:26.504Z"
   },
   {
    "duration": 0,
    "start_time": "2022-11-29T08:47:26.505Z"
   },
   {
    "duration": 0,
    "start_time": "2022-11-29T08:47:26.506Z"
   },
   {
    "duration": 0,
    "start_time": "2022-11-29T08:47:26.508Z"
   },
   {
    "duration": 0,
    "start_time": "2022-11-29T08:47:26.509Z"
   },
   {
    "duration": 0,
    "start_time": "2022-11-29T08:47:26.510Z"
   },
   {
    "duration": 0,
    "start_time": "2022-11-29T08:47:26.511Z"
   },
   {
    "duration": 0,
    "start_time": "2022-11-29T08:47:26.512Z"
   },
   {
    "duration": 0,
    "start_time": "2022-11-29T08:47:26.513Z"
   },
   {
    "duration": 0,
    "start_time": "2022-11-29T08:47:26.514Z"
   },
   {
    "duration": 0,
    "start_time": "2022-11-29T08:47:26.515Z"
   },
   {
    "duration": 0,
    "start_time": "2022-11-29T08:47:26.516Z"
   },
   {
    "duration": 0,
    "start_time": "2022-11-29T08:47:26.517Z"
   },
   {
    "duration": 0,
    "start_time": "2022-11-29T08:47:26.518Z"
   },
   {
    "duration": 0,
    "start_time": "2022-11-29T08:47:26.519Z"
   },
   {
    "duration": 0,
    "start_time": "2022-11-29T08:47:26.520Z"
   },
   {
    "duration": 0,
    "start_time": "2022-11-29T08:47:26.521Z"
   },
   {
    "duration": 0,
    "start_time": "2022-11-29T08:47:26.522Z"
   },
   {
    "duration": 0,
    "start_time": "2022-11-29T08:47:26.523Z"
   },
   {
    "duration": 0,
    "start_time": "2022-11-29T08:47:26.524Z"
   },
   {
    "duration": 0,
    "start_time": "2022-11-29T08:47:26.525Z"
   },
   {
    "duration": 0,
    "start_time": "2022-11-29T08:47:26.526Z"
   },
   {
    "duration": 0,
    "start_time": "2022-11-29T08:47:26.528Z"
   },
   {
    "duration": 0,
    "start_time": "2022-11-29T08:47:26.528Z"
   },
   {
    "duration": 0,
    "start_time": "2022-11-29T08:47:26.529Z"
   },
   {
    "duration": 0,
    "start_time": "2022-11-29T08:47:26.531Z"
   },
   {
    "duration": 0,
    "start_time": "2022-11-29T08:47:26.532Z"
   },
   {
    "duration": 0,
    "start_time": "2022-11-29T08:47:26.532Z"
   },
   {
    "duration": 78,
    "start_time": "2022-11-29T08:47:51.890Z"
   },
   {
    "duration": 0,
    "start_time": "2022-11-29T08:47:51.970Z"
   },
   {
    "duration": 0,
    "start_time": "2022-11-29T08:47:51.972Z"
   },
   {
    "duration": 0,
    "start_time": "2022-11-29T08:47:51.973Z"
   },
   {
    "duration": 0,
    "start_time": "2022-11-29T08:47:51.974Z"
   },
   {
    "duration": 0,
    "start_time": "2022-11-29T08:47:51.976Z"
   },
   {
    "duration": 0,
    "start_time": "2022-11-29T08:47:51.977Z"
   },
   {
    "duration": 0,
    "start_time": "2022-11-29T08:47:51.978Z"
   },
   {
    "duration": 0,
    "start_time": "2022-11-29T08:47:51.979Z"
   },
   {
    "duration": 0,
    "start_time": "2022-11-29T08:47:51.980Z"
   },
   {
    "duration": 0,
    "start_time": "2022-11-29T08:47:51.981Z"
   },
   {
    "duration": 0,
    "start_time": "2022-11-29T08:47:51.982Z"
   },
   {
    "duration": 0,
    "start_time": "2022-11-29T08:47:51.983Z"
   },
   {
    "duration": 0,
    "start_time": "2022-11-29T08:47:51.984Z"
   },
   {
    "duration": 0,
    "start_time": "2022-11-29T08:47:51.985Z"
   },
   {
    "duration": 0,
    "start_time": "2022-11-29T08:47:51.986Z"
   },
   {
    "duration": 0,
    "start_time": "2022-11-29T08:47:51.987Z"
   },
   {
    "duration": 0,
    "start_time": "2022-11-29T08:47:51.988Z"
   },
   {
    "duration": 0,
    "start_time": "2022-11-29T08:47:51.989Z"
   },
   {
    "duration": 0,
    "start_time": "2022-11-29T08:47:51.990Z"
   },
   {
    "duration": 0,
    "start_time": "2022-11-29T08:47:51.991Z"
   },
   {
    "duration": 0,
    "start_time": "2022-11-29T08:47:51.992Z"
   },
   {
    "duration": 0,
    "start_time": "2022-11-29T08:47:51.993Z"
   },
   {
    "duration": 0,
    "start_time": "2022-11-29T08:47:51.993Z"
   },
   {
    "duration": 0,
    "start_time": "2022-11-29T08:47:51.995Z"
   },
   {
    "duration": 0,
    "start_time": "2022-11-29T08:47:51.996Z"
   },
   {
    "duration": 0,
    "start_time": "2022-11-29T08:47:51.997Z"
   },
   {
    "duration": 0,
    "start_time": "2022-11-29T08:47:51.998Z"
   },
   {
    "duration": 0,
    "start_time": "2022-11-29T08:47:51.999Z"
   },
   {
    "duration": 0,
    "start_time": "2022-11-29T08:47:52.001Z"
   },
   {
    "duration": 0,
    "start_time": "2022-11-29T08:47:52.002Z"
   },
   {
    "duration": 0,
    "start_time": "2022-11-29T08:47:52.003Z"
   },
   {
    "duration": 0,
    "start_time": "2022-11-29T08:47:52.004Z"
   },
   {
    "duration": 0,
    "start_time": "2022-11-29T08:47:52.004Z"
   },
   {
    "duration": 0,
    "start_time": "2022-11-29T08:47:52.013Z"
   },
   {
    "duration": 0,
    "start_time": "2022-11-29T08:47:52.013Z"
   },
   {
    "duration": 0,
    "start_time": "2022-11-29T08:47:52.014Z"
   },
   {
    "duration": 1199,
    "start_time": "2022-11-29T08:48:17.394Z"
   },
   {
    "duration": 161,
    "start_time": "2022-11-29T08:48:18.595Z"
   },
   {
    "duration": 19,
    "start_time": "2022-11-29T08:48:18.758Z"
   },
   {
    "duration": 14,
    "start_time": "2022-11-29T08:48:18.779Z"
   },
   {
    "duration": 75,
    "start_time": "2022-11-29T08:48:18.794Z"
   },
   {
    "duration": 89,
    "start_time": "2022-11-29T08:48:18.871Z"
   },
   {
    "duration": 98,
    "start_time": "2022-11-29T08:48:18.961Z"
   },
   {
    "duration": 20,
    "start_time": "2022-11-29T08:48:19.062Z"
   },
   {
    "duration": 127,
    "start_time": "2022-11-29T08:48:19.084Z"
   },
   {
    "duration": 47,
    "start_time": "2022-11-29T08:48:19.214Z"
   },
   {
    "duration": 11,
    "start_time": "2022-11-29T08:48:19.263Z"
   },
   {
    "duration": 10,
    "start_time": "2022-11-29T08:48:19.276Z"
   },
   {
    "duration": 55,
    "start_time": "2022-11-29T08:48:19.288Z"
   },
   {
    "duration": 5,
    "start_time": "2022-11-29T08:48:19.345Z"
   },
   {
    "duration": 9,
    "start_time": "2022-11-29T08:48:19.352Z"
   },
   {
    "duration": 5,
    "start_time": "2022-11-29T08:48:19.363Z"
   },
   {
    "duration": 372,
    "start_time": "2022-11-29T08:48:19.370Z"
   },
   {
    "duration": 20,
    "start_time": "2022-11-29T08:48:19.744Z"
   },
   {
    "duration": 18,
    "start_time": "2022-11-29T08:48:19.766Z"
   },
   {
    "duration": 28,
    "start_time": "2022-11-29T08:48:19.786Z"
   },
   {
    "duration": 26,
    "start_time": "2022-11-29T08:48:19.816Z"
   },
   {
    "duration": 13,
    "start_time": "2022-11-29T08:48:19.844Z"
   },
   {
    "duration": 28,
    "start_time": "2022-11-29T08:48:19.858Z"
   },
   {
    "duration": 87,
    "start_time": "2022-11-29T08:48:19.887Z"
   },
   {
    "duration": 11,
    "start_time": "2022-11-29T08:48:19.976Z"
   },
   {
    "duration": 29,
    "start_time": "2022-11-29T08:48:19.990Z"
   },
   {
    "duration": 57,
    "start_time": "2022-11-29T08:48:20.022Z"
   },
   {
    "duration": 92,
    "start_time": "2022-11-29T08:48:20.083Z"
   },
   {
    "duration": 9,
    "start_time": "2022-11-29T08:48:20.177Z"
   },
   {
    "duration": 16,
    "start_time": "2022-11-29T08:48:20.188Z"
   },
   {
    "duration": 18,
    "start_time": "2022-11-29T08:48:20.206Z"
   },
   {
    "duration": 30,
    "start_time": "2022-11-29T08:48:20.226Z"
   },
   {
    "duration": 25,
    "start_time": "2022-11-29T08:48:20.258Z"
   },
   {
    "duration": 19,
    "start_time": "2022-11-29T08:48:20.285Z"
   },
   {
    "duration": 26,
    "start_time": "2022-11-29T08:48:20.307Z"
   },
   {
    "duration": 22,
    "start_time": "2022-11-29T08:48:20.335Z"
   },
   {
    "duration": 79,
    "start_time": "2022-11-29T08:49:06.742Z"
   },
   {
    "duration": 1194,
    "start_time": "2022-11-29T08:49:15.653Z"
   },
   {
    "duration": 175,
    "start_time": "2022-11-29T08:49:16.849Z"
   },
   {
    "duration": 21,
    "start_time": "2022-11-29T08:49:17.026Z"
   },
   {
    "duration": 14,
    "start_time": "2022-11-29T08:49:17.049Z"
   },
   {
    "duration": 89,
    "start_time": "2022-11-29T08:49:17.065Z"
   },
   {
    "duration": 81,
    "start_time": "2022-11-29T08:49:17.156Z"
   },
   {
    "duration": 92,
    "start_time": "2022-11-29T08:49:17.239Z"
   },
   {
    "duration": 17,
    "start_time": "2022-11-29T08:49:17.333Z"
   },
   {
    "duration": 127,
    "start_time": "2022-11-29T08:49:17.351Z"
   },
   {
    "duration": 51,
    "start_time": "2022-11-29T08:49:17.480Z"
   },
   {
    "duration": 11,
    "start_time": "2022-11-29T08:49:17.533Z"
   },
   {
    "duration": 12,
    "start_time": "2022-11-29T08:49:17.546Z"
   },
   {
    "duration": 52,
    "start_time": "2022-11-29T08:49:17.561Z"
   },
   {
    "duration": 5,
    "start_time": "2022-11-29T08:49:17.617Z"
   },
   {
    "duration": 9,
    "start_time": "2022-11-29T08:49:17.623Z"
   },
   {
    "duration": 7,
    "start_time": "2022-11-29T08:49:17.634Z"
   },
   {
    "duration": 392,
    "start_time": "2022-11-29T08:49:17.643Z"
   },
   {
    "duration": 22,
    "start_time": "2022-11-29T08:49:18.037Z"
   },
   {
    "duration": 25,
    "start_time": "2022-11-29T08:49:18.061Z"
   },
   {
    "duration": 4,
    "start_time": "2022-11-29T08:49:18.088Z"
   },
   {
    "duration": 24,
    "start_time": "2022-11-29T08:49:18.114Z"
   },
   {
    "duration": 11,
    "start_time": "2022-11-29T08:49:18.140Z"
   },
   {
    "duration": 27,
    "start_time": "2022-11-29T08:49:18.153Z"
   },
   {
    "duration": 65,
    "start_time": "2022-11-29T08:49:18.213Z"
   },
   {
    "duration": 11,
    "start_time": "2022-11-29T08:49:18.280Z"
   },
   {
    "duration": 5,
    "start_time": "2022-11-29T08:49:18.312Z"
   },
   {
    "duration": 44,
    "start_time": "2022-11-29T08:49:18.318Z"
   },
   {
    "duration": 91,
    "start_time": "2022-11-29T08:49:18.364Z"
   },
   {
    "duration": 10,
    "start_time": "2022-11-29T08:49:18.468Z"
   },
   {
    "duration": 15,
    "start_time": "2022-11-29T08:49:18.480Z"
   },
   {
    "duration": 9,
    "start_time": "2022-11-29T08:49:18.497Z"
   },
   {
    "duration": 16,
    "start_time": "2022-11-29T08:49:18.509Z"
   },
   {
    "duration": 11,
    "start_time": "2022-11-29T08:49:18.527Z"
   },
   {
    "duration": 10,
    "start_time": "2022-11-29T08:49:18.540Z"
   },
   {
    "duration": 13,
    "start_time": "2022-11-29T08:49:18.551Z"
   },
   {
    "duration": 14,
    "start_time": "2022-11-29T08:49:18.566Z"
   },
   {
    "duration": 8,
    "start_time": "2022-11-29T08:55:16.082Z"
   },
   {
    "duration": 1163,
    "start_time": "2022-11-29T08:55:33.413Z"
   },
   {
    "duration": 228,
    "start_time": "2022-11-29T08:55:34.578Z"
   },
   {
    "duration": 22,
    "start_time": "2022-11-29T08:55:34.808Z"
   },
   {
    "duration": 15,
    "start_time": "2022-11-29T08:55:34.832Z"
   },
   {
    "duration": 98,
    "start_time": "2022-11-29T08:55:34.850Z"
   },
   {
    "duration": 115,
    "start_time": "2022-11-29T08:55:34.950Z"
   },
   {
    "duration": 115,
    "start_time": "2022-11-29T08:55:35.067Z"
   },
   {
    "duration": 33,
    "start_time": "2022-11-29T08:55:35.184Z"
   },
   {
    "duration": 134,
    "start_time": "2022-11-29T08:55:35.219Z"
   },
   {
    "duration": 67,
    "start_time": "2022-11-29T08:55:35.355Z"
   },
   {
    "duration": 13,
    "start_time": "2022-11-29T08:55:35.424Z"
   },
   {
    "duration": 18,
    "start_time": "2022-11-29T08:55:35.439Z"
   },
   {
    "duration": 58,
    "start_time": "2022-11-29T08:55:35.459Z"
   },
   {
    "duration": 6,
    "start_time": "2022-11-29T08:55:35.520Z"
   },
   {
    "duration": 18,
    "start_time": "2022-11-29T08:55:35.527Z"
   },
   {
    "duration": 7,
    "start_time": "2022-11-29T08:55:35.547Z"
   },
   {
    "duration": 408,
    "start_time": "2022-11-29T08:55:35.556Z"
   },
   {
    "duration": 22,
    "start_time": "2022-11-29T08:55:35.966Z"
   },
   {
    "duration": 45,
    "start_time": "2022-11-29T08:55:35.990Z"
   },
   {
    "duration": 5,
    "start_time": "2022-11-29T08:55:36.038Z"
   },
   {
    "duration": 47,
    "start_time": "2022-11-29T08:55:36.045Z"
   },
   {
    "duration": 36,
    "start_time": "2022-11-29T08:55:36.094Z"
   },
   {
    "duration": 38,
    "start_time": "2022-11-29T08:55:36.132Z"
   },
   {
    "duration": 124,
    "start_time": "2022-11-29T08:55:36.172Z"
   },
   {
    "duration": 21,
    "start_time": "2022-11-29T08:55:36.298Z"
   },
   {
    "duration": 13,
    "start_time": "2022-11-29T08:55:36.321Z"
   },
   {
    "duration": 52,
    "start_time": "2022-11-29T08:55:36.336Z"
   },
   {
    "duration": 139,
    "start_time": "2022-11-29T08:55:36.390Z"
   },
   {
    "duration": 9,
    "start_time": "2022-11-29T08:55:36.531Z"
   },
   {
    "duration": 13,
    "start_time": "2022-11-29T08:55:36.542Z"
   },
   {
    "duration": 13,
    "start_time": "2022-11-29T08:55:36.557Z"
   },
   {
    "duration": 17,
    "start_time": "2022-11-29T08:55:36.572Z"
   },
   {
    "duration": 13,
    "start_time": "2022-11-29T08:55:36.614Z"
   },
   {
    "duration": 13,
    "start_time": "2022-11-29T08:55:36.629Z"
   },
   {
    "duration": 17,
    "start_time": "2022-11-29T08:55:36.644Z"
   },
   {
    "duration": 18,
    "start_time": "2022-11-29T08:55:36.664Z"
   },
   {
    "duration": 14,
    "start_time": "2022-11-29T08:58:14.561Z"
   },
   {
    "duration": 92,
    "start_time": "2022-11-29T08:59:26.949Z"
   },
   {
    "duration": 1151,
    "start_time": "2022-11-29T09:45:40.511Z"
   },
   {
    "duration": 151,
    "start_time": "2022-11-29T09:45:41.664Z"
   },
   {
    "duration": 19,
    "start_time": "2022-11-29T09:45:41.817Z"
   },
   {
    "duration": 29,
    "start_time": "2022-11-29T09:45:41.838Z"
   },
   {
    "duration": 70,
    "start_time": "2022-11-29T09:45:41.869Z"
   },
   {
    "duration": 73,
    "start_time": "2022-11-29T09:45:41.940Z"
   },
   {
    "duration": 81,
    "start_time": "2022-11-29T09:45:42.014Z"
   },
   {
    "duration": 31,
    "start_time": "2022-11-29T09:45:42.096Z"
   },
   {
    "duration": 110,
    "start_time": "2022-11-29T09:45:42.129Z"
   },
   {
    "duration": 43,
    "start_time": "2022-11-29T09:45:42.241Z"
   },
   {
    "duration": 10,
    "start_time": "2022-11-29T09:45:42.285Z"
   },
   {
    "duration": 40,
    "start_time": "2022-11-29T09:45:42.297Z"
   },
   {
    "duration": 52,
    "start_time": "2022-11-29T09:45:42.339Z"
   },
   {
    "duration": 7,
    "start_time": "2022-11-29T09:45:42.393Z"
   },
   {
    "duration": 19,
    "start_time": "2022-11-29T09:45:42.402Z"
   },
   {
    "duration": 33,
    "start_time": "2022-11-29T09:45:42.422Z"
   },
   {
    "duration": 377,
    "start_time": "2022-11-29T09:45:42.457Z"
   },
   {
    "duration": 18,
    "start_time": "2022-11-29T09:45:42.836Z"
   },
   {
    "duration": 23,
    "start_time": "2022-11-29T09:45:42.856Z"
   },
   {
    "duration": 3,
    "start_time": "2022-11-29T09:45:42.881Z"
   },
   {
    "duration": 29,
    "start_time": "2022-11-29T09:45:42.886Z"
   },
   {
    "duration": 29,
    "start_time": "2022-11-29T09:45:42.916Z"
   },
   {
    "duration": 13,
    "start_time": "2022-11-29T09:45:42.946Z"
   },
   {
    "duration": 54,
    "start_time": "2022-11-29T09:45:42.960Z"
   },
   {
    "duration": 58,
    "start_time": "2022-11-29T09:45:43.016Z"
   },
   {
    "duration": 11,
    "start_time": "2022-11-29T09:45:43.075Z"
   },
   {
    "duration": 33,
    "start_time": "2022-11-29T09:45:43.087Z"
   },
   {
    "duration": 46,
    "start_time": "2022-11-29T09:45:43.123Z"
   },
   {
    "duration": 69,
    "start_time": "2022-11-29T09:45:43.171Z"
   },
   {
    "duration": 8,
    "start_time": "2022-11-29T09:45:43.241Z"
   },
   {
    "duration": 24,
    "start_time": "2022-11-29T09:45:43.250Z"
   },
   {
    "duration": 34,
    "start_time": "2022-11-29T09:45:43.276Z"
   },
   {
    "duration": 16,
    "start_time": "2022-11-29T09:45:43.312Z"
   },
   {
    "duration": 12,
    "start_time": "2022-11-29T09:45:43.330Z"
   },
   {
    "duration": 12,
    "start_time": "2022-11-29T09:45:43.343Z"
   },
   {
    "duration": 15,
    "start_time": "2022-11-29T09:45:43.357Z"
   },
   {
    "duration": 16,
    "start_time": "2022-11-29T09:45:43.374Z"
   },
   {
    "duration": 3,
    "start_time": "2022-11-29T10:21:59.029Z"
   },
   {
    "duration": 1137,
    "start_time": "2022-11-29T10:32:40.413Z"
   },
   {
    "duration": 157,
    "start_time": "2022-11-29T10:32:41.552Z"
   },
   {
    "duration": 20,
    "start_time": "2022-11-29T10:32:41.711Z"
   },
   {
    "duration": 13,
    "start_time": "2022-11-29T10:32:41.733Z"
   },
   {
    "duration": 87,
    "start_time": "2022-11-29T10:32:41.747Z"
   },
   {
    "duration": 83,
    "start_time": "2022-11-29T10:32:41.835Z"
   },
   {
    "duration": 100,
    "start_time": "2022-11-29T10:32:41.921Z"
   },
   {
    "duration": 18,
    "start_time": "2022-11-29T10:32:42.023Z"
   },
   {
    "duration": 124,
    "start_time": "2022-11-29T10:32:42.043Z"
   },
   {
    "duration": 59,
    "start_time": "2022-11-29T10:32:42.172Z"
   },
   {
    "duration": 12,
    "start_time": "2022-11-29T10:32:42.233Z"
   },
   {
    "duration": 13,
    "start_time": "2022-11-29T10:32:42.247Z"
   },
   {
    "duration": 35,
    "start_time": "2022-11-29T10:32:42.262Z"
   },
   {
    "duration": 6,
    "start_time": "2022-11-29T10:32:42.313Z"
   },
   {
    "duration": 14,
    "start_time": "2022-11-29T10:32:42.322Z"
   },
   {
    "duration": 5,
    "start_time": "2022-11-29T10:32:42.338Z"
   },
   {
    "duration": 396,
    "start_time": "2022-11-29T10:32:42.345Z"
   },
   {
    "duration": 19,
    "start_time": "2022-11-29T10:32:42.743Z"
   },
   {
    "duration": 18,
    "start_time": "2022-11-29T10:32:42.763Z"
   },
   {
    "duration": 3,
    "start_time": "2022-11-29T10:32:42.783Z"
   },
   {
    "duration": 35,
    "start_time": "2022-11-29T10:32:42.788Z"
   },
   {
    "duration": 26,
    "start_time": "2022-11-29T10:32:42.825Z"
   },
   {
    "duration": 11,
    "start_time": "2022-11-29T10:32:42.853Z"
   },
   {
    "duration": 51,
    "start_time": "2022-11-29T10:32:42.866Z"
   },
   {
    "duration": 75,
    "start_time": "2022-11-29T10:32:42.919Z"
   },
   {
    "duration": 26,
    "start_time": "2022-11-29T10:32:42.997Z"
   },
   {
    "duration": 5,
    "start_time": "2022-11-29T10:32:43.025Z"
   },
   {
    "duration": 38,
    "start_time": "2022-11-29T10:32:43.034Z"
   },
   {
    "duration": 104,
    "start_time": "2022-11-29T10:32:43.074Z"
   },
   {
    "duration": 8,
    "start_time": "2022-11-29T10:32:43.180Z"
   },
   {
    "duration": 23,
    "start_time": "2022-11-29T10:32:43.189Z"
   },
   {
    "duration": 5,
    "start_time": "2022-11-29T10:32:43.214Z"
   },
   {
    "duration": 13,
    "start_time": "2022-11-29T10:32:43.221Z"
   },
   {
    "duration": 10,
    "start_time": "2022-11-29T10:32:43.235Z"
   },
   {
    "duration": 10,
    "start_time": "2022-11-29T10:32:43.247Z"
   },
   {
    "duration": 11,
    "start_time": "2022-11-29T10:32:43.259Z"
   },
   {
    "duration": 40,
    "start_time": "2022-11-29T10:32:43.272Z"
   },
   {
    "duration": 1100,
    "start_time": "2022-11-29T10:34:27.169Z"
   },
   {
    "duration": 159,
    "start_time": "2022-11-29T10:34:28.270Z"
   },
   {
    "duration": 19,
    "start_time": "2022-11-29T10:34:28.430Z"
   },
   {
    "duration": 14,
    "start_time": "2022-11-29T10:34:28.450Z"
   },
   {
    "duration": 81,
    "start_time": "2022-11-29T10:34:28.466Z"
   },
   {
    "duration": 76,
    "start_time": "2022-11-29T10:34:28.549Z"
   },
   {
    "duration": 89,
    "start_time": "2022-11-29T10:34:28.627Z"
   },
   {
    "duration": 16,
    "start_time": "2022-11-29T10:34:28.718Z"
   },
   {
    "duration": 121,
    "start_time": "2022-11-29T10:34:28.736Z"
   },
   {
    "duration": 58,
    "start_time": "2022-11-29T10:34:28.859Z"
   },
   {
    "duration": 16,
    "start_time": "2022-11-29T10:34:28.919Z"
   },
   {
    "duration": 12,
    "start_time": "2022-11-29T10:34:28.937Z"
   },
   {
    "duration": 33,
    "start_time": "2022-11-29T10:34:28.950Z"
   },
   {
    "duration": 4,
    "start_time": "2022-11-29T10:34:28.986Z"
   },
   {
    "duration": 4,
    "start_time": "2022-11-29T10:34:29.013Z"
   },
   {
    "duration": 5,
    "start_time": "2022-11-29T10:34:29.018Z"
   },
   {
    "duration": 377,
    "start_time": "2022-11-29T10:34:29.024Z"
   },
   {
    "duration": 22,
    "start_time": "2022-11-29T10:34:29.402Z"
   },
   {
    "duration": 19,
    "start_time": "2022-11-29T10:34:29.425Z"
   },
   {
    "duration": 4,
    "start_time": "2022-11-29T10:34:29.445Z"
   },
   {
    "duration": 17,
    "start_time": "2022-11-29T10:34:29.450Z"
   },
   {
    "duration": 47,
    "start_time": "2022-11-29T10:34:29.469Z"
   },
   {
    "duration": 15,
    "start_time": "2022-11-29T10:34:29.518Z"
   },
   {
    "duration": 43,
    "start_time": "2022-11-29T10:34:29.535Z"
   },
   {
    "duration": 79,
    "start_time": "2022-11-29T10:34:29.580Z"
   },
   {
    "duration": 11,
    "start_time": "2022-11-29T10:34:29.661Z"
   },
   {
    "duration": 8,
    "start_time": "2022-11-29T10:34:29.674Z"
   },
   {
    "duration": 55,
    "start_time": "2022-11-29T10:34:29.684Z"
   },
   {
    "duration": 79,
    "start_time": "2022-11-29T10:34:29.741Z"
   },
   {
    "duration": 8,
    "start_time": "2022-11-29T10:34:29.821Z"
   },
   {
    "duration": 6,
    "start_time": "2022-11-29T10:34:29.832Z"
   },
   {
    "duration": 10,
    "start_time": "2022-11-29T10:34:29.840Z"
   },
   {
    "duration": 15,
    "start_time": "2022-11-29T10:34:29.852Z"
   },
   {
    "duration": 16,
    "start_time": "2022-11-29T10:34:29.869Z"
   },
   {
    "duration": 10,
    "start_time": "2022-11-29T10:34:29.887Z"
   },
   {
    "duration": 11,
    "start_time": "2022-11-29T10:34:29.914Z"
   },
   {
    "duration": 13,
    "start_time": "2022-11-29T10:34:29.926Z"
   },
   {
    "duration": 1154,
    "start_time": "2022-11-29T11:03:01.923Z"
   },
   {
    "duration": 160,
    "start_time": "2022-11-29T11:03:03.079Z"
   },
   {
    "duration": 18,
    "start_time": "2022-11-29T11:03:03.241Z"
   },
   {
    "duration": 28,
    "start_time": "2022-11-29T11:03:03.261Z"
   },
   {
    "duration": 63,
    "start_time": "2022-11-29T11:03:03.291Z"
   },
   {
    "duration": 84,
    "start_time": "2022-11-29T11:03:03.356Z"
   },
   {
    "duration": 91,
    "start_time": "2022-11-29T11:03:03.442Z"
   },
   {
    "duration": 16,
    "start_time": "2022-11-29T11:03:03.534Z"
   },
   {
    "duration": 113,
    "start_time": "2022-11-29T11:03:03.552Z"
   },
   {
    "duration": 53,
    "start_time": "2022-11-29T11:03:03.666Z"
   },
   {
    "duration": 10,
    "start_time": "2022-11-29T11:03:03.721Z"
   },
   {
    "duration": 12,
    "start_time": "2022-11-29T11:03:03.733Z"
   },
   {
    "duration": 31,
    "start_time": "2022-11-29T11:03:03.747Z"
   },
   {
    "duration": 5,
    "start_time": "2022-11-29T11:03:03.797Z"
   },
   {
    "duration": 5,
    "start_time": "2022-11-29T11:03:03.804Z"
   },
   {
    "duration": 7,
    "start_time": "2022-11-29T11:03:03.811Z"
   },
   {
    "duration": 396,
    "start_time": "2022-11-29T11:03:03.819Z"
   },
   {
    "duration": 19,
    "start_time": "2022-11-29T11:03:04.217Z"
   },
   {
    "duration": 18,
    "start_time": "2022-11-29T11:03:04.238Z"
   },
   {
    "duration": 4,
    "start_time": "2022-11-29T11:03:04.258Z"
   },
   {
    "duration": 38,
    "start_time": "2022-11-29T11:03:04.263Z"
   },
   {
    "duration": 27,
    "start_time": "2022-11-29T11:03:04.303Z"
   },
   {
    "duration": 12,
    "start_time": "2022-11-29T11:03:04.331Z"
   },
   {
    "duration": 26,
    "start_time": "2022-11-29T11:03:04.345Z"
   },
   {
    "duration": 61,
    "start_time": "2022-11-29T11:03:04.396Z"
   },
   {
    "duration": 10,
    "start_time": "2022-11-29T11:03:04.459Z"
   },
   {
    "duration": 28,
    "start_time": "2022-11-29T11:03:04.471Z"
   },
   {
    "duration": 43,
    "start_time": "2022-11-29T11:03:04.501Z"
   },
   {
    "duration": 82,
    "start_time": "2022-11-29T11:03:04.545Z"
   },
   {
    "duration": 7,
    "start_time": "2022-11-29T11:03:04.629Z"
   },
   {
    "duration": 11,
    "start_time": "2022-11-29T11:03:04.637Z"
   },
   {
    "duration": 10,
    "start_time": "2022-11-29T11:03:04.649Z"
   },
   {
    "duration": 15,
    "start_time": "2022-11-29T11:03:04.660Z"
   },
   {
    "duration": 22,
    "start_time": "2022-11-29T11:03:04.677Z"
   },
   {
    "duration": 8,
    "start_time": "2022-11-29T11:03:04.700Z"
   },
   {
    "duration": 11,
    "start_time": "2022-11-29T11:03:04.710Z"
   },
   {
    "duration": 12,
    "start_time": "2022-11-29T11:03:04.723Z"
   }
  ],
  "kernelspec": {
   "display_name": "Python 3 (ipykernel)",
   "language": "python",
   "name": "python3"
  },
  "language_info": {
   "codemirror_mode": {
    "name": "ipython",
    "version": 3
   },
   "file_extension": ".py",
   "mimetype": "text/x-python",
   "name": "python",
   "nbconvert_exporter": "python",
   "pygments_lexer": "ipython3",
   "version": "3.9.13"
  },
  "toc": {
   "base_numbering": 1,
   "nav_menu": {},
   "number_sections": true,
   "sideBar": true,
   "skip_h1_title": true,
   "title_cell": "Table of Contents",
   "title_sidebar": "Contents",
   "toc_cell": false,
   "toc_position": {},
   "toc_section_display": true,
   "toc_window_display": false
  }
 },
 "nbformat": 4,
 "nbformat_minor": 2
}
