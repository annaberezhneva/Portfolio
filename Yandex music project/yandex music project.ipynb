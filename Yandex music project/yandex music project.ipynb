{
 "cells": [
  {
   "cell_type": "markdown",
   "metadata": {
    "deletable": false,
    "editable": false,
    "id": "E0vqbgi9ay0H"
   },
   "source": [
    "# Сравнение музыкальных предпочтений пользователей музыкального сервиса"
   ]
  },
  {
   "cell_type": "markdown",
   "metadata": {
    "deletable": false,
    "editable": false,
    "id": "VUC88oWjTJw2"
   },
   "source": [
    "Сравнение Москвы и Петербурга окружено мифами. Например:\n",
    " * Москва — мегаполис, подчинённый жёсткому ритму рабочей недели;\n",
    " * Петербург — культурная столица, со своими вкусами.\n",
    "\n",
    "На данных Яндекс Музыки вы сравните поведение пользователей двух столиц.\n",
    "\n",
    "**Цель исследования** — проверьте три гипотезы:\n",
    "1. Активность пользователей зависит от дня недели. Причём в Москве и Петербурге это проявляется по-разному.\n",
    "2. В понедельник утром в Москве преобладают одни жанры, а в Петербурге — другие. Так же и вечером пятницы преобладают разные жанры — в зависимости от города. \n",
    "3. Москва и Петербург предпочитают разные жанры музыки. В Москве чаще слушают поп-музыку, в Петербурге — русский рэп.\n",
    "\n",
    "**Ход исследования**\n",
    "\n",
    "Данные о поведении пользователей вы получите из файла `yandex_music_project.csv`. О качестве данных ничего не известно. Поэтому перед проверкой гипотез понадобится обзор данных. \n",
    "\n",
    "Вы проверите данные на ошибки и оцените их влияние на исследование. Затем, на этапе предобработки вы поищете возможность исправить самые критичные ошибки данных.\n",
    " \n",
    "Таким образом, исследование пройдёт в три этапа:\n",
    " 1. Обзор данных.\n",
    " 2. Предобработка данных.\n",
    " 3. Проверка гипотез.\n",
    "\n"
   ]
  },
  {
   "cell_type": "markdown",
   "metadata": {
    "deletable": false,
    "editable": false,
    "id": "Ml1hmfXC_Zcs"
   },
   "source": [
    "## Обзор данных\n",
    "\n",
    "Составьте первое представление о данных Яндекс Музыки.\n",
    "\n",
    "\n"
   ]
  },
  {
   "cell_type": "markdown",
   "metadata": {
    "deletable": false,
    "editable": false,
    "id": "57eAOGIz_Zcs",
    "tags": [
     "start_task"
    ]
   },
   "source": [
    "**Задание 1**\n",
    "\n",
    "Основной инструмент аналитика — `pandas`. Импортируйте эту библиотеку."
   ]
  },
  {
   "cell_type": "code",
   "execution_count": 1,
   "metadata": {
    "deletable": false,
    "id": "AXN7PHPN_Zcs"
   },
   "outputs": [],
   "source": [
    "import pandas as pd # импорт библиотеки pandas"
   ]
  },
  {
   "cell_type": "markdown",
   "metadata": {
    "deletable": false,
    "editable": false,
    "id": "SG23P8tt_Zcs",
    "tags": [
     "start_task"
    ]
   },
   "source": [
    "**Задание 2**\n",
    "\n",
    "Прочитайте файл `yandex_music_project.csv` из папки `/datasets` и сохраните его в переменной `df`:"
   ]
  },
  {
   "cell_type": "code",
   "execution_count": 2,
   "metadata": {
    "deletable": false,
    "id": "fFVu7vqh_Zct"
   },
   "outputs": [],
   "source": [
    "df = pd.read_csv('/datasets/yandex_music_project.csv') # чтение файла с данными и сохранение в df"
   ]
  },
  {
   "cell_type": "markdown",
   "metadata": {
    "deletable": false,
    "editable": false,
    "id": "rDoOMd3uTqnZ",
    "tags": [
     "start_task"
    ]
   },
   "source": [
    "**Задание 3**\n",
    "\n",
    "\n",
    "Выведите на экран первые десять строк таблицы:"
   ]
  },
  {
   "cell_type": "code",
   "execution_count": 3,
   "metadata": {
    "deletable": false,
    "id": "oWTVX3gW_Zct"
   },
   "outputs": [
    {
     "name": "stdout",
     "output_type": "stream",
     "text": [
      "     userID                        Track            artist   genre  \\\n",
      "0  FFB692EC            Kamigata To Boots  The Mass Missile    rock   \n",
      "1  55204538  Delayed Because of Accident  Andreas Rönnberg    rock   \n",
      "2    20EC38            Funiculì funiculà       Mario Lanza     pop   \n",
      "3  A3DD03C9        Dragons in the Sunset        Fire + Ice    folk   \n",
      "4  E2DC1FAE                  Soul People        Space Echo   dance   \n",
      "5  842029A1                    Преданная         IMPERVTOR  rusrap   \n",
      "6  4CB90AA5                         True      Roman Messer   dance   \n",
      "7  F03E1C1F             Feeling This Way   Polina Griffith   dance   \n",
      "8  8FA1D3BE     И вновь продолжается бой               NaN  ruspop   \n",
      "9  E772D5C0                    Pessimist               NaN   dance   \n",
      "\n",
      "             City        time        Day  \n",
      "0  Saint-Petersburg  20:28:33  Wednesday  \n",
      "1            Moscow  14:07:09     Friday  \n",
      "2  Saint-Petersburg  20:58:07  Wednesday  \n",
      "3  Saint-Petersburg  08:37:09     Monday  \n",
      "4            Moscow  08:34:34     Monday  \n",
      "5  Saint-Petersburg  13:09:41     Friday  \n",
      "6            Moscow  13:00:07  Wednesday  \n",
      "7            Moscow  20:47:49  Wednesday  \n",
      "8            Moscow  09:17:40     Friday  \n",
      "9  Saint-Petersburg  21:20:49  Wednesday  \n"
     ]
    }
   ],
   "source": [
    "print(df.head(10)) # получение первых 10 строк таблицы df"
   ]
  },
  {
   "cell_type": "markdown",
   "metadata": {
    "deletable": false,
    "editable": false,
    "id": "EO73Kwic_Zct",
    "tags": [
     "start_task"
    ]
   },
   "source": [
    "**Задание 4**\n",
    "\n",
    "\n",
    "Одной командой получить общую информацию о таблице c помощью метода `info()`:"
   ]
  },
  {
   "cell_type": "code",
   "execution_count": 4,
   "metadata": {
    "deletable": false,
    "id": "DSf2kIb-_Zct"
   },
   "outputs": [
    {
     "name": "stdout",
     "output_type": "stream",
     "text": [
      "<class 'pandas.core.frame.DataFrame'>\n",
      "RangeIndex: 65079 entries, 0 to 65078\n",
      "Data columns (total 7 columns):\n",
      " #   Column    Non-Null Count  Dtype \n",
      "---  ------    --------------  ----- \n",
      " 0     userID  65079 non-null  object\n",
      " 1   Track     63848 non-null  object\n",
      " 2   artist    57876 non-null  object\n",
      " 3   genre     63881 non-null  object\n",
      " 4     City    65079 non-null  object\n",
      " 5   time      65079 non-null  object\n",
      " 6   Day       65079 non-null  object\n",
      "dtypes: object(7)\n",
      "memory usage: 3.5+ MB\n"
     ]
    }
   ],
   "source": [
    "df.info() # получение общей информации о данных в таблице df"
   ]
  },
  {
   "cell_type": "markdown",
   "metadata": {
    "deletable": false,
    "editable": false,
    "id": "TaQ2Iwbr_Zct"
   },
   "source": [
    "Итак, в таблице семь столбцов. Тип данных во всех столбцах — `object`.\n",
    "\n",
    "Согласно документации к данным:\n",
    "* `userID` — идентификатор пользователя;\n",
    "* `Track` — название трека;  \n",
    "* `artist` — имя исполнителя;\n",
    "* `genre` — название жанра;\n",
    "* `City` — город пользователя;\n",
    "* `time` — время начала прослушивания;\n",
    "* `Day` — день недели.\n",
    "\n",
    "Количество значений в столбцах различается. Значит, в данных есть пропущенные значения."
   ]
  },
  {
   "cell_type": "markdown",
   "metadata": {
    "deletable": false,
    "editable": false,
    "id": "rAfziTBDmf2h",
    "tags": [
     "start_task"
    ]
   },
   "source": [
    "**Задание 5**\n",
    "\n",
    "**Вопрос со свободной формой ответа**\n",
    "\n",
    "В названиях колонок видны нарушения стиля:\n",
    "* Строчные буквы сочетаются с прописными.\n",
    "* Встречаются пробелы.\n",
    "\n",
    "Какое третье нарушение?"
   ]
  },
  {
   "cell_type": "code",
   "execution_count": 5,
   "metadata": {
    "id": "jD8EXEIvmf2h"
   },
   "outputs": [],
   "source": [
    "# Нет разделения слов с помощью символа \"_\" Напишите ваш ответ здесь комментарием. Не удаляйте символ #. Не меняйте тип этой ячейки на Markdown."
   ]
  },
  {
   "cell_type": "markdown",
   "metadata": {
    "deletable": false,
    "editable": false,
    "id": "MCB6-dXG_Zct"
   },
   "source": [
    "**Выводы**\n",
    "\n",
    "В каждой строке таблицы — данные о прослушанном треке. Часть колонок описывает саму композицию: название, исполнителя и жанр. Остальные данные рассказывают о пользователе: из какого он города, когда он слушал музыку. \n",
    "\n",
    "Предварительно можно утверждать, что данных достаточно для проверки гипотез. Но встречаются пропуски в данных, а в названиях колонок — расхождения с хорошим стилем.\n",
    "\n",
    "Чтобы двигаться дальше, нужно устранить проблемы в данных."
   ]
  },
  {
   "cell_type": "markdown",
   "metadata": {
    "deletable": false,
    "editable": false,
    "id": "SjYF6Ub9_Zct"
   },
   "source": [
    "## Предобработка данных\n",
    "Исправьте стиль в заголовках столбцов, исключите пропуски. Затем проверьте данные на дубликаты."
   ]
  },
  {
   "cell_type": "markdown",
   "metadata": {
    "deletable": false,
    "editable": false,
    "id": "dIaKXr29_Zct",
    "tags": [
     "start_task"
    ]
   },
   "source": [
    "### Стиль заголовков\n",
    "\n",
    "**Задание 6**\n",
    "\n",
    "Выведите на экран названия столбцов:"
   ]
  },
  {
   "cell_type": "code",
   "execution_count": 6,
   "metadata": {
    "deletable": false,
    "id": "oKOTdF_Q_Zct"
   },
   "outputs": [
    {
     "name": "stdout",
     "output_type": "stream",
     "text": [
      "Index(['  userID', 'Track', 'artist', 'genre', '  City  ', 'time', 'Day'], dtype='object')\n"
     ]
    }
   ],
   "source": [
    "print(df.columns) # перечень названий столбцов таблицы df"
   ]
  },
  {
   "cell_type": "markdown",
   "metadata": {
    "deletable": false,
    "editable": false,
    "id": "zj5534cv_Zct",
    "tags": [
     "start_task"
    ]
   },
   "source": [
    "**Задание 7**\n",
    "\n",
    "\n",
    "Приведите названия в соответствие с хорошим стилем:\n",
    "* несколько слов в названии запишите в «змеином_регистре»,\n",
    "* все символы сделайте строчными,\n",
    "* устраните пробелы.\n",
    "\n",
    "Для этого переименуйте колонки так:\n",
    "* `'  userID'` → `'user_id'`;\n",
    "* `'Track'` → `'track'`;\n",
    "* `'  City  '` → `'city'`;\n",
    "* `'Day'` → `'day'`."
   ]
  },
  {
   "cell_type": "code",
   "execution_count": 7,
   "metadata": {
    "deletable": false,
    "id": "ISlFqs5y_Zct"
   },
   "outputs": [],
   "source": [
    "df = df.rename(\n",
    "    columns={\n",
    "        '  userID': 'user_id',\n",
    "        'Track': 'track',\n",
    "        '  City  ': 'city',\n",
    "        'Day': 'day'\n",
    "    }\n",
    ") # переименование столбцов"
   ]
  },
  {
   "cell_type": "markdown",
   "metadata": {
    "deletable": false,
    "editable": false,
    "id": "1dqbh00J_Zct",
    "tags": [
     "start_task"
    ]
   },
   "source": [
    "**Задание 8**\n",
    "\n",
    "\n",
    "Проверьте результат. Для этого ещё раз выведите на экран названия столбцов:"
   ]
  },
  {
   "cell_type": "code",
   "execution_count": 8,
   "metadata": {
    "deletable": false,
    "id": "d4NOAmTW_Zct"
   },
   "outputs": [
    {
     "name": "stdout",
     "output_type": "stream",
     "text": [
      "Index(['user_id', 'track', 'artist', 'genre', 'city', 'time', 'day'], dtype='object')\n"
     ]
    }
   ],
   "source": [
    "print(df.columns) # проверка результатов - перечень названий столбцов"
   ]
  },
  {
   "cell_type": "markdown",
   "metadata": {
    "deletable": false,
    "editable": false,
    "id": "5ISfbcfY_Zct",
    "tags": [
     "start_task"
    ]
   },
   "source": [
    "### Пропуски значений\n",
    "\n",
    "**Задание 9**\n",
    "\n",
    "Сначала посчитайте, сколько в таблице пропущенных значений. Для этого достаточно двух методов `pandas`:"
   ]
  },
  {
   "cell_type": "code",
   "execution_count": 9,
   "metadata": {
    "deletable": false,
    "id": "RskX29qr_Zct"
   },
   "outputs": [
    {
     "data": {
      "text/plain": [
       "user_id       0\n",
       "track      1231\n",
       "artist     7203\n",
       "genre      1198\n",
       "city          0\n",
       "time          0\n",
       "day           0\n",
       "dtype: int64"
      ]
     },
     "execution_count": 9,
     "metadata": {},
     "output_type": "execute_result"
    }
   ],
   "source": [
    "df.isna().sum() # подсчёт пропусков"
   ]
  },
  {
   "cell_type": "markdown",
   "metadata": {
    "deletable": false,
    "editable": false,
    "id": "qubhgnlO_Zct"
   },
   "source": [
    "Не все пропущенные значения влияют на исследование. Так в `track` и `artist` пропуски не важны для вашей работы. Достаточно заменить их явными обозначениями.\n",
    "\n",
    "Но пропуски в `genre` могут помешать сравнению музыкальных вкусов в Москве и Санкт-Петербурге. На практике было бы правильно установить причину пропусков и восстановить данные. Такой возможности нет в учебном проекте. Придётся:\n",
    "* заполнить и эти пропуски явными обозначениями;\n",
    "* оценить, насколько они повредят расчётам. "
   ]
  },
  {
   "cell_type": "markdown",
   "metadata": {
    "deletable": false,
    "editable": false,
    "id": "fSv2laPA_Zct",
    "tags": [
     "start_task"
    ]
   },
   "source": [
    "**Задание 10**\n",
    "\n",
    "Замените пропущенные значения в столбцах `track`, `artist` и `genre` на строку `'unknown'`. Для этого создайте список `columns_to_replace`, переберите его элементы циклом `for` и для каждого столбца выполните замену пропущенных значений:"
   ]
  },
  {
   "cell_type": "code",
   "execution_count": 10,
   "metadata": {
    "deletable": false,
    "id": "KplB5qWs_Zct"
   },
   "outputs": [],
   "source": [
    "columns_to_replace = df.loc[:, ['track', 'artist', 'genre']]\n",
    "for column in columns_to_replace:\n",
    "    df[column] = df[column].fillna('unknown') # перебор названий столбцов в цикле и замена пропущенных значений на 'unknown'"
   ]
  },
  {
   "cell_type": "markdown",
   "metadata": {
    "deletable": false,
    "editable": false,
    "id": "Ilsm-MZo_Zct",
    "tags": [
     "start_task"
    ]
   },
   "source": [
    "**Задание 11**\n",
    "\n",
    "Убедитесь, что в таблице не осталось пропусков. Для этого ещё раз посчитайте пропущенные значения."
   ]
  },
  {
   "cell_type": "code",
   "execution_count": 11,
   "metadata": {
    "deletable": false,
    "id": "Tq4nYRX4_Zct"
   },
   "outputs": [
    {
     "data": {
      "text/plain": [
       "user_id    0\n",
       "track      0\n",
       "artist     0\n",
       "genre      0\n",
       "city       0\n",
       "time       0\n",
       "day        0\n",
       "dtype: int64"
      ]
     },
     "execution_count": 11,
     "metadata": {},
     "output_type": "execute_result"
    }
   ],
   "source": [
    "df.isna().sum() # подсчёт пропусков"
   ]
  },
  {
   "cell_type": "markdown",
   "metadata": {
    "deletable": false,
    "editable": false,
    "id": "BWKRtBJ3_Zct",
    "tags": [
     "start_task"
    ]
   },
   "source": [
    "### Дубликаты\n",
    "\n",
    "**Задание 12**\n",
    "\n",
    "Посчитайте явные дубликаты в таблице одной командой:"
   ]
  },
  {
   "cell_type": "code",
   "execution_count": 12,
   "metadata": {
    "deletable": false,
    "id": "36eES_S0_Zct"
   },
   "outputs": [
    {
     "data": {
      "text/plain": [
       "3826"
      ]
     },
     "execution_count": 12,
     "metadata": {},
     "output_type": "execute_result"
    }
   ],
   "source": [
    "df.duplicated().sum() # подсчёт явных дубликатов"
   ]
  },
  {
   "cell_type": "markdown",
   "metadata": {
    "deletable": false,
    "editable": false,
    "id": "Ot25h6XR_Zct",
    "tags": [
     "start_task"
    ]
   },
   "source": [
    "**Задание 13**\n",
    "\n",
    "Вызовите специальный метод `pandas`, чтобы удалить явные дубликаты:"
   ]
  },
  {
   "cell_type": "code",
   "execution_count": 13,
   "metadata": {
    "deletable": false,
    "id": "exFHq6tt_Zct"
   },
   "outputs": [],
   "source": [
    "df = df.drop_duplicates().reset_index(drop=True) # удаление явных дубликатов"
   ]
  },
  {
   "cell_type": "markdown",
   "metadata": {
    "deletable": false,
    "editable": false,
    "id": "Im2YwBEG_Zct",
    "tags": [
     "start_task"
    ]
   },
   "source": [
    "**Задание 14**\n",
    "\n",
    "Ещё раз посчитайте явные дубликаты в таблице — убедитесь, что полностью от них избавились:"
   ]
  },
  {
   "cell_type": "code",
   "execution_count": 14,
   "metadata": {
    "deletable": false,
    "id": "-8PuNWQ0_Zct"
   },
   "outputs": [
    {
     "data": {
      "text/plain": [
       "0"
      ]
     },
     "execution_count": 14,
     "metadata": {},
     "output_type": "execute_result"
    }
   ],
   "source": [
    "df.duplicated().sum() # проверка на отсутствие дубликатов"
   ]
  },
  {
   "cell_type": "markdown",
   "metadata": {
    "deletable": false,
    "editable": false,
    "id": "QlFBsxAr_Zct"
   },
   "source": [
    "Теперь избавьтесь от неявных дубликатов в колонке `genre`. Например, название одного и того же жанра может быть записано немного по-разному. Такие ошибки тоже повлияют на результат исследования."
   ]
  },
  {
   "cell_type": "markdown",
   "metadata": {
    "deletable": false,
    "editable": false,
    "id": "eSjWwsOh_Zct",
    "tags": [
     "start_task"
    ]
   },
   "source": [
    "**Задание 15**\n",
    "\n",
    "Выведите на экран список уникальных названий жанров, отсортированный в алфавитном порядке. Для этого:\n",
    "1. извлеките нужный столбец датафрейма; \n",
    "2. примените к нему метод сортировки;\n",
    "3. для отсортированного столбца вызовите метод, который вернёт уникальные значения из столбца."
   ]
  },
  {
   "cell_type": "code",
   "execution_count": 15,
   "metadata": {
    "deletable": false,
    "id": "JIUcqzZN_Zct",
    "scrolled": true
   },
   "outputs": [
    {
     "name": "stdout",
     "output_type": "stream",
     "text": [
      "['acid' 'acoustic' 'action' 'adult' 'africa' 'afrikaans' 'alternative'\n",
      " 'alternativepunk' 'ambient' 'americana' 'animated' 'anime' 'arabesk'\n",
      " 'arabic' 'arena' 'argentinetango' 'art' 'audiobook' 'author' 'avantgarde'\n",
      " 'axé' 'baile' 'balkan' 'beats' 'bigroom' 'black' 'bluegrass' 'blues'\n",
      " 'bollywood' 'bossa' 'brazilian' 'breakbeat' 'breaks' 'broadway'\n",
      " 'cantautori' 'cantopop' 'canzone' 'caribbean' 'caucasian' 'celtic'\n",
      " 'chamber' 'chanson' 'children' 'chill' 'chinese' 'choral' 'christian'\n",
      " 'christmas' 'classical' 'classicmetal' 'club' 'colombian' 'comedy'\n",
      " 'conjazz' 'contemporary' 'country' 'cuban' 'dance' 'dancehall' 'dancepop'\n",
      " 'dark' 'death' 'deep' 'deutschrock' 'deutschspr' 'dirty' 'disco' 'dnb'\n",
      " 'documentary' 'downbeat' 'downtempo' 'drum' 'dub' 'dubstep' 'eastern'\n",
      " 'easy' 'electronic' 'electropop' 'emo' 'entehno' 'epicmetal' 'estrada'\n",
      " 'ethnic' 'eurofolk' 'european' 'experimental' 'extrememetal' 'fado'\n",
      " 'fairytail' 'film' 'fitness' 'flamenco' 'folk' 'folklore' 'folkmetal'\n",
      " 'folkrock' 'folktronica' 'forró' 'frankreich' 'französisch' 'french'\n",
      " 'funk' 'future' 'gangsta' 'garage' 'german' 'ghazal' 'gitarre' 'glitch'\n",
      " 'gospel' 'gothic' 'grime' 'grunge' 'gypsy' 'handsup' \"hard'n'heavy\"\n",
      " 'hardcore' 'hardstyle' 'hardtechno' 'hip' 'hip-hop' 'hiphop' 'historisch'\n",
      " 'holiday' 'hop' 'horror' 'house' 'hymn' 'idm' 'independent' 'indian'\n",
      " 'indie' 'indipop' 'industrial' 'inspirational' 'instrumental'\n",
      " 'international' 'irish' 'jam' 'japanese' 'jazz' 'jewish' 'jpop' 'jungle'\n",
      " 'k-pop' 'karadeniz' 'karaoke' 'kayokyoku' 'korean' 'laiko' 'latin'\n",
      " 'latino' 'leftfield' 'local' 'lounge' 'loungeelectronic' 'lovers'\n",
      " 'malaysian' 'mandopop' 'marschmusik' 'meditative' 'mediterranean'\n",
      " 'melodic' 'metal' 'metalcore' 'mexican' 'middle' 'minimal'\n",
      " 'miscellaneous' 'modern' 'mood' 'mpb' 'muslim' 'native' 'neoklassik'\n",
      " 'neue' 'new' 'newage' 'newwave' 'nu' 'nujazz' 'numetal' 'oceania' 'old'\n",
      " 'opera' 'orchestral' 'other' 'piano' 'podcasts' 'pop' 'popdance'\n",
      " 'popelectronic' 'popeurodance' 'poprussian' 'post' 'posthardcore'\n",
      " 'postrock' 'power' 'progmetal' 'progressive' 'psychedelic' 'punjabi'\n",
      " 'punk' 'quebecois' 'ragga' 'ram' 'rancheras' 'rap' 'rave' 'reggae'\n",
      " 'reggaeton' 'regional' 'relax' 'religious' 'retro' 'rhythm' 'rnb' 'rnr'\n",
      " 'rock' 'rockabilly' 'rockalternative' 'rockindie' 'rockother' 'romance'\n",
      " 'roots' 'ruspop' 'rusrap' 'rusrock' 'russian' 'salsa' 'samba' 'scenic'\n",
      " 'schlager' 'self' 'sertanejo' 'shanson' 'shoegazing' 'showtunes' 'singer'\n",
      " 'ska' 'skarock' 'slow' 'smooth' 'soft' 'soul' 'soulful' 'sound'\n",
      " 'soundtrack' 'southern' 'specialty' 'speech' 'spiritual' 'sport'\n",
      " 'stonerrock' 'surf' 'swing' 'synthpop' 'synthrock' 'sängerportrait'\n",
      " 'tango' 'tanzorchester' 'taraftar' 'tatar' 'tech' 'techno' 'teen'\n",
      " 'thrash' 'top' 'traditional' 'tradjazz' 'trance' 'tribal' 'trip'\n",
      " 'triphop' 'tropical' 'türk' 'türkçe' 'ukrrock' 'unknown' 'urban' 'uzbek'\n",
      " 'variété' 'vi' 'videogame' 'vocal' 'western' 'world' 'worldbeat' 'ïîï'\n",
      " 'электроника']\n"
     ]
    }
   ],
   "source": [
    "genre_sorted = df['genre'].sort_values()\n",
    "genre_unique = genre_sorted.unique()\n",
    "print(genre_unique) # Просмотр уникальных названий жанров"
   ]
  },
  {
   "cell_type": "markdown",
   "metadata": {
    "deletable": false,
    "editable": false,
    "id": "qej-Qmuo_Zct",
    "tags": [
     "start_task"
    ]
   },
   "source": [
    "**Задание 16**\n",
    "\n",
    "Просмотрите список и найдите неявные дубликаты названия `hiphop`. Это могут быть названия с ошибками или альтернативные названия того же жанра.\n",
    "\n",
    "Вы увидите следующие неявные дубликаты:\n",
    "* *hip*,\n",
    "* *hop*,\n",
    "* *hip-hop*.\n",
    "\n",
    "Чтобы очистить от них таблицу используйте метод `replace()` с двумя аргументами: списком строк-дубликатов (включащий *hip*, *hop* и *hip-hop*) и строкой с правильным значением. Вам нужно исправить колонку `genre` в таблице `df`: заменить каждое значение из списка дубликатов на верное. Вместо `hip`, `hop` и `hip-hop` в таблице должно быть значение `hiphop`:"
   ]
  },
  {
   "cell_type": "code",
   "execution_count": 16,
   "metadata": {
    "deletable": false,
    "id": "ErNDkmns_Zct"
   },
   "outputs": [],
   "source": [
    "df['genre'] = df['genre'].replace(['hip', 'hop', 'hip-hop'], 'hiphop') # Устранение неявных дубликатов"
   ]
  },
  {
   "cell_type": "markdown",
   "metadata": {
    "deletable": false,
    "editable": false,
    "id": "zQKF16_RG15m",
    "tags": [
     "start_task"
    ]
   },
   "source": [
    "**Задание 17**\n",
    "\n",
    "Проверьте, что заменили неправильные названия:\n",
    "\n",
    "*   hip,\n",
    "*   hop,\n",
    "*   hip-hop.\n",
    "\n",
    "Выведите отсортированный список уникальных значений столбца `genre`:"
   ]
  },
  {
   "cell_type": "code",
   "execution_count": 17,
   "metadata": {
    "deletable": false,
    "id": "wvixALnFG15m",
    "scrolled": true
   },
   "outputs": [
    {
     "name": "stdout",
     "output_type": "stream",
     "text": [
      "['acid' 'acoustic' 'action' 'adult' 'africa' 'afrikaans' 'alternative'\n",
      " 'alternativepunk' 'ambient' 'americana' 'animated' 'anime' 'arabesk'\n",
      " 'arabic' 'arena' 'argentinetango' 'art' 'audiobook' 'author' 'avantgarde'\n",
      " 'axé' 'baile' 'balkan' 'beats' 'bigroom' 'black' 'bluegrass' 'blues'\n",
      " 'bollywood' 'bossa' 'brazilian' 'breakbeat' 'breaks' 'broadway'\n",
      " 'cantautori' 'cantopop' 'canzone' 'caribbean' 'caucasian' 'celtic'\n",
      " 'chamber' 'chanson' 'children' 'chill' 'chinese' 'choral' 'christian'\n",
      " 'christmas' 'classical' 'classicmetal' 'club' 'colombian' 'comedy'\n",
      " 'conjazz' 'contemporary' 'country' 'cuban' 'dance' 'dancehall' 'dancepop'\n",
      " 'dark' 'death' 'deep' 'deutschrock' 'deutschspr' 'dirty' 'disco' 'dnb'\n",
      " 'documentary' 'downbeat' 'downtempo' 'drum' 'dub' 'dubstep' 'eastern'\n",
      " 'easy' 'electronic' 'electropop' 'emo' 'entehno' 'epicmetal' 'estrada'\n",
      " 'ethnic' 'eurofolk' 'european' 'experimental' 'extrememetal' 'fado'\n",
      " 'fairytail' 'film' 'fitness' 'flamenco' 'folk' 'folklore' 'folkmetal'\n",
      " 'folkrock' 'folktronica' 'forró' 'frankreich' 'französisch' 'french'\n",
      " 'funk' 'future' 'gangsta' 'garage' 'german' 'ghazal' 'gitarre' 'glitch'\n",
      " 'gospel' 'gothic' 'grime' 'grunge' 'gypsy' 'handsup' \"hard'n'heavy\"\n",
      " 'hardcore' 'hardstyle' 'hardtechno' 'hiphop' 'historisch' 'holiday'\n",
      " 'horror' 'house' 'hymn' 'idm' 'independent' 'indian' 'indie' 'indipop'\n",
      " 'industrial' 'inspirational' 'instrumental' 'international' 'irish' 'jam'\n",
      " 'japanese' 'jazz' 'jewish' 'jpop' 'jungle' 'k-pop' 'karadeniz' 'karaoke'\n",
      " 'kayokyoku' 'korean' 'laiko' 'latin' 'latino' 'leftfield' 'local'\n",
      " 'lounge' 'loungeelectronic' 'lovers' 'malaysian' 'mandopop' 'marschmusik'\n",
      " 'meditative' 'mediterranean' 'melodic' 'metal' 'metalcore' 'mexican'\n",
      " 'middle' 'minimal' 'miscellaneous' 'modern' 'mood' 'mpb' 'muslim'\n",
      " 'native' 'neoklassik' 'neue' 'new' 'newage' 'newwave' 'nu' 'nujazz'\n",
      " 'numetal' 'oceania' 'old' 'opera' 'orchestral' 'other' 'piano' 'podcasts'\n",
      " 'pop' 'popdance' 'popelectronic' 'popeurodance' 'poprussian' 'post'\n",
      " 'posthardcore' 'postrock' 'power' 'progmetal' 'progressive' 'psychedelic'\n",
      " 'punjabi' 'punk' 'quebecois' 'ragga' 'ram' 'rancheras' 'rap' 'rave'\n",
      " 'reggae' 'reggaeton' 'regional' 'relax' 'religious' 'retro' 'rhythm'\n",
      " 'rnb' 'rnr' 'rock' 'rockabilly' 'rockalternative' 'rockindie' 'rockother'\n",
      " 'romance' 'roots' 'ruspop' 'rusrap' 'rusrock' 'russian' 'salsa' 'samba'\n",
      " 'scenic' 'schlager' 'self' 'sertanejo' 'shanson' 'shoegazing' 'showtunes'\n",
      " 'singer' 'ska' 'skarock' 'slow' 'smooth' 'soft' 'soul' 'soulful' 'sound'\n",
      " 'soundtrack' 'southern' 'specialty' 'speech' 'spiritual' 'sport'\n",
      " 'stonerrock' 'surf' 'swing' 'synthpop' 'synthrock' 'sängerportrait'\n",
      " 'tango' 'tanzorchester' 'taraftar' 'tatar' 'tech' 'techno' 'teen'\n",
      " 'thrash' 'top' 'traditional' 'tradjazz' 'trance' 'tribal' 'trip'\n",
      " 'triphop' 'tropical' 'türk' 'türkçe' 'ukrrock' 'unknown' 'urban' 'uzbek'\n",
      " 'variété' 'vi' 'videogame' 'vocal' 'western' 'world' 'worldbeat' 'ïîï'\n",
      " 'электроника']\n"
     ]
    }
   ],
   "source": [
    "print(df['genre'].sort_values().unique()) # Проверка на неявные дубликаты"
   ]
  },
  {
   "cell_type": "markdown",
   "metadata": {
    "deletable": false,
    "editable": false,
    "id": "jz6a9-7HQUDd"
   },
   "source": [
    "**Выводы**\n",
    "\n",
    "Предобработка обнаружила три проблемы в данных:\n",
    "\n",
    "- нарушения в стиле заголовков,\n",
    "- пропущенные значения,\n",
    "- дубликаты — явные и неявные.\n",
    "\n",
    "Вы исправили заголовки, чтобы упростить работу с таблицей. Без дубликатов исследование станет более точным.\n",
    "\n",
    "Пропущенные значения вы заменили на `'unknown'`. Ещё предстоит увидеть, не повредят ли исследованию пропуски в колонке `genre`.\n",
    "\n",
    "Теперь можно перейти к проверке гипотез. "
   ]
  },
  {
   "cell_type": "markdown",
   "metadata": {
    "deletable": false,
    "editable": false,
    "id": "WttZHXH0SqKk"
   },
   "source": [
    "## Проверка гипотез"
   ]
  },
  {
   "cell_type": "markdown",
   "metadata": {
    "deletable": false,
    "editable": false,
    "id": "Im936VVi_Zcu"
   },
   "source": [
    "### Сравнение поведения пользователей двух столиц"
   ]
  },
  {
   "cell_type": "markdown",
   "metadata": {
    "deletable": false,
    "editable": false,
    "id": "nwt_MuaL_Zcu"
   },
   "source": [
    "Первая гипотеза утверждает, что пользователи по-разному слушают музыку в Москве и Санкт-Петербурге. Проверьте это предположение по данным о трёх днях недели — понедельнике, среде и пятнице. Для этого:\n",
    "\n",
    "* Разделите пользователей Москвы и Санкт-Петербурга.\n",
    "* Сравните, сколько треков послушала каждая группа пользователей в понедельник, среду и пятницу.\n"
   ]
  },
  {
   "cell_type": "markdown",
   "metadata": {
    "deletable": false,
    "editable": false,
    "id": "8Dw_YMmT_Zcu",
    "tags": [
     "start_task"
    ]
   },
   "source": [
    "**Задание 18**\n",
    "\n",
    "Для тренировки сначала выполните каждый из расчётов по отдельности. \n",
    "\n",
    "Оцените активность пользователей в каждом городе. Сгруппируйте данные по городу и посчитайте прослушивания в каждой группе.\n",
    "\n"
   ]
  },
  {
   "cell_type": "code",
   "execution_count": 18,
   "metadata": {
    "deletable": false,
    "id": "0_Qs96oh_Zcu"
   },
   "outputs": [
    {
     "name": "stdout",
     "output_type": "stream",
     "text": [
      "city\n",
      "Moscow              42741\n",
      "Saint-Petersburg    18512\n",
      "Name: user_id, dtype: int64\n"
     ]
    }
   ],
   "source": [
    "track_count_by_city = df.groupby('city').count()['user_id']\n",
    "print(track_count_by_city) # Подсчёт прослушиваний в каждом городе"
   ]
  },
  {
   "cell_type": "markdown",
   "metadata": {
    "deletable": false,
    "editable": false,
    "id": "dzli3w8o_Zcu",
    "tags": [
     "start_task"
    ]
   },
   "source": [
    "В Москве прослушиваний больше, чем в Петербурге. Из этого не следует, что московские пользователи чаще слушают музыку. Просто самих пользователей в Москве больше.\n",
    "\n",
    "**Задание 19**\n",
    "\n",
    "Теперь сгруппируйте данные по дню недели и посчитайте прослушивания в понедельник, среду и пятницу. Учтите, что в данных есть информация о прослушиваниях только за эти дни.\n"
   ]
  },
  {
   "cell_type": "code",
   "execution_count": 19,
   "metadata": {
    "deletable": false,
    "id": "uZMKjiJz_Zcu"
   },
   "outputs": [
    {
     "name": "stdout",
     "output_type": "stream",
     "text": [
      "day\n",
      "Friday       21840\n",
      "Monday       21354\n",
      "Wednesday    18059\n",
      "Name: user_id, dtype: int64\n"
     ]
    }
   ],
   "source": [
    "track_count_by_day = df.groupby('day').count()['user_id']\n",
    "print(track_count_by_day) # Подсчёт прослушиваний в каждый из трёх дней"
   ]
  },
  {
   "cell_type": "markdown",
   "metadata": {
    "deletable": false,
    "editable": false,
    "id": "cC2tNrlL_Zcu"
   },
   "source": [
    "В среднем пользователи из двух городов менее активны по средам. Но картина может измениться, если рассмотреть каждый город в отдельности."
   ]
  },
  {
   "cell_type": "markdown",
   "metadata": {
    "deletable": false,
    "editable": false,
    "id": "POzs8bGa_Zcu",
    "tags": [
     "start_task"
    ]
   },
   "source": [
    "**Задание 20**\n",
    "\n",
    "\n",
    "Вы видели, как работает группировка по городу и по дням недели. Теперь напишите функцию, которая объединит два эти расчёта.\n",
    "\n",
    "Создайте функцию `number_tracks()`, которая посчитает прослушивания для заданного дня и города. Ей понадобятся два параметра:\n",
    "* день недели,\n",
    "* название города.\n",
    "\n",
    "В функции сохраните в переменную строки исходной таблицы, у которых значение:\n",
    "  * в колонке `day` равно параметру `day`,\n",
    "  * в колонке `city` равно параметру `city`.\n",
    "\n",
    "Для этого примените последовательную фильтрацию с логической индексацией (или сложные логические выражения в одну строку, если вы уже знакомы с ними).\n",
    "\n",
    "Затем посчитайте значения в столбце `user_id` получившейся таблицы. Результат сохраните в новую переменную. Верните эту переменную из функции."
   ]
  },
  {
   "cell_type": "code",
   "execution_count": 20,
   "metadata": {
    "deletable": false,
    "id": "Nz3GdQB1_Zcu"
   },
   "outputs": [],
   "source": [
    "# <создание функции number_tracks()>\n",
    "# Объявляется функция с двумя параметрами: day, city.\n",
    "# В переменной track_list сохраняются те строки таблицы df, для которых \n",
    "# значение в столбце 'day' равно параметру day и одновременно значение\n",
    "# в столбце 'city' равно параметру city (используйте последовательную фильтрацию\n",
    "# с помощью логической индексации или сложные логические выражения в одну строку, если вы уже знакомы с ними).\n",
    "# В переменной track_list_count сохраняется число значений столбца 'user_id',\n",
    "# рассчитанное методом count() для таблицы track_list.\n",
    "# Функция возвращает число - значение track_list_count.\n",
    "\n",
    "# Функция для подсчёта прослушиваний для конкретного города и дня.\n",
    "# С помощью последовательной фильтрации с логической индексацией она \n",
    "# сначала получит из исходной таблицы строки с нужным днём,\n",
    "# затем из результата отфильтрует строки с нужным городом,\n",
    "# методом count() посчитает количество значений в колонке user_id. \n",
    "# Это количество функция вернёт в качестве результата\n",
    "\n",
    "def number_tracks(day, city):\n",
    "    track_list = df[df['day'] == day]\n",
    "    track_list = track_list[track_list['city'] == city]\n",
    "    track_list_count = track_list['user_id'].count()\n",
    "    return track_list_count"
   ]
  },
  {
   "cell_type": "markdown",
   "metadata": {
    "deletable": false,
    "editable": false,
    "id": "ytf7xFrFJQ2r",
    "tags": [
     "start_task"
    ]
   },
   "source": [
    "**Задание 21**\n",
    "\n",
    "Вызовите `number_tracks()` шесть раз, меняя значение параметров — так, чтобы получить данные для каждого города в каждый из трёх дней."
   ]
  },
  {
   "cell_type": "code",
   "execution_count": 21,
   "metadata": {
    "deletable": false,
    "id": "rJcRATNQ_Zcu"
   },
   "outputs": [
    {
     "data": {
      "text/plain": [
       "15740"
      ]
     },
     "execution_count": 21,
     "metadata": {},
     "output_type": "execute_result"
    }
   ],
   "source": [
    "number_tracks('Monday', 'Moscow') # количество прослушиваний в Москве по понедельникам"
   ]
  },
  {
   "cell_type": "code",
   "execution_count": 22,
   "metadata": {
    "deletable": false,
    "id": "hq_ncZ5T_Zcu"
   },
   "outputs": [
    {
     "data": {
      "text/plain": [
       "5614"
      ]
     },
     "execution_count": 22,
     "metadata": {},
     "output_type": "execute_result"
    }
   ],
   "source": [
    "number_tracks('Monday', 'Saint-Petersburg') # количество прослушиваний в Санкт-Петербурге по понедельникам"
   ]
  },
  {
   "cell_type": "code",
   "execution_count": 23,
   "metadata": {
    "deletable": false,
    "id": "_NTy2VPU_Zcu"
   },
   "outputs": [
    {
     "data": {
      "text/plain": [
       "11056"
      ]
     },
     "execution_count": 23,
     "metadata": {},
     "output_type": "execute_result"
    }
   ],
   "source": [
    "number_tracks('Wednesday', 'Moscow') # количество прослушиваний в Москве по средам"
   ]
  },
  {
   "cell_type": "code",
   "execution_count": 24,
   "metadata": {
    "deletable": false,
    "id": "j2y3TAwo_Zcu"
   },
   "outputs": [
    {
     "data": {
      "text/plain": [
       "7003"
      ]
     },
     "execution_count": 24,
     "metadata": {},
     "output_type": "execute_result"
    }
   ],
   "source": [
    "number_tracks('Wednesday', 'Saint-Petersburg') # количество прослушиваний в Санкт-Петербурге по средам"
   ]
  },
  {
   "cell_type": "code",
   "execution_count": 25,
   "metadata": {
    "deletable": false,
    "id": "vYDw5u_K_Zcu"
   },
   "outputs": [
    {
     "data": {
      "text/plain": [
       "15945"
      ]
     },
     "execution_count": 25,
     "metadata": {},
     "output_type": "execute_result"
    }
   ],
   "source": [
    "number_tracks('Friday', 'Moscow') # количество прослушиваний в Москве по пятницам"
   ]
  },
  {
   "cell_type": "code",
   "execution_count": 26,
   "metadata": {
    "deletable": false,
    "id": "8_yzFtW3_Zcu"
   },
   "outputs": [
    {
     "data": {
      "text/plain": [
       "5895"
      ]
     },
     "execution_count": 26,
     "metadata": {},
     "output_type": "execute_result"
    }
   ],
   "source": [
    "number_tracks('Friday', 'Saint-Petersburg') # количество прослушиваний в Санкт-Петербурге по пятницам"
   ]
  },
  {
   "cell_type": "markdown",
   "metadata": {
    "deletable": false,
    "editable": false,
    "id": "7QXffbO-_Zcu",
    "tags": [
     "start_task"
    ]
   },
   "source": [
    "**Задание 22**\n",
    "\n",
    "Создайте c помощью конструктора `pd.DataFrame` таблицу, где\n",
    "* названия колонок — `['city', 'monday', 'wednesday', 'friday']`;\n",
    "* данные — результаты, которые вы получили с помощью `number_tracks`."
   ]
  },
  {
   "cell_type": "code",
   "execution_count": 27,
   "metadata": {
    "deletable": false,
    "id": "APAcLpOr_Zcu"
   },
   "outputs": [
    {
     "name": "stdout",
     "output_type": "stream",
     "text": [
      "              city  monday  wednesday  friday\n",
      "0           Москва   15740      11056   15945\n",
      "1  Санкт-Петербург    5614       7003    5895\n"
     ]
    }
   ],
   "source": [
    "info = pd.DataFrame(data=[['Москва', 15740, 11056, 15945], ['Санкт-Петербург', 5614, 7003, 5895]], columns=['city', 'monday', 'wednesday', 'friday'])\n",
    "print (info) # Таблица с результатами"
   ]
  },
  {
   "cell_type": "markdown",
   "metadata": {
    "deletable": false,
    "editable": false,
    "id": "-EgPIHYu_Zcu"
   },
   "source": [
    "**Выводы**\n",
    "\n",
    "Данные показывают разницу поведения пользователей:\n",
    "\n",
    "- В Москве пик прослушиваний приходится на понедельник и пятницу, а в среду заметен спад.\n",
    "- В Петербурге, наоборот, больше слушают музыку по средам. Активность в понедельник и пятницу здесь почти в равной мере уступает среде.\n",
    "\n",
    "Значит, данные говорят в пользу первой гипотезы."
   ]
  },
  {
   "cell_type": "markdown",
   "metadata": {
    "deletable": false,
    "editable": false,
    "id": "atZAxtq4_Zcu"
   },
   "source": [
    "### Музыка в начале и в конце недели"
   ]
  },
  {
   "cell_type": "markdown",
   "metadata": {
    "deletable": false,
    "editable": false,
    "id": "eXrQqXFH_Zcu"
   },
   "source": [
    "Согласно второй гипотезе, утром в понедельник в Москве преобладают одни жанры, а в Петербурге — другие. Так же и вечером пятницы преобладают разные жанры — в зависимости от города."
   ]
  },
  {
   "cell_type": "markdown",
   "metadata": {
    "deletable": false,
    "editable": false,
    "id": "S8UcW6Hw_Zcu",
    "tags": [
     "start_task"
    ]
   },
   "source": [
    "**Задание 23**\n",
    "\n",
    "Сохраните таблицы с данными в две переменные:\n",
    "* по Москве — в `moscow_general`;\n",
    "* по Санкт-Петербургу — в `spb_general`."
   ]
  },
  {
   "cell_type": "code",
   "execution_count": 28,
   "metadata": {
    "deletable": false,
    "id": "qeaFfM_P_Zcu"
   },
   "outputs": [],
   "source": [
    "moscow_general = df[df['city'] == 'Moscow'] # получение таблицы moscow_general из тех строк таблицы df,\n",
    "# для которых значение в столбце 'city' равно 'Moscow'\n"
   ]
  },
  {
   "cell_type": "code",
   "execution_count": 29,
   "metadata": {
    "deletable": false,
    "id": "ORaVRKto_Zcu"
   },
   "outputs": [],
   "source": [
    "spb_general = df[df['city'] == 'Saint-Petersburg'] # получение таблицы spb_general из тех строк таблицы df,\n",
    "# для которых значение в столбце 'city' равно 'Saint-Petersburg'\n"
   ]
  },
  {
   "cell_type": "markdown",
   "metadata": {
    "deletable": false,
    "id": "MEJV-CX2_Zcu",
    "tags": [
     "start_task"
    ]
   },
   "source": [
    "**Задание 24**\n",
    "\n",
    "Создайте функцию `genre_weekday()` с четырьмя параметрами:\n",
    "* таблица (датафрейм) с данными,\n",
    "* день недели,\n",
    "* начальная временная метка в формате 'hh:mm', \n",
    "* последняя временная метка в формате 'hh:mm'.\n",
    "\n",
    "Функция должна вернуть информацию о топ-10 жанров тех треков, которые прослушивали в указанный день, в промежутке между двумя отметками времени."
   ]
  },
  {
   "cell_type": "code",
   "execution_count": 30,
   "metadata": {
    "deletable": false,
    "id": "laJT9BYl_Zcu"
   },
   "outputs": [],
   "source": [
    "# Объявление функции genre_weekday() с параметрами table, day, time1, time2,\n",
    "# которая возвращает информацию о самых популярных жанрах в указанный день в\n",
    "# заданное время:\n",
    "# 1) в переменную genre_df сохраняются те строки переданного датафрейма table, для\n",
    "#    которых одновременно:\n",
    "#    - значение в столбце day равно значению аргумента day\n",
    "#    - значение в столбце time больше значения аргумента time1\n",
    "#    - значение в столбце time меньше значения аргумента time2\n",
    "#    Используйте последовательную фильтрацию с помощью логической индексации.\n",
    "# 2) сгруппировать датафрейм genre_df по столбцу genre, взять один из его\n",
    "#    столбцов и посчитать методом count() количество записей для каждого из\n",
    "#    присутствующих жанров, получившийся Series записать в переменную\n",
    "#    genre_df_count\n",
    "# 3) отсортировать genre_df_count по убыванию встречаемости и сохранить\n",
    "#    в переменную genre_df_sorted\n",
    "# 4) вернуть Series из 10 первых значений genre_df_sorted, это будут топ-10\n",
    "#    популярных жанров (в указанный день, в заданное время)\n",
    "\n",
    "def genre_weekday(df, day, time1, time2):\n",
    "    # последовательная фильтрация\n",
    "    # оставляем в genre_df только те строки df, у которых день равен day\n",
    "    genre_df = df[df['day'] == day] # ваш код здесь\n",
    "    # оставляем в genre_df только те строки genre_df, у которых время меньше time2\n",
    "    genre_df = genre_df[genre_df['time'] < time2] # ваш код здесь\n",
    "    # оставляем в genre_df только те строки genre_df, у которых время больше time1\n",
    "    genre_df = genre_df[genre_df['time'] > time1] # ваш код здесь\n",
    "    # сгруппируем отфильтрованный датафрейм по столбцу с названиями жанров, возьмём столбец genre и посчитаем кол-во строк для каждого жанра методом count()\n",
    "    genre_df_grouped = genre_df.groupby('genre')['genre'].count() # ваш код здесь\n",
    "    # отсортируем результат по убыванию (чтобы в начале Series оказались самые популярные жанры)\n",
    "    genre_df_sorted = genre_df_grouped.sort_values(ascending=False) # ваш код здесь\n",
    "    # вернём Series с 10 самыми популярными жанрами в указанный отрезок времени заданного дня\n",
    "    return genre_df_sorted[:10]"
   ]
  },
  {
   "cell_type": "markdown",
   "metadata": {
    "deletable": false,
    "editable": false,
    "id": "la2s2_PF_Zcu",
    "tags": [
     "start_task"
    ]
   },
   "source": [
    "**Задание 25**\n",
    "\n",
    "\n",
    "Cравните результаты функции `genre_weekday()` для Москвы и Санкт-Петербурга в понедельник утром (с 7:00 до 11:00) и в пятницу вечером (с 17:00 до 23:00):"
   ]
  },
  {
   "cell_type": "code",
   "execution_count": 31,
   "metadata": {
    "deletable": false,
    "id": "yz7itPUQ_Zcu"
   },
   "outputs": [
    {
     "data": {
      "text/plain": [
       "genre\n",
       "pop            781\n",
       "dance          549\n",
       "electronic     480\n",
       "rock           474\n",
       "hiphop         286\n",
       "ruspop         186\n",
       "world          181\n",
       "rusrap         175\n",
       "alternative    164\n",
       "unknown        161\n",
       "Name: genre, dtype: int64"
      ]
     },
     "execution_count": 31,
     "metadata": {},
     "output_type": "execute_result"
    }
   ],
   "source": [
    "genre_weekday(moscow_general, 'Monday', '07:00', '11:00') # вызов функции для утра понедельника в Москве (вместо df — таблица moscow_general)\n",
    "# объекты, хранящие время, являются строками и сравниваются как строки\n",
    "# пример вызова: genre_weekday(moscow_general, 'Monday', '07:00', '11:00')"
   ]
  },
  {
   "cell_type": "code",
   "execution_count": 32,
   "metadata": {
    "deletable": false,
    "id": "kwUcHPdy_Zcu"
   },
   "outputs": [
    {
     "data": {
      "text/plain": [
       "genre\n",
       "pop            218\n",
       "dance          182\n",
       "rock           162\n",
       "electronic     147\n",
       "hiphop          80\n",
       "ruspop          64\n",
       "alternative     58\n",
       "rusrap          55\n",
       "jazz            44\n",
       "classical       40\n",
       "Name: genre, dtype: int64"
      ]
     },
     "execution_count": 32,
     "metadata": {},
     "output_type": "execute_result"
    }
   ],
   "source": [
    "genre_weekday(spb_general, 'Monday', '07:00', '11:00') # вызов функции для утра понедельника в Петербурге (вместо df — таблица spb_general)"
   ]
  },
  {
   "cell_type": "code",
   "execution_count": 33,
   "metadata": {
    "deletable": false,
    "id": "EzXVRE1o_Zcu"
   },
   "outputs": [
    {
     "data": {
      "text/plain": [
       "genre\n",
       "pop            713\n",
       "rock           517\n",
       "dance          495\n",
       "electronic     482\n",
       "hiphop         273\n",
       "world          208\n",
       "ruspop         170\n",
       "alternative    163\n",
       "classical      163\n",
       "rusrap         142\n",
       "Name: genre, dtype: int64"
      ]
     },
     "execution_count": 33,
     "metadata": {},
     "output_type": "execute_result"
    }
   ],
   "source": [
    "genre_weekday(moscow_general, 'Friday', '17:00', '23:00') # вызов функции для вечера пятницы в Москве"
   ]
  },
  {
   "cell_type": "code",
   "execution_count": 34,
   "metadata": {
    "deletable": false,
    "id": "JZaEKu5v_Zcu"
   },
   "outputs": [
    {
     "data": {
      "text/plain": [
       "genre\n",
       "pop            256\n",
       "electronic     216\n",
       "rock           216\n",
       "dance          210\n",
       "hiphop          97\n",
       "alternative     63\n",
       "jazz            61\n",
       "classical       60\n",
       "rusrap          59\n",
       "world           54\n",
       "Name: genre, dtype: int64"
      ]
     },
     "execution_count": 34,
     "metadata": {},
     "output_type": "execute_result"
    }
   ],
   "source": [
    "genre_weekday(spb_general, 'Friday', '17:00', '23:00') # вызов функции для вечера пятницы в Петербурге"
   ]
  },
  {
   "cell_type": "markdown",
   "metadata": {
    "deletable": false,
    "editable": false,
    "id": "wrCe4MNX_Zcu"
   },
   "source": [
    "**Выводы**\n",
    "\n",
    "Если сравнить топ-10 жанров в понедельник утром, можно сделать такие выводы:\n",
    "\n",
    "1. В Москве и Петербурге слушают похожую музыку. Единственное отличие — в московский рейтинг вошёл жанр “world”, а в петербургский — джаз и классика.\n",
    "\n",
    "2. В Москве пропущенных значений оказалось так много, что значение `'unknown'` заняло десятое место среди самых популярных жанров. Значит, пропущенные значения занимают существенную долю в данных и угрожают достоверности исследования.\n",
    "\n",
    "Вечер пятницы не меняет эту картину. Некоторые жанры поднимаются немного выше, другие спускаются, но в целом топ-10 остаётся тем же самым.\n",
    "\n",
    "Таким образом, вторая гипотеза подтвердилась лишь частично:\n",
    "* Пользователи слушают похожую музыку в начале недели и в конце.\n",
    "* Разница между Москвой и Петербургом не слишком выражена. В Москве чаще слушают русскую популярную музыку, в Петербурге — джаз.\n",
    "\n",
    "Однако пропуски в данных ставят под сомнение этот результат. В Москве их так много, что рейтинг топ-10 мог бы выглядеть иначе, если бы не утерянные  данные о жанрах."
   ]
  },
  {
   "cell_type": "markdown",
   "metadata": {
    "deletable": false,
    "editable": false,
    "id": "JolODAqr_Zcu"
   },
   "source": [
    "### Жанровые предпочтения в Москве и Петербурге\n",
    "\n",
    "Гипотеза: Петербург — столица рэпа, музыку этого жанра там слушают чаще, чем в Москве.  А Москва — город контрастов, в котором, тем не менее, преобладает поп-музыка."
   ]
  },
  {
   "cell_type": "markdown",
   "metadata": {
    "deletable": false,
    "editable": false,
    "id": "DlegSvaT_Zcu",
    "tags": [
     "start_task"
    ]
   },
   "source": [
    "**Задание 26**\n",
    "\n",
    "Сгруппируйте таблицу `moscow_general` по жанру и посчитайте прослушивания треков каждого жанра методом `count()`. Затем отсортируйте результат в порядке убывания и сохраните его в таблице `moscow_genres`."
   ]
  },
  {
   "cell_type": "code",
   "execution_count": 35,
   "metadata": {
    "deletable": false,
    "id": "r19lIPke_Zcu"
   },
   "outputs": [],
   "source": [
    "moscow_general_genre = moscow_general.groupby('genre')['genre'].count() # одной строкой: группировка таблицы moscow_general по столбцу 'genre', \n",
    "# подсчёт числа значений 'genre' в этой группировке методом count(), \n",
    "moscow_genres = moscow_general_genre.sort_values(ascending=False) # сортировка получившегося Series в порядке убывания и сохранение в moscow_genres"
   ]
  },
  {
   "cell_type": "markdown",
   "metadata": {
    "deletable": false,
    "editable": false,
    "id": "6kMuomxTiIr8",
    "tags": [
     "start_task"
    ]
   },
   "source": [
    "**Задание 27**\n",
    "\n",
    "Выведите на экран первые десять строк `moscow_genres`:"
   ]
  },
  {
   "cell_type": "code",
   "execution_count": 36,
   "metadata": {
    "deletable": false,
    "id": "WhCSooF8_Zcv"
   },
   "outputs": [
    {
     "name": "stdout",
     "output_type": "stream",
     "text": [
      "genre\n",
      "pop            5892\n",
      "dance          4435\n",
      "rock           3965\n",
      "electronic     3786\n",
      "hiphop         2096\n",
      "classical      1616\n",
      "world          1432\n",
      "alternative    1379\n",
      "ruspop         1372\n",
      "rusrap         1161\n",
      "Name: genre, dtype: int64\n"
     ]
    }
   ],
   "source": [
    "print(moscow_genres.head(10)) # просмотр первых 10 строк moscow_genres"
   ]
  },
  {
   "cell_type": "markdown",
   "metadata": {
    "deletable": false,
    "editable": false,
    "id": "cnPG2vnN_Zcv",
    "tags": [
     "start_task"
    ]
   },
   "source": [
    "**Задание 28**\n",
    "\n",
    "\n",
    "Теперь повторите то же и для Петербурга.\n",
    "\n",
    "Сгруппируйте таблицу `spb_general` по жанру. Посчитайте прослушивания треков каждого жанра. Результат отсортируйте в порядке убывания и сохраните в таблице `spb_genres`:\n"
   ]
  },
  {
   "cell_type": "code",
   "execution_count": 37,
   "metadata": {
    "deletable": false,
    "id": "gluLIpE7_Zcv"
   },
   "outputs": [],
   "source": [
    "spb_general_genre = spb_general.groupby('genre')['genre'].count() # одной строкой: группировка таблицы spb_general по столбцу 'genre', \n",
    "# подсчёт числа значений 'genre' в этой группировке методом count(), \n",
    "spb_genres = spb_general_genre.sort_values(ascending=False) # сортировка получившегося Series в порядке убывания и сохранение в spb_genres"
   ]
  },
  {
   "cell_type": "markdown",
   "metadata": {
    "deletable": false,
    "editable": false,
    "id": "5Doha_ODgyQ8",
    "tags": [
     "start_task"
    ]
   },
   "source": [
    "**Задание 29**\n",
    "\n",
    "Выведите на экран первые десять строк `spb_genres`:"
   ]
  },
  {
   "cell_type": "code",
   "execution_count": 38,
   "metadata": {
    "deletable": false,
    "id": "uaGJHjVU_Zcv"
   },
   "outputs": [
    {
     "name": "stdout",
     "output_type": "stream",
     "text": [
      "genre\n",
      "pop            2431\n",
      "dance          1932\n",
      "rock           1879\n",
      "electronic     1736\n",
      "hiphop          960\n",
      "alternative     649\n",
      "classical       646\n",
      "rusrap          564\n",
      "ruspop          538\n",
      "world           515\n",
      "Name: genre, dtype: int64\n"
     ]
    }
   ],
   "source": [
    "print(spb_genres.head(10)) # просмотр первых 10 строк spb_genres"
   ]
  },
  {
   "cell_type": "markdown",
   "metadata": {
    "deletable": false,
    "editable": false,
    "id": "RY51YJYu_Zcv"
   },
   "source": [
    "**Выводы**"
   ]
  },
  {
   "cell_type": "markdown",
   "metadata": {
    "deletable": false,
    "editable": false,
    "id": "nVhnJEm__Zcv"
   },
   "source": [
    "Гипотеза частично подтвердилась:\n",
    "* Поп-музыка — самый популярный жанр в Москве, как и предполагала гипотеза. Более того, в топ-10 жанров встречается близкий жанр — русская популярная музыка.\n",
    "* Вопреки ожиданиям, рэп одинаково популярен в Москве и Петербурге. \n"
   ]
  },
  {
   "cell_type": "markdown",
   "metadata": {
    "deletable": false,
    "editable": false,
    "id": "ykKQ0N65_Zcv"
   },
   "source": [
    "## Итоги исследования"
   ]
  },
  {
   "cell_type": "markdown",
   "metadata": {
    "deletable": false,
    "editable": false,
    "id": "tjUwbHb3_Zcv"
   },
   "source": [
    "Вы проверили три гипотезы и установили:\n",
    "\n",
    "1. День недели по-разному влияет на активность пользователей в Москве и Петербурге. \n",
    "\n",
    "Первая гипотеза полностью подтвердилась.\n",
    "\n",
    "2. Музыкальные предпочтения не сильно меняются в течение недели — будь то Москва или Петербург. Небольшие различия заметны в начале недели, по понедельникам:\n",
    "* в Москве слушают музыку жанра “world”,\n",
    "* в Петербурге — джаз и классику.\n",
    "\n",
    "Таким образом, вторая гипотеза подтвердилась лишь отчасти. Этот результат мог оказаться иным, если бы не пропуски в данных.\n",
    "\n",
    "3. Во вкусах пользователей Москвы и Петербурга больше общего чем различий. Вопреки ожиданиям, предпочтения жанров в Петербурге напоминают московские.\n",
    "\n",
    "Третья гипотеза не подтвердилась. Если различия в предпочтениях и существуют, на основной массе пользователей они незаметны.\n",
    "\n",
    "**На практике исследования содержат проверки статистических гипотез.**\n",
    "Из данных одного сервиса не всегда можно сделать вывод о всех жителях города.\n",
    "Проверки статистических гипотез покажут, насколько они достоверны, исходя из имеющихся данных. \n",
    "С методами проверок гипотез вы ещё познакомитесь в следующих темах."
   ]
  }
 ],
 "metadata": {
  "ExecuteTimeLog": [
   {
    "duration": 430,
    "start_time": "2022-07-01T10:06:28.006Z"
   },
   {
    "duration": 193,
    "start_time": "2022-07-01T10:11:03.686Z"
   },
   {
    "duration": 9,
    "start_time": "2022-07-01T10:13:57.513Z"
   },
   {
    "duration": 16,
    "start_time": "2022-07-01T10:14:23.303Z"
   },
   {
    "duration": 10,
    "start_time": "2022-07-01T10:15:39.760Z"
   },
   {
    "duration": 7,
    "start_time": "2022-07-01T10:16:29.991Z"
   },
   {
    "duration": 29,
    "start_time": "2022-07-01T10:18:14.123Z"
   },
   {
    "duration": 1109,
    "start_time": "2022-07-01T10:24:51.707Z"
   },
   {
    "duration": 8,
    "start_time": "2022-07-01T10:25:46.670Z"
   },
   {
    "duration": 3,
    "start_time": "2022-07-01T10:26:25.440Z"
   },
   {
    "duration": 47,
    "start_time": "2022-07-01T10:29:07.315Z"
   },
   {
    "duration": 55,
    "start_time": "2022-07-01T10:34:03.236Z"
   },
   {
    "duration": 61,
    "start_time": "2022-07-01T10:34:28.092Z"
   },
   {
    "duration": 53,
    "start_time": "2022-07-01T10:35:28.492Z"
   },
   {
    "duration": 8,
    "start_time": "2022-07-01T10:35:42.402Z"
   },
   {
    "duration": 50,
    "start_time": "2022-07-01T10:35:55.965Z"
   },
   {
    "duration": 14,
    "start_time": "2022-07-01T10:42:37.437Z"
   },
   {
    "duration": 3,
    "start_time": "2022-07-01T10:42:46.893Z"
   },
   {
    "duration": 17,
    "start_time": "2022-07-01T10:43:40.174Z"
   },
   {
    "duration": 39,
    "start_time": "2022-07-01T10:52:58.326Z"
   },
   {
    "duration": 9,
    "start_time": "2022-07-01T10:53:17.159Z"
   },
   {
    "duration": 4,
    "start_time": "2022-07-01T10:54:14.596Z"
   },
   {
    "duration": 26,
    "start_time": "2022-07-01T11:03:55.594Z"
   },
   {
    "duration": 3,
    "start_time": "2022-07-01T11:09:41.565Z"
   },
   {
    "duration": 27,
    "start_time": "2022-07-01T11:14:33.647Z"
   },
   {
    "duration": 31,
    "start_time": "2022-07-01T11:14:47.152Z"
   },
   {
    "duration": 29,
    "start_time": "2022-07-01T11:15:09.118Z"
   },
   {
    "duration": 19,
    "start_time": "2022-07-01T11:27:36.622Z"
   },
   {
    "duration": 44,
    "start_time": "2022-07-01T11:28:44.341Z"
   },
   {
    "duration": 33,
    "start_time": "2022-07-01T11:29:20.689Z"
   },
   {
    "duration": 3,
    "start_time": "2022-07-01T11:29:47.185Z"
   },
   {
    "duration": 54,
    "start_time": "2022-07-01T11:30:25.509Z"
   },
   {
    "duration": 14,
    "start_time": "2022-07-01T11:31:27.448Z"
   },
   {
    "duration": 10,
    "start_time": "2022-07-01T11:32:24.163Z"
   },
   {
    "duration": 117,
    "start_time": "2022-07-01T11:32:48.653Z"
   },
   {
    "duration": 83,
    "start_time": "2022-07-01T11:43:41.249Z"
   },
   {
    "duration": 69,
    "start_time": "2022-07-01T11:44:02.039Z"
   },
   {
    "duration": 87,
    "start_time": "2022-07-01T11:44:26.060Z"
   },
   {
    "duration": 56,
    "start_time": "2022-07-01T11:45:20.841Z"
   },
   {
    "duration": 16,
    "start_time": "2022-07-01T12:49:14.223Z"
   },
   {
    "duration": 67,
    "start_time": "2022-07-01T12:52:55.976Z"
   },
   {
    "duration": 43,
    "start_time": "2022-07-01T13:02:21.151Z"
   },
   {
    "duration": 51,
    "start_time": "2022-07-01T13:02:47.960Z"
   },
   {
    "duration": 70,
    "start_time": "2022-07-01T13:05:03.212Z"
   },
   {
    "duration": 42,
    "start_time": "2022-07-01T13:06:11.689Z"
   },
   {
    "duration": 38,
    "start_time": "2022-07-01T13:08:04.157Z"
   },
   {
    "duration": 16,
    "start_time": "2022-07-01T13:27:07.428Z"
   },
   {
    "duration": 39,
    "start_time": "2022-07-01T13:31:03.365Z"
   },
   {
    "duration": 42,
    "start_time": "2022-07-01T13:31:31.825Z"
   },
   {
    "duration": 18,
    "start_time": "2022-07-01T13:33:07.941Z"
   },
   {
    "duration": 12,
    "start_time": "2022-07-01T13:35:34.546Z"
   },
   {
    "duration": 3,
    "start_time": "2022-07-01T13:35:37.154Z"
   },
   {
    "duration": 11,
    "start_time": "2022-07-01T13:35:43.381Z"
   },
   {
    "duration": 10,
    "start_time": "2022-07-01T13:36:42.956Z"
   },
   {
    "duration": 11,
    "start_time": "2022-07-01T13:37:04.301Z"
   },
   {
    "duration": 9,
    "start_time": "2022-07-01T13:37:19.642Z"
   },
   {
    "duration": 8,
    "start_time": "2022-07-01T13:40:01.118Z"
   },
   {
    "duration": 12,
    "start_time": "2022-07-01T13:40:50.655Z"
   },
   {
    "duration": 14,
    "start_time": "2022-07-01T13:41:20.232Z"
   },
   {
    "duration": 12,
    "start_time": "2022-07-01T13:41:30.089Z"
   },
   {
    "duration": 3,
    "start_time": "2022-07-01T13:44:26.930Z"
   },
   {
    "duration": 13,
    "start_time": "2022-07-01T13:44:37.420Z"
   },
   {
    "duration": 11,
    "start_time": "2022-07-01T13:45:13.356Z"
   },
   {
    "duration": 4,
    "start_time": "2022-07-01T13:46:09.611Z"
   },
   {
    "duration": 39,
    "start_time": "2022-07-01T13:50:47.653Z"
   },
   {
    "duration": 7,
    "start_time": "2022-07-01T13:52:23.304Z"
   },
   {
    "duration": 6,
    "start_time": "2022-07-01T13:52:36.153Z"
   },
   {
    "duration": 10,
    "start_time": "2022-07-01T13:57:03.848Z"
   },
   {
    "duration": 92,
    "start_time": "2022-07-03T10:29:13.886Z"
   },
   {
    "duration": 433,
    "start_time": "2022-07-03T10:29:40.678Z"
   },
   {
    "duration": 547,
    "start_time": "2022-07-03T10:29:43.941Z"
   },
   {
    "duration": 10,
    "start_time": "2022-07-03T10:29:49.650Z"
   },
   {
    "duration": 54,
    "start_time": "2022-07-03T10:29:54.138Z"
   },
   {
    "duration": 3,
    "start_time": "2022-07-03T10:29:58.189Z"
   },
   {
    "duration": 5,
    "start_time": "2022-07-03T10:30:04.570Z"
   },
   {
    "duration": 15,
    "start_time": "2022-07-03T10:30:07.273Z"
   },
   {
    "duration": 4,
    "start_time": "2022-07-03T10:30:10.494Z"
   },
   {
    "duration": 43,
    "start_time": "2022-07-03T10:30:14.740Z"
   },
   {
    "duration": 23,
    "start_time": "2022-07-03T10:30:21.381Z"
   },
   {
    "duration": 40,
    "start_time": "2022-07-03T10:30:26.315Z"
   },
   {
    "duration": 90,
    "start_time": "2022-07-03T10:30:30.733Z"
   },
   {
    "duration": 167,
    "start_time": "2022-07-03T10:30:34.471Z"
   },
   {
    "duration": 85,
    "start_time": "2022-07-03T10:30:37.681Z"
   },
   {
    "duration": 37,
    "start_time": "2022-07-03T10:30:44.090Z"
   },
   {
    "duration": 3,
    "start_time": "2022-07-03T10:36:39.615Z"
   },
   {
    "duration": 177,
    "start_time": "2022-07-03T10:36:41.291Z"
   },
   {
    "duration": 9,
    "start_time": "2022-07-03T10:36:43.240Z"
   },
   {
    "duration": 4,
    "start_time": "2022-07-03T10:36:50.075Z"
   },
   {
    "duration": 185,
    "start_time": "2022-07-03T10:36:52.532Z"
   },
   {
    "duration": 9,
    "start_time": "2022-07-03T10:36:53.006Z"
   },
   {
    "duration": 30,
    "start_time": "2022-07-03T10:36:54.466Z"
   },
   {
    "duration": 2,
    "start_time": "2022-07-03T10:36:55.486Z"
   },
   {
    "duration": 4,
    "start_time": "2022-07-03T10:36:57.217Z"
   },
   {
    "duration": 11,
    "start_time": "2022-07-03T10:36:58.171Z"
   },
   {
    "duration": 4,
    "start_time": "2022-07-03T10:36:58.887Z"
   },
   {
    "duration": 24,
    "start_time": "2022-07-03T10:37:00.115Z"
   },
   {
    "duration": 24,
    "start_time": "2022-07-03T10:37:02.411Z"
   },
   {
    "duration": 36,
    "start_time": "2022-07-03T10:37:03.318Z"
   },
   {
    "duration": 69,
    "start_time": "2022-07-03T10:37:04.390Z"
   },
   {
    "duration": 78,
    "start_time": "2022-07-03T10:37:05.391Z"
   },
   {
    "duration": 65,
    "start_time": "2022-07-03T10:37:09.190Z"
   },
   {
    "duration": 61,
    "start_time": "2022-07-03T10:37:12.627Z"
   },
   {
    "duration": 11,
    "start_time": "2022-07-03T10:37:15.510Z"
   },
   {
    "duration": 10,
    "start_time": "2022-07-03T12:25:28.277Z"
   },
   {
    "duration": 36,
    "start_time": "2022-07-03T12:25:31.700Z"
   },
   {
    "duration": 36,
    "start_time": "2022-07-03T12:47:08.218Z"
   },
   {
    "duration": 30,
    "start_time": "2022-07-03T12:47:15.315Z"
   },
   {
    "duration": 32,
    "start_time": "2022-07-03T12:47:58.804Z"
   },
   {
    "duration": 447,
    "start_time": "2022-07-04T08:34:10.696Z"
   },
   {
    "duration": 253,
    "start_time": "2022-07-04T08:34:12.367Z"
   },
   {
    "duration": 9,
    "start_time": "2022-07-04T08:34:13.696Z"
   },
   {
    "duration": 30,
    "start_time": "2022-07-04T08:34:14.940Z"
   },
   {
    "duration": 3,
    "start_time": "2022-07-04T08:34:16.858Z"
   },
   {
    "duration": 5,
    "start_time": "2022-07-04T08:34:19.748Z"
   },
   {
    "duration": 15,
    "start_time": "2022-07-04T08:34:21.040Z"
   },
   {
    "duration": 4,
    "start_time": "2022-07-04T08:34:22.157Z"
   },
   {
    "duration": 33,
    "start_time": "2022-07-04T08:34:28.168Z"
   },
   {
    "duration": 34,
    "start_time": "2022-07-04T08:34:30.408Z"
   },
   {
    "duration": 30,
    "start_time": "2022-07-04T08:34:31.800Z"
   },
   {
    "duration": 107,
    "start_time": "2022-07-04T08:34:33.020Z"
   },
   {
    "duration": 83,
    "start_time": "2022-07-04T08:34:34.511Z"
   },
   {
    "duration": 69,
    "start_time": "2022-07-04T08:34:36.014Z"
   },
   {
    "duration": 62,
    "start_time": "2022-07-04T08:34:38.818Z"
   },
   {
    "duration": 11,
    "start_time": "2022-07-04T08:34:41.698Z"
   },
   {
    "duration": 48,
    "start_time": "2022-07-04T08:34:43.888Z"
   },
   {
    "duration": 40,
    "start_time": "2022-07-04T08:34:46.841Z"
   },
   {
    "duration": 37,
    "start_time": "2022-07-04T08:35:38.359Z"
   },
   {
    "duration": 4,
    "start_time": "2022-07-04T08:39:57.708Z"
   },
   {
    "duration": 158,
    "start_time": "2022-07-04T08:39:59.341Z"
   },
   {
    "duration": 7,
    "start_time": "2022-07-04T08:40:00.917Z"
   },
   {
    "duration": 54,
    "start_time": "2022-07-04T08:40:02.691Z"
   },
   {
    "duration": 3,
    "start_time": "2022-07-04T08:40:05.395Z"
   },
   {
    "duration": 5,
    "start_time": "2022-07-04T08:40:08.382Z"
   },
   {
    "duration": 11,
    "start_time": "2022-07-04T08:40:10.087Z"
   },
   {
    "duration": 4,
    "start_time": "2022-07-04T08:40:11.480Z"
   },
   {
    "duration": 45,
    "start_time": "2022-07-04T08:40:13.408Z"
   },
   {
    "duration": 41,
    "start_time": "2022-07-04T08:40:16.421Z"
   },
   {
    "duration": 38,
    "start_time": "2022-07-04T08:40:17.848Z"
   },
   {
    "duration": 69,
    "start_time": "2022-07-04T08:40:19.826Z"
   },
   {
    "duration": 76,
    "start_time": "2022-07-04T08:40:21.195Z"
   },
   {
    "duration": 94,
    "start_time": "2022-07-04T08:40:22.706Z"
   },
   {
    "duration": 66,
    "start_time": "2022-07-04T08:40:24.591Z"
   },
   {
    "duration": 18,
    "start_time": "2022-07-04T08:40:26.478Z"
   },
   {
    "duration": 63,
    "start_time": "2022-07-04T08:40:28.823Z"
   },
   {
    "duration": 56,
    "start_time": "2022-07-04T08:41:30.533Z"
   },
   {
    "duration": 71,
    "start_time": "2022-07-04T08:41:39.240Z"
   },
   {
    "duration": 39,
    "start_time": "2022-07-04T08:41:55.414Z"
   },
   {
    "duration": 31,
    "start_time": "2022-07-04T08:43:36.784Z"
   },
   {
    "duration": 57,
    "start_time": "2022-07-04T08:44:26.935Z"
   },
   {
    "duration": 37,
    "start_time": "2022-07-04T08:44:35.805Z"
   },
   {
    "duration": 43,
    "start_time": "2022-07-04T08:49:07.955Z"
   },
   {
    "duration": 44,
    "start_time": "2022-07-04T08:49:38.343Z"
   },
   {
    "duration": 4,
    "start_time": "2022-07-04T08:51:52.895Z"
   },
   {
    "duration": 10,
    "start_time": "2022-07-04T08:52:55.244Z"
   },
   {
    "duration": 50,
    "start_time": "2022-07-04T08:53:23.752Z"
   },
   {
    "duration": 35,
    "start_time": "2022-07-04T08:53:54.521Z"
   },
   {
    "duration": 76,
    "start_time": "2022-07-04T09:06:22.441Z"
   },
   {
    "duration": 79,
    "start_time": "2022-07-04T09:06:26.474Z"
   },
   {
    "duration": 108,
    "start_time": "2022-07-04T10:54:39.379Z"
   },
   {
    "duration": 11,
    "start_time": "2022-07-04T10:58:12.245Z"
   },
   {
    "duration": 6,
    "start_time": "2022-07-04T10:59:02.012Z"
   },
   {
    "duration": 6,
    "start_time": "2022-07-04T10:59:27.012Z"
   },
   {
    "duration": 3,
    "start_time": "2022-07-04T11:01:27.403Z"
   },
   {
    "duration": 9,
    "start_time": "2022-07-04T11:01:28.456Z"
   },
   {
    "duration": 11,
    "start_time": "2022-07-04T11:04:37.811Z"
   },
   {
    "duration": 18,
    "start_time": "2022-07-04T11:04:56.314Z"
   },
   {
    "duration": 16,
    "start_time": "2022-07-04T11:05:54.739Z"
   },
   {
    "duration": 58,
    "start_time": "2022-07-04T11:06:11.743Z"
   },
   {
    "duration": 3,
    "start_time": "2022-07-04T11:06:48.806Z"
   },
   {
    "duration": 35,
    "start_time": "2022-07-04T11:06:59.370Z"
   },
   {
    "duration": 79,
    "start_time": "2022-07-04T11:11:57.354Z"
   },
   {
    "duration": 60,
    "start_time": "2022-07-04T11:12:45.746Z"
   },
   {
    "duration": 45,
    "start_time": "2022-07-04T11:18:10.467Z"
   },
   {
    "duration": 7,
    "start_time": "2022-07-04T11:18:15.863Z"
   },
   {
    "duration": 67,
    "start_time": "2022-07-04T11:18:26.103Z"
   },
   {
    "duration": 44,
    "start_time": "2022-07-04T11:18:58.249Z"
   },
   {
    "duration": 4,
    "start_time": "2022-07-04T11:19:02.697Z"
   },
   {
    "duration": 3,
    "start_time": "2022-07-04T11:19:04.114Z"
   },
   {
    "duration": 2,
    "start_time": "2022-07-04T11:23:00.407Z"
   },
   {
    "duration": 713,
    "start_time": "2022-07-04T11:23:02.271Z"
   },
   {
    "duration": 23,
    "start_time": "2022-07-04T11:23:03.817Z"
   },
   {
    "duration": 77,
    "start_time": "2022-07-04T11:23:05.193Z"
   },
   {
    "duration": 6,
    "start_time": "2022-07-04T11:23:07.489Z"
   },
   {
    "duration": 27,
    "start_time": "2022-07-04T11:23:11.149Z"
   },
   {
    "duration": 45,
    "start_time": "2022-07-04T11:23:13.051Z"
   },
   {
    "duration": 5,
    "start_time": "2022-07-04T11:23:14.594Z"
   },
   {
    "duration": 59,
    "start_time": "2022-07-04T11:23:16.493Z"
   },
   {
    "duration": 44,
    "start_time": "2022-07-04T11:23:18.597Z"
   },
   {
    "duration": 35,
    "start_time": "2022-07-04T11:23:20.097Z"
   },
   {
    "duration": 111,
    "start_time": "2022-07-04T11:23:21.283Z"
   },
   {
    "duration": 102,
    "start_time": "2022-07-04T11:23:22.393Z"
   },
   {
    "duration": 106,
    "start_time": "2022-07-04T11:23:23.844Z"
   },
   {
    "duration": 58,
    "start_time": "2022-07-04T11:23:25.696Z"
   },
   {
    "duration": 15,
    "start_time": "2022-07-04T11:23:26.813Z"
   },
   {
    "duration": 58,
    "start_time": "2022-07-04T11:23:27.995Z"
   },
   {
    "duration": 56,
    "start_time": "2022-07-04T11:23:31.582Z"
   },
   {
    "duration": 32,
    "start_time": "2022-07-04T11:23:34.986Z"
   },
   {
    "duration": 4,
    "start_time": "2022-07-04T11:23:38.694Z"
   },
   {
    "duration": 44,
    "start_time": "2022-07-04T11:23:41.851Z"
   },
   {
    "duration": 41,
    "start_time": "2022-07-04T11:23:54.642Z"
   },
   {
    "duration": 46,
    "start_time": "2022-07-04T11:25:30.658Z"
   },
   {
    "duration": 46,
    "start_time": "2022-07-04T11:25:36.853Z"
   },
   {
    "duration": 5,
    "start_time": "2022-07-04T11:29:08.501Z"
   },
   {
    "duration": 34,
    "start_time": "2022-07-04T11:29:11.593Z"
   },
   {
    "duration": 42,
    "start_time": "2022-07-04T11:29:17.018Z"
   },
   {
    "duration": 28,
    "start_time": "2022-07-04T11:30:55.403Z"
   },
   {
    "duration": 31,
    "start_time": "2022-07-04T11:30:59.271Z"
   },
   {
    "duration": 82,
    "start_time": "2022-07-04T11:35:55.616Z"
   },
   {
    "duration": 24,
    "start_time": "2022-07-04T11:35:58.211Z"
   },
   {
    "duration": 35,
    "start_time": "2022-07-04T11:36:00.084Z"
   },
   {
    "duration": 3,
    "start_time": "2022-07-04T12:30:52.548Z"
   },
   {
    "duration": 88,
    "start_time": "2022-07-04T12:34:25.498Z"
   },
   {
    "duration": 16,
    "start_time": "2022-07-04T12:43:04.685Z"
   },
   {
    "duration": 14,
    "start_time": "2022-07-04T12:46:26.337Z"
   },
   {
    "duration": 21,
    "start_time": "2022-07-04T12:47:47.092Z"
   },
   {
    "duration": 27,
    "start_time": "2022-07-04T12:47:50.434Z"
   },
   {
    "duration": 50,
    "start_time": "2022-07-04T12:48:32.347Z"
   },
   {
    "duration": 27,
    "start_time": "2022-07-04T12:50:49.828Z"
   },
   {
    "duration": 47,
    "start_time": "2022-07-04T12:50:59.776Z"
   },
   {
    "duration": 18,
    "start_time": "2022-07-04T12:51:02.202Z"
   },
   {
    "duration": 28,
    "start_time": "2022-07-04T12:51:21.614Z"
   },
   {
    "duration": 4,
    "start_time": "2022-07-04T12:51:25.166Z"
   },
   {
    "duration": 20,
    "start_time": "2022-07-04T12:51:30.245Z"
   },
   {
    "duration": 17,
    "start_time": "2022-07-04T12:51:30.402Z"
   },
   {
    "duration": 19,
    "start_time": "2022-07-04T12:52:15.653Z"
   },
   {
    "duration": 16,
    "start_time": "2022-07-04T12:53:27.130Z"
   },
   {
    "duration": 8,
    "start_time": "2022-07-04T12:55:14.042Z"
   },
   {
    "duration": 3,
    "start_time": "2022-07-04T13:29:54.973Z"
   },
   {
    "duration": 24,
    "start_time": "2022-07-04T13:31:49.188Z"
   },
   {
    "duration": 74,
    "start_time": "2022-07-04T13:32:29.636Z"
   },
   {
    "duration": 21,
    "start_time": "2022-07-04T13:32:43.408Z"
   },
   {
    "duration": 3,
    "start_time": "2022-07-04T13:32:45.712Z"
   },
   {
    "duration": 11,
    "start_time": "2022-07-04T13:34:32.191Z"
   },
   {
    "duration": 18,
    "start_time": "2022-07-04T13:35:00.073Z"
   },
   {
    "duration": 13,
    "start_time": "2022-07-04T13:35:24.317Z"
   },
   {
    "duration": 6,
    "start_time": "2022-07-04T13:55:07.421Z"
   },
   {
    "duration": 5,
    "start_time": "2022-07-04T13:58:21.411Z"
   },
   {
    "duration": 7,
    "start_time": "2022-07-04T13:58:24.998Z"
   },
   {
    "duration": 7,
    "start_time": "2022-07-04T14:01:16.681Z"
   },
   {
    "duration": 5,
    "start_time": "2022-07-04T14:02:05.697Z"
   },
   {
    "duration": 6,
    "start_time": "2022-07-04T14:02:25.911Z"
   },
   {
    "duration": 29,
    "start_time": "2022-07-04T14:10:16.507Z"
   },
   {
    "duration": 12,
    "start_time": "2022-07-04T14:12:33.006Z"
   },
   {
    "duration": 3,
    "start_time": "2022-07-04T14:14:17.780Z"
   },
   {
    "duration": 19,
    "start_time": "2022-07-04T14:14:25.679Z"
   },
   {
    "duration": 15,
    "start_time": "2022-07-04T14:16:01.816Z"
   },
   {
    "duration": 2,
    "start_time": "2022-07-04T16:09:52.322Z"
   },
   {
    "duration": 20,
    "start_time": "2022-07-04T16:13:43.405Z"
   },
   {
    "duration": 13,
    "start_time": "2022-07-04T16:14:13.027Z"
   },
   {
    "duration": 21,
    "start_time": "2022-07-04T16:18:04.245Z"
   },
   {
    "duration": 10,
    "start_time": "2022-07-04T16:19:31.916Z"
   },
   {
    "duration": 11,
    "start_time": "2022-07-04T16:23:01.807Z"
   },
   {
    "duration": 8,
    "start_time": "2022-07-04T16:23:36.544Z"
   },
   {
    "duration": 8,
    "start_time": "2022-07-04T16:24:32.119Z"
   },
   {
    "duration": 3,
    "start_time": "2022-07-04T16:25:30.903Z"
   },
   {
    "duration": 5,
    "start_time": "2022-07-04T16:26:04.660Z"
   },
   {
    "duration": 8,
    "start_time": "2022-07-04T16:31:10.557Z"
   },
   {
    "duration": 6,
    "start_time": "2022-07-04T16:31:23.159Z"
   },
   {
    "duration": 4,
    "start_time": "2022-07-04T16:32:11.459Z"
   },
   {
    "duration": 416,
    "start_time": "2023-08-24T18:01:04.992Z"
   },
   {
    "duration": 476,
    "start_time": "2023-08-24T18:01:05.410Z"
   },
   {
    "duration": 8,
    "start_time": "2023-08-24T18:01:05.888Z"
   },
   {
    "duration": 39,
    "start_time": "2023-08-24T18:01:05.898Z"
   },
   {
    "duration": 8,
    "start_time": "2023-08-24T18:01:05.940Z"
   },
   {
    "duration": 29,
    "start_time": "2023-08-24T18:01:05.950Z"
   },
   {
    "duration": 16,
    "start_time": "2023-08-24T18:01:05.981Z"
   },
   {
    "duration": 16,
    "start_time": "2023-08-24T18:01:05.999Z"
   },
   {
    "duration": 44,
    "start_time": "2023-08-24T18:01:06.017Z"
   },
   {
    "duration": 29,
    "start_time": "2023-08-24T18:01:06.062Z"
   },
   {
    "duration": 28,
    "start_time": "2023-08-24T18:01:06.094Z"
   },
   {
    "duration": 95,
    "start_time": "2023-08-24T18:01:06.124Z"
   },
   {
    "duration": 108,
    "start_time": "2023-08-24T18:01:06.221Z"
   },
   {
    "duration": 75,
    "start_time": "2023-08-24T18:01:06.333Z"
   },
   {
    "duration": 50,
    "start_time": "2023-08-24T18:01:06.410Z"
   },
   {
    "duration": 12,
    "start_time": "2023-08-24T18:01:06.462Z"
   },
   {
    "duration": 38,
    "start_time": "2023-08-24T18:01:06.476Z"
   },
   {
    "duration": 50,
    "start_time": "2023-08-24T18:01:06.516Z"
   },
   {
    "duration": 31,
    "start_time": "2023-08-24T18:01:06.568Z"
   },
   {
    "duration": 3,
    "start_time": "2023-08-24T18:01:06.601Z"
   },
   {
    "duration": 62,
    "start_time": "2023-08-24T18:01:06.606Z"
   },
   {
    "duration": 35,
    "start_time": "2023-08-24T18:01:06.670Z"
   },
   {
    "duration": 44,
    "start_time": "2023-08-24T18:01:06.706Z"
   },
   {
    "duration": 28,
    "start_time": "2023-08-24T18:01:06.752Z"
   },
   {
    "duration": 25,
    "start_time": "2023-08-24T18:01:06.781Z"
   },
   {
    "duration": 33,
    "start_time": "2023-08-24T18:01:06.807Z"
   },
   {
    "duration": 33,
    "start_time": "2023-08-24T18:01:06.843Z"
   },
   {
    "duration": 35,
    "start_time": "2023-08-24T18:01:06.878Z"
   },
   {
    "duration": 30,
    "start_time": "2023-08-24T18:01:06.915Z"
   },
   {
    "duration": 16,
    "start_time": "2023-08-24T18:01:06.948Z"
   },
   {
    "duration": 38,
    "start_time": "2023-08-24T18:01:06.966Z"
   },
   {
    "duration": 16,
    "start_time": "2023-08-24T18:01:07.006Z"
   },
   {
    "duration": 43,
    "start_time": "2023-08-24T18:01:07.023Z"
   },
   {
    "duration": 16,
    "start_time": "2023-08-24T18:01:07.068Z"
   },
   {
    "duration": 28,
    "start_time": "2023-08-24T18:01:07.087Z"
   },
   {
    "duration": 19,
    "start_time": "2023-08-24T18:01:07.117Z"
   },
   {
    "duration": 22,
    "start_time": "2023-08-24T18:01:07.138Z"
   },
   {
    "duration": 14,
    "start_time": "2023-08-24T18:01:07.162Z"
   }
  ],
  "colab": {
   "collapsed_sections": [
    "E0vqbgi9ay0H",
    "VUC88oWjTJw2"
   ],
   "name": "automatization_template_upd4.ipynb",
   "provenance": []
  },
  "kernelspec": {
   "display_name": "Python 3 (ipykernel)",
   "language": "python",
   "name": "python3"
  },
  "language_info": {
   "codemirror_mode": {
    "name": "ipython",
    "version": 3
   },
   "file_extension": ".py",
   "mimetype": "text/x-python",
   "name": "python",
   "nbconvert_exporter": "python",
   "pygments_lexer": "ipython3",
   "version": "3.9.13"
  },
  "toc": {
   "base_numbering": 1,
   "nav_menu": {
    "height": "215px",
    "width": "403px"
   },
   "number_sections": true,
   "sideBar": true,
   "skip_h1_title": true,
   "title_cell": "Table of Contents",
   "title_sidebar": "Contents",
   "toc_cell": false,
   "toc_position": {
    "height": "calc(100% - 180px)",
    "left": "10px",
    "top": "150px",
    "width": "285.825px"
   },
   "toc_section_display": true,
   "toc_window_display": false
  }
 },
 "nbformat": 4,
 "nbformat_minor": 1
}
